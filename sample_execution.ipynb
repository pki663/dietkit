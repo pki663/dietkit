{
 "cells": [
  {
   "cell_type": "markdown",
   "source": [
    "# Sample execution code and result of Dietkit  \r\n",
    "This file show how user can import and manage diet and its components using dietkit. This example will provide useful insight into the structure and using method of dietkit.  \r\n",
    "To know detail information about classes and functions, use `help()` in python."
   ],
   "metadata": {}
  },
  {
   "cell_type": "markdown",
   "source": [
    "## Loading dietkit  \r\n",
    "In this example we import all functions and classes of dietkit. But it can take quite a long time (About 3 minutes). So, it is recommended to import only the functions to be used."
   ],
   "metadata": {}
  },
  {
   "cell_type": "code",
   "execution_count": 1,
   "source": [
    "from dietkit import *"
   ],
   "outputs": [],
   "metadata": {}
  },
  {
   "cell_type": "markdown",
   "source": [
    "## Importing sample data."
   ],
   "metadata": {}
  },
  {
   "cell_type": "code",
   "execution_count": 2,
   "source": [
    "sample_ingredients = load_ingredient(sample_language = 'eng')\r\n",
    "sample_menus = load_menu(ingredients = sample_ingredients, sample_language = 'eng')\r\n",
    "sample_diets = load_diet(menus = sample_menus, num_loads = 100, sample_language = 'eng', sample_name = 'ML')"
   ],
   "outputs": [],
   "metadata": {}
  },
  {
   "cell_type": "code",
   "execution_count": 3,
   "source": [
    "sample_ingredients\r\n",
    "\r\n",
    "# Note the keys of result variables are name, the attribute of object (So, it is string type.) and values are object itself."
   ],
   "outputs": [
    {
     "output_type": "execute_result",
     "data": {
      "text/plain": [
       "{'Oat(Covered oat), Polished, Raw ': Ingredient object: Oat(Covered oat), Polished, Raw ,\n",
       " 'Oat(Naked oat), Polished, Raw': Ingredient object: Oat(Naked oat), Polished, Raw,\n",
       " 'Oat, Oatmeal': Ingredient object: Oat, Oatmeal,\n",
       " 'Prosomillet, Polished, Raw': Ingredient object: Prosomillet, Polished, Raw,\n",
       " 'Prosomillet, Glutinous, Polished, Raw': Ingredient object: Prosomillet, Glutinous, Polished, Raw,\n",
       " 'Buckwheat, Polished, Raw': Ingredient object: Buckwheat, Polished, Raw,\n",
       " 'Buckwheat, Polished, Powder': Ingredient object: Buckwheat, Polished, Powder,\n",
       " 'Buckwheat noodle, Wet noodle': Ingredient object: Buckwheat noodle, Wet noodle,\n",
       " 'Buckwheat noodle, Wet noodle, Boiled': Ingredient object: Buckwheat noodle, Wet noodle, Boiled,\n",
       " 'Buckwheat noodle, Dry noodle': Ingredient object: Buckwheat noodle, Dry noodle,\n",
       " ...}"
      ]
     },
     "metadata": {},
     "execution_count": 3
    }
   ],
   "metadata": {}
  }
 ],
 "metadata": {
  "orig_nbformat": 4,
  "language_info": {
   "name": "python",
   "version": "3.8.11",
   "mimetype": "text/x-python",
   "codemirror_mode": {
    "name": "ipython",
    "version": 3
   },
   "pygments_lexer": "ipython3",
   "nbconvert_exporter": "python",
   "file_extension": ".py"
  },
  "kernelspec": {
   "name": "python3",
   "display_name": "Python 3.8.11 64-bit ('sooo_env': conda)"
  },
  "interpreter": {
   "hash": "25b2269945a3dbc4d617ada874b0ea81269ea8cd4db9ea1e4acc84905218c25e"
  }
 },
 "nbformat": 4,
 "nbformat_minor": 2
}