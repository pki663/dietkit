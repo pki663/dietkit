{
 "cells": [
  {
   "cell_type": "markdown",
   "source": [
    "# Sample execution code and result of Dietkit  \r\n",
    "This file show how user can import and manage diet and its components using dietkit. This example will provide useful insight into the structure and using method of dietkit.  \r\n",
    "To know detail information about classes and functions, use `help()` in python."
   ],
   "metadata": {}
  },
  {
   "cell_type": "markdown",
   "source": [
    "## **Basics**"
   ],
   "metadata": {}
  },
  {
   "cell_type": "markdown",
   "source": [
    "## Loading dietkit  \r\n",
    "In this example we import all functions and classes of dietkit. But it can take quite a long time (About 3 minutes). So, it is recommended to import only the functions to be used."
   ],
   "metadata": {}
  },
  {
   "cell_type": "code",
   "execution_count": 1,
   "source": [
    "from dietkit import *"
   ],
   "outputs": [],
   "metadata": {}
  },
  {
   "cell_type": "markdown",
   "source": [
    "## Importing sample data."
   ],
   "metadata": {}
  },
  {
   "cell_type": "code",
   "execution_count": 2,
   "source": [
    "sample_ingredients = load_ingredient(sample_language = 'eng')\r\n",
    "sample_menus = load_menu(ingredients = sample_ingredients, sample_language = 'eng')\r\n",
    "sample_diets = load_diet(menus = sample_menus, num_loads = 100, sample_language = 'eng', sample_name = 'ML')"
   ],
   "outputs": [],
   "metadata": {}
  },
  {
   "cell_type": "code",
   "execution_count": 3,
   "source": [
    "sample_criteria = load_sample_criteria(sample_name = 'korean_standard_criteria')"
   ],
   "outputs": [],
   "metadata": {}
  },
  {
   "cell_type": "code",
   "execution_count": 4,
   "source": [
    "sample_ingredients\r\n",
    "\r\n",
    "# Note the keys of result variables are name, the attribute of object (So, it is string type.) and values are object itself."
   ],
   "outputs": [
    {
     "output_type": "execute_result",
     "data": {
      "text/plain": [
       "{'Oat(Covered oat), Polished, Raw': Ingredient object: Oat(Covered oat), Polished, Raw,\n",
       " 'Oat(Naked oat), Polished, Raw': Ingredient object: Oat(Naked oat), Polished, Raw,\n",
       " 'Oat, Oatmeal': Ingredient object: Oat, Oatmeal,\n",
       " 'Prosomillet, Polished, Raw': Ingredient object: Prosomillet, Polished, Raw,\n",
       " 'Prosomillet, Glutinous, Polished, Raw': Ingredient object: Prosomillet, Glutinous, Polished, Raw,\n",
       " 'Buckwheat, Polished, Raw': Ingredient object: Buckwheat, Polished, Raw,\n",
       " 'Buckwheat, Polished, Powder': Ingredient object: Buckwheat, Polished, Powder,\n",
       " 'Buckwheat noodle, Wet noodle': Ingredient object: Buckwheat noodle, Wet noodle,\n",
       " ...}"
      ]
     },
     "metadata": {},
     "execution_count": 4
    }
   ],
   "metadata": {}
  },
  {
   "cell_type": "code",
   "execution_count": 5,
   "source": [
    "sample_menus"
   ],
   "outputs": [
    {
     "output_type": "execute_result",
     "data": {
      "text/plain": [
       "{'S watermelon punch (without milks)': Menu object: S watermelon punch (without milks),\n",
       " 'Dried persimmon': Menu object: Dried persimmon,\n",
       " 'S kyogo grape (100g)': Menu object: S kyogo grape (100g),\n",
       " 'S dried persimmon': Menu object: S dried persimmon,\n",
       " 'S fruit punch': Menu object: S fruit punch,\n",
       " 'S tangerine (50g)': Menu object: S tangerine (50g),\n",
       " 'S mandarin (80g)': Menu object: S mandarin (80g),\n",
       " 'S sweet persimmon (50g)': Menu object: S sweet persimmon (50g),\n",
       " 'S carrot stick': Menu object: S carrot stick,\n",
       " 'S strawberry (100g)': Menu object: S strawberry (100g),\n",
       " ...}"
      ]
     },
     "metadata": {},
     "execution_count": 5
    }
   ],
   "metadata": {}
  },
  {
   "cell_type": "code",
   "execution_count": 6,
   "source": [
    "sample_diets"
   ],
   "outputs": [
    {
     "output_type": "execute_result",
     "data": {
      "text/plain": [
       "The diet object of 100day(s) and each diet consist with 19dish(es)"
      ]
     },
     "metadata": {},
     "execution_count": 6
    }
   ],
   "metadata": {}
  },
  {
   "cell_type": "code",
   "execution_count": 7,
   "source": [
    "sample_criteria"
   ],
   "outputs": [
    {
     "output_type": "execute_result",
     "data": {
      "text/plain": [
       "[The criterion determine (Energy >= 1260.0),\n",
       " The criterion determine (Energy <= 1540.0),\n",
       " The criterion determine (Protein >= 20.0),\n",
       " The criterion determine (Total Dietary >= 11.0),\n",
       " The criterion determine (Total Dietary <= 20.0),\n",
       " The criterion determine (Vitamin A >= 230.0),\n",
       " The criterion determine (Vitamin A <= 750.0),\n",
       " The criterion determine (Vitamin C >= 35.0),\n",
       " The criterion determine (Vitamin C <= 510.0),\n",
       " The criterion determine (Vitamin B1 (Thiamine) > 0.4),\n",
       " The criterion determine (Vitamin B2 (Rivoflavin) > 0.5),\n",
       " The criterion determine (Calcium >= 500.0),\n",
       " The criterion determine (Calcium <= 2500.0),\n",
       " The criterion determine (Iron >= 5.0),\n",
       " The criterion determine (Iron <= 40.0),\n",
       " The criterion determine (Sodium < 1600.0),\n",
       " The criterion determine (Linoleic Acid >= 4.6),\n",
       " The criterion determine (Linoleic Acid <= 9.1),\n",
       " The criterion determine (Alpha-Linolenic Acid >= 0.6),\n",
       " The criterion determine (Alpha-Linolenic Acid <= 1.17)]"
      ]
     },
     "metadata": {},
     "execution_count": 7
    }
   ],
   "metadata": {}
  },
  {
   "cell_type": "markdown",
   "source": [
    "## Structure of classes"
   ],
   "metadata": {}
  },
  {
   "cell_type": "markdown",
   "source": [
    "### Ingredient"
   ],
   "metadata": {}
  },
  {
   "cell_type": "code",
   "execution_count": 8,
   "source": [
    "sample_ingredients['Oat, Oatmeal']"
   ],
   "outputs": [
    {
     "output_type": "execute_result",
     "data": {
      "text/plain": [
       "Ingredient object: Oat, Oatmeal"
      ]
     },
     "metadata": {},
     "execution_count": 8
    }
   ],
   "metadata": {}
  },
  {
   "cell_type": "code",
   "execution_count": 9,
   "source": [
    "sample_ingredients['Oat, Oatmeal'].name"
   ],
   "outputs": [
    {
     "output_type": "execute_result",
     "data": {
      "text/plain": [
       "'Oat, Oatmeal'"
      ]
     },
     "metadata": {},
     "execution_count": 9
    }
   ],
   "metadata": {}
  },
  {
   "cell_type": "code",
   "execution_count": 10,
   "source": [
    "sample_ingredients['Oat, Oatmeal'].category"
   ],
   "outputs": [
    {
     "output_type": "execute_result",
     "data": {
      "text/plain": [
       "'Grains and grain products'"
      ]
     },
     "metadata": {},
     "execution_count": 10
    }
   ],
   "metadata": {}
  },
  {
   "cell_type": "code",
   "execution_count": 11,
   "source": [
    "# Note the value is key nutrient's amount per 100g of ingredients\r\n",
    "sample_ingredients['Oat, Oatmeal'].nutrition"
   ],
   "outputs": [
    {
     "output_type": "execute_result",
     "data": {
      "text/plain": [
       "{'Energy': 382.0,\n",
       " 'Protein': 13.2,\n",
       " 'Fat': 8.2,\n",
       " 'Carbohydrate': 64.9,\n",
       " 'Total Dietary': 18.8,\n",
       " 'Calcium': 60.0,\n",
       " 'Iron': 5.8,\n",
       " 'Sodium': 4.0,\n",
       " 'Vitamin A': 0.25,\n",
       " 'Vitamin B1 (Thiamine)': 0.0,\n",
       " 'Vitamin B2 (Rivoflavin)': 0.07,\n",
       " 'Vitamin C': 0.0,\n",
       " 'Linoleic Acid': 0.0,\n",
       " 'Alpha-Linolenic Acid': 0.0}"
      ]
     },
     "metadata": {},
     "execution_count": 11
    }
   ],
   "metadata": {}
  },
  {
   "cell_type": "markdown",
   "source": [
    "### Menu"
   ],
   "metadata": {}
  },
  {
   "cell_type": "code",
   "execution_count": 12,
   "source": [
    "sample_menus['S fruit punch'].name"
   ],
   "outputs": [
    {
     "output_type": "execute_result",
     "data": {
      "text/plain": [
       "'S fruit punch'"
      ]
     },
     "metadata": {},
     "execution_count": 12
    }
   ],
   "metadata": {}
  },
  {
   "cell_type": "code",
   "execution_count": 13,
   "source": [
    "sample_menus['S fruit punch'].category"
   ],
   "outputs": [
    {
     "output_type": "execute_result",
     "data": {
      "text/plain": [
       "'Fruits (snack)'"
      ]
     },
     "metadata": {},
     "execution_count": 13
    }
   ],
   "metadata": {}
  },
  {
   "cell_type": "code",
   "execution_count": 14,
   "source": [
    "sample_menus['S fruit punch'].note"
   ],
   "outputs": [
    {
     "output_type": "execute_result",
     "data": {
      "text/plain": [
       "'Korean'"
      ]
     },
     "metadata": {},
     "execution_count": 14
    }
   ],
   "metadata": {}
  },
  {
   "cell_type": "code",
   "execution_count": 15,
   "source": [
    "# Note the value is key ingredient's amount per single serving of the menu.\r\n",
    "sample_menus['S fruit punch'].ingredients"
   ],
   "outputs": [
    {
     "output_type": "execute_result",
     "data": {
      "text/plain": [
       "{Ingredient object: Cow's milk: 100.0,\n",
       " Ingredient object: Apple, Fuji, Raw: 15.0,\n",
       " Ingredient object: Banana, Raw: 15.0,\n",
       " Ingredient object: Watermelon, Red pulp, Raw: 50.0}"
      ]
     },
     "metadata": {},
     "execution_count": 15
    }
   ],
   "metadata": {}
  },
  {
   "cell_type": "code",
   "execution_count": 16,
   "source": [
    "# Note the value is key nutrient's amount per single serving of the menu.\r\n",
    "sample_menus['S fruit punch'].nutrition"
   ],
   "outputs": [
    {
     "output_type": "execute_result",
     "data": {
      "text/plain": [
       "{'Energy': 101.05,\n",
       " 'Protein': 3.67,\n",
       " 'Fat': 3.3645,\n",
       " 'Carbohydrate': 14.89,\n",
       " 'Total Dietary': 0.7899999999999999,\n",
       " 'Calcium': 117.64999999999999,\n",
       " 'Iron': 0.1985,\n",
       " 'Sodium': 36.0,\n",
       " 'Vitamin A': 91.16666666489999,\n",
       " 'Vitamin B1 (Thiamine)': 0.04035,\n",
       " 'Vitamin B2 (Rivoflavin)': 0.1911,\n",
       " 'Vitamin C': 1.8925,\n",
       " 'Linoleic Acid': 86.66050000000001,\n",
       " 'Alpha-Linolenic Acid': 10.692499999999999}"
      ]
     },
     "metadata": {},
     "execution_count": 16
    }
   ],
   "metadata": {}
  },
  {
   "cell_type": "markdown",
   "source": [
    "### Diet"
   ],
   "metadata": {}
  },
  {
   "cell_type": "code",
   "execution_count": 17,
   "source": [
    "# The keys are identifier of each menu list.\r\n",
    "sample_diets.plan"
   ],
   "outputs": [
    {
     "output_type": "execute_result",
     "data": {
      "text/plain": [
       "{0: [Menu object: Steamed sweet rice (30),\n",
       "  Menu object: Chive shellfish soup,\n",
       "  Menu object: Braised anchovy and sweet napa cabbage,\n",
       "  Menu object: Seasoned winter mushroom and chive,\n",
       "  Menu object: Water kimchi,\n",
       "  Menu object: S homestyle strawberry milk,\n",
       "  Menu object: empty,\n",
       "  Menu object: Petite gimbap (rice roll),\n",
       "  Menu object: Sujebi with sweet pumpkin,\n",
       "  Menu object: Seasoned mandu (dumpling),\n",
       "  Menu object: empty,\n",
       "  Menu object: Young radish water kimchi,\n",
       "  Menu object: S moca bread,\n",
       "  Menu object: S green plum tea,\n",
       "  Menu object: Steamed sweet rice and red bean,\n",
       "  Menu object: Carrot soup,\n",
       "  Menu object: Mini pork cutlet,\n",
       "  Menu object: Macaroni and vegetable salad (mayonnaise),\n",
       "  Menu object: Radish kimchi cubes],\n",
       " 1: [Menu object: Steamed chestnut bean rice (30),\n",
       "  Menu object: Curled mallow soup(clear),\n",
       "  Menu object: Soft tofu + marinade sauce,\n",
       "  Menu object: Seasoned salad with soft crab and bean sprout,\n",
       "  Menu object: Sweet radish kimchi,\n",
       "  Menu object: S kiwi (50g),\n",
       "  Menu object: empty,\n",
       "  Menu object: Steamed chestnut bean rice,\n",
       "  Menu object: Zucchini salted shrimp stew,\n",
       "  Menu object: Stir-fried chicken with cheese,\n",
       "  Menu object: Fresh kimchi with apple and lettuce,\n",
       "  Menu object: Water kimchi,\n",
       "  Menu object: S steamed bread,\n",
       "  Menu object: S banana shake,\n",
       "  Menu object: Baby anchovy rice ball,\n",
       "  Menu object: Mini udon with fried tofu,\n",
       "  Menu object: Deep-fried vegetables(potato) with corn,\n",
       "  Menu object: Lettuce salad (balsamic vinegar dressing),\n",
       "  Menu object: Pickled beet],\n",
       " ...,\n",
       " 99: [Menu object: Steamed sorghum rice,\n",
       "  Menu object: Beef bone soup(plate),\n",
       "  Menu object: Scrambled eggs with soft crab,\n",
       "  Menu object: Seasoned salad with curled mallow,\n",
       "  Menu object: Radish kimchi cubes,\n",
       "  Menu object: S yoghurt (100ml),\n",
       "  Menu object: S milk (100ml),\n",
       "  Menu object: Steamed corn rice,\n",
       "  Menu object: Clam soy paste stew,\n",
       "  Menu object: Chuncheon-style stir-fried chicken,\n",
       "  Menu object: Seasoned winter cabbage,\n",
       "  Menu object: Radish kimchi cubes,\n",
       "  Menu object: S grilled sweet potato,\n",
       "  Menu object: S yoghurt (100ml),\n",
       "  Menu object: Steamed corn rice,\n",
       "  Menu object: Kimchi soup(clear),\n",
       "  Menu object: Grilled mackerel in curry(fielet),\n",
       "  Menu object: Seasoned salad with spring parsley,\n",
       "  Menu object: Ponytail radish kimchi]}"
      ]
     },
     "metadata": {},
     "execution_count": 17
    }
   ],
   "metadata": {}
  },
  {
   "cell_type": "code",
   "execution_count": 18,
   "source": [
    "sample_diets.plan_length"
   ],
   "outputs": [
    {
     "output_type": "execute_result",
     "data": {
      "text/plain": [
       "19"
      ]
     },
     "metadata": {},
     "execution_count": 18
    }
   ],
   "metadata": {}
  },
  {
   "cell_type": "markdown",
   "source": [
    "About `plan_length`, note every menu list (values of plan attribute) must have same length. You may need dummy menu to extend short menu list. You can import dummy menu with below code."
   ],
   "metadata": {}
  },
  {
   "cell_type": "code",
   "execution_count": 19,
   "source": [
    "from dietkit.elements import empty_menu\r\n",
    "empty_menu.name"
   ],
   "outputs": [
    {
     "output_type": "execute_result",
     "data": {
      "text/plain": [
       "'empty'"
      ]
     },
     "metadata": {},
     "execution_count": 19
    }
   ],
   "metadata": {}
  },
  {
   "cell_type": "code",
   "execution_count": 20,
   "source": [
    "empty_menu.nutrition"
   ],
   "outputs": [
    {
     "output_type": "execute_result",
     "data": {
      "text/plain": [
       "{'': 0.0}"
      ]
     },
     "metadata": {},
     "execution_count": 20
    }
   ],
   "metadata": {}
  },
  {
   "cell_type": "code",
   "execution_count": 21,
   "source": [
    "sample_diets.ingredient"
   ],
   "outputs": [
    {
     "output_type": "execute_result",
     "data": {
      "text/plain": [
       "{0: [Ingredient object: Japanese apricot(Prunus mume Siebold & Zucc.) drink,\n",
       "  Ingredient object: Soybean oil,\n",
       "  Ingredient object: Butter,\n",
       "  Ingredient object: Cucumber(Cucumis sativus L.), Gyeoulsaricheongjang , Raw,\n",
       "  Ingredient object: Rice, White, Raw,\n",
       "  Ingredient object: Soy sauce, Fermented type,\n",
       "  Ingredient object: Glutinous rice, Raw,\n",
       "  Ingredient object: Welsh onion, Raw,\n",
       "  Ingredient object: Sesame seeds, White sesame, Roasted,\n",
       "  Ingredient object: Cow's milk,\n",
       "  Ingredient object: Chinese cabbage, Young chinese cabbage, Raw,\n",
       "  Ingredient object: empty,\n",
       "  Ingredient object: Sesame oil,\n",
       "  Ingredient object: Kimchi, Yeolmumulkimchi, Young leafy radish water kimchi,\n",
       "  Ingredient object: Loaf mocha bread,\n",
       "  Ingredient object: Doenjang, Improved,\n",
       "  Ingredient object: Laver(Porphyra tenera), For Gimbap, Dried,\n",
       "  Ingredient object: Cabbage, Raw,\n",
       "  Ingredient object: Tofu, Firm,\n",
       "  Ingredient object: Carrot, Roots, Raw,\n",
       "  Ingredient object: Anchovy(Engraulis japonicus), Large, Boiled and dried,\n",
       "  Ingredient object: Adzuki bean(Vigna angularis), Red, Dried,\n",
       "  Ingredient object: Salt, Table salt,\n",
       "  Ingredient object: Pepper(Piper nigrum L.), Black, Powder,\n",
       "  Ingredient object: Chinese chive(Allium senescens var. minor), Raw,\n",
       "  Ingredient object: Winter mushroom(Flammulina velutipes Sing.), Cultivated, Raw,\n",
       "  Ingredient object: Marsh clam(Corbicula fluminea), Raw,\n",
       "  Ingredient object: Pasta, Macaroni, Dry noodle,\n",
       "  Ingredient object: Kimchi, Kkakduki(Seasoned cubed radish roots),\n",
       "  Ingredient object: Potato, Daeji, Raw,\n",
       "  Ingredient object: Paprika(Capsicum annuum L), Red, Raw,\n",
       "  Ingredient object: Anchovy(Engraulis japonicus), Medium, Boiled and dried,\n",
       "  Ingredient object: Radishes, Korean style, Yellow, Pickled,\n",
       "  Ingredient object: Cream, Whipping,\n",
       "  Ingredient object: Egg, Whole, Raw,\n",
       "  Ingredient object: Strawberries, Improved, Raw,\n",
       "  Ingredient object: Welsh onion, Spring onion(Allium fistulosum L.), Raw,\n",
       "  Ingredient object: Spinach, Raw,\n",
       "  Ingredient object: Soy Sacuce, Korean traditional type,\n",
       "  Ingredient object: Pumpkin(Cucurbita maxima Lam.), Kabocha squash, Raw,\n",
       "  Ingredient object: Onion, Raw,\n",
       "  Ingredient object: Mungbean sprouts, Raw,\n",
       "  Ingredient object: Wheat flour, White, All-purpose,\n",
       "  Ingredient object: Pork meat, Tenderloin(Tenderloin), Raw,\n",
       "  Ingredient object: Kimchi, Nabakkimchi(Sliced radish),\n",
       "  Ingredient object: Wheat, Bread crumb,\n",
       "  Ingredient object: Garlic, Bulb, Raw,\n",
       "  Ingredient object: Fermented red chili-pepper paste with vinegar and sugar,\n",
       "  Ingredient object: Paprika(Capsicum annuum L), Yellow, Raw],\n",
       " 1: [Ingredient object: Tofu, Fried,\n",
       "  Ingredient object: Olive(Olea europaea L.) oil,\n",
       "  Ingredient object: Soybean oil,\n",
       "  Ingredient object: Rice, White, Raw,\n",
       "  Ingredient object: Soy sauce, Fermented type,\n",
       "  Ingredient object: Curled mallow(Malva verticillata var. crispa L.), Raw,\n",
       "  Ingredient object: Welsh onion, Raw,\n",
       "  Ingredient object: Sesame seeds, White sesame, Roasted,\n",
       "  Ingredient object: empty,\n",
       "  Ingredient object: Pumpkin(Cucurbita moschata), Young pumpkin, Raw,\n",
       "  Ingredient object: Cow's milk,\n",
       "  Ingredient object: Imitation crab meat, Stick, Raw,\n",
       "  Ingredient object: kiwifruit, Raw,\n",
       "  Ingredient object: Sesame oil,\n",
       "  Ingredient object: Apple, Hongok, Raw,\n",
       "  Ingredient object: Red pepper powder,\n",
       "  Ingredient object: Garlic, Bulb, Raw,\n",
       "  Ingredient object: Cabbage, Raw,\n",
       "  Ingredient object: Steamed bread, With adzuki bean paste filling,\n",
       "  Ingredient object: Anchovy(Engraulis japonicus), Small, Boiled and dried,\n",
       "  Ingredient object: Skipjack tuna(Katsuwonus pelamis), Boiled, broth,\n",
       "  Ingredient object: Corn, Sweetened, Canned,\n",
       "  Ingredient object: Carrot, Roots, Raw,\n",
       "  Ingredient object: Anchovy(Engraulis japonicus), Large, Boiled and dried,\n",
       "  Ingredient object: Noodle, Udong, Wet noodle,\n",
       "  Ingredient object: Soybean(Glycine max (L.) Merr.), Brown soybean, Dried,\n",
       "  Ingredient object: Salt, Table salt,\n",
       "  Ingredient object: Pepper(Piper nigrum L.), Black, Powder,\n",
       "  Ingredient object: Perilla Leaves, Raw,\n",
       "  Ingredient object: Potato, Daeji, Raw,\n",
       "  Ingredient object: Beet(Beta vulgaris L.) pickles, Roots, Canned,\n",
       "  Ingredient object: Paprika(Capsicum annuum L), Red, Raw,\n",
       "  Ingredient object: Soybean sprouts, Raw,\n",
       "  Ingredient object: Chicken, Breast, Meat only, Raw,\n",
       "  Ingredient object: Sugars, White sugar,\n",
       "  Ingredient object: Cheese, Mozzarella,\n",
       "  Ingredient object: Welsh onion, Spring onion(Allium fistulosum L.), Raw,\n",
       "  Ingredient object: Banana, Raw,\n",
       "  Ingredient object: Lettuce, Iceberg, Raw,\n",
       "  Ingredient object: Radish(Raphanus sativus), Korean radish, Roots, Raw,\n",
       "  Ingredient object: Brown Kelp(Laminaria japonica), Dried,\n",
       "  Ingredient object: Vinegar, Brewing,\n",
       "  Ingredient object: Soy Sacuce, Korean traditional type,\n",
       "  Ingredient object: Wheat flour, Frying, Seasoned, Dry mix,\n",
       "  Ingredient object: Shrimp, Salt-fermented,\n",
       "  Ingredient object: Vinegar, Balsamic,\n",
       "  Ingredient object: Onion, Raw,\n",
       "  Ingredient object: Lettuce, Leaf lettuce, Red, Raw,\n",
       "  Ingredient object: Sweet pepper(Capsicum annuum L.), Green, Raw,\n",
       "  Ingredient object: Fermented red pepper paste, Improved,\n",
       "  Ingredient object: Kimchi, Nabakkimchi(Sliced radish),\n",
       "  Ingredient object: Tofu, Silken, Soft,\n",
       "  Ingredient object: Welsh onion, Shallot(Allium ascalonicum L.), Raw,\n",
       "  Ingredient object: Starch syrup,\n",
       "  Ingredient object: Paprika(Capsicum annuum L), Yellow, Raw],\n",
       " ...,\n",
       " 99: [Ingredient object: Soybean oil,\n",
       "  Ingredient object: Rice, White, Raw,\n",
       "  Ingredient object: Soy sauce, Fermented type,\n",
       "  Ingredient object: Curled mallow(Malva verticillata var. crispa L.), Raw,\n",
       "  Ingredient object: Welsh onion, Raw,\n",
       "  Ingredient object: Sesame seeds, White sesame, Roasted,\n",
       "  Ingredient object: Cow's milk,\n",
       "  Ingredient object: Pumpkin(Cucurbita moschata), Young pumpkin, Raw,\n",
       "  Ingredient object: Chinese cabbage, Young chinese cabbage, Raw,\n",
       "  Ingredient object: Glutinous sorghum, Polished, Raw,\n",
       "  Ingredient object: Curry sauce powder,\n",
       "  Ingredient object: Imitation crab meat, Stick, Raw,\n",
       "  Ingredient object: Sesame oil,\n",
       "  Ingredient object: Doenjang, Improved,\n",
       "  Ingredient object: Cabbage, Raw,\n",
       "  Ingredient object: Tofu, Firm,\n",
       "  Ingredient object: Carrot, Roots, Raw,\n",
       "  Ingredient object: Anchovy(Engraulis japonicus), Large, Boiled and dried,\n",
       "  Ingredient object: Salt, Table salt,\n",
       "  Ingredient object: Pepper(Piper nigrum L.), Black, Powder,\n",
       "  Ingredient object: Little neck clam(Ruditapes philippinarum), Wild-caught, Raw,\n",
       "  Ingredient object: Kimchi, Kkakduki(Seasoned cubed radish roots),\n",
       "  Ingredient object: Perilla Leaves, Raw,\n",
       "  Ingredient object: Potato, Daeji, Raw,\n",
       "  Ingredient object: Mackerel(Scomber japonicus), Raw,\n",
       "  Ingredient object: Sugars, White sugar,\n",
       "  Ingredient object: Egg, Whole, Raw,\n",
       "  Ingredient object: Chamnamul(Pimpinella brachycarpa (kom.) Nakai), Cultivated, Raw,\n",
       "  Ingredient object: Welsh onion, Spring onion(Allium fistulosum L.), Raw,\n",
       "  Ingredient object: Chicken, Meat and skin, Fowl, Raw,\n",
       "  Ingredient object: Ginger, Tuber, Raw,\n",
       "  Ingredient object: Soy Sacuce, Korean traditional type,\n",
       "  Ingredient object: Paprika(Capsicum annuum L), Sweet pepper, Green, Raw,\n",
       "  Ingredient object: Corn, Dried,\n",
       "  Ingredient object: Onion, Raw,\n",
       "  Ingredient object: Wheat flour, White, All-purpose,\n",
       "  Ingredient object: Fermented red pepper paste, Improved,\n",
       "  Ingredient object: Beef meat, Hanwoo, Plate, Raw,\n",
       "  Ingredient object: Yoghurt, Curd type, Plain,\n",
       "  Ingredient object: Kimchi, Baechukimchi(Chinese cabbage),\n",
       "  Ingredient object: Sweet potato, Dry and firm type, Baked,\n",
       "  Ingredient object: Garlic, Bulb, Raw,\n",
       "  Ingredient object: Kimchi, Chongkakkimchi, Prepared with small radish,\n",
       "  Ingredient object: Beef meat, Hanwoo, 1 grade, Shank(Hind shank), Raw]}"
      ]
     },
     "metadata": {},
     "execution_count": 21
    }
   ],
   "metadata": {}
  },
  {
   "cell_type": "code",
   "execution_count": 22,
   "source": [
    "# Note the ouput is double dictionary. Outer dictionary's keys are identifier of menu list. Inner dictionary's keys are nutrition and values are amount for nutrient.\r\n",
    "sample_diets.nutrition"
   ],
   "outputs": [
    {
     "output_type": "execute_result",
     "data": {
      "text/plain": [
       "{0: {'Energy': 1482.2549999999999,\n",
       "  'Protein': 57.57252,\n",
       "  'Fat': 33.602450000000005,\n",
       "  'Carbohydrate': 231.59528999999998,\n",
       "  'Total Dietary': 11.063699999999999,\n",
       "  'Calcium': 781.895,\n",
       "  'Iron': 13.19438,\n",
       "  'Sodium': 1583.5230000000001,\n",
       "  'Vitamin A': 651.1970833349801,\n",
       "  'Vitamin B1 (Thiamine)': 1.21974,\n",
       "  'Vitamin B2 (Rivoflavin)': 1.272624,\n",
       "  'Vitamin C': 84.17465,\n",
       "  'Linoleic Acid': 6760.935700000001,\n",
       "  'Alpha-Linolenic Acid': 641.70056},\n",
       " 1: {'Energy': 1373.8040000000003,\n",
       "  'Protein': 51.40167000000002,\n",
       "  'Fat': 29.88065,\n",
       "  'Carbohydrate': 224.79744,\n",
       "  'Total Dietary': 14.1017,\n",
       "  'Calcium': 701.386,\n",
       "  'Iron': 8.15963,\n",
       "  'Sodium': 1579.048,\n",
       "  'Vitamin A': 358.165583340085,\n",
       "  'Vitamin B1 (Thiamine)': 0.98462,\n",
       "  'Vitamin B2 (Rivoflavin)': 0.990319,\n",
       "  'Vitamin C': 82.6919,\n",
       "  'Linoleic Acid': 5848.40575,\n",
       "  'Alpha-Linolenic Acid': 635.37946},\n",
       " ...,\n",
       " 99: {'Energy': 1394.077,\n",
       "  'Protein': 60.540510000000005,\n",
       "  'Fat': 33.41489,\n",
       "  'Carbohydrate': 206.83444000000003,\n",
       "  'Total Dietary': 14.414800000000001,\n",
       "  'Calcium': 829.3599999999999,\n",
       "  'Iron': 8.3579,\n",
       "  'Sodium': 1343.8429999999998,\n",
       "  'Vitamin A': 537.709333324339,\n",
       "  'Vitamin B1 (Thiamine)': 0.887531,\n",
       "  'Vitamin B2 (Rivoflavin)': 1.4556259999999996,\n",
       "  'Vitamin C': 49.68512,\n",
       "  'Linoleic Acid': 4454.7172,\n",
       "  'Alpha-Linolenic Acid': 536.5672999999999}}"
      ]
     },
     "metadata": {},
     "execution_count": 22
    }
   ],
   "metadata": {}
  },
  {
   "cell_type": "markdown",
   "source": [
    "### Criterion"
   ],
   "metadata": {}
  },
  {
   "cell_type": "code",
   "execution_count": 23,
   "source": [
    "# Generate criterion which determine if energy is larger than 100 kcal\r\n",
    "my_criterion = Criterion(on = 'Energy', condition = '>=', value = 100)"
   ],
   "outputs": [],
   "metadata": {}
  },
  {
   "cell_type": "code",
   "execution_count": 24,
   "source": [
    "my_criterion"
   ],
   "outputs": [
    {
     "output_type": "execute_result",
     "data": {
      "text/plain": [
       "The criterion determine (Energy >= 100)"
      ]
     },
     "metadata": {},
     "execution_count": 24
    }
   ],
   "metadata": {}
  },
  {
   "cell_type": "markdown",
   "source": [
    "## Evaluator functions"
   ],
   "metadata": {}
  },
  {
   "cell_type": "code",
   "execution_count": 25,
   "source": [
    "sample_criteria[0:2]"
   ],
   "outputs": [
    {
     "output_type": "execute_result",
     "data": {
      "text/plain": [
       "[The criterion determine (Energy >= 1260.0),\n",
       " The criterion determine (Energy <= 1540.0)]"
      ]
     },
     "metadata": {},
     "execution_count": 25
    }
   ],
   "metadata": {}
  },
  {
   "cell_type": "code",
   "execution_count": 26,
   "source": [
    "sample_menus['S fruit punch'].nutrition"
   ],
   "outputs": [
    {
     "output_type": "execute_result",
     "data": {
      "text/plain": [
       "{'Energy': 101.05,\n",
       " 'Protein': 3.67,\n",
       " 'Fat': 3.3645,\n",
       " 'Carbohydrate': 14.89,\n",
       " 'Total Dietary': 0.7899999999999999,\n",
       " 'Calcium': 117.64999999999999,\n",
       " 'Iron': 0.1985,\n",
       " 'Sodium': 36.0,\n",
       " 'Vitamin A': 91.16666666489999,\n",
       " 'Vitamin B1 (Thiamine)': 0.04035,\n",
       " 'Vitamin B2 (Rivoflavin)': 0.1911,\n",
       " 'Vitamin C': 1.8925,\n",
       " 'Linoleic Acid': 86.66050000000001,\n",
       " 'Alpha-Linolenic Acid': 10.692499999999999}"
      ]
     },
     "metadata": {},
     "execution_count": 26
    }
   ],
   "metadata": {}
  },
  {
   "cell_type": "code",
   "execution_count": 27,
   "source": [
    "# Verify that the energy of the S fruit punch is between 1260 and 1540.\r\n",
    "menu_test_nutrition(menu = sample_menus['S fruit punch'], criteria = sample_criteria[0:2])"
   ],
   "outputs": [
    {
     "output_type": "execute_result",
     "data": {
      "text/plain": [
       "False"
      ]
     },
     "metadata": {},
     "execution_count": 27
    }
   ],
   "metadata": {}
  },
  {
   "cell_type": "code",
   "execution_count": 28,
   "source": [
    "# Verify that the energy of each diet is between 1260 and 1540.\r\n",
    "diet_test_nutrition(diet = sample_diets, criteria = sample_criteria[0:2])"
   ],
   "outputs": [
    {
     "output_type": "execute_result",
     "data": {
      "text/plain": [
       "{0: True,\n",
       " 1: True,\n",
       " 2: False,\n",
       " 3: False,\n",
       " ...,\n",
       " 98: True,\n",
       " 99: True}"
      ]
     },
     "metadata": {},
     "execution_count": 28
    }
   ],
   "metadata": {}
  },
  {
   "cell_type": "markdown",
   "source": [
    "Note that the RDI Score of our paper (link) is calculated by this diet_test_nutrition(). Below table show the criteria we applied to get RDI scores.\r\n",
    "\r\n",
    "On (Nutrient)|Condition & Value|Unit\r\n",
    "-------------|-----------------|-----\r\n",
    "Energy|1260 <= and >= 1540|kcal\r\n",
    "Protein|20 <=|g\r\n",
    "Percentage of carbohydrates in total energy|55 <= and >= 65|%\r\n",
    "Percentage of protein in total energy|7 <= and >= 20|%\r\n",
    "Percentage of fat in total energy|15 <= and >= 30|%\r\n",
    "Total Dietary Fiber|11 <= and >= 20|g\r\n",
    "Calcium|500 <= and >= 2500|mg\r\n",
    "Iron|5 <= and >= 40|mg\r\n",
    "Sodium|>= 1600|mg\r\n",
    "Vitamin A|230 <= and >= 750| $\\mu$ g RAE\r\n",
    "Vitamin B1 (Thiamine)|0.4 <=|mg\r\n",
    "Vitamin B2 (Rivoflavin)|0.5 <=|mg\r\n",
    "Vitamin C|35 <= and >= 510|mg\r\n",
    "Linoleic Acid|4.6 <= and >= 9.1|g\r\n",
    "Alpha Linoleic Acid|0.60 <= and >= 1.17|g\r\n"
   ],
   "metadata": {}
  },
  {
   "cell_type": "code",
   "execution_count": 29,
   "source": [
    "sample_diets.nutrition[0]"
   ],
   "outputs": [
    {
     "output_type": "execute_result",
     "data": {
      "text/plain": [
       "{'Energy': 1482.2549999999999,\n",
       " 'Protein': 57.57252,\n",
       " 'Fat': 33.602450000000005,\n",
       " 'Carbohydrate': 231.59528999999998,\n",
       " 'Total Dietary': 11.063699999999999,\n",
       " 'Calcium': 781.895,\n",
       " 'Iron': 13.19438,\n",
       " 'Sodium': 1583.5230000000001,\n",
       " 'Vitamin A': 651.1970833349801,\n",
       " 'Vitamin B1 (Thiamine)': 1.21974,\n",
       " 'Vitamin B2 (Rivoflavin)': 1.272624,\n",
       " 'Vitamin C': 84.17465,\n",
       " 'Linoleic Acid': 6760.935700000001,\n",
       " 'Alpha-Linolenic Acid': 641.70056}"
      ]
     },
     "metadata": {},
     "execution_count": 29
    }
   ],
   "metadata": {}
  },
  {
   "cell_type": "code",
   "execution_count": 30,
   "source": [
    "sample_diets.nutrition[2]"
   ],
   "outputs": [
    {
     "output_type": "execute_result",
     "data": {
      "text/plain": [
       "{'Energy': 1191.9450000000002,\n",
       " 'Protein': 47.384150000000005,\n",
       " 'Fat': 26.261109999999995,\n",
       " 'Carbohydrate': 191.12210000000002,\n",
       " 'Total Dietary': 12.379000000000003,\n",
       " 'Calcium': 629.8309999999999,\n",
       " 'Iron': 7.5299,\n",
       " 'Sodium': 1318.464,\n",
       " 'Vitamin A': 307.71708332597603,\n",
       " 'Vitamin B1 (Thiamine)': 0.792206,\n",
       " 'Vitamin B2 (Rivoflavin)': 1.3255000000000001,\n",
       " 'Vitamin C': 45.77882,\n",
       " 'Linoleic Acid': 6764.132160000001,\n",
       " 'Alpha-Linolenic Acid': 938.2003300000001}"
      ]
     },
     "metadata": {},
     "execution_count": 30
    }
   ],
   "metadata": {}
  },
  {
   "cell_type": "code",
   "execution_count": 31,
   "source": [
    "menu_test_ingredient(menu = sample_menus['S fruit punch'], ingredients = [sample_ingredients[\"Cow's milk\"], sample_ingredients['Banana, Raw']])"
   ],
   "outputs": [
    {
     "output_type": "execute_result",
     "data": {
      "text/plain": [
       "True"
      ]
     },
     "metadata": {},
     "execution_count": 31
    }
   ],
   "metadata": {}
  },
  {
   "cell_type": "code",
   "execution_count": 32,
   "source": [
    "menu_test_ingredient(menu = sample_menus['S fruit punch'], ingredients = [sample_ingredients[\"Cow's milk\"], sample_ingredients['Oat, Oatmeal']])"
   ],
   "outputs": [
    {
     "output_type": "execute_result",
     "data": {
      "text/plain": [
       "False"
      ]
     },
     "metadata": {},
     "execution_count": 32
    }
   ],
   "metadata": {}
  },
  {
   "cell_type": "code",
   "execution_count": 33,
   "source": [
    "sample_menus['S fruit punch'].ingredients"
   ],
   "outputs": [
    {
     "output_type": "execute_result",
     "data": {
      "text/plain": [
       "{Ingredient object: Cow's milk: 100.0,\n",
       " Ingredient object: Apple, Fuji, Raw: 15.0,\n",
       " Ingredient object: Banana, Raw: 15.0,\n",
       " Ingredient object: Watermelon, Red pulp, Raw: 50.0}"
      ]
     },
     "metadata": {},
     "execution_count": 33
    }
   ],
   "metadata": {}
  },
  {
   "cell_type": "code",
   "execution_count": 34,
   "source": [
    "diet_test_ingredient(diet = sample_diets, ingredients = [sample_ingredients['Rice, White, Raw'], sample_ingredients['Potato, Daeji, Raw']])"
   ],
   "outputs": [
    {
     "output_type": "execute_result",
     "data": {
      "text/plain": [
       "{0: True,\n",
       " 1: True,\n",
       " 2: True,\n",
       " 3: True,\n",
       " ...\n",
       " 98: True,\n",
       " 99: True}"
      ]
     },
     "metadata": {},
     "execution_count": 34
    }
   ],
   "metadata": {}
  },
  {
   "cell_type": "code",
   "execution_count": 35,
   "source": [
    "sample_diets.ingredient[0]"
   ],
   "outputs": [
    {
     "output_type": "execute_result",
     "data": {
      "text/plain": [
       "[Ingredient object: Japanese apricot(Prunus mume Siebold & Zucc.) drink,\n",
       " Ingredient object: Soybean oil,\n",
       " Ingredient object: Butter,\n",
       " Ingredient object: Cucumber(Cucumis sativus L.), Gyeoulsaricheongjang , Raw,\n",
       " Ingredient object: Rice, White, Raw,\n",
       " Ingredient object: Soy sauce, Fermented type,\n",
       " Ingredient object: Glutinous rice, Raw,\n",
       " Ingredient object: Welsh onion, Raw,\n",
       " Ingredient object: Sesame seeds, White sesame, Roasted,\n",
       " Ingredient object: Cow's milk,\n",
       " Ingredient object: Chinese cabbage, Young chinese cabbage, Raw,\n",
       " Ingredient object: empty,\n",
       " Ingredient object: Sesame oil,\n",
       " Ingredient object: Kimchi, Yeolmumulkimchi, Young leafy radish water kimchi,\n",
       " Ingredient object: Loaf mocha bread,\n",
       " Ingredient object: Doenjang, Improved,\n",
       " Ingredient object: Laver(Porphyra tenera), For Gimbap, Dried,\n",
       " Ingredient object: Cabbage, Raw,\n",
       " Ingredient object: Tofu, Firm,\n",
       " Ingredient object: Carrot, Roots, Raw,\n",
       " Ingredient object: Anchovy(Engraulis japonicus), Large, Boiled and dried,\n",
       " Ingredient object: Adzuki bean(Vigna angularis), Red, Dried,\n",
       " Ingredient object: Salt, Table salt,\n",
       " Ingredient object: Pepper(Piper nigrum L.), Black, Powder,\n",
       " Ingredient object: Chinese chive(Allium senescens var. minor), Raw,\n",
       " Ingredient object: Winter mushroom(Flammulina velutipes Sing.), Cultivated, Raw,\n",
       " Ingredient object: Marsh clam(Corbicula fluminea), Raw,\n",
       " Ingredient object: Pasta, Macaroni, Dry noodle,\n",
       " Ingredient object: Kimchi, Kkakduki(Seasoned cubed radish roots),\n",
       " Ingredient object: Potato, Daeji, Raw,\n",
       " Ingredient object: Paprika(Capsicum annuum L), Red, Raw,\n",
       " Ingredient object: Anchovy(Engraulis japonicus), Medium, Boiled and dried,\n",
       " Ingredient object: Radishes, Korean style, Yellow, Pickled,\n",
       " Ingredient object: Cream, Whipping,\n",
       " Ingredient object: Egg, Whole, Raw,\n",
       " Ingredient object: Strawberries, Improved, Raw,\n",
       " Ingredient object: Welsh onion, Spring onion(Allium fistulosum L.), Raw,\n",
       " Ingredient object: Spinach, Raw,\n",
       " Ingredient object: Soy Sacuce, Korean traditional type,\n",
       " Ingredient object: Pumpkin(Cucurbita maxima Lam.), Kabocha squash, Raw,\n",
       " Ingredient object: Onion, Raw,\n",
       " Ingredient object: Mungbean sprouts, Raw,\n",
       " Ingredient object: Wheat flour, White, All-purpose,\n",
       " Ingredient object: Pork meat, Tenderloin(Tenderloin), Raw,\n",
       " Ingredient object: Kimchi, Nabakkimchi(Sliced radish),\n",
       " Ingredient object: Wheat, Bread crumb,\n",
       " Ingredient object: Garlic, Bulb, Raw,\n",
       " Ingredient object: Fermented red chili-pepper paste with vinegar and sugar,\n",
       " Ingredient object: Paprika(Capsicum annuum L), Yellow, Raw]"
      ]
     },
     "metadata": {},
     "execution_count": 35
    }
   ],
   "metadata": {}
  },
  {
   "cell_type": "code",
   "execution_count": 36,
   "source": [
    "sample_diets.ingredient[5]"
   ],
   "outputs": [
    {
     "output_type": "execute_result",
     "data": {
      "text/plain": [
       "[Ingredient object: Japanese apricot(Prunus mume Siebold & Zucc.) drink,\n",
       " Ingredient object: Olive(Olea europaea L.) oil,\n",
       " Ingredient object: Soybean oil,\n",
       " Ingredient object: Rice, White, Raw,\n",
       " Ingredient object: Soy sauce, Fermented type,\n",
       " Ingredient object: Sweet potato, Stems, Raw,\n",
       " Ingredient object: Glutinous rice, Raw,\n",
       " Ingredient object: Welsh onion, Raw,\n",
       " Ingredient object: Sesame seeds, White sesame, Roasted,\n",
       " Ingredient object: Cow's milk,\n",
       " Ingredient object: empty,\n",
       " Ingredient object: Pumpkin(Cucurbita moschata), Young pumpkin, Raw,\n",
       " Ingredient object: Sesame oil,\n",
       " Ingredient object: Kimchi, Yeolmumulkimchi, Young leafy radish water kimchi,\n",
       " Ingredient object: Doenjang, Improved,\n",
       " Ingredient object: Fish cake, Fried,\n",
       " Ingredient object: Carrot, Roots, Raw,\n",
       " Ingredient object: Anchovy(Engraulis japonicus), Large, Boiled and dried,\n",
       " Ingredient object: Soybean(Glycine max (L.) Merr.), Brown soybean, Dried,\n",
       " Ingredient object: Salt, Table salt,\n",
       " Ingredient object: Pepper(Piper nigrum L.), Black, Powder,\n",
       " Ingredient object: Mayonnaise, Whole egg,\n",
       " Ingredient object: Chinese chive(Allium senescens var. minor), Raw,\n",
       " Ingredient object: Kimchi, Kkakduki(Seasoned cubed radish roots),\n",
       " Ingredient object: Laver(Porphyra tenera), Roasted,\n",
       " Ingredient object: Beet(Beta vulgaris L.) pickles, Roots, Canned,\n",
       " Ingredient object: Paprika(Capsicum annuum L), Red, Raw,\n",
       " Ingredient object: Sugars, White sugar,\n",
       " Ingredient object: Chicken, Meat only, Raw,\n",
       " Ingredient object: Spinach, Raw,\n",
       " Ingredient object: Welsh onion, Spring onion(Allium fistulosum L.), Raw,\n",
       " Ingredient object: Egg, Whole, Raw,\n",
       " Ingredient object: Strawberries, Improved, Raw,\n",
       " Ingredient object: Beef meat, Hanwoo, Loin, Raw,\n",
       " Ingredient object: Rice cake, Mujigaetteok, Coloful layers,\n",
       " Ingredient object: Shrimp, Dried, Stir-fried,\n",
       " Ingredient object: Skipjack tuna(Katsuwonus pelamis), Canned in oil,\n",
       " Ingredient object: Radish(Raphanus sativus), Korean radish, Roots, Raw,\n",
       " Ingredient object: Siba shrimp(Metapenaeus joyneri), Raw,\n",
       " Ingredient object: Brown Kelp(Laminaria japonica), Dried,\n",
       " Ingredient object: Soy Sacuce, Korean traditional type,\n",
       " Ingredient object: Wheat flour, Frying, Seasoned, Dry mix,\n",
       " Ingredient object: Onion, Raw,\n",
       " Ingredient object: Pork meat, Tenderloin(Tenderloin), Raw,\n",
       " Ingredient object: Garlic, Bulb, Raw,\n",
       " Ingredient object: Yuzu(Citrus junos Siebold ex Tanaka), Concentrated juice, Preserved with sugar,\n",
       " Ingredient object: Paprika(Capsicum annuum L), Yellow, Raw]"
      ]
     },
     "metadata": {},
     "execution_count": 36
    }
   ],
   "metadata": {}
  },
  {
   "cell_type": "markdown",
   "source": [
    "## Visualizer functions"
   ],
   "metadata": {}
  },
  {
   "cell_type": "code",
   "execution_count": 37,
   "source": [
    "bar_menu_test_ingredient(diet = sample_diets, ingredients = [sample_ingredients['Potato, Daeji, Raw'], sample_ingredients['Egg, Whole, Raw']], fig_path = 'bar_menu_test_ingredient_eng.png')"
   ],
   "outputs": [
    {
     "output_type": "display_data",
     "data": {
      "image/png": "[encoded data removed]",
      "image/svg+xml": "<?xml version=\"1.0\" encoding=\"utf-8\" standalone=\"no\"?>\r\n<!DOCTYPE svg PUBLIC \"-//W3C//DTD SVG 1.1//EN\"\r\n  \"http://www.w3.org/Graphics/SVG/1.1/DTD/svg11.dtd\">\r\n<svg height=\"329.993125pt\" version=\"1.1\" viewBox=\"0 0 375.2875 329.993125\" width=\"375.2875pt\" xmlns=\"http://www.w3.org/2000/svg\" xmlns:xlink=\"http://www.w3.org/1999/xlink\">\r\n <metadata>\r\n  <rdf:RDF xmlns:cc=\"http://creativecommons.org/ns#\" xmlns:dc=\"http://purl.org/dc/elements/1.1/\" xmlns:rdf=\"http://www.w3.org/1999/02/22-rdf-syntax-ns#\">\r\n   <cc:Work>\r\n    <dc:type rdf:resource=\"http://purl.org/dc/dcmitype/StillImage\"/>\r\n    <dc:date>2021-09-02T15:23:51.927958</dc:date>\r\n    <dc:format>image/svg+xml</dc:format>\r\n    <dc:creator>\r\n     <cc:Agent>\r\n      <dc:title>Matplotlib v3.4.2, https://matplotlib.org/</dc:title>\r\n     </cc:Agent>\r\n    </dc:creator>\r\n   </cc:Work>\r\n  </rdf:RDF>\r\n </metadata>\r\n <defs>\r\n  <style type=\"text/css\">*{stroke-linecap:butt;stroke-linejoin:round;}</style>\r\n </defs>\r\n <g id=\"figure_1\">\r\n  <g id=\"patch_1\">\r\n   <path d=\"M 0 329.993125 \r\nL 375.2875 329.993125 \r\nL 375.2875 0 \r\nL 0 0 \r\nz\r\n\" style=\"fill:none;\"/>\r\n  </g>\r\n  <g id=\"axes_1\">\r\n   <g id=\"patch_2\">\r\n    <path d=\"M 33.2875 224.64 \r\nL 368.0875 224.64 \r\nL 368.0875 7.2 \r\nL 33.2875 7.2 \r\nz\r\n\" style=\"fill:#ffffff;\"/>\r\n   </g>\r\n   <g id=\"patch_3\">\r\n    <path clip-path=\"url(#pf3642401f3)\" d=\"M 75.1375 224.64 \r\nL 158.8375 224.64 \r\nL 158.8375 73.467429 \r\nL 75.1375 73.467429 \r\nz\r\n\" style=\"fill:#1f77b4;\"/>\r\n   </g>\r\n   <g id=\"patch_4\">\r\n    <path clip-path=\"url(#pf3642401f3)\" d=\"M 242.5375 224.64 \r\nL 326.2375 224.64 \r\nL 326.2375 54.829714 \r\nL 242.5375 54.829714 \r\nz\r\n\" style=\"fill:#1f77b4;\"/>\r\n   </g>\r\n   <g id=\"patch_5\">\r\n    <path clip-path=\"url(#pf3642401f3)\" d=\"M 75.1375 73.467429 \r\nL 158.8375 73.467429 \r\nL 158.8375 17.554286 \r\nL 75.1375 17.554286 \r\nz\r\n\" style=\"fill:#ff7f0e;\"/>\r\n   </g>\r\n   <g id=\"patch_6\">\r\n    <path clip-path=\"url(#pf3642401f3)\" d=\"M 242.5375 54.829714 \r\nL 326.2375 54.829714 \r\nL 326.2375 17.554286 \r\nL 242.5375 17.554286 \r\nz\r\n\" style=\"fill:#ff7f0e;\"/>\r\n   </g>\r\n   <g id=\"matplotlib.axis_1\">\r\n    <g id=\"xtick_1\">\r\n     <g id=\"line2d_1\">\r\n      <defs>\r\n       <path d=\"M 0 0 \r\nL 0 3.5 \r\n\" id=\"m4a36f8ab4a\" style=\"stroke:#000000;stroke-width:0.8;\"/>\r\n      </defs>\r\n      <g>\r\n       <use style=\"stroke:#000000;stroke-width:0.8;\" x=\"116.9875\" xlink:href=\"#m4a36f8ab4a\" y=\"224.64\"/>\r\n      </g>\r\n     </g>\r\n     <g id=\"text_1\">\r\n      <!-- Potato, Daeji, Raw -->\r\n      <g transform=\"translate(119.746875 322.793125)rotate(-90)scale(0.1 -0.1)\">\r\n       <defs>\r\n        <path d=\"M 1259 4147 \r\nL 1259 2394 \r\nL 2053 2394 \r\nQ 2494 2394 2734 2622 \r\nQ 2975 2850 2975 3272 \r\nQ 2975 3691 2734 3919 \r\nQ 2494 4147 2053 4147 \r\nL 1259 4147 \r\nz\r\nM 628 4666 \r\nL 2053 4666 \r\nQ 2838 4666 3239 4311 \r\nQ 3641 3956 3641 3272 \r\nQ 3641 2581 3239 2228 \r\nQ 2838 1875 2053 1875 \r\nL 1259 1875 \r\nL 1259 0 \r\nL 628 0 \r\nL 628 4666 \r\nz\r\n\" id=\"DejaVuSans-50\" transform=\"scale(0.015625)\"/>\r\n        <path d=\"M 1959 3097 \r\nQ 1497 3097 1228 2736 \r\nQ 959 2375 959 1747 \r\nQ 959 1119 1226 758 \r\nQ 1494 397 1959 397 \r\nQ 2419 397 2687 759 \r\nQ 2956 1122 2956 1747 \r\nQ 2956 2369 2687 2733 \r\nQ 2419 3097 1959 3097 \r\nz\r\nM 1959 3584 \r\nQ 2709 3584 3137 3096 \r\nQ 3566 2609 3566 1747 \r\nQ 3566 888 3137 398 \r\nQ 2709 -91 1959 -91 \r\nQ 1206 -91 779 398 \r\nQ 353 888 353 1747 \r\nQ 353 2609 779 3096 \r\nQ 1206 3584 1959 3584 \r\nz\r\n\" id=\"DejaVuSans-6f\" transform=\"scale(0.015625)\"/>\r\n        <path d=\"M 1172 4494 \r\nL 1172 3500 \r\nL 2356 3500 \r\nL 2356 3053 \r\nL 1172 3053 \r\nL 1172 1153 \r\nQ 1172 725 1289 603 \r\nQ 1406 481 1766 481 \r\nL 2356 481 \r\nL 2356 0 \r\nL 1766 0 \r\nQ 1100 0 847 248 \r\nQ 594 497 594 1153 \r\nL 594 3053 \r\nL 172 3053 \r\nL 172 3500 \r\nL 594 3500 \r\nL 594 4494 \r\nL 1172 4494 \r\nz\r\n\" id=\"DejaVuSans-74\" transform=\"scale(0.015625)\"/>\r\n        <path d=\"M 2194 1759 \r\nQ 1497 1759 1228 1600 \r\nQ 959 1441 959 1056 \r\nQ 959 750 1161 570 \r\nQ 1363 391 1709 391 \r\nQ 2188 391 2477 730 \r\nQ 2766 1069 2766 1631 \r\nL 2766 1759 \r\nL 2194 1759 \r\nz\r\nM 3341 1997 \r\nL 3341 0 \r\nL 2766 0 \r\nL 2766 531 \r\nQ 2569 213 2275 61 \r\nQ 1981 -91 1556 -91 \r\nQ 1019 -91 701 211 \r\nQ 384 513 384 1019 \r\nQ 384 1609 779 1909 \r\nQ 1175 2209 1959 2209 \r\nL 2766 2209 \r\nL 2766 2266 \r\nQ 2766 2663 2505 2880 \r\nQ 2244 3097 1772 3097 \r\nQ 1472 3097 1187 3025 \r\nQ 903 2953 641 2809 \r\nL 641 3341 \r\nQ 956 3463 1253 3523 \r\nQ 1550 3584 1831 3584 \r\nQ 2591 3584 2966 3190 \r\nQ 3341 2797 3341 1997 \r\nz\r\n\" id=\"DejaVuSans-61\" transform=\"scale(0.015625)\"/>\r\n        <path d=\"M 750 794 \r\nL 1409 794 \r\nL 1409 256 \r\nL 897 -744 \r\nL 494 -744 \r\nL 750 256 \r\nL 750 794 \r\nz\r\n\" id=\"DejaVuSans-2c\" transform=\"scale(0.015625)\"/>\r\n        <path id=\"DejaVuSans-20\" transform=\"scale(0.015625)\"/>\r\n        <path d=\"M 1259 4147 \r\nL 1259 519 \r\nL 2022 519 \r\nQ 2988 519 3436 956 \r\nQ 3884 1394 3884 2338 \r\nQ 3884 3275 3436 3711 \r\nQ 2988 4147 2022 4147 \r\nL 1259 4147 \r\nz\r\nM 628 4666 \r\nL 1925 4666 \r\nQ 3281 4666 3915 4102 \r\nQ 4550 3538 4550 2338 \r\nQ 4550 1131 3912 565 \r\nQ 3275 0 1925 0 \r\nL 628 0 \r\nL 628 4666 \r\nz\r\n\" id=\"DejaVuSans-44\" transform=\"scale(0.015625)\"/>\r\n        <path d=\"M 3597 1894 \r\nL 3597 1613 \r\nL 953 1613 \r\nQ 991 1019 1311 708 \r\nQ 1631 397 2203 397 \r\nQ 2534 397 2845 478 \r\nQ 3156 559 3463 722 \r\nL 3463 178 \r\nQ 3153 47 2828 -22 \r\nQ 2503 -91 2169 -91 \r\nQ 1331 -91 842 396 \r\nQ 353 884 353 1716 \r\nQ 353 2575 817 3079 \r\nQ 1281 3584 2069 3584 \r\nQ 2775 3584 3186 3129 \r\nQ 3597 2675 3597 1894 \r\nz\r\nM 3022 2063 \r\nQ 3016 2534 2758 2815 \r\nQ 2500 3097 2075 3097 \r\nQ 1594 3097 1305 2825 \r\nQ 1016 2553 972 2059 \r\nL 3022 2063 \r\nz\r\n\" id=\"DejaVuSans-65\" transform=\"scale(0.015625)\"/>\r\n        <path d=\"M 603 3500 \r\nL 1178 3500 \r\nL 1178 -63 \r\nQ 1178 -731 923 -1031 \r\nQ 669 -1331 103 -1331 \r\nL -116 -1331 \r\nL -116 -844 \r\nL 38 -844 \r\nQ 366 -844 484 -692 \r\nQ 603 -541 603 -63 \r\nL 603 3500 \r\nz\r\nM 603 4863 \r\nL 1178 4863 \r\nL 1178 4134 \r\nL 603 4134 \r\nL 603 4863 \r\nz\r\n\" id=\"DejaVuSans-6a\" transform=\"scale(0.015625)\"/>\r\n        <path d=\"M 603 3500 \r\nL 1178 3500 \r\nL 1178 0 \r\nL 603 0 \r\nL 603 3500 \r\nz\r\nM 603 4863 \r\nL 1178 4863 \r\nL 1178 4134 \r\nL 603 4134 \r\nL 603 4863 \r\nz\r\n\" id=\"DejaVuSans-69\" transform=\"scale(0.015625)\"/>\r\n        <path d=\"M 2841 2188 \r\nQ 3044 2119 3236 1894 \r\nQ 3428 1669 3622 1275 \r\nL 4263 0 \r\nL 3584 0 \r\nL 2988 1197 \r\nQ 2756 1666 2539 1819 \r\nQ 2322 1972 1947 1972 \r\nL 1259 1972 \r\nL 1259 0 \r\nL 628 0 \r\nL 628 4666 \r\nL 2053 4666 \r\nQ 2853 4666 3247 4331 \r\nQ 3641 3997 3641 3322 \r\nQ 3641 2881 3436 2590 \r\nQ 3231 2300 2841 2188 \r\nz\r\nM 1259 4147 \r\nL 1259 2491 \r\nL 2053 2491 \r\nQ 2509 2491 2742 2702 \r\nQ 2975 2913 2975 3322 \r\nQ 2975 3731 2742 3939 \r\nQ 2509 4147 2053 4147 \r\nL 1259 4147 \r\nz\r\n\" id=\"DejaVuSans-52\" transform=\"scale(0.015625)\"/>\r\n        <path d=\"M 269 3500 \r\nL 844 3500 \r\nL 1563 769 \r\nL 2278 3500 \r\nL 2956 3500 \r\nL 3675 769 \r\nL 4391 3500 \r\nL 4966 3500 \r\nL 4050 0 \r\nL 3372 0 \r\nL 2619 2869 \r\nL 1863 0 \r\nL 1184 0 \r\nL 269 3500 \r\nz\r\n\" id=\"DejaVuSans-77\" transform=\"scale(0.015625)\"/>\r\n       </defs>\r\n       <use xlink:href=\"#DejaVuSans-50\"/>\r\n       <use x=\"56.677734\" xlink:href=\"#DejaVuSans-6f\"/>\r\n       <use x=\"117.859375\" xlink:href=\"#DejaVuSans-74\"/>\r\n       <use x=\"157.068359\" xlink:href=\"#DejaVuSans-61\"/>\r\n       <use x=\"218.347656\" xlink:href=\"#DejaVuSans-74\"/>\r\n       <use x=\"257.556641\" xlink:href=\"#DejaVuSans-6f\"/>\r\n       <use x=\"318.738281\" xlink:href=\"#DejaVuSans-2c\"/>\r\n       <use x=\"350.525391\" xlink:href=\"#DejaVuSans-20\"/>\r\n       <use x=\"382.3125\" xlink:href=\"#DejaVuSans-44\"/>\r\n       <use x=\"459.314453\" xlink:href=\"#DejaVuSans-61\"/>\r\n       <use x=\"520.59375\" xlink:href=\"#DejaVuSans-65\"/>\r\n       <use x=\"582.117188\" xlink:href=\"#DejaVuSans-6a\"/>\r\n       <use x=\"609.900391\" xlink:href=\"#DejaVuSans-69\"/>\r\n       <use x=\"637.683594\" xlink:href=\"#DejaVuSans-2c\"/>\r\n       <use x=\"669.470703\" xlink:href=\"#DejaVuSans-20\"/>\r\n       <use x=\"701.257812\" xlink:href=\"#DejaVuSans-52\"/>\r\n       <use x=\"768.490234\" xlink:href=\"#DejaVuSans-61\"/>\r\n       <use x=\"829.769531\" xlink:href=\"#DejaVuSans-77\"/>\r\n      </g>\r\n     </g>\r\n    </g>\r\n    <g id=\"xtick_2\">\r\n     <g id=\"line2d_2\">\r\n      <g>\r\n       <use style=\"stroke:#000000;stroke-width:0.8;\" x=\"284.3875\" xlink:href=\"#m4a36f8ab4a\" y=\"224.64\"/>\r\n      </g>\r\n     </g>\r\n     <g id=\"text_2\">\r\n      <!-- Egg, Whole, Raw -->\r\n      <g transform=\"translate(287.146875 315.672813)rotate(-90)scale(0.1 -0.1)\">\r\n       <defs>\r\n        <path d=\"M 628 4666 \r\nL 3578 4666 \r\nL 3578 4134 \r\nL 1259 4134 \r\nL 1259 2753 \r\nL 3481 2753 \r\nL 3481 2222 \r\nL 1259 2222 \r\nL 1259 531 \r\nL 3634 531 \r\nL 3634 0 \r\nL 628 0 \r\nL 628 4666 \r\nz\r\n\" id=\"DejaVuSans-45\" transform=\"scale(0.015625)\"/>\r\n        <path d=\"M 2906 1791 \r\nQ 2906 2416 2648 2759 \r\nQ 2391 3103 1925 3103 \r\nQ 1463 3103 1205 2759 \r\nQ 947 2416 947 1791 \r\nQ 947 1169 1205 825 \r\nQ 1463 481 1925 481 \r\nQ 2391 481 2648 825 \r\nQ 2906 1169 2906 1791 \r\nz\r\nM 3481 434 \r\nQ 3481 -459 3084 -895 \r\nQ 2688 -1331 1869 -1331 \r\nQ 1566 -1331 1297 -1286 \r\nQ 1028 -1241 775 -1147 \r\nL 775 -588 \r\nQ 1028 -725 1275 -790 \r\nQ 1522 -856 1778 -856 \r\nQ 2344 -856 2625 -561 \r\nQ 2906 -266 2906 331 \r\nL 2906 616 \r\nQ 2728 306 2450 153 \r\nQ 2172 0 1784 0 \r\nQ 1141 0 747 490 \r\nQ 353 981 353 1791 \r\nQ 353 2603 747 3093 \r\nQ 1141 3584 1784 3584 \r\nQ 2172 3584 2450 3431 \r\nQ 2728 3278 2906 2969 \r\nL 2906 3500 \r\nL 3481 3500 \r\nL 3481 434 \r\nz\r\n\" id=\"DejaVuSans-67\" transform=\"scale(0.015625)\"/>\r\n        <path d=\"M 213 4666 \r\nL 850 4666 \r\nL 1831 722 \r\nL 2809 4666 \r\nL 3519 4666 \r\nL 4500 722 \r\nL 5478 4666 \r\nL 6119 4666 \r\nL 4947 0 \r\nL 4153 0 \r\nL 3169 4050 \r\nL 2175 0 \r\nL 1381 0 \r\nL 213 4666 \r\nz\r\n\" id=\"DejaVuSans-57\" transform=\"scale(0.015625)\"/>\r\n        <path d=\"M 3513 2113 \r\nL 3513 0 \r\nL 2938 0 \r\nL 2938 2094 \r\nQ 2938 2591 2744 2837 \r\nQ 2550 3084 2163 3084 \r\nQ 1697 3084 1428 2787 \r\nQ 1159 2491 1159 1978 \r\nL 1159 0 \r\nL 581 0 \r\nL 581 4863 \r\nL 1159 4863 \r\nL 1159 2956 \r\nQ 1366 3272 1645 3428 \r\nQ 1925 3584 2291 3584 \r\nQ 2894 3584 3203 3211 \r\nQ 3513 2838 3513 2113 \r\nz\r\n\" id=\"DejaVuSans-68\" transform=\"scale(0.015625)\"/>\r\n        <path d=\"M 603 4863 \r\nL 1178 4863 \r\nL 1178 0 \r\nL 603 0 \r\nL 603 4863 \r\nz\r\n\" id=\"DejaVuSans-6c\" transform=\"scale(0.015625)\"/>\r\n       </defs>\r\n       <use xlink:href=\"#DejaVuSans-45\"/>\r\n       <use x=\"63.183594\" xlink:href=\"#DejaVuSans-67\"/>\r\n       <use x=\"126.660156\" xlink:href=\"#DejaVuSans-67\"/>\r\n       <use x=\"190.136719\" xlink:href=\"#DejaVuSans-2c\"/>\r\n       <use x=\"221.923828\" xlink:href=\"#DejaVuSans-20\"/>\r\n       <use x=\"253.710938\" xlink:href=\"#DejaVuSans-57\"/>\r\n       <use x=\"352.587891\" xlink:href=\"#DejaVuSans-68\"/>\r\n       <use x=\"415.966797\" xlink:href=\"#DejaVuSans-6f\"/>\r\n       <use x=\"477.148438\" xlink:href=\"#DejaVuSans-6c\"/>\r\n       <use x=\"504.931641\" xlink:href=\"#DejaVuSans-65\"/>\r\n       <use x=\"566.455078\" xlink:href=\"#DejaVuSans-2c\"/>\r\n       <use x=\"598.242188\" xlink:href=\"#DejaVuSans-20\"/>\r\n       <use x=\"630.029297\" xlink:href=\"#DejaVuSans-52\"/>\r\n       <use x=\"697.261719\" xlink:href=\"#DejaVuSans-61\"/>\r\n       <use x=\"758.541016\" xlink:href=\"#DejaVuSans-77\"/>\r\n      </g>\r\n     </g>\r\n    </g>\r\n   </g>\r\n   <g id=\"matplotlib.axis_2\">\r\n    <g id=\"ytick_1\">\r\n     <g id=\"line2d_3\">\r\n      <defs>\r\n       <path d=\"M 0 0 \r\nL -3.5 0 \r\n\" id=\"macaf5ac496\" style=\"stroke:#000000;stroke-width:0.8;\"/>\r\n      </defs>\r\n      <g>\r\n       <use style=\"stroke:#000000;stroke-width:0.8;\" x=\"33.2875\" xlink:href=\"#macaf5ac496\" y=\"224.64\"/>\r\n      </g>\r\n     </g>\r\n     <g id=\"text_3\">\r\n      <!-- 0 -->\r\n      <g transform=\"translate(19.925 228.439219)scale(0.1 -0.1)\">\r\n       <defs>\r\n        <path d=\"M 2034 4250 \r\nQ 1547 4250 1301 3770 \r\nQ 1056 3291 1056 2328 \r\nQ 1056 1369 1301 889 \r\nQ 1547 409 2034 409 \r\nQ 2525 409 2770 889 \r\nQ 3016 1369 3016 2328 \r\nQ 3016 3291 2770 3770 \r\nQ 2525 4250 2034 4250 \r\nz\r\nM 2034 4750 \r\nQ 2819 4750 3233 4129 \r\nQ 3647 3509 3647 2328 \r\nQ 3647 1150 3233 529 \r\nQ 2819 -91 2034 -91 \r\nQ 1250 -91 836 529 \r\nQ 422 1150 422 2328 \r\nQ 422 3509 836 4129 \r\nQ 1250 4750 2034 4750 \r\nz\r\n\" id=\"DejaVuSans-30\" transform=\"scale(0.015625)\"/>\r\n       </defs>\r\n       <use xlink:href=\"#DejaVuSans-30\"/>\r\n      </g>\r\n     </g>\r\n    </g>\r\n    <g id=\"ytick_2\">\r\n     <g id=\"line2d_4\">\r\n      <g>\r\n       <use style=\"stroke:#000000;stroke-width:0.8;\" x=\"33.2875\" xlink:href=\"#macaf5ac496\" y=\"183.222857\"/>\r\n      </g>\r\n     </g>\r\n     <g id=\"text_4\">\r\n      <!-- 20 -->\r\n      <g transform=\"translate(13.5625 187.022076)scale(0.1 -0.1)\">\r\n       <defs>\r\n        <path d=\"M 1228 531 \r\nL 3431 531 \r\nL 3431 0 \r\nL 469 0 \r\nL 469 531 \r\nQ 828 903 1448 1529 \r\nQ 2069 2156 2228 2338 \r\nQ 2531 2678 2651 2914 \r\nQ 2772 3150 2772 3378 \r\nQ 2772 3750 2511 3984 \r\nQ 2250 4219 1831 4219 \r\nQ 1534 4219 1204 4116 \r\nQ 875 4013 500 3803 \r\nL 500 4441 \r\nQ 881 4594 1212 4672 \r\nQ 1544 4750 1819 4750 \r\nQ 2544 4750 2975 4387 \r\nQ 3406 4025 3406 3419 \r\nQ 3406 3131 3298 2873 \r\nQ 3191 2616 2906 2266 \r\nQ 2828 2175 2409 1742 \r\nQ 1991 1309 1228 531 \r\nz\r\n\" id=\"DejaVuSans-32\" transform=\"scale(0.015625)\"/>\r\n       </defs>\r\n       <use xlink:href=\"#DejaVuSans-32\"/>\r\n       <use x=\"63.623047\" xlink:href=\"#DejaVuSans-30\"/>\r\n      </g>\r\n     </g>\r\n    </g>\r\n    <g id=\"ytick_3\">\r\n     <g id=\"line2d_5\">\r\n      <g>\r\n       <use style=\"stroke:#000000;stroke-width:0.8;\" x=\"33.2875\" xlink:href=\"#macaf5ac496\" y=\"141.805714\"/>\r\n      </g>\r\n     </g>\r\n     <g id=\"text_5\">\r\n      <!-- 40 -->\r\n      <g transform=\"translate(13.5625 145.604933)scale(0.1 -0.1)\">\r\n       <defs>\r\n        <path d=\"M 2419 4116 \r\nL 825 1625 \r\nL 2419 1625 \r\nL 2419 4116 \r\nz\r\nM 2253 4666 \r\nL 3047 4666 \r\nL 3047 1625 \r\nL 3713 1625 \r\nL 3713 1100 \r\nL 3047 1100 \r\nL 3047 0 \r\nL 2419 0 \r\nL 2419 1100 \r\nL 313 1100 \r\nL 313 1709 \r\nL 2253 4666 \r\nz\r\n\" id=\"DejaVuSans-34\" transform=\"scale(0.015625)\"/>\r\n       </defs>\r\n       <use xlink:href=\"#DejaVuSans-34\"/>\r\n       <use x=\"63.623047\" xlink:href=\"#DejaVuSans-30\"/>\r\n      </g>\r\n     </g>\r\n    </g>\r\n    <g id=\"ytick_4\">\r\n     <g id=\"line2d_6\">\r\n      <g>\r\n       <use style=\"stroke:#000000;stroke-width:0.8;\" x=\"33.2875\" xlink:href=\"#macaf5ac496\" y=\"100.388571\"/>\r\n      </g>\r\n     </g>\r\n     <g id=\"text_6\">\r\n      <!-- 60 -->\r\n      <g transform=\"translate(13.5625 104.18779)scale(0.1 -0.1)\">\r\n       <defs>\r\n        <path d=\"M 2113 2584 \r\nQ 1688 2584 1439 2293 \r\nQ 1191 2003 1191 1497 \r\nQ 1191 994 1439 701 \r\nQ 1688 409 2113 409 \r\nQ 2538 409 2786 701 \r\nQ 3034 994 3034 1497 \r\nQ 3034 2003 2786 2293 \r\nQ 2538 2584 2113 2584 \r\nz\r\nM 3366 4563 \r\nL 3366 3988 \r\nQ 3128 4100 2886 4159 \r\nQ 2644 4219 2406 4219 \r\nQ 1781 4219 1451 3797 \r\nQ 1122 3375 1075 2522 \r\nQ 1259 2794 1537 2939 \r\nQ 1816 3084 2150 3084 \r\nQ 2853 3084 3261 2657 \r\nQ 3669 2231 3669 1497 \r\nQ 3669 778 3244 343 \r\nQ 2819 -91 2113 -91 \r\nQ 1303 -91 875 529 \r\nQ 447 1150 447 2328 \r\nQ 447 3434 972 4092 \r\nQ 1497 4750 2381 4750 \r\nQ 2619 4750 2861 4703 \r\nQ 3103 4656 3366 4563 \r\nz\r\n\" id=\"DejaVuSans-36\" transform=\"scale(0.015625)\"/>\r\n       </defs>\r\n       <use xlink:href=\"#DejaVuSans-36\"/>\r\n       <use x=\"63.623047\" xlink:href=\"#DejaVuSans-30\"/>\r\n      </g>\r\n     </g>\r\n    </g>\r\n    <g id=\"ytick_5\">\r\n     <g id=\"line2d_7\">\r\n      <g>\r\n       <use style=\"stroke:#000000;stroke-width:0.8;\" x=\"33.2875\" xlink:href=\"#macaf5ac496\" y=\"58.971429\"/>\r\n      </g>\r\n     </g>\r\n     <g id=\"text_7\">\r\n      <!-- 80 -->\r\n      <g transform=\"translate(13.5625 62.770647)scale(0.1 -0.1)\">\r\n       <defs>\r\n        <path d=\"M 2034 2216 \r\nQ 1584 2216 1326 1975 \r\nQ 1069 1734 1069 1313 \r\nQ 1069 891 1326 650 \r\nQ 1584 409 2034 409 \r\nQ 2484 409 2743 651 \r\nQ 3003 894 3003 1313 \r\nQ 3003 1734 2745 1975 \r\nQ 2488 2216 2034 2216 \r\nz\r\nM 1403 2484 \r\nQ 997 2584 770 2862 \r\nQ 544 3141 544 3541 \r\nQ 544 4100 942 4425 \r\nQ 1341 4750 2034 4750 \r\nQ 2731 4750 3128 4425 \r\nQ 3525 4100 3525 3541 \r\nQ 3525 3141 3298 2862 \r\nQ 3072 2584 2669 2484 \r\nQ 3125 2378 3379 2068 \r\nQ 3634 1759 3634 1313 \r\nQ 3634 634 3220 271 \r\nQ 2806 -91 2034 -91 \r\nQ 1263 -91 848 271 \r\nQ 434 634 434 1313 \r\nQ 434 1759 690 2068 \r\nQ 947 2378 1403 2484 \r\nz\r\nM 1172 3481 \r\nQ 1172 3119 1398 2916 \r\nQ 1625 2713 2034 2713 \r\nQ 2441 2713 2670 2916 \r\nQ 2900 3119 2900 3481 \r\nQ 2900 3844 2670 4047 \r\nQ 2441 4250 2034 4250 \r\nQ 1625 4250 1398 4047 \r\nQ 1172 3844 1172 3481 \r\nz\r\n\" id=\"DejaVuSans-38\" transform=\"scale(0.015625)\"/>\r\n       </defs>\r\n       <use xlink:href=\"#DejaVuSans-38\"/>\r\n       <use x=\"63.623047\" xlink:href=\"#DejaVuSans-30\"/>\r\n      </g>\r\n     </g>\r\n    </g>\r\n    <g id=\"ytick_6\">\r\n     <g id=\"line2d_8\">\r\n      <g>\r\n       <use style=\"stroke:#000000;stroke-width:0.8;\" x=\"33.2875\" xlink:href=\"#macaf5ac496\" y=\"17.554286\"/>\r\n      </g>\r\n     </g>\r\n     <g id=\"text_8\">\r\n      <!-- 100 -->\r\n      <g transform=\"translate(7.2 21.353504)scale(0.1 -0.1)\">\r\n       <defs>\r\n        <path d=\"M 794 531 \r\nL 1825 531 \r\nL 1825 4091 \r\nL 703 3866 \r\nL 703 4441 \r\nL 1819 4666 \r\nL 2450 4666 \r\nL 2450 531 \r\nL 3481 531 \r\nL 3481 0 \r\nL 794 0 \r\nL 794 531 \r\nz\r\n\" id=\"DejaVuSans-31\" transform=\"scale(0.015625)\"/>\r\n       </defs>\r\n       <use xlink:href=\"#DejaVuSans-31\"/>\r\n       <use x=\"63.623047\" xlink:href=\"#DejaVuSans-30\"/>\r\n       <use x=\"127.246094\" xlink:href=\"#DejaVuSans-30\"/>\r\n      </g>\r\n     </g>\r\n    </g>\r\n   </g>\r\n   <g id=\"patch_7\">\r\n    <path d=\"M 33.2875 224.64 \r\nL 33.2875 7.2 \r\n\" style=\"fill:none;stroke:#000000;stroke-linecap:square;stroke-linejoin:miter;stroke-width:0.8;\"/>\r\n   </g>\r\n   <g id=\"patch_8\">\r\n    <path d=\"M 368.0875 224.64 \r\nL 368.0875 7.2 \r\n\" style=\"fill:none;stroke:#000000;stroke-linecap:square;stroke-linejoin:miter;stroke-width:0.8;\"/>\r\n   </g>\r\n   <g id=\"patch_9\">\r\n    <path d=\"M 33.2875 224.64 \r\nL 368.0875 224.64 \r\n\" style=\"fill:none;stroke:#000000;stroke-linecap:square;stroke-linejoin:miter;stroke-width:0.8;\"/>\r\n   </g>\r\n   <g id=\"patch_10\">\r\n    <path d=\"M 33.2875 7.2 \r\nL 368.0875 7.2 \r\n\" style=\"fill:none;stroke:#000000;stroke-linecap:square;stroke-linejoin:miter;stroke-width:0.8;\"/>\r\n   </g>\r\n   <g id=\"legend_1\">\r\n    <g id=\"patch_11\">\r\n     <path d=\"M 161.924219 219.64 \r\nL 239.450781 219.64 \r\nQ 241.450781 219.64 241.450781 217.64 \r\nL 241.450781 189.28375 \r\nQ 241.450781 187.28375 239.450781 187.28375 \r\nL 161.924219 187.28375 \r\nQ 159.924219 187.28375 159.924219 189.28375 \r\nL 159.924219 217.64 \r\nQ 159.924219 219.64 161.924219 219.64 \r\nz\r\n\" style=\"fill:#ffffff;opacity:0.8;stroke:#cccccc;stroke-linejoin:miter;\"/>\r\n    </g>\r\n    <g id=\"patch_12\">\r\n     <path d=\"M 163.924219 198.882188 \r\nL 183.924219 198.882188 \r\nL 183.924219 191.882188 \r\nL 163.924219 191.882188 \r\nz\r\n\" style=\"fill:#1f77b4;\"/>\r\n    </g>\r\n    <g id=\"text_9\">\r\n     <!-- Included -->\r\n     <g transform=\"translate(191.924219 198.882188)scale(0.1 -0.1)\">\r\n      <defs>\r\n       <path d=\"M 628 4666 \r\nL 1259 4666 \r\nL 1259 0 \r\nL 628 0 \r\nL 628 4666 \r\nz\r\n\" id=\"DejaVuSans-49\" transform=\"scale(0.015625)\"/>\r\n       <path d=\"M 3513 2113 \r\nL 3513 0 \r\nL 2938 0 \r\nL 2938 2094 \r\nQ 2938 2591 2744 2837 \r\nQ 2550 3084 2163 3084 \r\nQ 1697 3084 1428 2787 \r\nQ 1159 2491 1159 1978 \r\nL 1159 0 \r\nL 581 0 \r\nL 581 3500 \r\nL 1159 3500 \r\nL 1159 2956 \r\nQ 1366 3272 1645 3428 \r\nQ 1925 3584 2291 3584 \r\nQ 2894 3584 3203 3211 \r\nQ 3513 2838 3513 2113 \r\nz\r\n\" id=\"DejaVuSans-6e\" transform=\"scale(0.015625)\"/>\r\n       <path d=\"M 3122 3366 \r\nL 3122 2828 \r\nQ 2878 2963 2633 3030 \r\nQ 2388 3097 2138 3097 \r\nQ 1578 3097 1268 2742 \r\nQ 959 2388 959 1747 \r\nQ 959 1106 1268 751 \r\nQ 1578 397 2138 397 \r\nQ 2388 397 2633 464 \r\nQ 2878 531 3122 666 \r\nL 3122 134 \r\nQ 2881 22 2623 -34 \r\nQ 2366 -91 2075 -91 \r\nQ 1284 -91 818 406 \r\nQ 353 903 353 1747 \r\nQ 353 2603 823 3093 \r\nQ 1294 3584 2113 3584 \r\nQ 2378 3584 2631 3529 \r\nQ 2884 3475 3122 3366 \r\nz\r\n\" id=\"DejaVuSans-63\" transform=\"scale(0.015625)\"/>\r\n       <path d=\"M 544 1381 \r\nL 544 3500 \r\nL 1119 3500 \r\nL 1119 1403 \r\nQ 1119 906 1312 657 \r\nQ 1506 409 1894 409 \r\nQ 2359 409 2629 706 \r\nQ 2900 1003 2900 1516 \r\nL 2900 3500 \r\nL 3475 3500 \r\nL 3475 0 \r\nL 2900 0 \r\nL 2900 538 \r\nQ 2691 219 2414 64 \r\nQ 2138 -91 1772 -91 \r\nQ 1169 -91 856 284 \r\nQ 544 659 544 1381 \r\nz\r\nM 1991 3584 \r\nL 1991 3584 \r\nz\r\n\" id=\"DejaVuSans-75\" transform=\"scale(0.015625)\"/>\r\n       <path d=\"M 2906 2969 \r\nL 2906 4863 \r\nL 3481 4863 \r\nL 3481 0 \r\nL 2906 0 \r\nL 2906 525 \r\nQ 2725 213 2448 61 \r\nQ 2172 -91 1784 -91 \r\nQ 1150 -91 751 415 \r\nQ 353 922 353 1747 \r\nQ 353 2572 751 3078 \r\nQ 1150 3584 1784 3584 \r\nQ 2172 3584 2448 3432 \r\nQ 2725 3281 2906 2969 \r\nz\r\nM 947 1747 \r\nQ 947 1113 1208 752 \r\nQ 1469 391 1925 391 \r\nQ 2381 391 2643 752 \r\nQ 2906 1113 2906 1747 \r\nQ 2906 2381 2643 2742 \r\nQ 2381 3103 1925 3103 \r\nQ 1469 3103 1208 2742 \r\nQ 947 2381 947 1747 \r\nz\r\n\" id=\"DejaVuSans-64\" transform=\"scale(0.015625)\"/>\r\n      </defs>\r\n      <use xlink:href=\"#DejaVuSans-49\"/>\r\n      <use x=\"29.492188\" xlink:href=\"#DejaVuSans-6e\"/>\r\n      <use x=\"92.871094\" xlink:href=\"#DejaVuSans-63\"/>\r\n      <use x=\"147.851562\" xlink:href=\"#DejaVuSans-6c\"/>\r\n      <use x=\"175.634766\" xlink:href=\"#DejaVuSans-75\"/>\r\n      <use x=\"239.013672\" xlink:href=\"#DejaVuSans-64\"/>\r\n      <use x=\"302.490234\" xlink:href=\"#DejaVuSans-65\"/>\r\n      <use x=\"364.013672\" xlink:href=\"#DejaVuSans-64\"/>\r\n     </g>\r\n    </g>\r\n    <g id=\"patch_13\">\r\n     <path d=\"M 163.924219 213.560313 \r\nL 183.924219 213.560313 \r\nL 183.924219 206.560313 \r\nL 163.924219 206.560313 \r\nz\r\n\" style=\"fill:#ff7f0e;\"/>\r\n    </g>\r\n    <g id=\"text_10\">\r\n     <!-- Excluded -->\r\n     <g transform=\"translate(191.924219 213.560313)scale(0.1 -0.1)\">\r\n      <defs>\r\n       <path d=\"M 3513 3500 \r\nL 2247 1797 \r\nL 3578 0 \r\nL 2900 0 \r\nL 1881 1375 \r\nL 863 0 \r\nL 184 0 \r\nL 1544 1831 \r\nL 300 3500 \r\nL 978 3500 \r\nL 1906 2253 \r\nL 2834 3500 \r\nL 3513 3500 \r\nz\r\n\" id=\"DejaVuSans-78\" transform=\"scale(0.015625)\"/>\r\n      </defs>\r\n      <use xlink:href=\"#DejaVuSans-45\"/>\r\n      <use x=\"63.183594\" xlink:href=\"#DejaVuSans-78\"/>\r\n      <use x=\"120.613281\" xlink:href=\"#DejaVuSans-63\"/>\r\n      <use x=\"175.59375\" xlink:href=\"#DejaVuSans-6c\"/>\r\n      <use x=\"203.376953\" xlink:href=\"#DejaVuSans-75\"/>\r\n      <use x=\"266.755859\" xlink:href=\"#DejaVuSans-64\"/>\r\n      <use x=\"330.232422\" xlink:href=\"#DejaVuSans-65\"/>\r\n      <use x=\"391.755859\" xlink:href=\"#DejaVuSans-64\"/>\r\n     </g>\r\n    </g>\r\n   </g>\r\n  </g>\r\n </g>\r\n <defs>\r\n  <clipPath id=\"pf3642401f3\">\r\n   <rect height=\"217.44\" width=\"334.8\" x=\"33.2875\" y=\"7.2\"/>\r\n  </clipPath>\r\n </defs>\r\n</svg>\r\n",
      "text/plain": [
       "<Figure size 432x288 with 1 Axes>"
      ]
     },
     "metadata": {
      "needs_background": "light"
     }
    }
   ],
   "metadata": {}
  },
  {
   "cell_type": "code",
   "execution_count": 38,
   "source": [
    "bar_menu_test_nutrition(diet = sample_diets, criterias = sample_criteria[:5], fig_path = 'bar_menu_test_nutrition.png')"
   ],
   "outputs": [
    {
     "output_type": "display_data",
     "data": {
      "image/png": "[encoded data removed]",
      "image/svg+xml": "<?xml version=\"1.0\" encoding=\"utf-8\" standalone=\"no\"?>\r\n<!DOCTYPE svg PUBLIC \"-//W3C//DTD SVG 1.1//EN\"\r\n  \"http://www.w3.org/Graphics/SVG/1.1/DTD/svg11.dtd\">\r\n<svg height=\"341.105625pt\" version=\"1.1\" viewBox=\"0 0 375.2875 341.105625\" width=\"375.2875pt\" xmlns=\"http://www.w3.org/2000/svg\" xmlns:xlink=\"http://www.w3.org/1999/xlink\">\r\n <metadata>\r\n  <rdf:RDF xmlns:cc=\"http://creativecommons.org/ns#\" xmlns:dc=\"http://purl.org/dc/elements/1.1/\" xmlns:rdf=\"http://www.w3.org/1999/02/22-rdf-syntax-ns#\">\r\n   <cc:Work>\r\n    <dc:type rdf:resource=\"http://purl.org/dc/dcmitype/StillImage\"/>\r\n    <dc:date>2021-09-02T15:23:52.363111</dc:date>\r\n    <dc:format>image/svg+xml</dc:format>\r\n    <dc:creator>\r\n     <cc:Agent>\r\n      <dc:title>Matplotlib v3.4.2, https://matplotlib.org/</dc:title>\r\n     </cc:Agent>\r\n    </dc:creator>\r\n   </cc:Work>\r\n  </rdf:RDF>\r\n </metadata>\r\n <defs>\r\n  <style type=\"text/css\">*{stroke-linecap:butt;stroke-linejoin:round;}</style>\r\n </defs>\r\n <g id=\"figure_1\">\r\n  <g id=\"patch_1\">\r\n   <path d=\"M 0 341.105625 \r\nL 375.2875 341.105625 \r\nL 375.2875 0 \r\nL 0 0 \r\nz\r\n\" style=\"fill:none;\"/>\r\n  </g>\r\n  <g id=\"axes_1\">\r\n   <g id=\"patch_2\">\r\n    <path d=\"M 33.2875 224.64 \r\nL 368.0875 224.64 \r\nL 368.0875 7.2 \r\nL 33.2875 7.2 \r\nz\r\n\" style=\"fill:#ffffff;\"/>\r\n   </g>\r\n   <g id=\"patch_3\">\r\n    <path clip-path=\"url(#pd732178c50)\" d=\"M 50.0275 224.64 \r\nL 83.5075 224.64 \r\nL 83.5075 69.325714 \r\nL 50.0275 69.325714 \r\nz\r\n\" style=\"fill:#1f77b4;\"/>\r\n   </g>\r\n   <g id=\"patch_4\">\r\n    <path clip-path=\"url(#pd732178c50)\" d=\"M 116.9875 224.64 \r\nL 150.4675 224.64 \r\nL 150.4675 27.908571 \r\nL 116.9875 27.908571 \r\nz\r\n\" style=\"fill:#1f77b4;\"/>\r\n   </g>\r\n   <g id=\"patch_5\">\r\n    <path clip-path=\"url(#pd732178c50)\" d=\"M 183.9475 224.64 \r\nL 217.4275 224.64 \r\nL 217.4275 17.554286 \r\nL 183.9475 17.554286 \r\nz\r\n\" style=\"fill:#1f77b4;\"/>\r\n   </g>\r\n   <g id=\"patch_6\">\r\n    <path clip-path=\"url(#pd732178c50)\" d=\"M 250.9075 224.64 \r\nL 284.3875 224.64 \r\nL 284.3875 56.900571 \r\nL 250.9075 56.900571 \r\nz\r\n\" style=\"fill:#1f77b4;\"/>\r\n   </g>\r\n   <g id=\"patch_7\">\r\n    <path clip-path=\"url(#pd732178c50)\" d=\"M 317.8675 224.64 \r\nL 351.3475 224.64 \r\nL 351.3475 21.696 \r\nL 317.8675 21.696 \r\nz\r\n\" style=\"fill:#1f77b4;\"/>\r\n   </g>\r\n   <g id=\"patch_8\">\r\n    <path clip-path=\"url(#pd732178c50)\" d=\"M 50.0275 69.325714 \r\nL 83.5075 69.325714 \r\nL 83.5075 17.554286 \r\nL 50.0275 17.554286 \r\nz\r\n\" style=\"fill:#ff7f0e;\"/>\r\n   </g>\r\n   <g id=\"patch_9\">\r\n    <path clip-path=\"url(#pd732178c50)\" d=\"M 116.9875 27.908571 \r\nL 150.4675 27.908571 \r\nL 150.4675 17.554286 \r\nL 116.9875 17.554286 \r\nz\r\n\" style=\"fill:#ff7f0e;\"/>\r\n   </g>\r\n   <g id=\"patch_10\">\r\n    <path clip-path=\"url(#pd732178c50)\" d=\"M 183.9475 224.64 \r\nL 217.4275 224.64 \r\nL 217.4275 224.64 \r\nL 183.9475 224.64 \r\nz\r\n\" style=\"fill:#ff7f0e;\"/>\r\n   </g>\r\n   <g id=\"patch_11\">\r\n    <path clip-path=\"url(#pd732178c50)\" d=\"M 250.9075 56.900571 \r\nL 284.3875 56.900571 \r\nL 284.3875 17.554286 \r\nL 250.9075 17.554286 \r\nz\r\n\" style=\"fill:#ff7f0e;\"/>\r\n   </g>\r\n   <g id=\"patch_12\">\r\n    <path clip-path=\"url(#pd732178c50)\" d=\"M 317.8675 21.696 \r\nL 351.3475 21.696 \r\nL 351.3475 17.554286 \r\nL 317.8675 17.554286 \r\nz\r\n\" style=\"fill:#ff7f0e;\"/>\r\n   </g>\r\n   <g id=\"matplotlib.axis_1\">\r\n    <g id=\"xtick_1\">\r\n     <g id=\"line2d_1\">\r\n      <defs>\r\n       <path d=\"M 0 0 \r\nL 0 3.5 \r\n\" id=\"m97541e20b3\" style=\"stroke:#000000;stroke-width:0.8;\"/>\r\n      </defs>\r\n      <g>\r\n       <use style=\"stroke:#000000;stroke-width:0.8;\" x=\"66.7675\" xlink:href=\"#m97541e20b3\" y=\"224.64\"/>\r\n      </g>\r\n     </g>\r\n     <g id=\"text_1\">\r\n      <!-- Energy&gt;=1260.0 -->\r\n      <g transform=\"translate(69.526875 318.4025)rotate(-90)scale(0.1 -0.1)\">\r\n       <defs>\r\n        <path d=\"M 628 4666 \r\nL 3578 4666 \r\nL 3578 4134 \r\nL 1259 4134 \r\nL 1259 2753 \r\nL 3481 2753 \r\nL 3481 2222 \r\nL 1259 2222 \r\nL 1259 531 \r\nL 3634 531 \r\nL 3634 0 \r\nL 628 0 \r\nL 628 4666 \r\nz\r\n\" id=\"DejaVuSans-45\" transform=\"scale(0.015625)\"/>\r\n        <path d=\"M 3513 2113 \r\nL 3513 0 \r\nL 2938 0 \r\nL 2938 2094 \r\nQ 2938 2591 2744 2837 \r\nQ 2550 3084 2163 3084 \r\nQ 1697 3084 1428 2787 \r\nQ 1159 2491 1159 1978 \r\nL 1159 0 \r\nL 581 0 \r\nL 581 3500 \r\nL 1159 3500 \r\nL 1159 2956 \r\nQ 1366 3272 1645 3428 \r\nQ 1925 3584 2291 3584 \r\nQ 2894 3584 3203 3211 \r\nQ 3513 2838 3513 2113 \r\nz\r\n\" id=\"DejaVuSans-6e\" transform=\"scale(0.015625)\"/>\r\n        <path d=\"M 3597 1894 \r\nL 3597 1613 \r\nL 953 1613 \r\nQ 991 1019 1311 708 \r\nQ 1631 397 2203 397 \r\nQ 2534 397 2845 478 \r\nQ 3156 559 3463 722 \r\nL 3463 178 \r\nQ 3153 47 2828 -22 \r\nQ 2503 -91 2169 -91 \r\nQ 1331 -91 842 396 \r\nQ 353 884 353 1716 \r\nQ 353 2575 817 3079 \r\nQ 1281 3584 2069 3584 \r\nQ 2775 3584 3186 3129 \r\nQ 3597 2675 3597 1894 \r\nz\r\nM 3022 2063 \r\nQ 3016 2534 2758 2815 \r\nQ 2500 3097 2075 3097 \r\nQ 1594 3097 1305 2825 \r\nQ 1016 2553 972 2059 \r\nL 3022 2063 \r\nz\r\n\" id=\"DejaVuSans-65\" transform=\"scale(0.015625)\"/>\r\n        <path d=\"M 2631 2963 \r\nQ 2534 3019 2420 3045 \r\nQ 2306 3072 2169 3072 \r\nQ 1681 3072 1420 2755 \r\nQ 1159 2438 1159 1844 \r\nL 1159 0 \r\nL 581 0 \r\nL 581 3500 \r\nL 1159 3500 \r\nL 1159 2956 \r\nQ 1341 3275 1631 3429 \r\nQ 1922 3584 2338 3584 \r\nQ 2397 3584 2469 3576 \r\nQ 2541 3569 2628 3553 \r\nL 2631 2963 \r\nz\r\n\" id=\"DejaVuSans-72\" transform=\"scale(0.015625)\"/>\r\n        <path d=\"M 2906 1791 \r\nQ 2906 2416 2648 2759 \r\nQ 2391 3103 1925 3103 \r\nQ 1463 3103 1205 2759 \r\nQ 947 2416 947 1791 \r\nQ 947 1169 1205 825 \r\nQ 1463 481 1925 481 \r\nQ 2391 481 2648 825 \r\nQ 2906 1169 2906 1791 \r\nz\r\nM 3481 434 \r\nQ 3481 -459 3084 -895 \r\nQ 2688 -1331 1869 -1331 \r\nQ 1566 -1331 1297 -1286 \r\nQ 1028 -1241 775 -1147 \r\nL 775 -588 \r\nQ 1028 -725 1275 -790 \r\nQ 1522 -856 1778 -856 \r\nQ 2344 -856 2625 -561 \r\nQ 2906 -266 2906 331 \r\nL 2906 616 \r\nQ 2728 306 2450 153 \r\nQ 2172 0 1784 0 \r\nQ 1141 0 747 490 \r\nQ 353 981 353 1791 \r\nQ 353 2603 747 3093 \r\nQ 1141 3584 1784 3584 \r\nQ 2172 3584 2450 3431 \r\nQ 2728 3278 2906 2969 \r\nL 2906 3500 \r\nL 3481 3500 \r\nL 3481 434 \r\nz\r\n\" id=\"DejaVuSans-67\" transform=\"scale(0.015625)\"/>\r\n        <path d=\"M 2059 -325 \r\nQ 1816 -950 1584 -1140 \r\nQ 1353 -1331 966 -1331 \r\nL 506 -1331 \r\nL 506 -850 \r\nL 844 -850 \r\nQ 1081 -850 1212 -737 \r\nQ 1344 -625 1503 -206 \r\nL 1606 56 \r\nL 191 3500 \r\nL 800 3500 \r\nL 1894 763 \r\nL 2988 3500 \r\nL 3597 3500 \r\nL 2059 -325 \r\nz\r\n\" id=\"DejaVuSans-79\" transform=\"scale(0.015625)\"/>\r\n        <path d=\"M 678 3150 \r\nL 678 3719 \r\nL 4684 2266 \r\nL 4684 1747 \r\nL 678 294 \r\nL 678 863 \r\nL 3897 2003 \r\nL 678 3150 \r\nz\r\n\" id=\"DejaVuSans-3e\" transform=\"scale(0.015625)\"/>\r\n        <path d=\"M 678 2906 \r\nL 4684 2906 \r\nL 4684 2381 \r\nL 678 2381 \r\nL 678 2906 \r\nz\r\nM 678 1631 \r\nL 4684 1631 \r\nL 4684 1100 \r\nL 678 1100 \r\nL 678 1631 \r\nz\r\n\" id=\"DejaVuSans-3d\" transform=\"scale(0.015625)\"/>\r\n        <path d=\"M 794 531 \r\nL 1825 531 \r\nL 1825 4091 \r\nL 703 3866 \r\nL 703 4441 \r\nL 1819 4666 \r\nL 2450 4666 \r\nL 2450 531 \r\nL 3481 531 \r\nL 3481 0 \r\nL 794 0 \r\nL 794 531 \r\nz\r\n\" id=\"DejaVuSans-31\" transform=\"scale(0.015625)\"/>\r\n        <path d=\"M 1228 531 \r\nL 3431 531 \r\nL 3431 0 \r\nL 469 0 \r\nL 469 531 \r\nQ 828 903 1448 1529 \r\nQ 2069 2156 2228 2338 \r\nQ 2531 2678 2651 2914 \r\nQ 2772 3150 2772 3378 \r\nQ 2772 3750 2511 3984 \r\nQ 2250 4219 1831 4219 \r\nQ 1534 4219 1204 4116 \r\nQ 875 4013 500 3803 \r\nL 500 4441 \r\nQ 881 4594 1212 4672 \r\nQ 1544 4750 1819 4750 \r\nQ 2544 4750 2975 4387 \r\nQ 3406 4025 3406 3419 \r\nQ 3406 3131 3298 2873 \r\nQ 3191 2616 2906 2266 \r\nQ 2828 2175 2409 1742 \r\nQ 1991 1309 1228 531 \r\nz\r\n\" id=\"DejaVuSans-32\" transform=\"scale(0.015625)\"/>\r\n        <path d=\"M 2113 2584 \r\nQ 1688 2584 1439 2293 \r\nQ 1191 2003 1191 1497 \r\nQ 1191 994 1439 701 \r\nQ 1688 409 2113 409 \r\nQ 2538 409 2786 701 \r\nQ 3034 994 3034 1497 \r\nQ 3034 2003 2786 2293 \r\nQ 2538 2584 2113 2584 \r\nz\r\nM 3366 4563 \r\nL 3366 3988 \r\nQ 3128 4100 2886 4159 \r\nQ 2644 4219 2406 4219 \r\nQ 1781 4219 1451 3797 \r\nQ 1122 3375 1075 2522 \r\nQ 1259 2794 1537 2939 \r\nQ 1816 3084 2150 3084 \r\nQ 2853 3084 3261 2657 \r\nQ 3669 2231 3669 1497 \r\nQ 3669 778 3244 343 \r\nQ 2819 -91 2113 -91 \r\nQ 1303 -91 875 529 \r\nQ 447 1150 447 2328 \r\nQ 447 3434 972 4092 \r\nQ 1497 4750 2381 4750 \r\nQ 2619 4750 2861 4703 \r\nQ 3103 4656 3366 4563 \r\nz\r\n\" id=\"DejaVuSans-36\" transform=\"scale(0.015625)\"/>\r\n        <path d=\"M 2034 4250 \r\nQ 1547 4250 1301 3770 \r\nQ 1056 3291 1056 2328 \r\nQ 1056 1369 1301 889 \r\nQ 1547 409 2034 409 \r\nQ 2525 409 2770 889 \r\nQ 3016 1369 3016 2328 \r\nQ 3016 3291 2770 3770 \r\nQ 2525 4250 2034 4250 \r\nz\r\nM 2034 4750 \r\nQ 2819 4750 3233 4129 \r\nQ 3647 3509 3647 2328 \r\nQ 3647 1150 3233 529 \r\nQ 2819 -91 2034 -91 \r\nQ 1250 -91 836 529 \r\nQ 422 1150 422 2328 \r\nQ 422 3509 836 4129 \r\nQ 1250 4750 2034 4750 \r\nz\r\n\" id=\"DejaVuSans-30\" transform=\"scale(0.015625)\"/>\r\n        <path d=\"M 684 794 \r\nL 1344 794 \r\nL 1344 0 \r\nL 684 0 \r\nL 684 794 \r\nz\r\n\" id=\"DejaVuSans-2e\" transform=\"scale(0.015625)\"/>\r\n       </defs>\r\n       <use xlink:href=\"#DejaVuSans-45\"/>\r\n       <use x=\"63.183594\" xlink:href=\"#DejaVuSans-6e\"/>\r\n       <use x=\"126.5625\" xlink:href=\"#DejaVuSans-65\"/>\r\n       <use x=\"188.085938\" xlink:href=\"#DejaVuSans-72\"/>\r\n       <use x=\"227.449219\" xlink:href=\"#DejaVuSans-67\"/>\r\n       <use x=\"290.925781\" xlink:href=\"#DejaVuSans-79\"/>\r\n       <use x=\"350.105469\" xlink:href=\"#DejaVuSans-3e\"/>\r\n       <use x=\"433.894531\" xlink:href=\"#DejaVuSans-3d\"/>\r\n       <use x=\"517.683594\" xlink:href=\"#DejaVuSans-31\"/>\r\n       <use x=\"581.306641\" xlink:href=\"#DejaVuSans-32\"/>\r\n       <use x=\"644.929688\" xlink:href=\"#DejaVuSans-36\"/>\r\n       <use x=\"708.552734\" xlink:href=\"#DejaVuSans-30\"/>\r\n       <use x=\"772.175781\" xlink:href=\"#DejaVuSans-2e\"/>\r\n       <use x=\"803.962891\" xlink:href=\"#DejaVuSans-30\"/>\r\n      </g>\r\n     </g>\r\n    </g>\r\n    <g id=\"xtick_2\">\r\n     <g id=\"line2d_2\">\r\n      <g>\r\n       <use style=\"stroke:#000000;stroke-width:0.8;\" x=\"133.7275\" xlink:href=\"#m97541e20b3\" y=\"224.64\"/>\r\n      </g>\r\n     </g>\r\n     <g id=\"text_2\">\r\n      <!-- Energy&lt;=1540.0 -->\r\n      <g transform=\"translate(136.486875 318.4025)rotate(-90)scale(0.1 -0.1)\">\r\n       <defs>\r\n        <path d=\"M 4684 3150 \r\nL 1459 2003 \r\nL 4684 863 \r\nL 4684 294 \r\nL 678 1747 \r\nL 678 2266 \r\nL 4684 3719 \r\nL 4684 3150 \r\nz\r\n\" id=\"DejaVuSans-3c\" transform=\"scale(0.015625)\"/>\r\n        <path d=\"M 691 4666 \r\nL 3169 4666 \r\nL 3169 4134 \r\nL 1269 4134 \r\nL 1269 2991 \r\nQ 1406 3038 1543 3061 \r\nQ 1681 3084 1819 3084 \r\nQ 2600 3084 3056 2656 \r\nQ 3513 2228 3513 1497 \r\nQ 3513 744 3044 326 \r\nQ 2575 -91 1722 -91 \r\nQ 1428 -91 1123 -41 \r\nQ 819 9 494 109 \r\nL 494 744 \r\nQ 775 591 1075 516 \r\nQ 1375 441 1709 441 \r\nQ 2250 441 2565 725 \r\nQ 2881 1009 2881 1497 \r\nQ 2881 1984 2565 2268 \r\nQ 2250 2553 1709 2553 \r\nQ 1456 2553 1204 2497 \r\nQ 953 2441 691 2322 \r\nL 691 4666 \r\nz\r\n\" id=\"DejaVuSans-35\" transform=\"scale(0.015625)\"/>\r\n        <path d=\"M 2419 4116 \r\nL 825 1625 \r\nL 2419 1625 \r\nL 2419 4116 \r\nz\r\nM 2253 4666 \r\nL 3047 4666 \r\nL 3047 1625 \r\nL 3713 1625 \r\nL 3713 1100 \r\nL 3047 1100 \r\nL 3047 0 \r\nL 2419 0 \r\nL 2419 1100 \r\nL 313 1100 \r\nL 313 1709 \r\nL 2253 4666 \r\nz\r\n\" id=\"DejaVuSans-34\" transform=\"scale(0.015625)\"/>\r\n       </defs>\r\n       <use xlink:href=\"#DejaVuSans-45\"/>\r\n       <use x=\"63.183594\" xlink:href=\"#DejaVuSans-6e\"/>\r\n       <use x=\"126.5625\" xlink:href=\"#DejaVuSans-65\"/>\r\n       <use x=\"188.085938\" xlink:href=\"#DejaVuSans-72\"/>\r\n       <use x=\"227.449219\" xlink:href=\"#DejaVuSans-67\"/>\r\n       <use x=\"290.925781\" xlink:href=\"#DejaVuSans-79\"/>\r\n       <use x=\"350.105469\" xlink:href=\"#DejaVuSans-3c\"/>\r\n       <use x=\"433.894531\" xlink:href=\"#DejaVuSans-3d\"/>\r\n       <use x=\"517.683594\" xlink:href=\"#DejaVuSans-31\"/>\r\n       <use x=\"581.306641\" xlink:href=\"#DejaVuSans-35\"/>\r\n       <use x=\"644.929688\" xlink:href=\"#DejaVuSans-34\"/>\r\n       <use x=\"708.552734\" xlink:href=\"#DejaVuSans-30\"/>\r\n       <use x=\"772.175781\" xlink:href=\"#DejaVuSans-2e\"/>\r\n       <use x=\"803.962891\" xlink:href=\"#DejaVuSans-30\"/>\r\n      </g>\r\n     </g>\r\n    </g>\r\n    <g id=\"xtick_3\">\r\n     <g id=\"line2d_3\">\r\n      <g>\r\n       <use style=\"stroke:#000000;stroke-width:0.8;\" x=\"200.6875\" xlink:href=\"#m97541e20b3\" y=\"224.64\"/>\r\n      </g>\r\n     </g>\r\n     <g id=\"text_3\">\r\n      <!-- Protein&gt;=20.0 -->\r\n      <g transform=\"translate(203.446875 305.713438)rotate(-90)scale(0.1 -0.1)\">\r\n       <defs>\r\n        <path d=\"M 1259 4147 \r\nL 1259 2394 \r\nL 2053 2394 \r\nQ 2494 2394 2734 2622 \r\nQ 2975 2850 2975 3272 \r\nQ 2975 3691 2734 3919 \r\nQ 2494 4147 2053 4147 \r\nL 1259 4147 \r\nz\r\nM 628 4666 \r\nL 2053 4666 \r\nQ 2838 4666 3239 4311 \r\nQ 3641 3956 3641 3272 \r\nQ 3641 2581 3239 2228 \r\nQ 2838 1875 2053 1875 \r\nL 1259 1875 \r\nL 1259 0 \r\nL 628 0 \r\nL 628 4666 \r\nz\r\n\" id=\"DejaVuSans-50\" transform=\"scale(0.015625)\"/>\r\n        <path d=\"M 1959 3097 \r\nQ 1497 3097 1228 2736 \r\nQ 959 2375 959 1747 \r\nQ 959 1119 1226 758 \r\nQ 1494 397 1959 397 \r\nQ 2419 397 2687 759 \r\nQ 2956 1122 2956 1747 \r\nQ 2956 2369 2687 2733 \r\nQ 2419 3097 1959 3097 \r\nz\r\nM 1959 3584 \r\nQ 2709 3584 3137 3096 \r\nQ 3566 2609 3566 1747 \r\nQ 3566 888 3137 398 \r\nQ 2709 -91 1959 -91 \r\nQ 1206 -91 779 398 \r\nQ 353 888 353 1747 \r\nQ 353 2609 779 3096 \r\nQ 1206 3584 1959 3584 \r\nz\r\n\" id=\"DejaVuSans-6f\" transform=\"scale(0.015625)\"/>\r\n        <path d=\"M 1172 4494 \r\nL 1172 3500 \r\nL 2356 3500 \r\nL 2356 3053 \r\nL 1172 3053 \r\nL 1172 1153 \r\nQ 1172 725 1289 603 \r\nQ 1406 481 1766 481 \r\nL 2356 481 \r\nL 2356 0 \r\nL 1766 0 \r\nQ 1100 0 847 248 \r\nQ 594 497 594 1153 \r\nL 594 3053 \r\nL 172 3053 \r\nL 172 3500 \r\nL 594 3500 \r\nL 594 4494 \r\nL 1172 4494 \r\nz\r\n\" id=\"DejaVuSans-74\" transform=\"scale(0.015625)\"/>\r\n        <path d=\"M 603 3500 \r\nL 1178 3500 \r\nL 1178 0 \r\nL 603 0 \r\nL 603 3500 \r\nz\r\nM 603 4863 \r\nL 1178 4863 \r\nL 1178 4134 \r\nL 603 4134 \r\nL 603 4863 \r\nz\r\n\" id=\"DejaVuSans-69\" transform=\"scale(0.015625)\"/>\r\n       </defs>\r\n       <use xlink:href=\"#DejaVuSans-50\"/>\r\n       <use x=\"58.552734\" xlink:href=\"#DejaVuSans-72\"/>\r\n       <use x=\"97.416016\" xlink:href=\"#DejaVuSans-6f\"/>\r\n       <use x=\"158.597656\" xlink:href=\"#DejaVuSans-74\"/>\r\n       <use x=\"197.806641\" xlink:href=\"#DejaVuSans-65\"/>\r\n       <use x=\"259.330078\" xlink:href=\"#DejaVuSans-69\"/>\r\n       <use x=\"287.113281\" xlink:href=\"#DejaVuSans-6e\"/>\r\n       <use x=\"350.492188\" xlink:href=\"#DejaVuSans-3e\"/>\r\n       <use x=\"434.28125\" xlink:href=\"#DejaVuSans-3d\"/>\r\n       <use x=\"518.070312\" xlink:href=\"#DejaVuSans-32\"/>\r\n       <use x=\"581.693359\" xlink:href=\"#DejaVuSans-30\"/>\r\n       <use x=\"645.316406\" xlink:href=\"#DejaVuSans-2e\"/>\r\n       <use x=\"677.103516\" xlink:href=\"#DejaVuSans-30\"/>\r\n      </g>\r\n     </g>\r\n    </g>\r\n    <g id=\"xtick_4\">\r\n     <g id=\"line2d_4\">\r\n      <g>\r\n       <use style=\"stroke:#000000;stroke-width:0.8;\" x=\"267.6475\" xlink:href=\"#m97541e20b3\" y=\"224.64\"/>\r\n      </g>\r\n     </g>\r\n     <g id=\"text_4\">\r\n      <!-- Total Dietary&gt;=11.0 -->\r\n      <g transform=\"translate(270.406875 333.905625)rotate(-90)scale(0.1 -0.1)\">\r\n       <defs>\r\n        <path d=\"M -19 4666 \r\nL 3928 4666 \r\nL 3928 4134 \r\nL 2272 4134 \r\nL 2272 0 \r\nL 1638 0 \r\nL 1638 4134 \r\nL -19 4134 \r\nL -19 4666 \r\nz\r\n\" id=\"DejaVuSans-54\" transform=\"scale(0.015625)\"/>\r\n        <path d=\"M 2194 1759 \r\nQ 1497 1759 1228 1600 \r\nQ 959 1441 959 1056 \r\nQ 959 750 1161 570 \r\nQ 1363 391 1709 391 \r\nQ 2188 391 2477 730 \r\nQ 2766 1069 2766 1631 \r\nL 2766 1759 \r\nL 2194 1759 \r\nz\r\nM 3341 1997 \r\nL 3341 0 \r\nL 2766 0 \r\nL 2766 531 \r\nQ 2569 213 2275 61 \r\nQ 1981 -91 1556 -91 \r\nQ 1019 -91 701 211 \r\nQ 384 513 384 1019 \r\nQ 384 1609 779 1909 \r\nQ 1175 2209 1959 2209 \r\nL 2766 2209 \r\nL 2766 2266 \r\nQ 2766 2663 2505 2880 \r\nQ 2244 3097 1772 3097 \r\nQ 1472 3097 1187 3025 \r\nQ 903 2953 641 2809 \r\nL 641 3341 \r\nQ 956 3463 1253 3523 \r\nQ 1550 3584 1831 3584 \r\nQ 2591 3584 2966 3190 \r\nQ 3341 2797 3341 1997 \r\nz\r\n\" id=\"DejaVuSans-61\" transform=\"scale(0.015625)\"/>\r\n        <path d=\"M 603 4863 \r\nL 1178 4863 \r\nL 1178 0 \r\nL 603 0 \r\nL 603 4863 \r\nz\r\n\" id=\"DejaVuSans-6c\" transform=\"scale(0.015625)\"/>\r\n        <path id=\"DejaVuSans-20\" transform=\"scale(0.015625)\"/>\r\n        <path d=\"M 1259 4147 \r\nL 1259 519 \r\nL 2022 519 \r\nQ 2988 519 3436 956 \r\nQ 3884 1394 3884 2338 \r\nQ 3884 3275 3436 3711 \r\nQ 2988 4147 2022 4147 \r\nL 1259 4147 \r\nz\r\nM 628 4666 \r\nL 1925 4666 \r\nQ 3281 4666 3915 4102 \r\nQ 4550 3538 4550 2338 \r\nQ 4550 1131 3912 565 \r\nQ 3275 0 1925 0 \r\nL 628 0 \r\nL 628 4666 \r\nz\r\n\" id=\"DejaVuSans-44\" transform=\"scale(0.015625)\"/>\r\n       </defs>\r\n       <use xlink:href=\"#DejaVuSans-54\"/>\r\n       <use x=\"44.083984\" xlink:href=\"#DejaVuSans-6f\"/>\r\n       <use x=\"105.265625\" xlink:href=\"#DejaVuSans-74\"/>\r\n       <use x=\"144.474609\" xlink:href=\"#DejaVuSans-61\"/>\r\n       <use x=\"205.753906\" xlink:href=\"#DejaVuSans-6c\"/>\r\n       <use x=\"233.537109\" xlink:href=\"#DejaVuSans-20\"/>\r\n       <use x=\"265.324219\" xlink:href=\"#DejaVuSans-44\"/>\r\n       <use x=\"342.326172\" xlink:href=\"#DejaVuSans-69\"/>\r\n       <use x=\"370.109375\" xlink:href=\"#DejaVuSans-65\"/>\r\n       <use x=\"431.632812\" xlink:href=\"#DejaVuSans-74\"/>\r\n       <use x=\"470.841797\" xlink:href=\"#DejaVuSans-61\"/>\r\n       <use x=\"532.121094\" xlink:href=\"#DejaVuSans-72\"/>\r\n       <use x=\"573.234375\" xlink:href=\"#DejaVuSans-79\"/>\r\n       <use x=\"632.414062\" xlink:href=\"#DejaVuSans-3e\"/>\r\n       <use x=\"716.203125\" xlink:href=\"#DejaVuSans-3d\"/>\r\n       <use x=\"799.992188\" xlink:href=\"#DejaVuSans-31\"/>\r\n       <use x=\"863.615234\" xlink:href=\"#DejaVuSans-31\"/>\r\n       <use x=\"927.238281\" xlink:href=\"#DejaVuSans-2e\"/>\r\n       <use x=\"959.025391\" xlink:href=\"#DejaVuSans-30\"/>\r\n      </g>\r\n     </g>\r\n    </g>\r\n    <g id=\"xtick_5\">\r\n     <g id=\"line2d_5\">\r\n      <g>\r\n       <use style=\"stroke:#000000;stroke-width:0.8;\" x=\"334.6075\" xlink:href=\"#m97541e20b3\" y=\"224.64\"/>\r\n      </g>\r\n     </g>\r\n     <g id=\"text_5\">\r\n      <!-- Total Dietary&lt;=20.0 -->\r\n      <g transform=\"translate(337.366875 333.905625)rotate(-90)scale(0.1 -0.1)\">\r\n       <use xlink:href=\"#DejaVuSans-54\"/>\r\n       <use x=\"44.083984\" xlink:href=\"#DejaVuSans-6f\"/>\r\n       <use x=\"105.265625\" xlink:href=\"#DejaVuSans-74\"/>\r\n       <use x=\"144.474609\" xlink:href=\"#DejaVuSans-61\"/>\r\n       <use x=\"205.753906\" xlink:href=\"#DejaVuSans-6c\"/>\r\n       <use x=\"233.537109\" xlink:href=\"#DejaVuSans-20\"/>\r\n       <use x=\"265.324219\" xlink:href=\"#DejaVuSans-44\"/>\r\n       <use x=\"342.326172\" xlink:href=\"#DejaVuSans-69\"/>\r\n       <use x=\"370.109375\" xlink:href=\"#DejaVuSans-65\"/>\r\n       <use x=\"431.632812\" xlink:href=\"#DejaVuSans-74\"/>\r\n       <use x=\"470.841797\" xlink:href=\"#DejaVuSans-61\"/>\r\n       <use x=\"532.121094\" xlink:href=\"#DejaVuSans-72\"/>\r\n       <use x=\"573.234375\" xlink:href=\"#DejaVuSans-79\"/>\r\n       <use x=\"632.414062\" xlink:href=\"#DejaVuSans-3c\"/>\r\n       <use x=\"716.203125\" xlink:href=\"#DejaVuSans-3d\"/>\r\n       <use x=\"799.992188\" xlink:href=\"#DejaVuSans-32\"/>\r\n       <use x=\"863.615234\" xlink:href=\"#DejaVuSans-30\"/>\r\n       <use x=\"927.238281\" xlink:href=\"#DejaVuSans-2e\"/>\r\n       <use x=\"959.025391\" xlink:href=\"#DejaVuSans-30\"/>\r\n      </g>\r\n     </g>\r\n    </g>\r\n   </g>\r\n   <g id=\"matplotlib.axis_2\">\r\n    <g id=\"ytick_1\">\r\n     <g id=\"line2d_6\">\r\n      <defs>\r\n       <path d=\"M 0 0 \r\nL -3.5 0 \r\n\" id=\"m4ee526f59c\" style=\"stroke:#000000;stroke-width:0.8;\"/>\r\n      </defs>\r\n      <g>\r\n       <use style=\"stroke:#000000;stroke-width:0.8;\" x=\"33.2875\" xlink:href=\"#m4ee526f59c\" y=\"224.64\"/>\r\n      </g>\r\n     </g>\r\n     <g id=\"text_6\">\r\n      <!-- 0 -->\r\n      <g transform=\"translate(19.925 228.439219)scale(0.1 -0.1)\">\r\n       <use xlink:href=\"#DejaVuSans-30\"/>\r\n      </g>\r\n     </g>\r\n    </g>\r\n    <g id=\"ytick_2\">\r\n     <g id=\"line2d_7\">\r\n      <g>\r\n       <use style=\"stroke:#000000;stroke-width:0.8;\" x=\"33.2875\" xlink:href=\"#m4ee526f59c\" y=\"183.222857\"/>\r\n      </g>\r\n     </g>\r\n     <g id=\"text_7\">\r\n      <!-- 20 -->\r\n      <g transform=\"translate(13.5625 187.022076)scale(0.1 -0.1)\">\r\n       <use xlink:href=\"#DejaVuSans-32\"/>\r\n       <use x=\"63.623047\" xlink:href=\"#DejaVuSans-30\"/>\r\n      </g>\r\n     </g>\r\n    </g>\r\n    <g id=\"ytick_3\">\r\n     <g id=\"line2d_8\">\r\n      <g>\r\n       <use style=\"stroke:#000000;stroke-width:0.8;\" x=\"33.2875\" xlink:href=\"#m4ee526f59c\" y=\"141.805714\"/>\r\n      </g>\r\n     </g>\r\n     <g id=\"text_8\">\r\n      <!-- 40 -->\r\n      <g transform=\"translate(13.5625 145.604933)scale(0.1 -0.1)\">\r\n       <use xlink:href=\"#DejaVuSans-34\"/>\r\n       <use x=\"63.623047\" xlink:href=\"#DejaVuSans-30\"/>\r\n      </g>\r\n     </g>\r\n    </g>\r\n    <g id=\"ytick_4\">\r\n     <g id=\"line2d_9\">\r\n      <g>\r\n       <use style=\"stroke:#000000;stroke-width:0.8;\" x=\"33.2875\" xlink:href=\"#m4ee526f59c\" y=\"100.388571\"/>\r\n      </g>\r\n     </g>\r\n     <g id=\"text_9\">\r\n      <!-- 60 -->\r\n      <g transform=\"translate(13.5625 104.18779)scale(0.1 -0.1)\">\r\n       <use xlink:href=\"#DejaVuSans-36\"/>\r\n       <use x=\"63.623047\" xlink:href=\"#DejaVuSans-30\"/>\r\n      </g>\r\n     </g>\r\n    </g>\r\n    <g id=\"ytick_5\">\r\n     <g id=\"line2d_10\">\r\n      <g>\r\n       <use style=\"stroke:#000000;stroke-width:0.8;\" x=\"33.2875\" xlink:href=\"#m4ee526f59c\" y=\"58.971429\"/>\r\n      </g>\r\n     </g>\r\n     <g id=\"text_10\">\r\n      <!-- 80 -->\r\n      <g transform=\"translate(13.5625 62.770647)scale(0.1 -0.1)\">\r\n       <defs>\r\n        <path d=\"M 2034 2216 \r\nQ 1584 2216 1326 1975 \r\nQ 1069 1734 1069 1313 \r\nQ 1069 891 1326 650 \r\nQ 1584 409 2034 409 \r\nQ 2484 409 2743 651 \r\nQ 3003 894 3003 1313 \r\nQ 3003 1734 2745 1975 \r\nQ 2488 2216 2034 2216 \r\nz\r\nM 1403 2484 \r\nQ 997 2584 770 2862 \r\nQ 544 3141 544 3541 \r\nQ 544 4100 942 4425 \r\nQ 1341 4750 2034 4750 \r\nQ 2731 4750 3128 4425 \r\nQ 3525 4100 3525 3541 \r\nQ 3525 3141 3298 2862 \r\nQ 3072 2584 2669 2484 \r\nQ 3125 2378 3379 2068 \r\nQ 3634 1759 3634 1313 \r\nQ 3634 634 3220 271 \r\nQ 2806 -91 2034 -91 \r\nQ 1263 -91 848 271 \r\nQ 434 634 434 1313 \r\nQ 434 1759 690 2068 \r\nQ 947 2378 1403 2484 \r\nz\r\nM 1172 3481 \r\nQ 1172 3119 1398 2916 \r\nQ 1625 2713 2034 2713 \r\nQ 2441 2713 2670 2916 \r\nQ 2900 3119 2900 3481 \r\nQ 2900 3844 2670 4047 \r\nQ 2441 4250 2034 4250 \r\nQ 1625 4250 1398 4047 \r\nQ 1172 3844 1172 3481 \r\nz\r\n\" id=\"DejaVuSans-38\" transform=\"scale(0.015625)\"/>\r\n       </defs>\r\n       <use xlink:href=\"#DejaVuSans-38\"/>\r\n       <use x=\"63.623047\" xlink:href=\"#DejaVuSans-30\"/>\r\n      </g>\r\n     </g>\r\n    </g>\r\n    <g id=\"ytick_6\">\r\n     <g id=\"line2d_11\">\r\n      <g>\r\n       <use style=\"stroke:#000000;stroke-width:0.8;\" x=\"33.2875\" xlink:href=\"#m4ee526f59c\" y=\"17.554286\"/>\r\n      </g>\r\n     </g>\r\n     <g id=\"text_11\">\r\n      <!-- 100 -->\r\n      <g transform=\"translate(7.2 21.353504)scale(0.1 -0.1)\">\r\n       <use xlink:href=\"#DejaVuSans-31\"/>\r\n       <use x=\"63.623047\" xlink:href=\"#DejaVuSans-30\"/>\r\n       <use x=\"127.246094\" xlink:href=\"#DejaVuSans-30\"/>\r\n      </g>\r\n     </g>\r\n    </g>\r\n   </g>\r\n   <g id=\"patch_13\">\r\n    <path d=\"M 33.2875 224.64 \r\nL 33.2875 7.2 \r\n\" style=\"fill:none;stroke:#000000;stroke-linecap:square;stroke-linejoin:miter;stroke-width:0.8;\"/>\r\n   </g>\r\n   <g id=\"patch_14\">\r\n    <path d=\"M 368.0875 224.64 \r\nL 368.0875 7.2 \r\n\" style=\"fill:none;stroke:#000000;stroke-linecap:square;stroke-linejoin:miter;stroke-width:0.8;\"/>\r\n   </g>\r\n   <g id=\"patch_15\">\r\n    <path d=\"M 33.2875 224.64 \r\nL 368.0875 224.64 \r\n\" style=\"fill:none;stroke:#000000;stroke-linecap:square;stroke-linejoin:miter;stroke-width:0.8;\"/>\r\n   </g>\r\n   <g id=\"patch_16\">\r\n    <path d=\"M 33.2875 7.2 \r\nL 368.0875 7.2 \r\n\" style=\"fill:none;stroke:#000000;stroke-linecap:square;stroke-linejoin:miter;stroke-width:0.8;\"/>\r\n   </g>\r\n   <g id=\"legend_1\">\r\n    <g id=\"patch_17\">\r\n     <path d=\"M 40.2875 44.55625 \r\nL 106.915625 44.55625 \r\nQ 108.915625 44.55625 108.915625 42.55625 \r\nL 108.915625 14.2 \r\nQ 108.915625 12.2 106.915625 12.2 \r\nL 40.2875 12.2 \r\nQ 38.2875 12.2 38.2875 14.2 \r\nL 38.2875 42.55625 \r\nQ 38.2875 44.55625 40.2875 44.55625 \r\nz\r\n\" style=\"fill:#ffffff;opacity:0.8;stroke:#cccccc;stroke-linejoin:miter;\"/>\r\n    </g>\r\n    <g id=\"patch_18\">\r\n     <path d=\"M 42.2875 23.798438 \r\nL 62.2875 23.798438 \r\nL 62.2875 16.798438 \r\nL 42.2875 16.798438 \r\nz\r\n\" style=\"fill:#1f77b4;\"/>\r\n    </g>\r\n    <g id=\"text_12\">\r\n     <!-- Passed -->\r\n     <g transform=\"translate(70.2875 23.798438)scale(0.1 -0.1)\">\r\n      <defs>\r\n       <path d=\"M 2834 3397 \r\nL 2834 2853 \r\nQ 2591 2978 2328 3040 \r\nQ 2066 3103 1784 3103 \r\nQ 1356 3103 1142 2972 \r\nQ 928 2841 928 2578 \r\nQ 928 2378 1081 2264 \r\nQ 1234 2150 1697 2047 \r\nL 1894 2003 \r\nQ 2506 1872 2764 1633 \r\nQ 3022 1394 3022 966 \r\nQ 3022 478 2636 193 \r\nQ 2250 -91 1575 -91 \r\nQ 1294 -91 989 -36 \r\nQ 684 19 347 128 \r\nL 347 722 \r\nQ 666 556 975 473 \r\nQ 1284 391 1588 391 \r\nQ 1994 391 2212 530 \r\nQ 2431 669 2431 922 \r\nQ 2431 1156 2273 1281 \r\nQ 2116 1406 1581 1522 \r\nL 1381 1569 \r\nQ 847 1681 609 1914 \r\nQ 372 2147 372 2553 \r\nQ 372 3047 722 3315 \r\nQ 1072 3584 1716 3584 \r\nQ 2034 3584 2315 3537 \r\nQ 2597 3491 2834 3397 \r\nz\r\n\" id=\"DejaVuSans-73\" transform=\"scale(0.015625)\"/>\r\n       <path d=\"M 2906 2969 \r\nL 2906 4863 \r\nL 3481 4863 \r\nL 3481 0 \r\nL 2906 0 \r\nL 2906 525 \r\nQ 2725 213 2448 61 \r\nQ 2172 -91 1784 -91 \r\nQ 1150 -91 751 415 \r\nQ 353 922 353 1747 \r\nQ 353 2572 751 3078 \r\nQ 1150 3584 1784 3584 \r\nQ 2172 3584 2448 3432 \r\nQ 2725 3281 2906 2969 \r\nz\r\nM 947 1747 \r\nQ 947 1113 1208 752 \r\nQ 1469 391 1925 391 \r\nQ 2381 391 2643 752 \r\nQ 2906 1113 2906 1747 \r\nQ 2906 2381 2643 2742 \r\nQ 2381 3103 1925 3103 \r\nQ 1469 3103 1208 2742 \r\nQ 947 2381 947 1747 \r\nz\r\n\" id=\"DejaVuSans-64\" transform=\"scale(0.015625)\"/>\r\n      </defs>\r\n      <use xlink:href=\"#DejaVuSans-50\"/>\r\n      <use x=\"55.802734\" xlink:href=\"#DejaVuSans-61\"/>\r\n      <use x=\"117.082031\" xlink:href=\"#DejaVuSans-73\"/>\r\n      <use x=\"169.181641\" xlink:href=\"#DejaVuSans-73\"/>\r\n      <use x=\"221.28125\" xlink:href=\"#DejaVuSans-65\"/>\r\n      <use x=\"282.804688\" xlink:href=\"#DejaVuSans-64\"/>\r\n     </g>\r\n    </g>\r\n    <g id=\"patch_19\">\r\n     <path d=\"M 42.2875 38.476563 \r\nL 62.2875 38.476563 \r\nL 62.2875 31.476563 \r\nL 42.2875 31.476563 \r\nz\r\n\" style=\"fill:#ff7f0e;\"/>\r\n    </g>\r\n    <g id=\"text_13\">\r\n     <!-- Failed -->\r\n     <g transform=\"translate(70.2875 38.476563)scale(0.1 -0.1)\">\r\n      <defs>\r\n       <path d=\"M 628 4666 \r\nL 3309 4666 \r\nL 3309 4134 \r\nL 1259 4134 \r\nL 1259 2759 \r\nL 3109 2759 \r\nL 3109 2228 \r\nL 1259 2228 \r\nL 1259 0 \r\nL 628 0 \r\nL 628 4666 \r\nz\r\n\" id=\"DejaVuSans-46\" transform=\"scale(0.015625)\"/>\r\n      </defs>\r\n      <use xlink:href=\"#DejaVuSans-46\"/>\r\n      <use x=\"48.394531\" xlink:href=\"#DejaVuSans-61\"/>\r\n      <use x=\"109.673828\" xlink:href=\"#DejaVuSans-69\"/>\r\n      <use x=\"137.457031\" xlink:href=\"#DejaVuSans-6c\"/>\r\n      <use x=\"165.240234\" xlink:href=\"#DejaVuSans-65\"/>\r\n      <use x=\"226.763672\" xlink:href=\"#DejaVuSans-64\"/>\r\n     </g>\r\n    </g>\r\n   </g>\r\n  </g>\r\n </g>\r\n <defs>\r\n  <clipPath id=\"pd732178c50\">\r\n   <rect height=\"217.44\" width=\"334.8\" x=\"33.2875\" y=\"7.2\"/>\r\n  </clipPath>\r\n </defs>\r\n</svg>\r\n",
      "text/plain": [
       "<Figure size 432x288 with 1 Axes>"
      ]
     },
     "metadata": {
      "needs_background": "light"
     }
    }
   ],
   "metadata": {}
  },
  {
   "cell_type": "code",
   "execution_count": 39,
   "source": [
    "heatmap_menu_test_ingredient(diet = sample_diets, ingredients = [sample_ingredients['Potato, Daeji, Raw'], sample_ingredients['Egg, Whole, Raw']], fig_path = 'heatmap_menu_test_ingredient.png')"
   ],
   "outputs": [
    {
     "output_type": "display_data",
     "data": {
      "image/png": "[encoded data removed]",
      "image/svg+xml": "<?xml version=\"1.0\" encoding=\"utf-8\" standalone=\"no\"?>\r\n<!DOCTYPE svg PUBLIC \"-//W3C//DTD SVG 1.1//EN\"\r\n  \"http://www.w3.org/Graphics/SVG/1.1/DTD/svg11.dtd\">\r\n<svg height=\"252.317344pt\" version=\"1.1\" viewBox=\"0 0 352.480125 252.317344\" width=\"352.480125pt\" xmlns=\"http://www.w3.org/2000/svg\" xmlns:xlink=\"http://www.w3.org/1999/xlink\">\r\n <metadata>\r\n  <rdf:RDF xmlns:cc=\"http://creativecommons.org/ns#\" xmlns:dc=\"http://purl.org/dc/elements/1.1/\" xmlns:rdf=\"http://www.w3.org/1999/02/22-rdf-syntax-ns#\">\r\n   <cc:Work>\r\n    <dc:type rdf:resource=\"http://purl.org/dc/dcmitype/StillImage\"/>\r\n    <dc:date>2021-09-02T15:23:52.950374</dc:date>\r\n    <dc:format>image/svg+xml</dc:format>\r\n    <dc:creator>\r\n     <cc:Agent>\r\n      <dc:title>Matplotlib v3.4.2, https://matplotlib.org/</dc:title>\r\n     </cc:Agent>\r\n    </dc:creator>\r\n   </cc:Work>\r\n  </rdf:RDF>\r\n </metadata>\r\n <defs>\r\n  <style type=\"text/css\">*{stroke-linecap:butt;stroke-linejoin:round;}</style>\r\n </defs>\r\n <g id=\"figure_1\">\r\n  <g id=\"patch_1\">\r\n   <path d=\"M -0 252.317344 \r\nL 352.480125 252.317344 \r\nL 352.480125 0 \r\nL -0 0 \r\nz\r\n\" style=\"fill:none;\"/>\r\n  </g>\r\n  <g id=\"axes_1\">\r\n   <g id=\"patch_2\">\r\n    <path d=\"M 26.925 228.439219 \r\nL 294.765 228.439219 \r\nL 294.765 10.999219 \r\nL 26.925 10.999219 \r\nz\r\n\" style=\"fill:#ffffff;\"/>\r\n   </g>\r\n   <g id=\"QuadMesh_1\">\r\n    <path clip-path=\"url(#pfd94061cb0)\" d=\"M 26.925 10.999219 \r\nL 160.845 10.999219 \r\nL 160.845 13.173619 \r\nL 26.925 13.173619 \r\nL 26.925 10.999219 \r\n\" style=\"fill:#faebdd;\"/>\r\n    <path clip-path=\"url(#pfd94061cb0)\" d=\"M 160.845 10.999219 \r\nL 294.765 10.999219 \r\nL 294.765 13.173619 \r\nL 160.845 13.173619 \r\nL 160.845 10.999219 \r\n\" style=\"fill:#faebdd;\"/>\r\n    <path clip-path=\"url(#pfd94061cb0)\" d=\"M 26.925 13.173619 \r\nL 160.845 13.173619 \r\nL 160.845 15.348019 \r\nL 26.925 15.348019 \r\nL 26.925 13.173619 \r\n\" style=\"fill:#faebdd;\"/>\r\n    <path clip-path=\"url(#pfd94061cb0)\" d=\"M 160.845 13.173619 \r\nL 294.765 13.173619 \r\nL 294.765 15.348019 \r\nL 160.845 15.348019 \r\nL 160.845 13.173619 \r\n\" style=\"fill:#03051a;\"/>\r\n    <path clip-path=\"url(#pfd94061cb0)\" d=\"M 26.925 15.348019 \r\nL 160.845 15.348019 \r\nL 160.845 17.522419 \r\nL 26.925 17.522419 \r\nL 26.925 15.348019 \r\n\" style=\"fill:#faebdd;\"/>\r\n    <path clip-path=\"url(#pfd94061cb0)\" d=\"M 160.845 15.348019 \r\nL 294.765 15.348019 \r\nL 294.765 17.522419 \r\nL 160.845 17.522419 \r\nL 160.845 15.348019 \r\n\" style=\"fill:#03051a;\"/>\r\n    <path clip-path=\"url(#pfd94061cb0)\" d=\"M 26.925 17.522419 \r\nL 160.845 17.522419 \r\nL 160.845 19.696819 \r\nL 26.925 19.696819 \r\nL 26.925 17.522419 \r\n\" style=\"fill:#faebdd;\"/>\r\n    <path clip-path=\"url(#pfd94061cb0)\" d=\"M 160.845 17.522419 \r\nL 294.765 17.522419 \r\nL 294.765 19.696819 \r\nL 160.845 19.696819 \r\nL 160.845 17.522419 \r\n\" style=\"fill:#faebdd;\"/>\r\n    <path clip-path=\"url(#pfd94061cb0)\" d=\"M 26.925 19.696819 \r\nL 160.845 19.696819 \r\nL 160.845 21.871219 \r\nL 26.925 21.871219 \r\nL 26.925 19.696819 \r\n\" style=\"fill:#faebdd;\"/>\r\n    <path clip-path=\"url(#pfd94061cb0)\" d=\"M 160.845 19.696819 \r\nL 294.765 19.696819 \r\nL 294.765 21.871219 \r\nL 160.845 21.871219 \r\nL 160.845 19.696819 \r\n\" style=\"fill:#faebdd;\"/>\r\n    <path clip-path=\"url(#pfd94061cb0)\" d=\"M 26.925 21.871219 \r\nL 160.845 21.871219 \r\nL 160.845 24.045619 \r\nL 26.925 24.045619 \r\nL 26.925 21.871219 \r\n\" style=\"fill:#03051a;\"/>\r\n    <path clip-path=\"url(#pfd94061cb0)\" d=\"M 160.845 21.871219 \r\nL 294.765 21.871219 \r\nL 294.765 24.045619 \r\nL 160.845 24.045619 \r\nL 160.845 21.871219 \r\n\" style=\"fill:#faebdd;\"/>\r\n    <path clip-path=\"url(#pfd94061cb0)\" d=\"M 26.925 24.045619 \r\nL 160.845 24.045619 \r\nL 160.845 26.220019 \r\nL 26.925 26.220019 \r\nL 26.925 24.045619 \r\n\" style=\"fill:#03051a;\"/>\r\n    <path clip-path=\"url(#pfd94061cb0)\" d=\"M 160.845 24.045619 \r\nL 294.765 24.045619 \r\nL 294.765 26.220019 \r\nL 160.845 26.220019 \r\nL 160.845 24.045619 \r\n\" style=\"fill:#faebdd;\"/>\r\n    <path clip-path=\"url(#pfd94061cb0)\" d=\"M 26.925 26.220019 \r\nL 160.845 26.220019 \r\nL 160.845 28.394419 \r\nL 26.925 28.394419 \r\nL 26.925 26.220019 \r\n\" style=\"fill:#faebdd;\"/>\r\n    <path clip-path=\"url(#pfd94061cb0)\" d=\"M 160.845 26.220019 \r\nL 294.765 26.220019 \r\nL 294.765 28.394419 \r\nL 160.845 28.394419 \r\nL 160.845 26.220019 \r\n\" style=\"fill:#faebdd;\"/>\r\n    <path clip-path=\"url(#pfd94061cb0)\" d=\"M 26.925 28.394419 \r\nL 160.845 28.394419 \r\nL 160.845 30.568819 \r\nL 26.925 30.568819 \r\nL 26.925 28.394419 \r\n\" style=\"fill:#03051a;\"/>\r\n    <path clip-path=\"url(#pfd94061cb0)\" d=\"M 160.845 28.394419 \r\nL 294.765 28.394419 \r\nL 294.765 30.568819 \r\nL 160.845 30.568819 \r\nL 160.845 28.394419 \r\n\" style=\"fill:#faebdd;\"/>\r\n    <path clip-path=\"url(#pfd94061cb0)\" d=\"M 26.925 30.568819 \r\nL 160.845 30.568819 \r\nL 160.845 32.743219 \r\nL 26.925 32.743219 \r\nL 26.925 30.568819 \r\n\" style=\"fill:#faebdd;\"/>\r\n    <path clip-path=\"url(#pfd94061cb0)\" d=\"M 160.845 30.568819 \r\nL 294.765 30.568819 \r\nL 294.765 32.743219 \r\nL 160.845 32.743219 \r\nL 160.845 30.568819 \r\n\" style=\"fill:#faebdd;\"/>\r\n    <path clip-path=\"url(#pfd94061cb0)\" d=\"M 26.925 32.743219 \r\nL 160.845 32.743219 \r\nL 160.845 34.917619 \r\nL 26.925 34.917619 \r\nL 26.925 32.743219 \r\n\" style=\"fill:#faebdd;\"/>\r\n    <path clip-path=\"url(#pfd94061cb0)\" d=\"M 160.845 32.743219 \r\nL 294.765 32.743219 \r\nL 294.765 34.917619 \r\nL 160.845 34.917619 \r\nL 160.845 32.743219 \r\n\" style=\"fill:#faebdd;\"/>\r\n    <path clip-path=\"url(#pfd94061cb0)\" d=\"M 26.925 34.917619 \r\nL 160.845 34.917619 \r\nL 160.845 37.092019 \r\nL 26.925 37.092019 \r\nL 26.925 34.917619 \r\n\" style=\"fill:#03051a;\"/>\r\n    <path clip-path=\"url(#pfd94061cb0)\" d=\"M 160.845 34.917619 \r\nL 294.765 34.917619 \r\nL 294.765 37.092019 \r\nL 160.845 37.092019 \r\nL 160.845 34.917619 \r\n\" style=\"fill:#faebdd;\"/>\r\n    <path clip-path=\"url(#pfd94061cb0)\" d=\"M 26.925 37.092019 \r\nL 160.845 37.092019 \r\nL 160.845 39.266419 \r\nL 26.925 39.266419 \r\nL 26.925 37.092019 \r\n\" style=\"fill:#faebdd;\"/>\r\n    <path clip-path=\"url(#pfd94061cb0)\" d=\"M 160.845 37.092019 \r\nL 294.765 37.092019 \r\nL 294.765 39.266419 \r\nL 160.845 39.266419 \r\nL 160.845 37.092019 \r\n\" style=\"fill:#faebdd;\"/>\r\n    <path clip-path=\"url(#pfd94061cb0)\" d=\"M 26.925 39.266419 \r\nL 160.845 39.266419 \r\nL 160.845 41.440819 \r\nL 26.925 41.440819 \r\nL 26.925 39.266419 \r\n\" style=\"fill:#03051a;\"/>\r\n    <path clip-path=\"url(#pfd94061cb0)\" d=\"M 160.845 39.266419 \r\nL 294.765 39.266419 \r\nL 294.765 41.440819 \r\nL 160.845 41.440819 \r\nL 160.845 39.266419 \r\n\" style=\"fill:#03051a;\"/>\r\n    <path clip-path=\"url(#pfd94061cb0)\" d=\"M 26.925 41.440819 \r\nL 160.845 41.440819 \r\nL 160.845 43.615219 \r\nL 26.925 43.615219 \r\nL 26.925 41.440819 \r\n\" style=\"fill:#03051a;\"/>\r\n    <path clip-path=\"url(#pfd94061cb0)\" d=\"M 160.845 41.440819 \r\nL 294.765 41.440819 \r\nL 294.765 43.615219 \r\nL 160.845 43.615219 \r\nL 160.845 41.440819 \r\n\" style=\"fill:#faebdd;\"/>\r\n    <path clip-path=\"url(#pfd94061cb0)\" d=\"M 26.925 43.615219 \r\nL 160.845 43.615219 \r\nL 160.845 45.789619 \r\nL 26.925 45.789619 \r\nL 26.925 43.615219 \r\n\" style=\"fill:#03051a;\"/>\r\n    <path clip-path=\"url(#pfd94061cb0)\" d=\"M 160.845 43.615219 \r\nL 294.765 43.615219 \r\nL 294.765 45.789619 \r\nL 160.845 45.789619 \r\nL 160.845 43.615219 \r\n\" style=\"fill:#faebdd;\"/>\r\n    <path clip-path=\"url(#pfd94061cb0)\" d=\"M 26.925 45.789619 \r\nL 160.845 45.789619 \r\nL 160.845 47.964019 \r\nL 26.925 47.964019 \r\nL 26.925 45.789619 \r\n\" style=\"fill:#faebdd;\"/>\r\n    <path clip-path=\"url(#pfd94061cb0)\" d=\"M 160.845 45.789619 \r\nL 294.765 45.789619 \r\nL 294.765 47.964019 \r\nL 160.845 47.964019 \r\nL 160.845 45.789619 \r\n\" style=\"fill:#faebdd;\"/>\r\n    <path clip-path=\"url(#pfd94061cb0)\" d=\"M 26.925 47.964019 \r\nL 160.845 47.964019 \r\nL 160.845 50.138419 \r\nL 26.925 50.138419 \r\nL 26.925 47.964019 \r\n\" style=\"fill:#faebdd;\"/>\r\n    <path clip-path=\"url(#pfd94061cb0)\" d=\"M 160.845 47.964019 \r\nL 294.765 47.964019 \r\nL 294.765 50.138419 \r\nL 160.845 50.138419 \r\nL 160.845 47.964019 \r\n\" style=\"fill:#03051a;\"/>\r\n    <path clip-path=\"url(#pfd94061cb0)\" d=\"M 26.925 50.138419 \r\nL 160.845 50.138419 \r\nL 160.845 52.312819 \r\nL 26.925 52.312819 \r\nL 26.925 50.138419 \r\n\" style=\"fill:#faebdd;\"/>\r\n    <path clip-path=\"url(#pfd94061cb0)\" d=\"M 160.845 50.138419 \r\nL 294.765 50.138419 \r\nL 294.765 52.312819 \r\nL 160.845 52.312819 \r\nL 160.845 50.138419 \r\n\" style=\"fill:#faebdd;\"/>\r\n    <path clip-path=\"url(#pfd94061cb0)\" d=\"M 26.925 52.312819 \r\nL 160.845 52.312819 \r\nL 160.845 54.487219 \r\nL 26.925 54.487219 \r\nL 26.925 52.312819 \r\n\" style=\"fill:#faebdd;\"/>\r\n    <path clip-path=\"url(#pfd94061cb0)\" d=\"M 160.845 52.312819 \r\nL 294.765 52.312819 \r\nL 294.765 54.487219 \r\nL 160.845 54.487219 \r\nL 160.845 52.312819 \r\n\" style=\"fill:#faebdd;\"/>\r\n    <path clip-path=\"url(#pfd94061cb0)\" d=\"M 26.925 54.487219 \r\nL 160.845 54.487219 \r\nL 160.845 56.661619 \r\nL 26.925 56.661619 \r\nL 26.925 54.487219 \r\n\" style=\"fill:#03051a;\"/>\r\n    <path clip-path=\"url(#pfd94061cb0)\" d=\"M 160.845 54.487219 \r\nL 294.765 54.487219 \r\nL 294.765 56.661619 \r\nL 160.845 56.661619 \r\nL 160.845 54.487219 \r\n\" style=\"fill:#faebdd;\"/>\r\n    <path clip-path=\"url(#pfd94061cb0)\" d=\"M 26.925 56.661619 \r\nL 160.845 56.661619 \r\nL 160.845 58.836019 \r\nL 26.925 58.836019 \r\nL 26.925 56.661619 \r\n\" style=\"fill:#03051a;\"/>\r\n    <path clip-path=\"url(#pfd94061cb0)\" d=\"M 160.845 56.661619 \r\nL 294.765 56.661619 \r\nL 294.765 58.836019 \r\nL 160.845 58.836019 \r\nL 160.845 56.661619 \r\n\" style=\"fill:#03051a;\"/>\r\n    <path clip-path=\"url(#pfd94061cb0)\" d=\"M 26.925 58.836019 \r\nL 160.845 58.836019 \r\nL 160.845 61.010419 \r\nL 26.925 61.010419 \r\nL 26.925 58.836019 \r\n\" style=\"fill:#faebdd;\"/>\r\n    <path clip-path=\"url(#pfd94061cb0)\" d=\"M 160.845 58.836019 \r\nL 294.765 58.836019 \r\nL 294.765 61.010419 \r\nL 160.845 61.010419 \r\nL 160.845 58.836019 \r\n\" style=\"fill:#faebdd;\"/>\r\n    <path clip-path=\"url(#pfd94061cb0)\" d=\"M 26.925 61.010419 \r\nL 160.845 61.010419 \r\nL 160.845 63.184819 \r\nL 26.925 63.184819 \r\nL 26.925 61.010419 \r\n\" style=\"fill:#faebdd;\"/>\r\n    <path clip-path=\"url(#pfd94061cb0)\" d=\"M 160.845 61.010419 \r\nL 294.765 61.010419 \r\nL 294.765 63.184819 \r\nL 160.845 63.184819 \r\nL 160.845 61.010419 \r\n\" style=\"fill:#03051a;\"/>\r\n    <path clip-path=\"url(#pfd94061cb0)\" d=\"M 26.925 63.184819 \r\nL 160.845 63.184819 \r\nL 160.845 65.359219 \r\nL 26.925 65.359219 \r\nL 26.925 63.184819 \r\n\" style=\"fill:#faebdd;\"/>\r\n    <path clip-path=\"url(#pfd94061cb0)\" d=\"M 160.845 63.184819 \r\nL 294.765 63.184819 \r\nL 294.765 65.359219 \r\nL 160.845 65.359219 \r\nL 160.845 63.184819 \r\n\" style=\"fill:#faebdd;\"/>\r\n    <path clip-path=\"url(#pfd94061cb0)\" d=\"M 26.925 65.359219 \r\nL 160.845 65.359219 \r\nL 160.845 67.533619 \r\nL 26.925 67.533619 \r\nL 26.925 65.359219 \r\n\" style=\"fill:#faebdd;\"/>\r\n    <path clip-path=\"url(#pfd94061cb0)\" d=\"M 160.845 65.359219 \r\nL 294.765 65.359219 \r\nL 294.765 67.533619 \r\nL 160.845 67.533619 \r\nL 160.845 65.359219 \r\n\" style=\"fill:#faebdd;\"/>\r\n    <path clip-path=\"url(#pfd94061cb0)\" d=\"M 26.925 67.533619 \r\nL 160.845 67.533619 \r\nL 160.845 69.708019 \r\nL 26.925 69.708019 \r\nL 26.925 67.533619 \r\n\" style=\"fill:#faebdd;\"/>\r\n    <path clip-path=\"url(#pfd94061cb0)\" d=\"M 160.845 67.533619 \r\nL 294.765 67.533619 \r\nL 294.765 69.708019 \r\nL 160.845 69.708019 \r\nL 160.845 67.533619 \r\n\" style=\"fill:#faebdd;\"/>\r\n    <path clip-path=\"url(#pfd94061cb0)\" d=\"M 26.925 69.708019 \r\nL 160.845 69.708019 \r\nL 160.845 71.882419 \r\nL 26.925 71.882419 \r\nL 26.925 69.708019 \r\n\" style=\"fill:#faebdd;\"/>\r\n    <path clip-path=\"url(#pfd94061cb0)\" d=\"M 160.845 69.708019 \r\nL 294.765 69.708019 \r\nL 294.765 71.882419 \r\nL 160.845 71.882419 \r\nL 160.845 69.708019 \r\n\" style=\"fill:#faebdd;\"/>\r\n    <path clip-path=\"url(#pfd94061cb0)\" d=\"M 26.925 71.882419 \r\nL 160.845 71.882419 \r\nL 160.845 74.056819 \r\nL 26.925 74.056819 \r\nL 26.925 71.882419 \r\n\" style=\"fill:#03051a;\"/>\r\n    <path clip-path=\"url(#pfd94061cb0)\" d=\"M 160.845 71.882419 \r\nL 294.765 71.882419 \r\nL 294.765 74.056819 \r\nL 160.845 74.056819 \r\nL 160.845 71.882419 \r\n\" style=\"fill:#faebdd;\"/>\r\n    <path clip-path=\"url(#pfd94061cb0)\" d=\"M 26.925 74.056819 \r\nL 160.845 74.056819 \r\nL 160.845 76.231219 \r\nL 26.925 76.231219 \r\nL 26.925 74.056819 \r\n\" style=\"fill:#faebdd;\"/>\r\n    <path clip-path=\"url(#pfd94061cb0)\" d=\"M 160.845 74.056819 \r\nL 294.765 74.056819 \r\nL 294.765 76.231219 \r\nL 160.845 76.231219 \r\nL 160.845 74.056819 \r\n\" style=\"fill:#03051a;\"/>\r\n    <path clip-path=\"url(#pfd94061cb0)\" d=\"M 26.925 76.231219 \r\nL 160.845 76.231219 \r\nL 160.845 78.405619 \r\nL 26.925 78.405619 \r\nL 26.925 76.231219 \r\n\" style=\"fill:#faebdd;\"/>\r\n    <path clip-path=\"url(#pfd94061cb0)\" d=\"M 160.845 76.231219 \r\nL 294.765 76.231219 \r\nL 294.765 78.405619 \r\nL 160.845 78.405619 \r\nL 160.845 76.231219 \r\n\" style=\"fill:#faebdd;\"/>\r\n    <path clip-path=\"url(#pfd94061cb0)\" d=\"M 26.925 78.405619 \r\nL 160.845 78.405619 \r\nL 160.845 80.580019 \r\nL 26.925 80.580019 \r\nL 26.925 78.405619 \r\n\" style=\"fill:#faebdd;\"/>\r\n    <path clip-path=\"url(#pfd94061cb0)\" d=\"M 160.845 78.405619 \r\nL 294.765 78.405619 \r\nL 294.765 80.580019 \r\nL 160.845 80.580019 \r\nL 160.845 78.405619 \r\n\" style=\"fill:#faebdd;\"/>\r\n    <path clip-path=\"url(#pfd94061cb0)\" d=\"M 26.925 80.580019 \r\nL 160.845 80.580019 \r\nL 160.845 82.754419 \r\nL 26.925 82.754419 \r\nL 26.925 80.580019 \r\n\" style=\"fill:#faebdd;\"/>\r\n    <path clip-path=\"url(#pfd94061cb0)\" d=\"M 160.845 80.580019 \r\nL 294.765 80.580019 \r\nL 294.765 82.754419 \r\nL 160.845 82.754419 \r\nL 160.845 80.580019 \r\n\" style=\"fill:#03051a;\"/>\r\n    <path clip-path=\"url(#pfd94061cb0)\" d=\"M 26.925 82.754419 \r\nL 160.845 82.754419 \r\nL 160.845 84.928819 \r\nL 26.925 84.928819 \r\nL 26.925 82.754419 \r\n\" style=\"fill:#faebdd;\"/>\r\n    <path clip-path=\"url(#pfd94061cb0)\" d=\"M 160.845 82.754419 \r\nL 294.765 82.754419 \r\nL 294.765 84.928819 \r\nL 160.845 84.928819 \r\nL 160.845 82.754419 \r\n\" style=\"fill:#faebdd;\"/>\r\n    <path clip-path=\"url(#pfd94061cb0)\" d=\"M 26.925 84.928819 \r\nL 160.845 84.928819 \r\nL 160.845 87.103219 \r\nL 26.925 87.103219 \r\nL 26.925 84.928819 \r\n\" style=\"fill:#faebdd;\"/>\r\n    <path clip-path=\"url(#pfd94061cb0)\" d=\"M 160.845 84.928819 \r\nL 294.765 84.928819 \r\nL 294.765 87.103219 \r\nL 160.845 87.103219 \r\nL 160.845 84.928819 \r\n\" style=\"fill:#faebdd;\"/>\r\n    <path clip-path=\"url(#pfd94061cb0)\" d=\"M 26.925 87.103219 \r\nL 160.845 87.103219 \r\nL 160.845 89.277619 \r\nL 26.925 89.277619 \r\nL 26.925 87.103219 \r\n\" style=\"fill:#faebdd;\"/>\r\n    <path clip-path=\"url(#pfd94061cb0)\" d=\"M 160.845 87.103219 \r\nL 294.765 87.103219 \r\nL 294.765 89.277619 \r\nL 160.845 89.277619 \r\nL 160.845 87.103219 \r\n\" style=\"fill:#faebdd;\"/>\r\n    <path clip-path=\"url(#pfd94061cb0)\" d=\"M 26.925 89.277619 \r\nL 160.845 89.277619 \r\nL 160.845 91.452019 \r\nL 26.925 91.452019 \r\nL 26.925 89.277619 \r\n\" style=\"fill:#faebdd;\"/>\r\n    <path clip-path=\"url(#pfd94061cb0)\" d=\"M 160.845 89.277619 \r\nL 294.765 89.277619 \r\nL 294.765 91.452019 \r\nL 160.845 91.452019 \r\nL 160.845 89.277619 \r\n\" style=\"fill:#faebdd;\"/>\r\n    <path clip-path=\"url(#pfd94061cb0)\" d=\"M 26.925 91.452019 \r\nL 160.845 91.452019 \r\nL 160.845 93.626419 \r\nL 26.925 93.626419 \r\nL 26.925 91.452019 \r\n\" style=\"fill:#faebdd;\"/>\r\n    <path clip-path=\"url(#pfd94061cb0)\" d=\"M 160.845 91.452019 \r\nL 294.765 91.452019 \r\nL 294.765 93.626419 \r\nL 160.845 93.626419 \r\nL 160.845 91.452019 \r\n\" style=\"fill:#faebdd;\"/>\r\n    <path clip-path=\"url(#pfd94061cb0)\" d=\"M 26.925 93.626419 \r\nL 160.845 93.626419 \r\nL 160.845 95.800819 \r\nL 26.925 95.800819 \r\nL 26.925 93.626419 \r\n\" style=\"fill:#faebdd;\"/>\r\n    <path clip-path=\"url(#pfd94061cb0)\" d=\"M 160.845 93.626419 \r\nL 294.765 93.626419 \r\nL 294.765 95.800819 \r\nL 160.845 95.800819 \r\nL 160.845 93.626419 \r\n\" style=\"fill:#faebdd;\"/>\r\n    <path clip-path=\"url(#pfd94061cb0)\" d=\"M 26.925 95.800819 \r\nL 160.845 95.800819 \r\nL 160.845 97.975219 \r\nL 26.925 97.975219 \r\nL 26.925 95.800819 \r\n\" style=\"fill:#faebdd;\"/>\r\n    <path clip-path=\"url(#pfd94061cb0)\" d=\"M 160.845 95.800819 \r\nL 294.765 95.800819 \r\nL 294.765 97.975219 \r\nL 160.845 97.975219 \r\nL 160.845 95.800819 \r\n\" style=\"fill:#faebdd;\"/>\r\n    <path clip-path=\"url(#pfd94061cb0)\" d=\"M 26.925 97.975219 \r\nL 160.845 97.975219 \r\nL 160.845 100.149619 \r\nL 26.925 100.149619 \r\nL 26.925 97.975219 \r\n\" style=\"fill:#faebdd;\"/>\r\n    <path clip-path=\"url(#pfd94061cb0)\" d=\"M 160.845 97.975219 \r\nL 294.765 97.975219 \r\nL 294.765 100.149619 \r\nL 160.845 100.149619 \r\nL 160.845 97.975219 \r\n\" style=\"fill:#faebdd;\"/>\r\n    <path clip-path=\"url(#pfd94061cb0)\" d=\"M 26.925 100.149619 \r\nL 160.845 100.149619 \r\nL 160.845 102.324019 \r\nL 26.925 102.324019 \r\nL 26.925 100.149619 \r\n\" style=\"fill:#faebdd;\"/>\r\n    <path clip-path=\"url(#pfd94061cb0)\" d=\"M 160.845 100.149619 \r\nL 294.765 100.149619 \r\nL 294.765 102.324019 \r\nL 160.845 102.324019 \r\nL 160.845 100.149619 \r\n\" style=\"fill:#faebdd;\"/>\r\n    <path clip-path=\"url(#pfd94061cb0)\" d=\"M 26.925 102.324019 \r\nL 160.845 102.324019 \r\nL 160.845 104.498419 \r\nL 26.925 104.498419 \r\nL 26.925 102.324019 \r\n\" style=\"fill:#03051a;\"/>\r\n    <path clip-path=\"url(#pfd94061cb0)\" d=\"M 160.845 102.324019 \r\nL 294.765 102.324019 \r\nL 294.765 104.498419 \r\nL 160.845 104.498419 \r\nL 160.845 102.324019 \r\n\" style=\"fill:#faebdd;\"/>\r\n    <path clip-path=\"url(#pfd94061cb0)\" d=\"M 26.925 104.498419 \r\nL 160.845 104.498419 \r\nL 160.845 106.672819 \r\nL 26.925 106.672819 \r\nL 26.925 104.498419 \r\n\" style=\"fill:#03051a;\"/>\r\n    <path clip-path=\"url(#pfd94061cb0)\" d=\"M 160.845 104.498419 \r\nL 294.765 104.498419 \r\nL 294.765 106.672819 \r\nL 160.845 106.672819 \r\nL 160.845 104.498419 \r\n\" style=\"fill:#faebdd;\"/>\r\n    <path clip-path=\"url(#pfd94061cb0)\" d=\"M 26.925 106.672819 \r\nL 160.845 106.672819 \r\nL 160.845 108.847219 \r\nL 26.925 108.847219 \r\nL 26.925 106.672819 \r\n\" style=\"fill:#faebdd;\"/>\r\n    <path clip-path=\"url(#pfd94061cb0)\" d=\"M 160.845 106.672819 \r\nL 294.765 106.672819 \r\nL 294.765 108.847219 \r\nL 160.845 108.847219 \r\nL 160.845 106.672819 \r\n\" style=\"fill:#faebdd;\"/>\r\n    <path clip-path=\"url(#pfd94061cb0)\" d=\"M 26.925 108.847219 \r\nL 160.845 108.847219 \r\nL 160.845 111.021619 \r\nL 26.925 111.021619 \r\nL 26.925 108.847219 \r\n\" style=\"fill:#faebdd;\"/>\r\n    <path clip-path=\"url(#pfd94061cb0)\" d=\"M 160.845 108.847219 \r\nL 294.765 108.847219 \r\nL 294.765 111.021619 \r\nL 160.845 111.021619 \r\nL 160.845 108.847219 \r\n\" style=\"fill:#faebdd;\"/>\r\n    <path clip-path=\"url(#pfd94061cb0)\" d=\"M 26.925 111.021619 \r\nL 160.845 111.021619 \r\nL 160.845 113.196019 \r\nL 26.925 113.196019 \r\nL 26.925 111.021619 \r\n\" style=\"fill:#03051a;\"/>\r\n    <path clip-path=\"url(#pfd94061cb0)\" d=\"M 160.845 111.021619 \r\nL 294.765 111.021619 \r\nL 294.765 113.196019 \r\nL 160.845 113.196019 \r\nL 160.845 111.021619 \r\n\" style=\"fill:#faebdd;\"/>\r\n    <path clip-path=\"url(#pfd94061cb0)\" d=\"M 26.925 113.196019 \r\nL 160.845 113.196019 \r\nL 160.845 115.370419 \r\nL 26.925 115.370419 \r\nL 26.925 113.196019 \r\n\" style=\"fill:#03051a;\"/>\r\n    <path clip-path=\"url(#pfd94061cb0)\" d=\"M 160.845 113.196019 \r\nL 294.765 113.196019 \r\nL 294.765 115.370419 \r\nL 160.845 115.370419 \r\nL 160.845 113.196019 \r\n\" style=\"fill:#faebdd;\"/>\r\n    <path clip-path=\"url(#pfd94061cb0)\" d=\"M 26.925 115.370419 \r\nL 160.845 115.370419 \r\nL 160.845 117.544819 \r\nL 26.925 117.544819 \r\nL 26.925 115.370419 \r\n\" style=\"fill:#faebdd;\"/>\r\n    <path clip-path=\"url(#pfd94061cb0)\" d=\"M 160.845 115.370419 \r\nL 294.765 115.370419 \r\nL 294.765 117.544819 \r\nL 160.845 117.544819 \r\nL 160.845 115.370419 \r\n\" style=\"fill:#faebdd;\"/>\r\n    <path clip-path=\"url(#pfd94061cb0)\" d=\"M 26.925 117.544819 \r\nL 160.845 117.544819 \r\nL 160.845 119.719219 \r\nL 26.925 119.719219 \r\nL 26.925 117.544819 \r\n\" style=\"fill:#faebdd;\"/>\r\n    <path clip-path=\"url(#pfd94061cb0)\" d=\"M 160.845 117.544819 \r\nL 294.765 117.544819 \r\nL 294.765 119.719219 \r\nL 160.845 119.719219 \r\nL 160.845 117.544819 \r\n\" style=\"fill:#03051a;\"/>\r\n    <path clip-path=\"url(#pfd94061cb0)\" d=\"M 26.925 119.719219 \r\nL 160.845 119.719219 \r\nL 160.845 121.893619 \r\nL 26.925 121.893619 \r\nL 26.925 119.719219 \r\n\" style=\"fill:#faebdd;\"/>\r\n    <path clip-path=\"url(#pfd94061cb0)\" d=\"M 160.845 119.719219 \r\nL 294.765 119.719219 \r\nL 294.765 121.893619 \r\nL 160.845 121.893619 \r\nL 160.845 119.719219 \r\n\" style=\"fill:#faebdd;\"/>\r\n    <path clip-path=\"url(#pfd94061cb0)\" d=\"M 26.925 121.893619 \r\nL 160.845 121.893619 \r\nL 160.845 124.068019 \r\nL 26.925 124.068019 \r\nL 26.925 121.893619 \r\n\" style=\"fill:#faebdd;\"/>\r\n    <path clip-path=\"url(#pfd94061cb0)\" d=\"M 160.845 121.893619 \r\nL 294.765 121.893619 \r\nL 294.765 124.068019 \r\nL 160.845 124.068019 \r\nL 160.845 121.893619 \r\n\" style=\"fill:#faebdd;\"/>\r\n    <path clip-path=\"url(#pfd94061cb0)\" d=\"M 26.925 124.068019 \r\nL 160.845 124.068019 \r\nL 160.845 126.242419 \r\nL 26.925 126.242419 \r\nL 26.925 124.068019 \r\n\" style=\"fill:#faebdd;\"/>\r\n    <path clip-path=\"url(#pfd94061cb0)\" d=\"M 160.845 124.068019 \r\nL 294.765 124.068019 \r\nL 294.765 126.242419 \r\nL 160.845 126.242419 \r\nL 160.845 124.068019 \r\n\" style=\"fill:#faebdd;\"/>\r\n    <path clip-path=\"url(#pfd94061cb0)\" d=\"M 26.925 126.242419 \r\nL 160.845 126.242419 \r\nL 160.845 128.416819 \r\nL 26.925 128.416819 \r\nL 26.925 126.242419 \r\n\" style=\"fill:#03051a;\"/>\r\n    <path clip-path=\"url(#pfd94061cb0)\" d=\"M 160.845 126.242419 \r\nL 294.765 126.242419 \r\nL 294.765 128.416819 \r\nL 160.845 128.416819 \r\nL 160.845 126.242419 \r\n\" style=\"fill:#faebdd;\"/>\r\n    <path clip-path=\"url(#pfd94061cb0)\" d=\"M 26.925 128.416819 \r\nL 160.845 128.416819 \r\nL 160.845 130.591219 \r\nL 26.925 130.591219 \r\nL 26.925 128.416819 \r\n\" style=\"fill:#faebdd;\"/>\r\n    <path clip-path=\"url(#pfd94061cb0)\" d=\"M 160.845 128.416819 \r\nL 294.765 128.416819 \r\nL 294.765 130.591219 \r\nL 160.845 130.591219 \r\nL 160.845 128.416819 \r\n\" style=\"fill:#faebdd;\"/>\r\n    <path clip-path=\"url(#pfd94061cb0)\" d=\"M 26.925 130.591219 \r\nL 160.845 130.591219 \r\nL 160.845 132.765619 \r\nL 26.925 132.765619 \r\nL 26.925 130.591219 \r\n\" style=\"fill:#03051a;\"/>\r\n    <path clip-path=\"url(#pfd94061cb0)\" d=\"M 160.845 130.591219 \r\nL 294.765 130.591219 \r\nL 294.765 132.765619 \r\nL 160.845 132.765619 \r\nL 160.845 130.591219 \r\n\" style=\"fill:#faebdd;\"/>\r\n    <path clip-path=\"url(#pfd94061cb0)\" d=\"M 26.925 132.765619 \r\nL 160.845 132.765619 \r\nL 160.845 134.940019 \r\nL 26.925 134.940019 \r\nL 26.925 132.765619 \r\n\" style=\"fill:#03051a;\"/>\r\n    <path clip-path=\"url(#pfd94061cb0)\" d=\"M 160.845 132.765619 \r\nL 294.765 132.765619 \r\nL 294.765 134.940019 \r\nL 160.845 134.940019 \r\nL 160.845 132.765619 \r\n\" style=\"fill:#faebdd;\"/>\r\n    <path clip-path=\"url(#pfd94061cb0)\" d=\"M 26.925 134.940019 \r\nL 160.845 134.940019 \r\nL 160.845 137.114419 \r\nL 26.925 137.114419 \r\nL 26.925 134.940019 \r\n\" style=\"fill:#faebdd;\"/>\r\n    <path clip-path=\"url(#pfd94061cb0)\" d=\"M 160.845 134.940019 \r\nL 294.765 134.940019 \r\nL 294.765 137.114419 \r\nL 160.845 137.114419 \r\nL 160.845 134.940019 \r\n\" style=\"fill:#faebdd;\"/>\r\n    <path clip-path=\"url(#pfd94061cb0)\" d=\"M 26.925 137.114419 \r\nL 160.845 137.114419 \r\nL 160.845 139.288819 \r\nL 26.925 139.288819 \r\nL 26.925 137.114419 \r\n\" style=\"fill:#faebdd;\"/>\r\n    <path clip-path=\"url(#pfd94061cb0)\" d=\"M 160.845 137.114419 \r\nL 294.765 137.114419 \r\nL 294.765 139.288819 \r\nL 160.845 139.288819 \r\nL 160.845 137.114419 \r\n\" style=\"fill:#faebdd;\"/>\r\n    <path clip-path=\"url(#pfd94061cb0)\" d=\"M 26.925 139.288819 \r\nL 160.845 139.288819 \r\nL 160.845 141.463219 \r\nL 26.925 141.463219 \r\nL 26.925 139.288819 \r\n\" style=\"fill:#faebdd;\"/>\r\n    <path clip-path=\"url(#pfd94061cb0)\" d=\"M 160.845 139.288819 \r\nL 294.765 139.288819 \r\nL 294.765 141.463219 \r\nL 160.845 141.463219 \r\nL 160.845 139.288819 \r\n\" style=\"fill:#faebdd;\"/>\r\n    <path clip-path=\"url(#pfd94061cb0)\" d=\"M 26.925 141.463219 \r\nL 160.845 141.463219 \r\nL 160.845 143.637619 \r\nL 26.925 143.637619 \r\nL 26.925 141.463219 \r\n\" style=\"fill:#faebdd;\"/>\r\n    <path clip-path=\"url(#pfd94061cb0)\" d=\"M 160.845 141.463219 \r\nL 294.765 141.463219 \r\nL 294.765 143.637619 \r\nL 160.845 143.637619 \r\nL 160.845 141.463219 \r\n\" style=\"fill:#faebdd;\"/>\r\n    <path clip-path=\"url(#pfd94061cb0)\" d=\"M 26.925 143.637619 \r\nL 160.845 143.637619 \r\nL 160.845 145.812019 \r\nL 26.925 145.812019 \r\nL 26.925 143.637619 \r\n\" style=\"fill:#faebdd;\"/>\r\n    <path clip-path=\"url(#pfd94061cb0)\" d=\"M 160.845 143.637619 \r\nL 294.765 143.637619 \r\nL 294.765 145.812019 \r\nL 160.845 145.812019 \r\nL 160.845 143.637619 \r\n\" style=\"fill:#faebdd;\"/>\r\n    <path clip-path=\"url(#pfd94061cb0)\" d=\"M 26.925 145.812019 \r\nL 160.845 145.812019 \r\nL 160.845 147.986419 \r\nL 26.925 147.986419 \r\nL 26.925 145.812019 \r\n\" style=\"fill:#03051a;\"/>\r\n    <path clip-path=\"url(#pfd94061cb0)\" d=\"M 160.845 145.812019 \r\nL 294.765 145.812019 \r\nL 294.765 147.986419 \r\nL 160.845 147.986419 \r\nL 160.845 145.812019 \r\n\" style=\"fill:#03051a;\"/>\r\n    <path clip-path=\"url(#pfd94061cb0)\" d=\"M 26.925 147.986419 \r\nL 160.845 147.986419 \r\nL 160.845 150.160819 \r\nL 26.925 150.160819 \r\nL 26.925 147.986419 \r\n\" style=\"fill:#faebdd;\"/>\r\n    <path clip-path=\"url(#pfd94061cb0)\" d=\"M 160.845 147.986419 \r\nL 294.765 147.986419 \r\nL 294.765 150.160819 \r\nL 160.845 150.160819 \r\nL 160.845 147.986419 \r\n\" style=\"fill:#faebdd;\"/>\r\n    <path clip-path=\"url(#pfd94061cb0)\" d=\"M 26.925 150.160819 \r\nL 160.845 150.160819 \r\nL 160.845 152.335219 \r\nL 26.925 152.335219 \r\nL 26.925 150.160819 \r\n\" style=\"fill:#faebdd;\"/>\r\n    <path clip-path=\"url(#pfd94061cb0)\" d=\"M 160.845 150.160819 \r\nL 294.765 150.160819 \r\nL 294.765 152.335219 \r\nL 160.845 152.335219 \r\nL 160.845 150.160819 \r\n\" style=\"fill:#faebdd;\"/>\r\n    <path clip-path=\"url(#pfd94061cb0)\" d=\"M 26.925 152.335219 \r\nL 160.845 152.335219 \r\nL 160.845 154.509619 \r\nL 26.925 154.509619 \r\nL 26.925 152.335219 \r\n\" style=\"fill:#03051a;\"/>\r\n    <path clip-path=\"url(#pfd94061cb0)\" d=\"M 160.845 152.335219 \r\nL 294.765 152.335219 \r\nL 294.765 154.509619 \r\nL 160.845 154.509619 \r\nL 160.845 152.335219 \r\n\" style=\"fill:#faebdd;\"/>\r\n    <path clip-path=\"url(#pfd94061cb0)\" d=\"M 26.925 154.509619 \r\nL 160.845 154.509619 \r\nL 160.845 156.684019 \r\nL 26.925 156.684019 \r\nL 26.925 154.509619 \r\n\" style=\"fill:#faebdd;\"/>\r\n    <path clip-path=\"url(#pfd94061cb0)\" d=\"M 160.845 154.509619 \r\nL 294.765 154.509619 \r\nL 294.765 156.684019 \r\nL 160.845 156.684019 \r\nL 160.845 154.509619 \r\n\" style=\"fill:#faebdd;\"/>\r\n    <path clip-path=\"url(#pfd94061cb0)\" d=\"M 26.925 156.684019 \r\nL 160.845 156.684019 \r\nL 160.845 158.858419 \r\nL 26.925 158.858419 \r\nL 26.925 156.684019 \r\n\" style=\"fill:#03051a;\"/>\r\n    <path clip-path=\"url(#pfd94061cb0)\" d=\"M 160.845 156.684019 \r\nL 294.765 156.684019 \r\nL 294.765 158.858419 \r\nL 160.845 158.858419 \r\nL 160.845 156.684019 \r\n\" style=\"fill:#03051a;\"/>\r\n    <path clip-path=\"url(#pfd94061cb0)\" d=\"M 26.925 158.858419 \r\nL 160.845 158.858419 \r\nL 160.845 161.032819 \r\nL 26.925 161.032819 \r\nL 26.925 158.858419 \r\n\" style=\"fill:#faebdd;\"/>\r\n    <path clip-path=\"url(#pfd94061cb0)\" d=\"M 160.845 158.858419 \r\nL 294.765 158.858419 \r\nL 294.765 161.032819 \r\nL 160.845 161.032819 \r\nL 160.845 158.858419 \r\n\" style=\"fill:#03051a;\"/>\r\n    <path clip-path=\"url(#pfd94061cb0)\" d=\"M 26.925 161.032819 \r\nL 160.845 161.032819 \r\nL 160.845 163.207219 \r\nL 26.925 163.207219 \r\nL 26.925 161.032819 \r\n\" style=\"fill:#03051a;\"/>\r\n    <path clip-path=\"url(#pfd94061cb0)\" d=\"M 160.845 161.032819 \r\nL 294.765 161.032819 \r\nL 294.765 163.207219 \r\nL 160.845 163.207219 \r\nL 160.845 161.032819 \r\n\" style=\"fill:#faebdd;\"/>\r\n    <path clip-path=\"url(#pfd94061cb0)\" d=\"M 26.925 163.207219 \r\nL 160.845 163.207219 \r\nL 160.845 165.381619 \r\nL 26.925 165.381619 \r\nL 26.925 163.207219 \r\n\" style=\"fill:#faebdd;\"/>\r\n    <path clip-path=\"url(#pfd94061cb0)\" d=\"M 160.845 163.207219 \r\nL 294.765 163.207219 \r\nL 294.765 165.381619 \r\nL 160.845 165.381619 \r\nL 160.845 163.207219 \r\n\" style=\"fill:#03051a;\"/>\r\n    <path clip-path=\"url(#pfd94061cb0)\" d=\"M 26.925 165.381619 \r\nL 160.845 165.381619 \r\nL 160.845 167.556019 \r\nL 26.925 167.556019 \r\nL 26.925 165.381619 \r\n\" style=\"fill:#faebdd;\"/>\r\n    <path clip-path=\"url(#pfd94061cb0)\" d=\"M 160.845 165.381619 \r\nL 294.765 165.381619 \r\nL 294.765 167.556019 \r\nL 160.845 167.556019 \r\nL 160.845 165.381619 \r\n\" style=\"fill:#03051a;\"/>\r\n    <path clip-path=\"url(#pfd94061cb0)\" d=\"M 26.925 167.556019 \r\nL 160.845 167.556019 \r\nL 160.845 169.730419 \r\nL 26.925 169.730419 \r\nL 26.925 167.556019 \r\n\" style=\"fill:#faebdd;\"/>\r\n    <path clip-path=\"url(#pfd94061cb0)\" d=\"M 160.845 167.556019 \r\nL 294.765 167.556019 \r\nL 294.765 169.730419 \r\nL 160.845 169.730419 \r\nL 160.845 167.556019 \r\n\" style=\"fill:#faebdd;\"/>\r\n    <path clip-path=\"url(#pfd94061cb0)\" d=\"M 26.925 169.730419 \r\nL 160.845 169.730419 \r\nL 160.845 171.904819 \r\nL 26.925 171.904819 \r\nL 26.925 169.730419 \r\n\" style=\"fill:#03051a;\"/>\r\n    <path clip-path=\"url(#pfd94061cb0)\" d=\"M 160.845 169.730419 \r\nL 294.765 169.730419 \r\nL 294.765 171.904819 \r\nL 160.845 171.904819 \r\nL 160.845 169.730419 \r\n\" style=\"fill:#faebdd;\"/>\r\n    <path clip-path=\"url(#pfd94061cb0)\" d=\"M 26.925 171.904819 \r\nL 160.845 171.904819 \r\nL 160.845 174.079219 \r\nL 26.925 174.079219 \r\nL 26.925 171.904819 \r\n\" style=\"fill:#03051a;\"/>\r\n    <path clip-path=\"url(#pfd94061cb0)\" d=\"M 160.845 171.904819 \r\nL 294.765 171.904819 \r\nL 294.765 174.079219 \r\nL 160.845 174.079219 \r\nL 160.845 171.904819 \r\n\" style=\"fill:#faebdd;\"/>\r\n    <path clip-path=\"url(#pfd94061cb0)\" d=\"M 26.925 174.079219 \r\nL 160.845 174.079219 \r\nL 160.845 176.253619 \r\nL 26.925 176.253619 \r\nL 26.925 174.079219 \r\n\" style=\"fill:#faebdd;\"/>\r\n    <path clip-path=\"url(#pfd94061cb0)\" d=\"M 160.845 174.079219 \r\nL 294.765 174.079219 \r\nL 294.765 176.253619 \r\nL 160.845 176.253619 \r\nL 160.845 174.079219 \r\n\" style=\"fill:#faebdd;\"/>\r\n    <path clip-path=\"url(#pfd94061cb0)\" d=\"M 26.925 176.253619 \r\nL 160.845 176.253619 \r\nL 160.845 178.428019 \r\nL 26.925 178.428019 \r\nL 26.925 176.253619 \r\n\" style=\"fill:#faebdd;\"/>\r\n    <path clip-path=\"url(#pfd94061cb0)\" d=\"M 160.845 176.253619 \r\nL 294.765 176.253619 \r\nL 294.765 178.428019 \r\nL 160.845 178.428019 \r\nL 160.845 176.253619 \r\n\" style=\"fill:#faebdd;\"/>\r\n    <path clip-path=\"url(#pfd94061cb0)\" d=\"M 26.925 178.428019 \r\nL 160.845 178.428019 \r\nL 160.845 180.602419 \r\nL 26.925 180.602419 \r\nL 26.925 178.428019 \r\n\" style=\"fill:#faebdd;\"/>\r\n    <path clip-path=\"url(#pfd94061cb0)\" d=\"M 160.845 178.428019 \r\nL 294.765 178.428019 \r\nL 294.765 180.602419 \r\nL 160.845 180.602419 \r\nL 160.845 178.428019 \r\n\" style=\"fill:#03051a;\"/>\r\n    <path clip-path=\"url(#pfd94061cb0)\" d=\"M 26.925 180.602419 \r\nL 160.845 180.602419 \r\nL 160.845 182.776819 \r\nL 26.925 182.776819 \r\nL 26.925 180.602419 \r\n\" style=\"fill:#faebdd;\"/>\r\n    <path clip-path=\"url(#pfd94061cb0)\" d=\"M 160.845 180.602419 \r\nL 294.765 180.602419 \r\nL 294.765 182.776819 \r\nL 160.845 182.776819 \r\nL 160.845 180.602419 \r\n\" style=\"fill:#faebdd;\"/>\r\n    <path clip-path=\"url(#pfd94061cb0)\" d=\"M 26.925 182.776819 \r\nL 160.845 182.776819 \r\nL 160.845 184.951219 \r\nL 26.925 184.951219 \r\nL 26.925 182.776819 \r\n\" style=\"fill:#faebdd;\"/>\r\n    <path clip-path=\"url(#pfd94061cb0)\" d=\"M 160.845 182.776819 \r\nL 294.765 182.776819 \r\nL 294.765 184.951219 \r\nL 160.845 184.951219 \r\nL 160.845 182.776819 \r\n\" style=\"fill:#faebdd;\"/>\r\n    <path clip-path=\"url(#pfd94061cb0)\" d=\"M 26.925 184.951219 \r\nL 160.845 184.951219 \r\nL 160.845 187.125619 \r\nL 26.925 187.125619 \r\nL 26.925 184.951219 \r\n\" style=\"fill:#faebdd;\"/>\r\n    <path clip-path=\"url(#pfd94061cb0)\" d=\"M 160.845 184.951219 \r\nL 294.765 184.951219 \r\nL 294.765 187.125619 \r\nL 160.845 187.125619 \r\nL 160.845 184.951219 \r\n\" style=\"fill:#faebdd;\"/>\r\n    <path clip-path=\"url(#pfd94061cb0)\" d=\"M 26.925 187.125619 \r\nL 160.845 187.125619 \r\nL 160.845 189.300019 \r\nL 26.925 189.300019 \r\nL 26.925 187.125619 \r\n\" style=\"fill:#faebdd;\"/>\r\n    <path clip-path=\"url(#pfd94061cb0)\" d=\"M 160.845 187.125619 \r\nL 294.765 187.125619 \r\nL 294.765 189.300019 \r\nL 160.845 189.300019 \r\nL 160.845 187.125619 \r\n\" style=\"fill:#faebdd;\"/>\r\n    <path clip-path=\"url(#pfd94061cb0)\" d=\"M 26.925 189.300019 \r\nL 160.845 189.300019 \r\nL 160.845 191.474419 \r\nL 26.925 191.474419 \r\nL 26.925 189.300019 \r\n\" style=\"fill:#faebdd;\"/>\r\n    <path clip-path=\"url(#pfd94061cb0)\" d=\"M 160.845 189.300019 \r\nL 294.765 189.300019 \r\nL 294.765 191.474419 \r\nL 160.845 191.474419 \r\nL 160.845 189.300019 \r\n\" style=\"fill:#faebdd;\"/>\r\n    <path clip-path=\"url(#pfd94061cb0)\" d=\"M 26.925 191.474419 \r\nL 160.845 191.474419 \r\nL 160.845 193.648819 \r\nL 26.925 193.648819 \r\nL 26.925 191.474419 \r\n\" style=\"fill:#faebdd;\"/>\r\n    <path clip-path=\"url(#pfd94061cb0)\" d=\"M 160.845 191.474419 \r\nL 294.765 191.474419 \r\nL 294.765 193.648819 \r\nL 160.845 193.648819 \r\nL 160.845 191.474419 \r\n\" style=\"fill:#03051a;\"/>\r\n    <path clip-path=\"url(#pfd94061cb0)\" d=\"M 26.925 193.648819 \r\nL 160.845 193.648819 \r\nL 160.845 195.823219 \r\nL 26.925 195.823219 \r\nL 26.925 193.648819 \r\n\" style=\"fill:#faebdd;\"/>\r\n    <path clip-path=\"url(#pfd94061cb0)\" d=\"M 160.845 193.648819 \r\nL 294.765 193.648819 \r\nL 294.765 195.823219 \r\nL 160.845 195.823219 \r\nL 160.845 193.648819 \r\n\" style=\"fill:#03051a;\"/>\r\n    <path clip-path=\"url(#pfd94061cb0)\" d=\"M 26.925 195.823219 \r\nL 160.845 195.823219 \r\nL 160.845 197.997619 \r\nL 26.925 197.997619 \r\nL 26.925 195.823219 \r\n\" style=\"fill:#faebdd;\"/>\r\n    <path clip-path=\"url(#pfd94061cb0)\" d=\"M 160.845 195.823219 \r\nL 294.765 195.823219 \r\nL 294.765 197.997619 \r\nL 160.845 197.997619 \r\nL 160.845 195.823219 \r\n\" style=\"fill:#faebdd;\"/>\r\n    <path clip-path=\"url(#pfd94061cb0)\" d=\"M 26.925 197.997619 \r\nL 160.845 197.997619 \r\nL 160.845 200.172019 \r\nL 26.925 200.172019 \r\nL 26.925 197.997619 \r\n\" style=\"fill:#faebdd;\"/>\r\n    <path clip-path=\"url(#pfd94061cb0)\" d=\"M 160.845 197.997619 \r\nL 294.765 197.997619 \r\nL 294.765 200.172019 \r\nL 160.845 200.172019 \r\nL 160.845 197.997619 \r\n\" style=\"fill:#faebdd;\"/>\r\n    <path clip-path=\"url(#pfd94061cb0)\" d=\"M 26.925 200.172019 \r\nL 160.845 200.172019 \r\nL 160.845 202.346419 \r\nL 26.925 202.346419 \r\nL 26.925 200.172019 \r\n\" style=\"fill:#03051a;\"/>\r\n    <path clip-path=\"url(#pfd94061cb0)\" d=\"M 160.845 200.172019 \r\nL 294.765 200.172019 \r\nL 294.765 202.346419 \r\nL 160.845 202.346419 \r\nL 160.845 200.172019 \r\n\" style=\"fill:#faebdd;\"/>\r\n    <path clip-path=\"url(#pfd94061cb0)\" d=\"M 26.925 202.346419 \r\nL 160.845 202.346419 \r\nL 160.845 204.520819 \r\nL 26.925 204.520819 \r\nL 26.925 202.346419 \r\n\" style=\"fill:#faebdd;\"/>\r\n    <path clip-path=\"url(#pfd94061cb0)\" d=\"M 160.845 202.346419 \r\nL 294.765 202.346419 \r\nL 294.765 204.520819 \r\nL 160.845 204.520819 \r\nL 160.845 202.346419 \r\n\" style=\"fill:#faebdd;\"/>\r\n    <path clip-path=\"url(#pfd94061cb0)\" d=\"M 26.925 204.520819 \r\nL 160.845 204.520819 \r\nL 160.845 206.695219 \r\nL 26.925 206.695219 \r\nL 26.925 204.520819 \r\n\" style=\"fill:#faebdd;\"/>\r\n    <path clip-path=\"url(#pfd94061cb0)\" d=\"M 160.845 204.520819 \r\nL 294.765 204.520819 \r\nL 294.765 206.695219 \r\nL 160.845 206.695219 \r\nL 160.845 204.520819 \r\n\" style=\"fill:#faebdd;\"/>\r\n    <path clip-path=\"url(#pfd94061cb0)\" d=\"M 26.925 206.695219 \r\nL 160.845 206.695219 \r\nL 160.845 208.869619 \r\nL 26.925 208.869619 \r\nL 26.925 206.695219 \r\n\" style=\"fill:#faebdd;\"/>\r\n    <path clip-path=\"url(#pfd94061cb0)\" d=\"M 160.845 206.695219 \r\nL 294.765 206.695219 \r\nL 294.765 208.869619 \r\nL 160.845 208.869619 \r\nL 160.845 206.695219 \r\n\" style=\"fill:#faebdd;\"/>\r\n    <path clip-path=\"url(#pfd94061cb0)\" d=\"M 26.925 208.869619 \r\nL 160.845 208.869619 \r\nL 160.845 211.044019 \r\nL 26.925 211.044019 \r\nL 26.925 208.869619 \r\n\" style=\"fill:#03051a;\"/>\r\n    <path clip-path=\"url(#pfd94061cb0)\" d=\"M 160.845 208.869619 \r\nL 294.765 208.869619 \r\nL 294.765 211.044019 \r\nL 160.845 211.044019 \r\nL 160.845 208.869619 \r\n\" style=\"fill:#faebdd;\"/>\r\n    <path clip-path=\"url(#pfd94061cb0)\" d=\"M 26.925 211.044019 \r\nL 160.845 211.044019 \r\nL 160.845 213.218419 \r\nL 26.925 213.218419 \r\nL 26.925 211.044019 \r\n\" style=\"fill:#faebdd;\"/>\r\n    <path clip-path=\"url(#pfd94061cb0)\" d=\"M 160.845 211.044019 \r\nL 294.765 211.044019 \r\nL 294.765 213.218419 \r\nL 160.845 213.218419 \r\nL 160.845 211.044019 \r\n\" style=\"fill:#03051a;\"/>\r\n    <path clip-path=\"url(#pfd94061cb0)\" d=\"M 26.925 213.218419 \r\nL 160.845 213.218419 \r\nL 160.845 215.392819 \r\nL 26.925 215.392819 \r\nL 26.925 213.218419 \r\n\" style=\"fill:#faebdd;\"/>\r\n    <path clip-path=\"url(#pfd94061cb0)\" d=\"M 160.845 213.218419 \r\nL 294.765 213.218419 \r\nL 294.765 215.392819 \r\nL 160.845 215.392819 \r\nL 160.845 213.218419 \r\n\" style=\"fill:#faebdd;\"/>\r\n    <path clip-path=\"url(#pfd94061cb0)\" d=\"M 26.925 215.392819 \r\nL 160.845 215.392819 \r\nL 160.845 217.567219 \r\nL 26.925 217.567219 \r\nL 26.925 215.392819 \r\n\" style=\"fill:#faebdd;\"/>\r\n    <path clip-path=\"url(#pfd94061cb0)\" d=\"M 160.845 215.392819 \r\nL 294.765 215.392819 \r\nL 294.765 217.567219 \r\nL 160.845 217.567219 \r\nL 160.845 215.392819 \r\n\" style=\"fill:#faebdd;\"/>\r\n    <path clip-path=\"url(#pfd94061cb0)\" d=\"M 26.925 217.567219 \r\nL 160.845 217.567219 \r\nL 160.845 219.741619 \r\nL 26.925 219.741619 \r\nL 26.925 217.567219 \r\n\" style=\"fill:#03051a;\"/>\r\n    <path clip-path=\"url(#pfd94061cb0)\" d=\"M 160.845 217.567219 \r\nL 294.765 217.567219 \r\nL 294.765 219.741619 \r\nL 160.845 219.741619 \r\nL 160.845 217.567219 \r\n\" style=\"fill:#faebdd;\"/>\r\n    <path clip-path=\"url(#pfd94061cb0)\" d=\"M 26.925 219.741619 \r\nL 160.845 219.741619 \r\nL 160.845 221.916019 \r\nL 26.925 221.916019 \r\nL 26.925 219.741619 \r\n\" style=\"fill:#03051a;\"/>\r\n    <path clip-path=\"url(#pfd94061cb0)\" d=\"M 160.845 219.741619 \r\nL 294.765 219.741619 \r\nL 294.765 221.916019 \r\nL 160.845 221.916019 \r\nL 160.845 219.741619 \r\n\" style=\"fill:#faebdd;\"/>\r\n    <path clip-path=\"url(#pfd94061cb0)\" d=\"M 26.925 221.916019 \r\nL 160.845 221.916019 \r\nL 160.845 224.090419 \r\nL 26.925 224.090419 \r\nL 26.925 221.916019 \r\n\" style=\"fill:#faebdd;\"/>\r\n    <path clip-path=\"url(#pfd94061cb0)\" d=\"M 160.845 221.916019 \r\nL 294.765 221.916019 \r\nL 294.765 224.090419 \r\nL 160.845 224.090419 \r\nL 160.845 221.916019 \r\n\" style=\"fill:#faebdd;\"/>\r\n    <path clip-path=\"url(#pfd94061cb0)\" d=\"M 26.925 224.090419 \r\nL 160.845 224.090419 \r\nL 160.845 226.264819 \r\nL 26.925 226.264819 \r\nL 26.925 224.090419 \r\n\" style=\"fill:#faebdd;\"/>\r\n    <path clip-path=\"url(#pfd94061cb0)\" d=\"M 160.845 224.090419 \r\nL 294.765 224.090419 \r\nL 294.765 226.264819 \r\nL 160.845 226.264819 \r\nL 160.845 224.090419 \r\n\" style=\"fill:#faebdd;\"/>\r\n    <path clip-path=\"url(#pfd94061cb0)\" d=\"M 26.925 226.264819 \r\nL 160.845 226.264819 \r\nL 160.845 228.439219 \r\nL 26.925 228.439219 \r\nL 26.925 226.264819 \r\n\" style=\"fill:#faebdd;\"/>\r\n    <path clip-path=\"url(#pfd94061cb0)\" d=\"M 160.845 226.264819 \r\nL 294.765 226.264819 \r\nL 294.765 228.439219 \r\nL 160.845 228.439219 \r\nL 160.845 226.264819 \r\n\" style=\"fill:#faebdd;\"/>\r\n   </g>\r\n   <g id=\"matplotlib.axis_1\">\r\n    <g id=\"xtick_1\">\r\n     <g id=\"line2d_1\">\r\n      <defs>\r\n       <path d=\"M 0 0 \r\nL 0 3.5 \r\n\" id=\"mb0f4c6d939\" style=\"stroke:#000000;stroke-width:0.8;\"/>\r\n      </defs>\r\n      <g>\r\n       <use style=\"stroke:#000000;stroke-width:0.8;\" x=\"93.885\" xlink:href=\"#mb0f4c6d939\" y=\"228.439219\"/>\r\n      </g>\r\n     </g>\r\n     <g id=\"text_1\">\r\n      <!-- Potato, Daeji, Raw -->\r\n      <g transform=\"translate(48.308438 243.037656)scale(0.1 -0.1)\">\r\n       <defs>\r\n        <path d=\"M 1259 4147 \r\nL 1259 2394 \r\nL 2053 2394 \r\nQ 2494 2394 2734 2622 \r\nQ 2975 2850 2975 3272 \r\nQ 2975 3691 2734 3919 \r\nQ 2494 4147 2053 4147 \r\nL 1259 4147 \r\nz\r\nM 628 4666 \r\nL 2053 4666 \r\nQ 2838 4666 3239 4311 \r\nQ 3641 3956 3641 3272 \r\nQ 3641 2581 3239 2228 \r\nQ 2838 1875 2053 1875 \r\nL 1259 1875 \r\nL 1259 0 \r\nL 628 0 \r\nL 628 4666 \r\nz\r\n\" id=\"DejaVuSans-50\" transform=\"scale(0.015625)\"/>\r\n        <path d=\"M 1959 3097 \r\nQ 1497 3097 1228 2736 \r\nQ 959 2375 959 1747 \r\nQ 959 1119 1226 758 \r\nQ 1494 397 1959 397 \r\nQ 2419 397 2687 759 \r\nQ 2956 1122 2956 1747 \r\nQ 2956 2369 2687 2733 \r\nQ 2419 3097 1959 3097 \r\nz\r\nM 1959 3584 \r\nQ 2709 3584 3137 3096 \r\nQ 3566 2609 3566 1747 \r\nQ 3566 888 3137 398 \r\nQ 2709 -91 1959 -91 \r\nQ 1206 -91 779 398 \r\nQ 353 888 353 1747 \r\nQ 353 2609 779 3096 \r\nQ 1206 3584 1959 3584 \r\nz\r\n\" id=\"DejaVuSans-6f\" transform=\"scale(0.015625)\"/>\r\n        <path d=\"M 1172 4494 \r\nL 1172 3500 \r\nL 2356 3500 \r\nL 2356 3053 \r\nL 1172 3053 \r\nL 1172 1153 \r\nQ 1172 725 1289 603 \r\nQ 1406 481 1766 481 \r\nL 2356 481 \r\nL 2356 0 \r\nL 1766 0 \r\nQ 1100 0 847 248 \r\nQ 594 497 594 1153 \r\nL 594 3053 \r\nL 172 3053 \r\nL 172 3500 \r\nL 594 3500 \r\nL 594 4494 \r\nL 1172 4494 \r\nz\r\n\" id=\"DejaVuSans-74\" transform=\"scale(0.015625)\"/>\r\n        <path d=\"M 2194 1759 \r\nQ 1497 1759 1228 1600 \r\nQ 959 1441 959 1056 \r\nQ 959 750 1161 570 \r\nQ 1363 391 1709 391 \r\nQ 2188 391 2477 730 \r\nQ 2766 1069 2766 1631 \r\nL 2766 1759 \r\nL 2194 1759 \r\nz\r\nM 3341 1997 \r\nL 3341 0 \r\nL 2766 0 \r\nL 2766 531 \r\nQ 2569 213 2275 61 \r\nQ 1981 -91 1556 -91 \r\nQ 1019 -91 701 211 \r\nQ 384 513 384 1019 \r\nQ 384 1609 779 1909 \r\nQ 1175 2209 1959 2209 \r\nL 2766 2209 \r\nL 2766 2266 \r\nQ 2766 2663 2505 2880 \r\nQ 2244 3097 1772 3097 \r\nQ 1472 3097 1187 3025 \r\nQ 903 2953 641 2809 \r\nL 641 3341 \r\nQ 956 3463 1253 3523 \r\nQ 1550 3584 1831 3584 \r\nQ 2591 3584 2966 3190 \r\nQ 3341 2797 3341 1997 \r\nz\r\n\" id=\"DejaVuSans-61\" transform=\"scale(0.015625)\"/>\r\n        <path d=\"M 750 794 \r\nL 1409 794 \r\nL 1409 256 \r\nL 897 -744 \r\nL 494 -744 \r\nL 750 256 \r\nL 750 794 \r\nz\r\n\" id=\"DejaVuSans-2c\" transform=\"scale(0.015625)\"/>\r\n        <path id=\"DejaVuSans-20\" transform=\"scale(0.015625)\"/>\r\n        <path d=\"M 1259 4147 \r\nL 1259 519 \r\nL 2022 519 \r\nQ 2988 519 3436 956 \r\nQ 3884 1394 3884 2338 \r\nQ 3884 3275 3436 3711 \r\nQ 2988 4147 2022 4147 \r\nL 1259 4147 \r\nz\r\nM 628 4666 \r\nL 1925 4666 \r\nQ 3281 4666 3915 4102 \r\nQ 4550 3538 4550 2338 \r\nQ 4550 1131 3912 565 \r\nQ 3275 0 1925 0 \r\nL 628 0 \r\nL 628 4666 \r\nz\r\n\" id=\"DejaVuSans-44\" transform=\"scale(0.015625)\"/>\r\n        <path d=\"M 3597 1894 \r\nL 3597 1613 \r\nL 953 1613 \r\nQ 991 1019 1311 708 \r\nQ 1631 397 2203 397 \r\nQ 2534 397 2845 478 \r\nQ 3156 559 3463 722 \r\nL 3463 178 \r\nQ 3153 47 2828 -22 \r\nQ 2503 -91 2169 -91 \r\nQ 1331 -91 842 396 \r\nQ 353 884 353 1716 \r\nQ 353 2575 817 3079 \r\nQ 1281 3584 2069 3584 \r\nQ 2775 3584 3186 3129 \r\nQ 3597 2675 3597 1894 \r\nz\r\nM 3022 2063 \r\nQ 3016 2534 2758 2815 \r\nQ 2500 3097 2075 3097 \r\nQ 1594 3097 1305 2825 \r\nQ 1016 2553 972 2059 \r\nL 3022 2063 \r\nz\r\n\" id=\"DejaVuSans-65\" transform=\"scale(0.015625)\"/>\r\n        <path d=\"M 603 3500 \r\nL 1178 3500 \r\nL 1178 -63 \r\nQ 1178 -731 923 -1031 \r\nQ 669 -1331 103 -1331 \r\nL -116 -1331 \r\nL -116 -844 \r\nL 38 -844 \r\nQ 366 -844 484 -692 \r\nQ 603 -541 603 -63 \r\nL 603 3500 \r\nz\r\nM 603 4863 \r\nL 1178 4863 \r\nL 1178 4134 \r\nL 603 4134 \r\nL 603 4863 \r\nz\r\n\" id=\"DejaVuSans-6a\" transform=\"scale(0.015625)\"/>\r\n        <path d=\"M 603 3500 \r\nL 1178 3500 \r\nL 1178 0 \r\nL 603 0 \r\nL 603 3500 \r\nz\r\nM 603 4863 \r\nL 1178 4863 \r\nL 1178 4134 \r\nL 603 4134 \r\nL 603 4863 \r\nz\r\n\" id=\"DejaVuSans-69\" transform=\"scale(0.015625)\"/>\r\n        <path d=\"M 2841 2188 \r\nQ 3044 2119 3236 1894 \r\nQ 3428 1669 3622 1275 \r\nL 4263 0 \r\nL 3584 0 \r\nL 2988 1197 \r\nQ 2756 1666 2539 1819 \r\nQ 2322 1972 1947 1972 \r\nL 1259 1972 \r\nL 1259 0 \r\nL 628 0 \r\nL 628 4666 \r\nL 2053 4666 \r\nQ 2853 4666 3247 4331 \r\nQ 3641 3997 3641 3322 \r\nQ 3641 2881 3436 2590 \r\nQ 3231 2300 2841 2188 \r\nz\r\nM 1259 4147 \r\nL 1259 2491 \r\nL 2053 2491 \r\nQ 2509 2491 2742 2702 \r\nQ 2975 2913 2975 3322 \r\nQ 2975 3731 2742 3939 \r\nQ 2509 4147 2053 4147 \r\nL 1259 4147 \r\nz\r\n\" id=\"DejaVuSans-52\" transform=\"scale(0.015625)\"/>\r\n        <path d=\"M 269 3500 \r\nL 844 3500 \r\nL 1563 769 \r\nL 2278 3500 \r\nL 2956 3500 \r\nL 3675 769 \r\nL 4391 3500 \r\nL 4966 3500 \r\nL 4050 0 \r\nL 3372 0 \r\nL 2619 2869 \r\nL 1863 0 \r\nL 1184 0 \r\nL 269 3500 \r\nz\r\n\" id=\"DejaVuSans-77\" transform=\"scale(0.015625)\"/>\r\n       </defs>\r\n       <use xlink:href=\"#DejaVuSans-50\"/>\r\n       <use x=\"56.677734\" xlink:href=\"#DejaVuSans-6f\"/>\r\n       <use x=\"117.859375\" xlink:href=\"#DejaVuSans-74\"/>\r\n       <use x=\"157.068359\" xlink:href=\"#DejaVuSans-61\"/>\r\n       <use x=\"218.347656\" xlink:href=\"#DejaVuSans-74\"/>\r\n       <use x=\"257.556641\" xlink:href=\"#DejaVuSans-6f\"/>\r\n       <use x=\"318.738281\" xlink:href=\"#DejaVuSans-2c\"/>\r\n       <use x=\"350.525391\" xlink:href=\"#DejaVuSans-20\"/>\r\n       <use x=\"382.3125\" xlink:href=\"#DejaVuSans-44\"/>\r\n       <use x=\"459.314453\" xlink:href=\"#DejaVuSans-61\"/>\r\n       <use x=\"520.59375\" xlink:href=\"#DejaVuSans-65\"/>\r\n       <use x=\"582.117188\" xlink:href=\"#DejaVuSans-6a\"/>\r\n       <use x=\"609.900391\" xlink:href=\"#DejaVuSans-69\"/>\r\n       <use x=\"637.683594\" xlink:href=\"#DejaVuSans-2c\"/>\r\n       <use x=\"669.470703\" xlink:href=\"#DejaVuSans-20\"/>\r\n       <use x=\"701.257812\" xlink:href=\"#DejaVuSans-52\"/>\r\n       <use x=\"768.490234\" xlink:href=\"#DejaVuSans-61\"/>\r\n       <use x=\"829.769531\" xlink:href=\"#DejaVuSans-77\"/>\r\n      </g>\r\n     </g>\r\n    </g>\r\n    <g id=\"xtick_2\">\r\n     <g id=\"line2d_2\">\r\n      <g>\r\n       <use style=\"stroke:#000000;stroke-width:0.8;\" x=\"227.805\" xlink:href=\"#mb0f4c6d939\" y=\"228.439219\"/>\r\n      </g>\r\n     </g>\r\n     <g id=\"text_2\">\r\n      <!-- Egg, Whole, Raw -->\r\n      <g transform=\"translate(185.788594 243.037656)scale(0.1 -0.1)\">\r\n       <defs>\r\n        <path d=\"M 628 4666 \r\nL 3578 4666 \r\nL 3578 4134 \r\nL 1259 4134 \r\nL 1259 2753 \r\nL 3481 2753 \r\nL 3481 2222 \r\nL 1259 2222 \r\nL 1259 531 \r\nL 3634 531 \r\nL 3634 0 \r\nL 628 0 \r\nL 628 4666 \r\nz\r\n\" id=\"DejaVuSans-45\" transform=\"scale(0.015625)\"/>\r\n        <path d=\"M 2906 1791 \r\nQ 2906 2416 2648 2759 \r\nQ 2391 3103 1925 3103 \r\nQ 1463 3103 1205 2759 \r\nQ 947 2416 947 1791 \r\nQ 947 1169 1205 825 \r\nQ 1463 481 1925 481 \r\nQ 2391 481 2648 825 \r\nQ 2906 1169 2906 1791 \r\nz\r\nM 3481 434 \r\nQ 3481 -459 3084 -895 \r\nQ 2688 -1331 1869 -1331 \r\nQ 1566 -1331 1297 -1286 \r\nQ 1028 -1241 775 -1147 \r\nL 775 -588 \r\nQ 1028 -725 1275 -790 \r\nQ 1522 -856 1778 -856 \r\nQ 2344 -856 2625 -561 \r\nQ 2906 -266 2906 331 \r\nL 2906 616 \r\nQ 2728 306 2450 153 \r\nQ 2172 0 1784 0 \r\nQ 1141 0 747 490 \r\nQ 353 981 353 1791 \r\nQ 353 2603 747 3093 \r\nQ 1141 3584 1784 3584 \r\nQ 2172 3584 2450 3431 \r\nQ 2728 3278 2906 2969 \r\nL 2906 3500 \r\nL 3481 3500 \r\nL 3481 434 \r\nz\r\n\" id=\"DejaVuSans-67\" transform=\"scale(0.015625)\"/>\r\n        <path d=\"M 213 4666 \r\nL 850 4666 \r\nL 1831 722 \r\nL 2809 4666 \r\nL 3519 4666 \r\nL 4500 722 \r\nL 5478 4666 \r\nL 6119 4666 \r\nL 4947 0 \r\nL 4153 0 \r\nL 3169 4050 \r\nL 2175 0 \r\nL 1381 0 \r\nL 213 4666 \r\nz\r\n\" id=\"DejaVuSans-57\" transform=\"scale(0.015625)\"/>\r\n        <path d=\"M 3513 2113 \r\nL 3513 0 \r\nL 2938 0 \r\nL 2938 2094 \r\nQ 2938 2591 2744 2837 \r\nQ 2550 3084 2163 3084 \r\nQ 1697 3084 1428 2787 \r\nQ 1159 2491 1159 1978 \r\nL 1159 0 \r\nL 581 0 \r\nL 581 4863 \r\nL 1159 4863 \r\nL 1159 2956 \r\nQ 1366 3272 1645 3428 \r\nQ 1925 3584 2291 3584 \r\nQ 2894 3584 3203 3211 \r\nQ 3513 2838 3513 2113 \r\nz\r\n\" id=\"DejaVuSans-68\" transform=\"scale(0.015625)\"/>\r\n        <path d=\"M 603 4863 \r\nL 1178 4863 \r\nL 1178 0 \r\nL 603 0 \r\nL 603 4863 \r\nz\r\n\" id=\"DejaVuSans-6c\" transform=\"scale(0.015625)\"/>\r\n       </defs>\r\n       <use xlink:href=\"#DejaVuSans-45\"/>\r\n       <use x=\"63.183594\" xlink:href=\"#DejaVuSans-67\"/>\r\n       <use x=\"126.660156\" xlink:href=\"#DejaVuSans-67\"/>\r\n       <use x=\"190.136719\" xlink:href=\"#DejaVuSans-2c\"/>\r\n       <use x=\"221.923828\" xlink:href=\"#DejaVuSans-20\"/>\r\n       <use x=\"253.710938\" xlink:href=\"#DejaVuSans-57\"/>\r\n       <use x=\"352.587891\" xlink:href=\"#DejaVuSans-68\"/>\r\n       <use x=\"415.966797\" xlink:href=\"#DejaVuSans-6f\"/>\r\n       <use x=\"477.148438\" xlink:href=\"#DejaVuSans-6c\"/>\r\n       <use x=\"504.931641\" xlink:href=\"#DejaVuSans-65\"/>\r\n       <use x=\"566.455078\" xlink:href=\"#DejaVuSans-2c\"/>\r\n       <use x=\"598.242188\" xlink:href=\"#DejaVuSans-20\"/>\r\n       <use x=\"630.029297\" xlink:href=\"#DejaVuSans-52\"/>\r\n       <use x=\"697.261719\" xlink:href=\"#DejaVuSans-61\"/>\r\n       <use x=\"758.541016\" xlink:href=\"#DejaVuSans-77\"/>\r\n      </g>\r\n     </g>\r\n    </g>\r\n   </g>\r\n   <g id=\"matplotlib.axis_2\">\r\n    <g id=\"ytick_1\">\r\n     <g id=\"line2d_3\">\r\n      <defs>\r\n       <path d=\"M 0 0 \r\nL -3.5 0 \r\n\" id=\"mc9e4a0dc90\" style=\"stroke:#000000;stroke-width:0.8;\"/>\r\n      </defs>\r\n      <g>\r\n       <use style=\"stroke:#000000;stroke-width:0.8;\" x=\"26.925\" xlink:href=\"#mc9e4a0dc90\" y=\"12.086419\"/>\r\n      </g>\r\n     </g>\r\n     <g id=\"text_3\">\r\n      <!-- 0 -->\r\n      <g transform=\"translate(13.5625 14.845794)scale(0.1 -0.1)\">\r\n       <defs>\r\n        <path d=\"M 2034 4250 \r\nQ 1547 4250 1301 3770 \r\nQ 1056 3291 1056 2328 \r\nQ 1056 1369 1301 889 \r\nQ 1547 409 2034 409 \r\nQ 2525 409 2770 889 \r\nQ 3016 1369 3016 2328 \r\nQ 3016 3291 2770 3770 \r\nQ 2525 4250 2034 4250 \r\nz\r\nM 2034 4750 \r\nQ 2819 4750 3233 4129 \r\nQ 3647 3509 3647 2328 \r\nQ 3647 1150 3233 529 \r\nQ 2819 -91 2034 -91 \r\nQ 1250 -91 836 529 \r\nQ 422 1150 422 2328 \r\nQ 422 3509 836 4129 \r\nQ 1250 4750 2034 4750 \r\nz\r\n\" id=\"DejaVuSans-30\" transform=\"scale(0.015625)\"/>\r\n       </defs>\r\n       <use xlink:href=\"#DejaVuSans-30\"/>\r\n      </g>\r\n     </g>\r\n    </g>\r\n    <g id=\"ytick_2\">\r\n     <g id=\"line2d_4\">\r\n      <g>\r\n       <use style=\"stroke:#000000;stroke-width:0.8;\" x=\"26.925\" xlink:href=\"#mc9e4a0dc90\" y=\"22.958419\"/>\r\n      </g>\r\n     </g>\r\n     <g id=\"text_4\">\r\n      <!-- 5 -->\r\n      <g transform=\"translate(13.5625 25.717794)scale(0.1 -0.1)\">\r\n       <defs>\r\n        <path d=\"M 691 4666 \r\nL 3169 4666 \r\nL 3169 4134 \r\nL 1269 4134 \r\nL 1269 2991 \r\nQ 1406 3038 1543 3061 \r\nQ 1681 3084 1819 3084 \r\nQ 2600 3084 3056 2656 \r\nQ 3513 2228 3513 1497 \r\nQ 3513 744 3044 326 \r\nQ 2575 -91 1722 -91 \r\nQ 1428 -91 1123 -41 \r\nQ 819 9 494 109 \r\nL 494 744 \r\nQ 775 591 1075 516 \r\nQ 1375 441 1709 441 \r\nQ 2250 441 2565 725 \r\nQ 2881 1009 2881 1497 \r\nQ 2881 1984 2565 2268 \r\nQ 2250 2553 1709 2553 \r\nQ 1456 2553 1204 2497 \r\nQ 953 2441 691 2322 \r\nL 691 4666 \r\nz\r\n\" id=\"DejaVuSans-35\" transform=\"scale(0.015625)\"/>\r\n       </defs>\r\n       <use xlink:href=\"#DejaVuSans-35\"/>\r\n      </g>\r\n     </g>\r\n    </g>\r\n    <g id=\"ytick_3\">\r\n     <g id=\"line2d_5\">\r\n      <g>\r\n       <use style=\"stroke:#000000;stroke-width:0.8;\" x=\"26.925\" xlink:href=\"#mc9e4a0dc90\" y=\"33.830419\"/>\r\n      </g>\r\n     </g>\r\n     <g id=\"text_5\">\r\n      <!-- 10 -->\r\n      <g transform=\"translate(7.2 36.589794)scale(0.1 -0.1)\">\r\n       <defs>\r\n        <path d=\"M 794 531 \r\nL 1825 531 \r\nL 1825 4091 \r\nL 703 3866 \r\nL 703 4441 \r\nL 1819 4666 \r\nL 2450 4666 \r\nL 2450 531 \r\nL 3481 531 \r\nL 3481 0 \r\nL 794 0 \r\nL 794 531 \r\nz\r\n\" id=\"DejaVuSans-31\" transform=\"scale(0.015625)\"/>\r\n       </defs>\r\n       <use xlink:href=\"#DejaVuSans-31\"/>\r\n       <use x=\"63.623047\" xlink:href=\"#DejaVuSans-30\"/>\r\n      </g>\r\n     </g>\r\n    </g>\r\n    <g id=\"ytick_4\">\r\n     <g id=\"line2d_6\">\r\n      <g>\r\n       <use style=\"stroke:#000000;stroke-width:0.8;\" x=\"26.925\" xlink:href=\"#mc9e4a0dc90\" y=\"44.702419\"/>\r\n      </g>\r\n     </g>\r\n     <g id=\"text_6\">\r\n      <!-- 15 -->\r\n      <g transform=\"translate(7.2 47.461794)scale(0.1 -0.1)\">\r\n       <use xlink:href=\"#DejaVuSans-31\"/>\r\n       <use x=\"63.623047\" xlink:href=\"#DejaVuSans-35\"/>\r\n      </g>\r\n     </g>\r\n    </g>\r\n    <g id=\"ytick_5\">\r\n     <g id=\"line2d_7\">\r\n      <g>\r\n       <use style=\"stroke:#000000;stroke-width:0.8;\" x=\"26.925\" xlink:href=\"#mc9e4a0dc90\" y=\"55.574419\"/>\r\n      </g>\r\n     </g>\r\n     <g id=\"text_7\">\r\n      <!-- 20 -->\r\n      <g transform=\"translate(7.2 58.333794)scale(0.1 -0.1)\">\r\n       <defs>\r\n        <path d=\"M 1228 531 \r\nL 3431 531 \r\nL 3431 0 \r\nL 469 0 \r\nL 469 531 \r\nQ 828 903 1448 1529 \r\nQ 2069 2156 2228 2338 \r\nQ 2531 2678 2651 2914 \r\nQ 2772 3150 2772 3378 \r\nQ 2772 3750 2511 3984 \r\nQ 2250 4219 1831 4219 \r\nQ 1534 4219 1204 4116 \r\nQ 875 4013 500 3803 \r\nL 500 4441 \r\nQ 881 4594 1212 4672 \r\nQ 1544 4750 1819 4750 \r\nQ 2544 4750 2975 4387 \r\nQ 3406 4025 3406 3419 \r\nQ 3406 3131 3298 2873 \r\nQ 3191 2616 2906 2266 \r\nQ 2828 2175 2409 1742 \r\nQ 1991 1309 1228 531 \r\nz\r\n\" id=\"DejaVuSans-32\" transform=\"scale(0.015625)\"/>\r\n       </defs>\r\n       <use xlink:href=\"#DejaVuSans-32\"/>\r\n       <use x=\"63.623047\" xlink:href=\"#DejaVuSans-30\"/>\r\n      </g>\r\n     </g>\r\n    </g>\r\n    <g id=\"ytick_6\">\r\n     <g id=\"line2d_8\">\r\n      <g>\r\n       <use style=\"stroke:#000000;stroke-width:0.8;\" x=\"26.925\" xlink:href=\"#mc9e4a0dc90\" y=\"66.446419\"/>\r\n      </g>\r\n     </g>\r\n     <g id=\"text_8\">\r\n      <!-- 25 -->\r\n      <g transform=\"translate(7.2 69.205794)scale(0.1 -0.1)\">\r\n       <use xlink:href=\"#DejaVuSans-32\"/>\r\n       <use x=\"63.623047\" xlink:href=\"#DejaVuSans-35\"/>\r\n      </g>\r\n     </g>\r\n    </g>\r\n    <g id=\"ytick_7\">\r\n     <g id=\"line2d_9\">\r\n      <g>\r\n       <use style=\"stroke:#000000;stroke-width:0.8;\" x=\"26.925\" xlink:href=\"#mc9e4a0dc90\" y=\"77.318419\"/>\r\n      </g>\r\n     </g>\r\n     <g id=\"text_9\">\r\n      <!-- 30 -->\r\n      <g transform=\"translate(7.2 80.077794)scale(0.1 -0.1)\">\r\n       <defs>\r\n        <path d=\"M 2597 2516 \r\nQ 3050 2419 3304 2112 \r\nQ 3559 1806 3559 1356 \r\nQ 3559 666 3084 287 \r\nQ 2609 -91 1734 -91 \r\nQ 1441 -91 1130 -33 \r\nQ 819 25 488 141 \r\nL 488 750 \r\nQ 750 597 1062 519 \r\nQ 1375 441 1716 441 \r\nQ 2309 441 2620 675 \r\nQ 2931 909 2931 1356 \r\nQ 2931 1769 2642 2001 \r\nQ 2353 2234 1838 2234 \r\nL 1294 2234 \r\nL 1294 2753 \r\nL 1863 2753 \r\nQ 2328 2753 2575 2939 \r\nQ 2822 3125 2822 3475 \r\nQ 2822 3834 2567 4026 \r\nQ 2313 4219 1838 4219 \r\nQ 1578 4219 1281 4162 \r\nQ 984 4106 628 3988 \r\nL 628 4550 \r\nQ 988 4650 1302 4700 \r\nQ 1616 4750 1894 4750 \r\nQ 2613 4750 3031 4423 \r\nQ 3450 4097 3450 3541 \r\nQ 3450 3153 3228 2886 \r\nQ 3006 2619 2597 2516 \r\nz\r\n\" id=\"DejaVuSans-33\" transform=\"scale(0.015625)\"/>\r\n       </defs>\r\n       <use xlink:href=\"#DejaVuSans-33\"/>\r\n       <use x=\"63.623047\" xlink:href=\"#DejaVuSans-30\"/>\r\n      </g>\r\n     </g>\r\n    </g>\r\n    <g id=\"ytick_8\">\r\n     <g id=\"line2d_10\">\r\n      <g>\r\n       <use style=\"stroke:#000000;stroke-width:0.8;\" x=\"26.925\" xlink:href=\"#mc9e4a0dc90\" y=\"88.190419\"/>\r\n      </g>\r\n     </g>\r\n     <g id=\"text_10\">\r\n      <!-- 35 -->\r\n      <g transform=\"translate(7.2 90.949794)scale(0.1 -0.1)\">\r\n       <use xlink:href=\"#DejaVuSans-33\"/>\r\n       <use x=\"63.623047\" xlink:href=\"#DejaVuSans-35\"/>\r\n      </g>\r\n     </g>\r\n    </g>\r\n    <g id=\"ytick_9\">\r\n     <g id=\"line2d_11\">\r\n      <g>\r\n       <use style=\"stroke:#000000;stroke-width:0.8;\" x=\"26.925\" xlink:href=\"#mc9e4a0dc90\" y=\"99.062419\"/>\r\n      </g>\r\n     </g>\r\n     <g id=\"text_11\">\r\n      <!-- 40 -->\r\n      <g transform=\"translate(7.2 101.821794)scale(0.1 -0.1)\">\r\n       <defs>\r\n        <path d=\"M 2419 4116 \r\nL 825 1625 \r\nL 2419 1625 \r\nL 2419 4116 \r\nz\r\nM 2253 4666 \r\nL 3047 4666 \r\nL 3047 1625 \r\nL 3713 1625 \r\nL 3713 1100 \r\nL 3047 1100 \r\nL 3047 0 \r\nL 2419 0 \r\nL 2419 1100 \r\nL 313 1100 \r\nL 313 1709 \r\nL 2253 4666 \r\nz\r\n\" id=\"DejaVuSans-34\" transform=\"scale(0.015625)\"/>\r\n       </defs>\r\n       <use xlink:href=\"#DejaVuSans-34\"/>\r\n       <use x=\"63.623047\" xlink:href=\"#DejaVuSans-30\"/>\r\n      </g>\r\n     </g>\r\n    </g>\r\n    <g id=\"ytick_10\">\r\n     <g id=\"line2d_12\">\r\n      <g>\r\n       <use style=\"stroke:#000000;stroke-width:0.8;\" x=\"26.925\" xlink:href=\"#mc9e4a0dc90\" y=\"109.934419\"/>\r\n      </g>\r\n     </g>\r\n     <g id=\"text_12\">\r\n      <!-- 45 -->\r\n      <g transform=\"translate(7.2 112.693794)scale(0.1 -0.1)\">\r\n       <use xlink:href=\"#DejaVuSans-34\"/>\r\n       <use x=\"63.623047\" xlink:href=\"#DejaVuSans-35\"/>\r\n      </g>\r\n     </g>\r\n    </g>\r\n    <g id=\"ytick_11\">\r\n     <g id=\"line2d_13\">\r\n      <g>\r\n       <use style=\"stroke:#000000;stroke-width:0.8;\" x=\"26.925\" xlink:href=\"#mc9e4a0dc90\" y=\"120.806419\"/>\r\n      </g>\r\n     </g>\r\n     <g id=\"text_13\">\r\n      <!-- 50 -->\r\n      <g transform=\"translate(7.2 123.565794)scale(0.1 -0.1)\">\r\n       <use xlink:href=\"#DejaVuSans-35\"/>\r\n       <use x=\"63.623047\" xlink:href=\"#DejaVuSans-30\"/>\r\n      </g>\r\n     </g>\r\n    </g>\r\n    <g id=\"ytick_12\">\r\n     <g id=\"line2d_14\">\r\n      <g>\r\n       <use style=\"stroke:#000000;stroke-width:0.8;\" x=\"26.925\" xlink:href=\"#mc9e4a0dc90\" y=\"131.678419\"/>\r\n      </g>\r\n     </g>\r\n     <g id=\"text_14\">\r\n      <!-- 55 -->\r\n      <g transform=\"translate(7.2 134.437794)scale(0.1 -0.1)\">\r\n       <use xlink:href=\"#DejaVuSans-35\"/>\r\n       <use x=\"63.623047\" xlink:href=\"#DejaVuSans-35\"/>\r\n      </g>\r\n     </g>\r\n    </g>\r\n    <g id=\"ytick_13\">\r\n     <g id=\"line2d_15\">\r\n      <g>\r\n       <use style=\"stroke:#000000;stroke-width:0.8;\" x=\"26.925\" xlink:href=\"#mc9e4a0dc90\" y=\"142.550419\"/>\r\n      </g>\r\n     </g>\r\n     <g id=\"text_15\">\r\n      <!-- 60 -->\r\n      <g transform=\"translate(7.2 145.309794)scale(0.1 -0.1)\">\r\n       <defs>\r\n        <path d=\"M 2113 2584 \r\nQ 1688 2584 1439 2293 \r\nQ 1191 2003 1191 1497 \r\nQ 1191 994 1439 701 \r\nQ 1688 409 2113 409 \r\nQ 2538 409 2786 701 \r\nQ 3034 994 3034 1497 \r\nQ 3034 2003 2786 2293 \r\nQ 2538 2584 2113 2584 \r\nz\r\nM 3366 4563 \r\nL 3366 3988 \r\nQ 3128 4100 2886 4159 \r\nQ 2644 4219 2406 4219 \r\nQ 1781 4219 1451 3797 \r\nQ 1122 3375 1075 2522 \r\nQ 1259 2794 1537 2939 \r\nQ 1816 3084 2150 3084 \r\nQ 2853 3084 3261 2657 \r\nQ 3669 2231 3669 1497 \r\nQ 3669 778 3244 343 \r\nQ 2819 -91 2113 -91 \r\nQ 1303 -91 875 529 \r\nQ 447 1150 447 2328 \r\nQ 447 3434 972 4092 \r\nQ 1497 4750 2381 4750 \r\nQ 2619 4750 2861 4703 \r\nQ 3103 4656 3366 4563 \r\nz\r\n\" id=\"DejaVuSans-36\" transform=\"scale(0.015625)\"/>\r\n       </defs>\r\n       <use xlink:href=\"#DejaVuSans-36\"/>\r\n       <use x=\"63.623047\" xlink:href=\"#DejaVuSans-30\"/>\r\n      </g>\r\n     </g>\r\n    </g>\r\n    <g id=\"ytick_14\">\r\n     <g id=\"line2d_16\">\r\n      <g>\r\n       <use style=\"stroke:#000000;stroke-width:0.8;\" x=\"26.925\" xlink:href=\"#mc9e4a0dc90\" y=\"153.422419\"/>\r\n      </g>\r\n     </g>\r\n     <g id=\"text_16\">\r\n      <!-- 65 -->\r\n      <g transform=\"translate(7.2 156.181794)scale(0.1 -0.1)\">\r\n       <use xlink:href=\"#DejaVuSans-36\"/>\r\n       <use x=\"63.623047\" xlink:href=\"#DejaVuSans-35\"/>\r\n      </g>\r\n     </g>\r\n    </g>\r\n    <g id=\"ytick_15\">\r\n     <g id=\"line2d_17\">\r\n      <g>\r\n       <use style=\"stroke:#000000;stroke-width:0.8;\" x=\"26.925\" xlink:href=\"#mc9e4a0dc90\" y=\"164.294419\"/>\r\n      </g>\r\n     </g>\r\n     <g id=\"text_17\">\r\n      <!-- 70 -->\r\n      <g transform=\"translate(7.2 167.053794)scale(0.1 -0.1)\">\r\n       <defs>\r\n        <path d=\"M 525 4666 \r\nL 3525 4666 \r\nL 3525 4397 \r\nL 1831 0 \r\nL 1172 0 \r\nL 2766 4134 \r\nL 525 4134 \r\nL 525 4666 \r\nz\r\n\" id=\"DejaVuSans-37\" transform=\"scale(0.015625)\"/>\r\n       </defs>\r\n       <use xlink:href=\"#DejaVuSans-37\"/>\r\n       <use x=\"63.623047\" xlink:href=\"#DejaVuSans-30\"/>\r\n      </g>\r\n     </g>\r\n    </g>\r\n    <g id=\"ytick_16\">\r\n     <g id=\"line2d_18\">\r\n      <g>\r\n       <use style=\"stroke:#000000;stroke-width:0.8;\" x=\"26.925\" xlink:href=\"#mc9e4a0dc90\" y=\"175.166419\"/>\r\n      </g>\r\n     </g>\r\n     <g id=\"text_18\">\r\n      <!-- 75 -->\r\n      <g transform=\"translate(7.2 177.925794)scale(0.1 -0.1)\">\r\n       <use xlink:href=\"#DejaVuSans-37\"/>\r\n       <use x=\"63.623047\" xlink:href=\"#DejaVuSans-35\"/>\r\n      </g>\r\n     </g>\r\n    </g>\r\n    <g id=\"ytick_17\">\r\n     <g id=\"line2d_19\">\r\n      <g>\r\n       <use style=\"stroke:#000000;stroke-width:0.8;\" x=\"26.925\" xlink:href=\"#mc9e4a0dc90\" y=\"186.038419\"/>\r\n      </g>\r\n     </g>\r\n     <g id=\"text_19\">\r\n      <!-- 80 -->\r\n      <g transform=\"translate(7.2 188.797794)scale(0.1 -0.1)\">\r\n       <defs>\r\n        <path d=\"M 2034 2216 \r\nQ 1584 2216 1326 1975 \r\nQ 1069 1734 1069 1313 \r\nQ 1069 891 1326 650 \r\nQ 1584 409 2034 409 \r\nQ 2484 409 2743 651 \r\nQ 3003 894 3003 1313 \r\nQ 3003 1734 2745 1975 \r\nQ 2488 2216 2034 2216 \r\nz\r\nM 1403 2484 \r\nQ 997 2584 770 2862 \r\nQ 544 3141 544 3541 \r\nQ 544 4100 942 4425 \r\nQ 1341 4750 2034 4750 \r\nQ 2731 4750 3128 4425 \r\nQ 3525 4100 3525 3541 \r\nQ 3525 3141 3298 2862 \r\nQ 3072 2584 2669 2484 \r\nQ 3125 2378 3379 2068 \r\nQ 3634 1759 3634 1313 \r\nQ 3634 634 3220 271 \r\nQ 2806 -91 2034 -91 \r\nQ 1263 -91 848 271 \r\nQ 434 634 434 1313 \r\nQ 434 1759 690 2068 \r\nQ 947 2378 1403 2484 \r\nz\r\nM 1172 3481 \r\nQ 1172 3119 1398 2916 \r\nQ 1625 2713 2034 2713 \r\nQ 2441 2713 2670 2916 \r\nQ 2900 3119 2900 3481 \r\nQ 2900 3844 2670 4047 \r\nQ 2441 4250 2034 4250 \r\nQ 1625 4250 1398 4047 \r\nQ 1172 3844 1172 3481 \r\nz\r\n\" id=\"DejaVuSans-38\" transform=\"scale(0.015625)\"/>\r\n       </defs>\r\n       <use xlink:href=\"#DejaVuSans-38\"/>\r\n       <use x=\"63.623047\" xlink:href=\"#DejaVuSans-30\"/>\r\n      </g>\r\n     </g>\r\n    </g>\r\n    <g id=\"ytick_18\">\r\n     <g id=\"line2d_20\">\r\n      <g>\r\n       <use style=\"stroke:#000000;stroke-width:0.8;\" x=\"26.925\" xlink:href=\"#mc9e4a0dc90\" y=\"196.910419\"/>\r\n      </g>\r\n     </g>\r\n     <g id=\"text_20\">\r\n      <!-- 85 -->\r\n      <g transform=\"translate(7.2 199.669794)scale(0.1 -0.1)\">\r\n       <use xlink:href=\"#DejaVuSans-38\"/>\r\n       <use x=\"63.623047\" xlink:href=\"#DejaVuSans-35\"/>\r\n      </g>\r\n     </g>\r\n    </g>\r\n    <g id=\"ytick_19\">\r\n     <g id=\"line2d_21\">\r\n      <g>\r\n       <use style=\"stroke:#000000;stroke-width:0.8;\" x=\"26.925\" xlink:href=\"#mc9e4a0dc90\" y=\"207.782419\"/>\r\n      </g>\r\n     </g>\r\n     <g id=\"text_21\">\r\n      <!-- 90 -->\r\n      <g transform=\"translate(7.2 210.541794)scale(0.1 -0.1)\">\r\n       <defs>\r\n        <path d=\"M 703 97 \r\nL 703 672 \r\nQ 941 559 1184 500 \r\nQ 1428 441 1663 441 \r\nQ 2288 441 2617 861 \r\nQ 2947 1281 2994 2138 \r\nQ 2813 1869 2534 1725 \r\nQ 2256 1581 1919 1581 \r\nQ 1219 1581 811 2004 \r\nQ 403 2428 403 3163 \r\nQ 403 3881 828 4315 \r\nQ 1253 4750 1959 4750 \r\nQ 2769 4750 3195 4129 \r\nQ 3622 3509 3622 2328 \r\nQ 3622 1225 3098 567 \r\nQ 2575 -91 1691 -91 \r\nQ 1453 -91 1209 -44 \r\nQ 966 3 703 97 \r\nz\r\nM 1959 2075 \r\nQ 2384 2075 2632 2365 \r\nQ 2881 2656 2881 3163 \r\nQ 2881 3666 2632 3958 \r\nQ 2384 4250 1959 4250 \r\nQ 1534 4250 1286 3958 \r\nQ 1038 3666 1038 3163 \r\nQ 1038 2656 1286 2365 \r\nQ 1534 2075 1959 2075 \r\nz\r\n\" id=\"DejaVuSans-39\" transform=\"scale(0.015625)\"/>\r\n       </defs>\r\n       <use xlink:href=\"#DejaVuSans-39\"/>\r\n       <use x=\"63.623047\" xlink:href=\"#DejaVuSans-30\"/>\r\n      </g>\r\n     </g>\r\n    </g>\r\n    <g id=\"ytick_20\">\r\n     <g id=\"line2d_22\">\r\n      <g>\r\n       <use style=\"stroke:#000000;stroke-width:0.8;\" x=\"26.925\" xlink:href=\"#mc9e4a0dc90\" y=\"218.654419\"/>\r\n      </g>\r\n     </g>\r\n     <g id=\"text_22\">\r\n      <!-- 95 -->\r\n      <g transform=\"translate(7.2 221.413794)scale(0.1 -0.1)\">\r\n       <use xlink:href=\"#DejaVuSans-39\"/>\r\n       <use x=\"63.623047\" xlink:href=\"#DejaVuSans-35\"/>\r\n      </g>\r\n     </g>\r\n    </g>\r\n   </g>\r\n  </g>\r\n  <g id=\"axes_2\">\r\n   <g id=\"patch_3\">\r\n    <path d=\"M 311.505 228.439219 \r\nL 322.377 228.439219 \r\nL 322.377 10.999219 \r\nL 311.505 10.999219 \r\nz\r\n\" style=\"fill:#ffffff;\"/>\r\n   </g>\r\n   <g id=\"patch_4\">\r\n    <path clip-path=\"url(#p704d2435fe)\" d=\"M 311.505 228.439219 \r\nL 311.505 227.589844 \r\nL 311.505 11.848594 \r\nL 311.505 10.999219 \r\nL 322.377 10.999219 \r\nL 322.377 11.848594 \r\nL 322.377 227.589844 \r\nL 322.377 228.439219 \r\nL 322.377 228.439219 \r\nz\r\n\" style=\"fill:#ffffff;stroke:#ffffff;stroke-linejoin:miter;stroke-width:0.01;\"/>\r\n   </g>\r\n   <image height=\"217\" id=\"image4c0e99f033\" transform=\"scale(1 -1)translate(0 -217)\" width=\"10\" x=\"312\" xlink:href=\"data:image/png;base64,\r\niVBORw0KGgoAAAANSUhEUgAAAAoAAADZCAYAAAAZmKE8AAABW0lEQVR4nOXZW04EMQxE0TgOm2D/6wS2cCJVZAHzbVX5+pF091R/fH4v+J2SqLXW2XtbYC3TPFUYuDWQrVmxS6nzMKzo1AgzmOML6tbAsTGbHFy2nmyhDu5gjmxNYTctHKTm6ek5a6vikzp2fHoY5sFeq/XJH3tqnVf8HS1kRQw88aF4UZ609aFn5jtrDoxv4SSMBsZzPBpYav0rqB/02iQdxk/cb7VWxUHqUkUfXM7xgaIGYsVPq2Lhvp6tgT4Uqtj7C621PA+o49bdcWrcrgfl2a3WniPF3SjGrTfeH15wfHW9okbFxb3GI/fC2qnjig6DD5oXMGnFpYqFp/iFosPErfW1Wa/2s/Sb/WR5Gj/PXuSYpl76Jc4Vj1LHrSfL49Q8ZmOrsNqO3Iud8V7HA7ngSj2ZIyvmYfItzCv+S+rqj7DiJPUcTOnfqS+oeXDztyuXJ7+u2us/BPMDqtgrI9Hx5A4AAAAASUVORK5CYII=\" y=\"-11\"/>\r\n   <g id=\"matplotlib.axis_3\"/>\r\n   <g id=\"matplotlib.axis_4\">\r\n    <g id=\"ytick_21\">\r\n     <g id=\"line2d_23\">\r\n      <defs>\r\n       <path d=\"M 0 0 \r\nL 3.5 0 \r\n\" id=\"mdd99206d8d\" style=\"stroke:#000000;stroke-width:0.8;\"/>\r\n      </defs>\r\n      <g>\r\n       <use style=\"stroke:#000000;stroke-width:0.8;\" x=\"322.377\" xlink:href=\"#mdd99206d8d\" y=\"228.439219\"/>\r\n      </g>\r\n     </g>\r\n     <g id=\"text_23\">\r\n      <!-- 0.0 -->\r\n      <g transform=\"translate(329.377 232.238437)scale(0.1 -0.1)\">\r\n       <defs>\r\n        <path d=\"M 684 794 \r\nL 1344 794 \r\nL 1344 0 \r\nL 684 0 \r\nL 684 794 \r\nz\r\n\" id=\"DejaVuSans-2e\" transform=\"scale(0.015625)\"/>\r\n       </defs>\r\n       <use xlink:href=\"#DejaVuSans-30\"/>\r\n       <use x=\"63.623047\" xlink:href=\"#DejaVuSans-2e\"/>\r\n       <use x=\"95.410156\" xlink:href=\"#DejaVuSans-30\"/>\r\n      </g>\r\n     </g>\r\n    </g>\r\n    <g id=\"ytick_22\">\r\n     <g id=\"line2d_24\">\r\n      <g>\r\n       <use style=\"stroke:#000000;stroke-width:0.8;\" x=\"322.377\" xlink:href=\"#mdd99206d8d\" y=\"184.951219\"/>\r\n      </g>\r\n     </g>\r\n     <g id=\"text_24\">\r\n      <!-- 0.2 -->\r\n      <g transform=\"translate(329.377 188.750437)scale(0.1 -0.1)\">\r\n       <use xlink:href=\"#DejaVuSans-30\"/>\r\n       <use x=\"63.623047\" xlink:href=\"#DejaVuSans-2e\"/>\r\n       <use x=\"95.410156\" xlink:href=\"#DejaVuSans-32\"/>\r\n      </g>\r\n     </g>\r\n    </g>\r\n    <g id=\"ytick_23\">\r\n     <g id=\"line2d_25\">\r\n      <g>\r\n       <use style=\"stroke:#000000;stroke-width:0.8;\" x=\"322.377\" xlink:href=\"#mdd99206d8d\" y=\"141.463219\"/>\r\n      </g>\r\n     </g>\r\n     <g id=\"text_25\">\r\n      <!-- 0.4 -->\r\n      <g transform=\"translate(329.377 145.262437)scale(0.1 -0.1)\">\r\n       <use xlink:href=\"#DejaVuSans-30\"/>\r\n       <use x=\"63.623047\" xlink:href=\"#DejaVuSans-2e\"/>\r\n       <use x=\"95.410156\" xlink:href=\"#DejaVuSans-34\"/>\r\n      </g>\r\n     </g>\r\n    </g>\r\n    <g id=\"ytick_24\">\r\n     <g id=\"line2d_26\">\r\n      <g>\r\n       <use style=\"stroke:#000000;stroke-width:0.8;\" x=\"322.377\" xlink:href=\"#mdd99206d8d\" y=\"97.975219\"/>\r\n      </g>\r\n     </g>\r\n     <g id=\"text_26\">\r\n      <!-- 0.6 -->\r\n      <g transform=\"translate(329.377 101.774437)scale(0.1 -0.1)\">\r\n       <use xlink:href=\"#DejaVuSans-30\"/>\r\n       <use x=\"63.623047\" xlink:href=\"#DejaVuSans-2e\"/>\r\n       <use x=\"95.410156\" xlink:href=\"#DejaVuSans-36\"/>\r\n      </g>\r\n     </g>\r\n    </g>\r\n    <g id=\"ytick_25\">\r\n     <g id=\"line2d_27\">\r\n      <g>\r\n       <use style=\"stroke:#000000;stroke-width:0.8;\" x=\"322.377\" xlink:href=\"#mdd99206d8d\" y=\"54.487219\"/>\r\n      </g>\r\n     </g>\r\n     <g id=\"text_27\">\r\n      <!-- 0.8 -->\r\n      <g transform=\"translate(329.377 58.286437)scale(0.1 -0.1)\">\r\n       <use xlink:href=\"#DejaVuSans-30\"/>\r\n       <use x=\"63.623047\" xlink:href=\"#DejaVuSans-2e\"/>\r\n       <use x=\"95.410156\" xlink:href=\"#DejaVuSans-38\"/>\r\n      </g>\r\n     </g>\r\n    </g>\r\n    <g id=\"ytick_26\">\r\n     <g id=\"line2d_28\">\r\n      <g>\r\n       <use style=\"stroke:#000000;stroke-width:0.8;\" x=\"322.377\" xlink:href=\"#mdd99206d8d\" y=\"10.999219\"/>\r\n      </g>\r\n     </g>\r\n     <g id=\"text_28\">\r\n      <!-- 1.0 -->\r\n      <g transform=\"translate(329.377 14.798437)scale(0.1 -0.1)\">\r\n       <use xlink:href=\"#DejaVuSans-31\"/>\r\n       <use x=\"63.623047\" xlink:href=\"#DejaVuSans-2e\"/>\r\n       <use x=\"95.410156\" xlink:href=\"#DejaVuSans-30\"/>\r\n      </g>\r\n     </g>\r\n    </g>\r\n   </g>\r\n   <g id=\"LineCollection_1\"/>\r\n   <g id=\"patch_5\">\r\n    <path d=\"M 311.505 228.439219 \r\nL 311.505 227.589844 \r\nL 311.505 11.848594 \r\nL 311.505 10.999219 \r\nL 322.377 10.999219 \r\nL 322.377 11.848594 \r\nL 322.377 227.589844 \r\nL 322.377 228.439219 \r\nz\r\n\" style=\"fill:none;\"/>\r\n   </g>\r\n  </g>\r\n </g>\r\n <defs>\r\n  <clipPath id=\"pfd94061cb0\">\r\n   <rect height=\"217.44\" width=\"267.84\" x=\"26.925\" y=\"10.999219\"/>\r\n  </clipPath>\r\n  <clipPath id=\"p704d2435fe\">\r\n   <rect height=\"217.44\" width=\"10.872\" x=\"311.505\" y=\"10.999219\"/>\r\n  </clipPath>\r\n </defs>\r\n</svg>\r\n",
      "text/plain": [
       "<Figure size 432x288 with 2 Axes>"
      ]
     },
     "metadata": {
      "needs_background": "light"
     }
    }
   ],
   "metadata": {}
  },
  {
   "cell_type": "code",
   "execution_count": 40,
   "source": [
    "heatmap_menu_test_nutrition(diet = sample_diets, criterias = sample_criteria[:5], fig_path = 'heatmap_menu_test_nutrition.png')"
   ],
   "outputs": [
    {
     "output_type": "display_data",
     "data": {
      "image/png": "[encoded data removed]",
      "image/svg+xml": "<?xml version=\"1.0\" encoding=\"utf-8\" standalone=\"no\"?>\r\n<!DOCTYPE svg PUBLIC \"-//W3C//DTD SVG 1.1//EN\"\r\n  \"http://www.w3.org/Graphics/SVG/1.1/DTD/svg11.dtd\">\r\n<svg height=\"344.904844pt\" version=\"1.1\" viewBox=\"0 0 352.480125 344.904844\" width=\"352.480125pt\" xmlns=\"http://www.w3.org/2000/svg\" xmlns:xlink=\"http://www.w3.org/1999/xlink\">\r\n <metadata>\r\n  <rdf:RDF xmlns:cc=\"http://creativecommons.org/ns#\" xmlns:dc=\"http://purl.org/dc/elements/1.1/\" xmlns:rdf=\"http://www.w3.org/1999/02/22-rdf-syntax-ns#\">\r\n   <cc:Work>\r\n    <dc:type rdf:resource=\"http://purl.org/dc/dcmitype/StillImage\"/>\r\n    <dc:date>2021-09-02T15:23:53.633751</dc:date>\r\n    <dc:format>image/svg+xml</dc:format>\r\n    <dc:creator>\r\n     <cc:Agent>\r\n      <dc:title>Matplotlib v3.4.2, https://matplotlib.org/</dc:title>\r\n     </cc:Agent>\r\n    </dc:creator>\r\n   </cc:Work>\r\n  </rdf:RDF>\r\n </metadata>\r\n <defs>\r\n  <style type=\"text/css\">*{stroke-linecap:butt;stroke-linejoin:round;}</style>\r\n </defs>\r\n <g id=\"figure_1\">\r\n  <g id=\"patch_1\">\r\n   <path d=\"M -0 344.904844 \r\nL 352.480125 344.904844 \r\nL 352.480125 0 \r\nL -0 0 \r\nz\r\n\" style=\"fill:none;\"/>\r\n  </g>\r\n  <g id=\"axes_1\">\r\n   <g id=\"patch_2\">\r\n    <path d=\"M 26.925 228.439219 \r\nL 294.765 228.439219 \r\nL 294.765 10.999219 \r\nL 26.925 10.999219 \r\nz\r\n\" style=\"fill:#ffffff;\"/>\r\n   </g>\r\n   <g id=\"QuadMesh_1\">\r\n    <path clip-path=\"url(#pa09991b1fb)\" d=\"M 26.925 10.999219 \r\nL 80.493 10.999219 \r\nL 80.493 13.173619 \r\nL 26.925 13.173619 \r\nL 26.925 10.999219 \r\n\" style=\"fill:#faebdd;\"/>\r\n    <path clip-path=\"url(#pa09991b1fb)\" d=\"M 80.493 10.999219 \r\nL 134.061 10.999219 \r\nL 134.061 13.173619 \r\nL 80.493 13.173619 \r\nL 80.493 10.999219 \r\n\" style=\"fill:#faebdd;\"/>\r\n    <path clip-path=\"url(#pa09991b1fb)\" d=\"M 134.061 10.999219 \r\nL 187.629 10.999219 \r\nL 187.629 13.173619 \r\nL 134.061 13.173619 \r\nL 134.061 10.999219 \r\n\" style=\"fill:#faebdd;\"/>\r\n    <path clip-path=\"url(#pa09991b1fb)\" d=\"M 187.629 10.999219 \r\nL 241.197 10.999219 \r\nL 241.197 13.173619 \r\nL 187.629 13.173619 \r\nL 187.629 10.999219 \r\n\" style=\"fill:#faebdd;\"/>\r\n    <path clip-path=\"url(#pa09991b1fb)\" d=\"M 241.197 10.999219 \r\nL 294.765 10.999219 \r\nL 294.765 13.173619 \r\nL 241.197 13.173619 \r\nL 241.197 10.999219 \r\n\" style=\"fill:#faebdd;\"/>\r\n    <path clip-path=\"url(#pa09991b1fb)\" d=\"M 26.925 13.173619 \r\nL 80.493 13.173619 \r\nL 80.493 15.348019 \r\nL 26.925 15.348019 \r\nL 26.925 13.173619 \r\n\" style=\"fill:#faebdd;\"/>\r\n    <path clip-path=\"url(#pa09991b1fb)\" d=\"M 80.493 13.173619 \r\nL 134.061 13.173619 \r\nL 134.061 15.348019 \r\nL 80.493 15.348019 \r\nL 80.493 13.173619 \r\n\" style=\"fill:#faebdd;\"/>\r\n    <path clip-path=\"url(#pa09991b1fb)\" d=\"M 134.061 13.173619 \r\nL 187.629 13.173619 \r\nL 187.629 15.348019 \r\nL 134.061 15.348019 \r\nL 134.061 13.173619 \r\n\" style=\"fill:#faebdd;\"/>\r\n    <path clip-path=\"url(#pa09991b1fb)\" d=\"M 187.629 13.173619 \r\nL 241.197 13.173619 \r\nL 241.197 15.348019 \r\nL 187.629 15.348019 \r\nL 187.629 13.173619 \r\n\" style=\"fill:#faebdd;\"/>\r\n    <path clip-path=\"url(#pa09991b1fb)\" d=\"M 241.197 13.173619 \r\nL 294.765 13.173619 \r\nL 294.765 15.348019 \r\nL 241.197 15.348019 \r\nL 241.197 13.173619 \r\n\" style=\"fill:#faebdd;\"/>\r\n    <path clip-path=\"url(#pa09991b1fb)\" d=\"M 26.925 15.348019 \r\nL 80.493 15.348019 \r\nL 80.493 17.522419 \r\nL 26.925 17.522419 \r\nL 26.925 15.348019 \r\n\" style=\"fill:#03051a;\"/>\r\n    <path clip-path=\"url(#pa09991b1fb)\" d=\"M 80.493 15.348019 \r\nL 134.061 15.348019 \r\nL 134.061 17.522419 \r\nL 80.493 17.522419 \r\nL 80.493 15.348019 \r\n\" style=\"fill:#faebdd;\"/>\r\n    <path clip-path=\"url(#pa09991b1fb)\" d=\"M 134.061 15.348019 \r\nL 187.629 15.348019 \r\nL 187.629 17.522419 \r\nL 134.061 17.522419 \r\nL 134.061 15.348019 \r\n\" style=\"fill:#faebdd;\"/>\r\n    <path clip-path=\"url(#pa09991b1fb)\" d=\"M 187.629 15.348019 \r\nL 241.197 15.348019 \r\nL 241.197 17.522419 \r\nL 187.629 17.522419 \r\nL 187.629 15.348019 \r\n\" style=\"fill:#faebdd;\"/>\r\n    <path clip-path=\"url(#pa09991b1fb)\" d=\"M 241.197 15.348019 \r\nL 294.765 15.348019 \r\nL 294.765 17.522419 \r\nL 241.197 17.522419 \r\nL 241.197 15.348019 \r\n\" style=\"fill:#faebdd;\"/>\r\n    <path clip-path=\"url(#pa09991b1fb)\" d=\"M 26.925 17.522419 \r\nL 80.493 17.522419 \r\nL 80.493 19.696819 \r\nL 26.925 19.696819 \r\nL 26.925 17.522419 \r\n\" style=\"fill:#03051a;\"/>\r\n    <path clip-path=\"url(#pa09991b1fb)\" d=\"M 80.493 17.522419 \r\nL 134.061 17.522419 \r\nL 134.061 19.696819 \r\nL 80.493 19.696819 \r\nL 80.493 17.522419 \r\n\" style=\"fill:#faebdd;\"/>\r\n    <path clip-path=\"url(#pa09991b1fb)\" d=\"M 134.061 17.522419 \r\nL 187.629 17.522419 \r\nL 187.629 19.696819 \r\nL 134.061 19.696819 \r\nL 134.061 17.522419 \r\n\" style=\"fill:#faebdd;\"/>\r\n    <path clip-path=\"url(#pa09991b1fb)\" d=\"M 187.629 17.522419 \r\nL 241.197 17.522419 \r\nL 241.197 19.696819 \r\nL 187.629 19.696819 \r\nL 187.629 17.522419 \r\n\" style=\"fill:#03051a;\"/>\r\n    <path clip-path=\"url(#pa09991b1fb)\" d=\"M 241.197 17.522419 \r\nL 294.765 17.522419 \r\nL 294.765 19.696819 \r\nL 241.197 19.696819 \r\nL 241.197 17.522419 \r\n\" style=\"fill:#faebdd;\"/>\r\n    <path clip-path=\"url(#pa09991b1fb)\" d=\"M 26.925 19.696819 \r\nL 80.493 19.696819 \r\nL 80.493 21.871219 \r\nL 26.925 21.871219 \r\nL 26.925 19.696819 \r\n\" style=\"fill:#03051a;\"/>\r\n    <path clip-path=\"url(#pa09991b1fb)\" d=\"M 80.493 19.696819 \r\nL 134.061 19.696819 \r\nL 134.061 21.871219 \r\nL 80.493 21.871219 \r\nL 80.493 19.696819 \r\n\" style=\"fill:#faebdd;\"/>\r\n    <path clip-path=\"url(#pa09991b1fb)\" d=\"M 134.061 19.696819 \r\nL 187.629 19.696819 \r\nL 187.629 21.871219 \r\nL 134.061 21.871219 \r\nL 134.061 19.696819 \r\n\" style=\"fill:#faebdd;\"/>\r\n    <path clip-path=\"url(#pa09991b1fb)\" d=\"M 187.629 19.696819 \r\nL 241.197 19.696819 \r\nL 241.197 21.871219 \r\nL 187.629 21.871219 \r\nL 187.629 19.696819 \r\n\" style=\"fill:#faebdd;\"/>\r\n    <path clip-path=\"url(#pa09991b1fb)\" d=\"M 241.197 19.696819 \r\nL 294.765 19.696819 \r\nL 294.765 21.871219 \r\nL 241.197 21.871219 \r\nL 241.197 19.696819 \r\n\" style=\"fill:#faebdd;\"/>\r\n    <path clip-path=\"url(#pa09991b1fb)\" d=\"M 26.925 21.871219 \r\nL 80.493 21.871219 \r\nL 80.493 24.045619 \r\nL 26.925 24.045619 \r\nL 26.925 21.871219 \r\n\" style=\"fill:#faebdd;\"/>\r\n    <path clip-path=\"url(#pa09991b1fb)\" d=\"M 80.493 21.871219 \r\nL 134.061 21.871219 \r\nL 134.061 24.045619 \r\nL 80.493 24.045619 \r\nL 80.493 21.871219 \r\n\" style=\"fill:#faebdd;\"/>\r\n    <path clip-path=\"url(#pa09991b1fb)\" d=\"M 134.061 21.871219 \r\nL 187.629 21.871219 \r\nL 187.629 24.045619 \r\nL 134.061 24.045619 \r\nL 134.061 21.871219 \r\n\" style=\"fill:#faebdd;\"/>\r\n    <path clip-path=\"url(#pa09991b1fb)\" d=\"M 187.629 21.871219 \r\nL 241.197 21.871219 \r\nL 241.197 24.045619 \r\nL 187.629 24.045619 \r\nL 187.629 21.871219 \r\n\" style=\"fill:#03051a;\"/>\r\n    <path clip-path=\"url(#pa09991b1fb)\" d=\"M 241.197 21.871219 \r\nL 294.765 21.871219 \r\nL 294.765 24.045619 \r\nL 241.197 24.045619 \r\nL 241.197 21.871219 \r\n\" style=\"fill:#faebdd;\"/>\r\n    <path clip-path=\"url(#pa09991b1fb)\" d=\"M 26.925 24.045619 \r\nL 80.493 24.045619 \r\nL 80.493 26.220019 \r\nL 26.925 26.220019 \r\nL 26.925 24.045619 \r\n\" style=\"fill:#faebdd;\"/>\r\n    <path clip-path=\"url(#pa09991b1fb)\" d=\"M 80.493 24.045619 \r\nL 134.061 24.045619 \r\nL 134.061 26.220019 \r\nL 80.493 26.220019 \r\nL 80.493 24.045619 \r\n\" style=\"fill:#faebdd;\"/>\r\n    <path clip-path=\"url(#pa09991b1fb)\" d=\"M 134.061 24.045619 \r\nL 187.629 24.045619 \r\nL 187.629 26.220019 \r\nL 134.061 26.220019 \r\nL 134.061 24.045619 \r\n\" style=\"fill:#faebdd;\"/>\r\n    <path clip-path=\"url(#pa09991b1fb)\" d=\"M 187.629 24.045619 \r\nL 241.197 24.045619 \r\nL 241.197 26.220019 \r\nL 187.629 26.220019 \r\nL 187.629 24.045619 \r\n\" style=\"fill:#03051a;\"/>\r\n    <path clip-path=\"url(#pa09991b1fb)\" d=\"M 241.197 24.045619 \r\nL 294.765 24.045619 \r\nL 294.765 26.220019 \r\nL 241.197 26.220019 \r\nL 241.197 24.045619 \r\n\" style=\"fill:#faebdd;\"/>\r\n    <path clip-path=\"url(#pa09991b1fb)\" d=\"M 26.925 26.220019 \r\nL 80.493 26.220019 \r\nL 80.493 28.394419 \r\nL 26.925 28.394419 \r\nL 26.925 26.220019 \r\n\" style=\"fill:#faebdd;\"/>\r\n    <path clip-path=\"url(#pa09991b1fb)\" d=\"M 80.493 26.220019 \r\nL 134.061 26.220019 \r\nL 134.061 28.394419 \r\nL 80.493 28.394419 \r\nL 80.493 26.220019 \r\n\" style=\"fill:#faebdd;\"/>\r\n    <path clip-path=\"url(#pa09991b1fb)\" d=\"M 134.061 26.220019 \r\nL 187.629 26.220019 \r\nL 187.629 28.394419 \r\nL 134.061 28.394419 \r\nL 134.061 26.220019 \r\n\" style=\"fill:#faebdd;\"/>\r\n    <path clip-path=\"url(#pa09991b1fb)\" d=\"M 187.629 26.220019 \r\nL 241.197 26.220019 \r\nL 241.197 28.394419 \r\nL 187.629 28.394419 \r\nL 187.629 26.220019 \r\n\" style=\"fill:#faebdd;\"/>\r\n    <path clip-path=\"url(#pa09991b1fb)\" d=\"M 241.197 26.220019 \r\nL 294.765 26.220019 \r\nL 294.765 28.394419 \r\nL 241.197 28.394419 \r\nL 241.197 26.220019 \r\n\" style=\"fill:#faebdd;\"/>\r\n    <path clip-path=\"url(#pa09991b1fb)\" d=\"M 26.925 28.394419 \r\nL 80.493 28.394419 \r\nL 80.493 30.568819 \r\nL 26.925 30.568819 \r\nL 26.925 28.394419 \r\n\" style=\"fill:#03051a;\"/>\r\n    <path clip-path=\"url(#pa09991b1fb)\" d=\"M 80.493 28.394419 \r\nL 134.061 28.394419 \r\nL 134.061 30.568819 \r\nL 80.493 30.568819 \r\nL 80.493 28.394419 \r\n\" style=\"fill:#faebdd;\"/>\r\n    <path clip-path=\"url(#pa09991b1fb)\" d=\"M 134.061 28.394419 \r\nL 187.629 28.394419 \r\nL 187.629 30.568819 \r\nL 134.061 30.568819 \r\nL 134.061 28.394419 \r\n\" style=\"fill:#faebdd;\"/>\r\n    <path clip-path=\"url(#pa09991b1fb)\" d=\"M 187.629 28.394419 \r\nL 241.197 28.394419 \r\nL 241.197 30.568819 \r\nL 187.629 30.568819 \r\nL 187.629 28.394419 \r\n\" style=\"fill:#faebdd;\"/>\r\n    <path clip-path=\"url(#pa09991b1fb)\" d=\"M 241.197 28.394419 \r\nL 294.765 28.394419 \r\nL 294.765 30.568819 \r\nL 241.197 30.568819 \r\nL 241.197 28.394419 \r\n\" style=\"fill:#faebdd;\"/>\r\n    <path clip-path=\"url(#pa09991b1fb)\" d=\"M 26.925 30.568819 \r\nL 80.493 30.568819 \r\nL 80.493 32.743219 \r\nL 26.925 32.743219 \r\nL 26.925 30.568819 \r\n\" style=\"fill:#faebdd;\"/>\r\n    <path clip-path=\"url(#pa09991b1fb)\" d=\"M 80.493 30.568819 \r\nL 134.061 30.568819 \r\nL 134.061 32.743219 \r\nL 80.493 32.743219 \r\nL 80.493 30.568819 \r\n\" style=\"fill:#faebdd;\"/>\r\n    <path clip-path=\"url(#pa09991b1fb)\" d=\"M 134.061 30.568819 \r\nL 187.629 30.568819 \r\nL 187.629 32.743219 \r\nL 134.061 32.743219 \r\nL 134.061 30.568819 \r\n\" style=\"fill:#faebdd;\"/>\r\n    <path clip-path=\"url(#pa09991b1fb)\" d=\"M 187.629 30.568819 \r\nL 241.197 30.568819 \r\nL 241.197 32.743219 \r\nL 187.629 32.743219 \r\nL 187.629 30.568819 \r\n\" style=\"fill:#faebdd;\"/>\r\n    <path clip-path=\"url(#pa09991b1fb)\" d=\"M 241.197 30.568819 \r\nL 294.765 30.568819 \r\nL 294.765 32.743219 \r\nL 241.197 32.743219 \r\nL 241.197 30.568819 \r\n\" style=\"fill:#faebdd;\"/>\r\n    <path clip-path=\"url(#pa09991b1fb)\" d=\"M 26.925 32.743219 \r\nL 80.493 32.743219 \r\nL 80.493 34.917619 \r\nL 26.925 34.917619 \r\nL 26.925 32.743219 \r\n\" style=\"fill:#faebdd;\"/>\r\n    <path clip-path=\"url(#pa09991b1fb)\" d=\"M 80.493 32.743219 \r\nL 134.061 32.743219 \r\nL 134.061 34.917619 \r\nL 80.493 34.917619 \r\nL 80.493 32.743219 \r\n\" style=\"fill:#faebdd;\"/>\r\n    <path clip-path=\"url(#pa09991b1fb)\" d=\"M 134.061 32.743219 \r\nL 187.629 32.743219 \r\nL 187.629 34.917619 \r\nL 134.061 34.917619 \r\nL 134.061 32.743219 \r\n\" style=\"fill:#faebdd;\"/>\r\n    <path clip-path=\"url(#pa09991b1fb)\" d=\"M 187.629 32.743219 \r\nL 241.197 32.743219 \r\nL 241.197 34.917619 \r\nL 187.629 34.917619 \r\nL 187.629 32.743219 \r\n\" style=\"fill:#faebdd;\"/>\r\n    <path clip-path=\"url(#pa09991b1fb)\" d=\"M 241.197 32.743219 \r\nL 294.765 32.743219 \r\nL 294.765 34.917619 \r\nL 241.197 34.917619 \r\nL 241.197 32.743219 \r\n\" style=\"fill:#faebdd;\"/>\r\n    <path clip-path=\"url(#pa09991b1fb)\" d=\"M 26.925 34.917619 \r\nL 80.493 34.917619 \r\nL 80.493 37.092019 \r\nL 26.925 37.092019 \r\nL 26.925 34.917619 \r\n\" style=\"fill:#03051a;\"/>\r\n    <path clip-path=\"url(#pa09991b1fb)\" d=\"M 80.493 34.917619 \r\nL 134.061 34.917619 \r\nL 134.061 37.092019 \r\nL 80.493 37.092019 \r\nL 80.493 34.917619 \r\n\" style=\"fill:#faebdd;\"/>\r\n    <path clip-path=\"url(#pa09991b1fb)\" d=\"M 134.061 34.917619 \r\nL 187.629 34.917619 \r\nL 187.629 37.092019 \r\nL 134.061 37.092019 \r\nL 134.061 34.917619 \r\n\" style=\"fill:#faebdd;\"/>\r\n    <path clip-path=\"url(#pa09991b1fb)\" d=\"M 187.629 34.917619 \r\nL 241.197 34.917619 \r\nL 241.197 37.092019 \r\nL 187.629 37.092019 \r\nL 187.629 34.917619 \r\n\" style=\"fill:#faebdd;\"/>\r\n    <path clip-path=\"url(#pa09991b1fb)\" d=\"M 241.197 34.917619 \r\nL 294.765 34.917619 \r\nL 294.765 37.092019 \r\nL 241.197 37.092019 \r\nL 241.197 34.917619 \r\n\" style=\"fill:#faebdd;\"/>\r\n    <path clip-path=\"url(#pa09991b1fb)\" d=\"M 26.925 37.092019 \r\nL 80.493 37.092019 \r\nL 80.493 39.266419 \r\nL 26.925 39.266419 \r\nL 26.925 37.092019 \r\n\" style=\"fill:#faebdd;\"/>\r\n    <path clip-path=\"url(#pa09991b1fb)\" d=\"M 80.493 37.092019 \r\nL 134.061 37.092019 \r\nL 134.061 39.266419 \r\nL 80.493 39.266419 \r\nL 80.493 37.092019 \r\n\" style=\"fill:#faebdd;\"/>\r\n    <path clip-path=\"url(#pa09991b1fb)\" d=\"M 134.061 37.092019 \r\nL 187.629 37.092019 \r\nL 187.629 39.266419 \r\nL 134.061 39.266419 \r\nL 134.061 37.092019 \r\n\" style=\"fill:#faebdd;\"/>\r\n    <path clip-path=\"url(#pa09991b1fb)\" d=\"M 187.629 37.092019 \r\nL 241.197 37.092019 \r\nL 241.197 39.266419 \r\nL 187.629 39.266419 \r\nL 187.629 37.092019 \r\n\" style=\"fill:#faebdd;\"/>\r\n    <path clip-path=\"url(#pa09991b1fb)\" d=\"M 241.197 37.092019 \r\nL 294.765 37.092019 \r\nL 294.765 39.266419 \r\nL 241.197 39.266419 \r\nL 241.197 37.092019 \r\n\" style=\"fill:#faebdd;\"/>\r\n    <path clip-path=\"url(#pa09991b1fb)\" d=\"M 26.925 39.266419 \r\nL 80.493 39.266419 \r\nL 80.493 41.440819 \r\nL 26.925 41.440819 \r\nL 26.925 39.266419 \r\n\" style=\"fill:#faebdd;\"/>\r\n    <path clip-path=\"url(#pa09991b1fb)\" d=\"M 80.493 39.266419 \r\nL 134.061 39.266419 \r\nL 134.061 41.440819 \r\nL 80.493 41.440819 \r\nL 80.493 39.266419 \r\n\" style=\"fill:#faebdd;\"/>\r\n    <path clip-path=\"url(#pa09991b1fb)\" d=\"M 134.061 39.266419 \r\nL 187.629 39.266419 \r\nL 187.629 41.440819 \r\nL 134.061 41.440819 \r\nL 134.061 39.266419 \r\n\" style=\"fill:#faebdd;\"/>\r\n    <path clip-path=\"url(#pa09991b1fb)\" d=\"M 187.629 39.266419 \r\nL 241.197 39.266419 \r\nL 241.197 41.440819 \r\nL 187.629 41.440819 \r\nL 187.629 39.266419 \r\n\" style=\"fill:#faebdd;\"/>\r\n    <path clip-path=\"url(#pa09991b1fb)\" d=\"M 241.197 39.266419 \r\nL 294.765 39.266419 \r\nL 294.765 41.440819 \r\nL 241.197 41.440819 \r\nL 241.197 39.266419 \r\n\" style=\"fill:#faebdd;\"/>\r\n    <path clip-path=\"url(#pa09991b1fb)\" d=\"M 26.925 41.440819 \r\nL 80.493 41.440819 \r\nL 80.493 43.615219 \r\nL 26.925 43.615219 \r\nL 26.925 41.440819 \r\n\" style=\"fill:#faebdd;\"/>\r\n    <path clip-path=\"url(#pa09991b1fb)\" d=\"M 80.493 41.440819 \r\nL 134.061 41.440819 \r\nL 134.061 43.615219 \r\nL 80.493 43.615219 \r\nL 80.493 41.440819 \r\n\" style=\"fill:#faebdd;\"/>\r\n    <path clip-path=\"url(#pa09991b1fb)\" d=\"M 134.061 41.440819 \r\nL 187.629 41.440819 \r\nL 187.629 43.615219 \r\nL 134.061 43.615219 \r\nL 134.061 41.440819 \r\n\" style=\"fill:#faebdd;\"/>\r\n    <path clip-path=\"url(#pa09991b1fb)\" d=\"M 187.629 41.440819 \r\nL 241.197 41.440819 \r\nL 241.197 43.615219 \r\nL 187.629 43.615219 \r\nL 187.629 41.440819 \r\n\" style=\"fill:#faebdd;\"/>\r\n    <path clip-path=\"url(#pa09991b1fb)\" d=\"M 241.197 41.440819 \r\nL 294.765 41.440819 \r\nL 294.765 43.615219 \r\nL 241.197 43.615219 \r\nL 241.197 41.440819 \r\n\" style=\"fill:#03051a;\"/>\r\n    <path clip-path=\"url(#pa09991b1fb)\" d=\"M 26.925 43.615219 \r\nL 80.493 43.615219 \r\nL 80.493 45.789619 \r\nL 26.925 45.789619 \r\nL 26.925 43.615219 \r\n\" style=\"fill:#faebdd;\"/>\r\n    <path clip-path=\"url(#pa09991b1fb)\" d=\"M 80.493 43.615219 \r\nL 134.061 43.615219 \r\nL 134.061 45.789619 \r\nL 80.493 45.789619 \r\nL 80.493 43.615219 \r\n\" style=\"fill:#faebdd;\"/>\r\n    <path clip-path=\"url(#pa09991b1fb)\" d=\"M 134.061 43.615219 \r\nL 187.629 43.615219 \r\nL 187.629 45.789619 \r\nL 134.061 45.789619 \r\nL 134.061 43.615219 \r\n\" style=\"fill:#faebdd;\"/>\r\n    <path clip-path=\"url(#pa09991b1fb)\" d=\"M 187.629 43.615219 \r\nL 241.197 43.615219 \r\nL 241.197 45.789619 \r\nL 187.629 45.789619 \r\nL 187.629 43.615219 \r\n\" style=\"fill:#faebdd;\"/>\r\n    <path clip-path=\"url(#pa09991b1fb)\" d=\"M 241.197 43.615219 \r\nL 294.765 43.615219 \r\nL 294.765 45.789619 \r\nL 241.197 45.789619 \r\nL 241.197 43.615219 \r\n\" style=\"fill:#faebdd;\"/>\r\n    <path clip-path=\"url(#pa09991b1fb)\" d=\"M 26.925 45.789619 \r\nL 80.493 45.789619 \r\nL 80.493 47.964019 \r\nL 26.925 47.964019 \r\nL 26.925 45.789619 \r\n\" style=\"fill:#faebdd;\"/>\r\n    <path clip-path=\"url(#pa09991b1fb)\" d=\"M 80.493 45.789619 \r\nL 134.061 45.789619 \r\nL 134.061 47.964019 \r\nL 80.493 47.964019 \r\nL 80.493 45.789619 \r\n\" style=\"fill:#faebdd;\"/>\r\n    <path clip-path=\"url(#pa09991b1fb)\" d=\"M 134.061 45.789619 \r\nL 187.629 45.789619 \r\nL 187.629 47.964019 \r\nL 134.061 47.964019 \r\nL 134.061 45.789619 \r\n\" style=\"fill:#faebdd;\"/>\r\n    <path clip-path=\"url(#pa09991b1fb)\" d=\"M 187.629 45.789619 \r\nL 241.197 45.789619 \r\nL 241.197 47.964019 \r\nL 187.629 47.964019 \r\nL 187.629 45.789619 \r\n\" style=\"fill:#faebdd;\"/>\r\n    <path clip-path=\"url(#pa09991b1fb)\" d=\"M 241.197 45.789619 \r\nL 294.765 45.789619 \r\nL 294.765 47.964019 \r\nL 241.197 47.964019 \r\nL 241.197 45.789619 \r\n\" style=\"fill:#faebdd;\"/>\r\n    <path clip-path=\"url(#pa09991b1fb)\" d=\"M 26.925 47.964019 \r\nL 80.493 47.964019 \r\nL 80.493 50.138419 \r\nL 26.925 50.138419 \r\nL 26.925 47.964019 \r\n\" style=\"fill:#faebdd;\"/>\r\n    <path clip-path=\"url(#pa09991b1fb)\" d=\"M 80.493 47.964019 \r\nL 134.061 47.964019 \r\nL 134.061 50.138419 \r\nL 80.493 50.138419 \r\nL 80.493 47.964019 \r\n\" style=\"fill:#faebdd;\"/>\r\n    <path clip-path=\"url(#pa09991b1fb)\" d=\"M 134.061 47.964019 \r\nL 187.629 47.964019 \r\nL 187.629 50.138419 \r\nL 134.061 50.138419 \r\nL 134.061 47.964019 \r\n\" style=\"fill:#faebdd;\"/>\r\n    <path clip-path=\"url(#pa09991b1fb)\" d=\"M 187.629 47.964019 \r\nL 241.197 47.964019 \r\nL 241.197 50.138419 \r\nL 187.629 50.138419 \r\nL 187.629 47.964019 \r\n\" style=\"fill:#03051a;\"/>\r\n    <path clip-path=\"url(#pa09991b1fb)\" d=\"M 241.197 47.964019 \r\nL 294.765 47.964019 \r\nL 294.765 50.138419 \r\nL 241.197 50.138419 \r\nL 241.197 47.964019 \r\n\" style=\"fill:#faebdd;\"/>\r\n    <path clip-path=\"url(#pa09991b1fb)\" d=\"M 26.925 50.138419 \r\nL 80.493 50.138419 \r\nL 80.493 52.312819 \r\nL 26.925 52.312819 \r\nL 26.925 50.138419 \r\n\" style=\"fill:#faebdd;\"/>\r\n    <path clip-path=\"url(#pa09991b1fb)\" d=\"M 80.493 50.138419 \r\nL 134.061 50.138419 \r\nL 134.061 52.312819 \r\nL 80.493 52.312819 \r\nL 80.493 50.138419 \r\n\" style=\"fill:#faebdd;\"/>\r\n    <path clip-path=\"url(#pa09991b1fb)\" d=\"M 134.061 50.138419 \r\nL 187.629 50.138419 \r\nL 187.629 52.312819 \r\nL 134.061 52.312819 \r\nL 134.061 50.138419 \r\n\" style=\"fill:#faebdd;\"/>\r\n    <path clip-path=\"url(#pa09991b1fb)\" d=\"M 187.629 50.138419 \r\nL 241.197 50.138419 \r\nL 241.197 52.312819 \r\nL 187.629 52.312819 \r\nL 187.629 50.138419 \r\n\" style=\"fill:#faebdd;\"/>\r\n    <path clip-path=\"url(#pa09991b1fb)\" d=\"M 241.197 50.138419 \r\nL 294.765 50.138419 \r\nL 294.765 52.312819 \r\nL 241.197 52.312819 \r\nL 241.197 50.138419 \r\n\" style=\"fill:#faebdd;\"/>\r\n    <path clip-path=\"url(#pa09991b1fb)\" d=\"M 26.925 52.312819 \r\nL 80.493 52.312819 \r\nL 80.493 54.487219 \r\nL 26.925 54.487219 \r\nL 26.925 52.312819 \r\n\" style=\"fill:#faebdd;\"/>\r\n    <path clip-path=\"url(#pa09991b1fb)\" d=\"M 80.493 52.312819 \r\nL 134.061 52.312819 \r\nL 134.061 54.487219 \r\nL 80.493 54.487219 \r\nL 80.493 52.312819 \r\n\" style=\"fill:#faebdd;\"/>\r\n    <path clip-path=\"url(#pa09991b1fb)\" d=\"M 134.061 52.312819 \r\nL 187.629 52.312819 \r\nL 187.629 54.487219 \r\nL 134.061 54.487219 \r\nL 134.061 52.312819 \r\n\" style=\"fill:#faebdd;\"/>\r\n    <path clip-path=\"url(#pa09991b1fb)\" d=\"M 187.629 52.312819 \r\nL 241.197 52.312819 \r\nL 241.197 54.487219 \r\nL 187.629 54.487219 \r\nL 187.629 52.312819 \r\n\" style=\"fill:#faebdd;\"/>\r\n    <path clip-path=\"url(#pa09991b1fb)\" d=\"M 241.197 52.312819 \r\nL 294.765 52.312819 \r\nL 294.765 54.487219 \r\nL 241.197 54.487219 \r\nL 241.197 52.312819 \r\n\" style=\"fill:#faebdd;\"/>\r\n    <path clip-path=\"url(#pa09991b1fb)\" d=\"M 26.925 54.487219 \r\nL 80.493 54.487219 \r\nL 80.493 56.661619 \r\nL 26.925 56.661619 \r\nL 26.925 54.487219 \r\n\" style=\"fill:#faebdd;\"/>\r\n    <path clip-path=\"url(#pa09991b1fb)\" d=\"M 80.493 54.487219 \r\nL 134.061 54.487219 \r\nL 134.061 56.661619 \r\nL 80.493 56.661619 \r\nL 80.493 54.487219 \r\n\" style=\"fill:#faebdd;\"/>\r\n    <path clip-path=\"url(#pa09991b1fb)\" d=\"M 134.061 54.487219 \r\nL 187.629 54.487219 \r\nL 187.629 56.661619 \r\nL 134.061 56.661619 \r\nL 134.061 54.487219 \r\n\" style=\"fill:#faebdd;\"/>\r\n    <path clip-path=\"url(#pa09991b1fb)\" d=\"M 187.629 54.487219 \r\nL 241.197 54.487219 \r\nL 241.197 56.661619 \r\nL 187.629 56.661619 \r\nL 187.629 54.487219 \r\n\" style=\"fill:#faebdd;\"/>\r\n    <path clip-path=\"url(#pa09991b1fb)\" d=\"M 241.197 54.487219 \r\nL 294.765 54.487219 \r\nL 294.765 56.661619 \r\nL 241.197 56.661619 \r\nL 241.197 54.487219 \r\n\" style=\"fill:#faebdd;\"/>\r\n    <path clip-path=\"url(#pa09991b1fb)\" d=\"M 26.925 56.661619 \r\nL 80.493 56.661619 \r\nL 80.493 58.836019 \r\nL 26.925 58.836019 \r\nL 26.925 56.661619 \r\n\" style=\"fill:#faebdd;\"/>\r\n    <path clip-path=\"url(#pa09991b1fb)\" d=\"M 80.493 56.661619 \r\nL 134.061 56.661619 \r\nL 134.061 58.836019 \r\nL 80.493 58.836019 \r\nL 80.493 56.661619 \r\n\" style=\"fill:#faebdd;\"/>\r\n    <path clip-path=\"url(#pa09991b1fb)\" d=\"M 134.061 56.661619 \r\nL 187.629 56.661619 \r\nL 187.629 58.836019 \r\nL 134.061 58.836019 \r\nL 134.061 56.661619 \r\n\" style=\"fill:#faebdd;\"/>\r\n    <path clip-path=\"url(#pa09991b1fb)\" d=\"M 187.629 56.661619 \r\nL 241.197 56.661619 \r\nL 241.197 58.836019 \r\nL 187.629 58.836019 \r\nL 187.629 56.661619 \r\n\" style=\"fill:#faebdd;\"/>\r\n    <path clip-path=\"url(#pa09991b1fb)\" d=\"M 241.197 56.661619 \r\nL 294.765 56.661619 \r\nL 294.765 58.836019 \r\nL 241.197 58.836019 \r\nL 241.197 56.661619 \r\n\" style=\"fill:#faebdd;\"/>\r\n    <path clip-path=\"url(#pa09991b1fb)\" d=\"M 26.925 58.836019 \r\nL 80.493 58.836019 \r\nL 80.493 61.010419 \r\nL 26.925 61.010419 \r\nL 26.925 58.836019 \r\n\" style=\"fill:#faebdd;\"/>\r\n    <path clip-path=\"url(#pa09991b1fb)\" d=\"M 80.493 58.836019 \r\nL 134.061 58.836019 \r\nL 134.061 61.010419 \r\nL 80.493 61.010419 \r\nL 80.493 58.836019 \r\n\" style=\"fill:#faebdd;\"/>\r\n    <path clip-path=\"url(#pa09991b1fb)\" d=\"M 134.061 58.836019 \r\nL 187.629 58.836019 \r\nL 187.629 61.010419 \r\nL 134.061 61.010419 \r\nL 134.061 58.836019 \r\n\" style=\"fill:#faebdd;\"/>\r\n    <path clip-path=\"url(#pa09991b1fb)\" d=\"M 187.629 58.836019 \r\nL 241.197 58.836019 \r\nL 241.197 61.010419 \r\nL 187.629 61.010419 \r\nL 187.629 58.836019 \r\n\" style=\"fill:#faebdd;\"/>\r\n    <path clip-path=\"url(#pa09991b1fb)\" d=\"M 241.197 58.836019 \r\nL 294.765 58.836019 \r\nL 294.765 61.010419 \r\nL 241.197 61.010419 \r\nL 241.197 58.836019 \r\n\" style=\"fill:#faebdd;\"/>\r\n    <path clip-path=\"url(#pa09991b1fb)\" d=\"M 26.925 61.010419 \r\nL 80.493 61.010419 \r\nL 80.493 63.184819 \r\nL 26.925 63.184819 \r\nL 26.925 61.010419 \r\n\" style=\"fill:#faebdd;\"/>\r\n    <path clip-path=\"url(#pa09991b1fb)\" d=\"M 80.493 61.010419 \r\nL 134.061 61.010419 \r\nL 134.061 63.184819 \r\nL 80.493 63.184819 \r\nL 80.493 61.010419 \r\n\" style=\"fill:#03051a;\"/>\r\n    <path clip-path=\"url(#pa09991b1fb)\" d=\"M 134.061 61.010419 \r\nL 187.629 61.010419 \r\nL 187.629 63.184819 \r\nL 134.061 63.184819 \r\nL 134.061 61.010419 \r\n\" style=\"fill:#faebdd;\"/>\r\n    <path clip-path=\"url(#pa09991b1fb)\" d=\"M 187.629 61.010419 \r\nL 241.197 61.010419 \r\nL 241.197 63.184819 \r\nL 187.629 63.184819 \r\nL 187.629 61.010419 \r\n\" style=\"fill:#faebdd;\"/>\r\n    <path clip-path=\"url(#pa09991b1fb)\" d=\"M 241.197 61.010419 \r\nL 294.765 61.010419 \r\nL 294.765 63.184819 \r\nL 241.197 63.184819 \r\nL 241.197 61.010419 \r\n\" style=\"fill:#faebdd;\"/>\r\n    <path clip-path=\"url(#pa09991b1fb)\" d=\"M 26.925 63.184819 \r\nL 80.493 63.184819 \r\nL 80.493 65.359219 \r\nL 26.925 65.359219 \r\nL 26.925 63.184819 \r\n\" style=\"fill:#faebdd;\"/>\r\n    <path clip-path=\"url(#pa09991b1fb)\" d=\"M 80.493 63.184819 \r\nL 134.061 63.184819 \r\nL 134.061 65.359219 \r\nL 80.493 65.359219 \r\nL 80.493 63.184819 \r\n\" style=\"fill:#faebdd;\"/>\r\n    <path clip-path=\"url(#pa09991b1fb)\" d=\"M 134.061 63.184819 \r\nL 187.629 63.184819 \r\nL 187.629 65.359219 \r\nL 134.061 65.359219 \r\nL 134.061 63.184819 \r\n\" style=\"fill:#faebdd;\"/>\r\n    <path clip-path=\"url(#pa09991b1fb)\" d=\"M 187.629 63.184819 \r\nL 241.197 63.184819 \r\nL 241.197 65.359219 \r\nL 187.629 65.359219 \r\nL 187.629 63.184819 \r\n\" style=\"fill:#faebdd;\"/>\r\n    <path clip-path=\"url(#pa09991b1fb)\" d=\"M 241.197 63.184819 \r\nL 294.765 63.184819 \r\nL 294.765 65.359219 \r\nL 241.197 65.359219 \r\nL 241.197 63.184819 \r\n\" style=\"fill:#faebdd;\"/>\r\n    <path clip-path=\"url(#pa09991b1fb)\" d=\"M 26.925 65.359219 \r\nL 80.493 65.359219 \r\nL 80.493 67.533619 \r\nL 26.925 67.533619 \r\nL 26.925 65.359219 \r\n\" style=\"fill:#faebdd;\"/>\r\n    <path clip-path=\"url(#pa09991b1fb)\" d=\"M 80.493 65.359219 \r\nL 134.061 65.359219 \r\nL 134.061 67.533619 \r\nL 80.493 67.533619 \r\nL 80.493 65.359219 \r\n\" style=\"fill:#faebdd;\"/>\r\n    <path clip-path=\"url(#pa09991b1fb)\" d=\"M 134.061 65.359219 \r\nL 187.629 65.359219 \r\nL 187.629 67.533619 \r\nL 134.061 67.533619 \r\nL 134.061 65.359219 \r\n\" style=\"fill:#faebdd;\"/>\r\n    <path clip-path=\"url(#pa09991b1fb)\" d=\"M 187.629 65.359219 \r\nL 241.197 65.359219 \r\nL 241.197 67.533619 \r\nL 187.629 67.533619 \r\nL 187.629 65.359219 \r\n\" style=\"fill:#03051a;\"/>\r\n    <path clip-path=\"url(#pa09991b1fb)\" d=\"M 241.197 65.359219 \r\nL 294.765 65.359219 \r\nL 294.765 67.533619 \r\nL 241.197 67.533619 \r\nL 241.197 65.359219 \r\n\" style=\"fill:#faebdd;\"/>\r\n    <path clip-path=\"url(#pa09991b1fb)\" d=\"M 26.925 67.533619 \r\nL 80.493 67.533619 \r\nL 80.493 69.708019 \r\nL 26.925 69.708019 \r\nL 26.925 67.533619 \r\n\" style=\"fill:#faebdd;\"/>\r\n    <path clip-path=\"url(#pa09991b1fb)\" d=\"M 80.493 67.533619 \r\nL 134.061 67.533619 \r\nL 134.061 69.708019 \r\nL 80.493 69.708019 \r\nL 80.493 67.533619 \r\n\" style=\"fill:#faebdd;\"/>\r\n    <path clip-path=\"url(#pa09991b1fb)\" d=\"M 134.061 67.533619 \r\nL 187.629 67.533619 \r\nL 187.629 69.708019 \r\nL 134.061 69.708019 \r\nL 134.061 67.533619 \r\n\" style=\"fill:#faebdd;\"/>\r\n    <path clip-path=\"url(#pa09991b1fb)\" d=\"M 187.629 67.533619 \r\nL 241.197 67.533619 \r\nL 241.197 69.708019 \r\nL 187.629 69.708019 \r\nL 187.629 67.533619 \r\n\" style=\"fill:#faebdd;\"/>\r\n    <path clip-path=\"url(#pa09991b1fb)\" d=\"M 241.197 67.533619 \r\nL 294.765 67.533619 \r\nL 294.765 69.708019 \r\nL 241.197 69.708019 \r\nL 241.197 67.533619 \r\n\" style=\"fill:#faebdd;\"/>\r\n    <path clip-path=\"url(#pa09991b1fb)\" d=\"M 26.925 69.708019 \r\nL 80.493 69.708019 \r\nL 80.493 71.882419 \r\nL 26.925 71.882419 \r\nL 26.925 69.708019 \r\n\" style=\"fill:#faebdd;\"/>\r\n    <path clip-path=\"url(#pa09991b1fb)\" d=\"M 80.493 69.708019 \r\nL 134.061 69.708019 \r\nL 134.061 71.882419 \r\nL 80.493 71.882419 \r\nL 80.493 69.708019 \r\n\" style=\"fill:#faebdd;\"/>\r\n    <path clip-path=\"url(#pa09991b1fb)\" d=\"M 134.061 69.708019 \r\nL 187.629 69.708019 \r\nL 187.629 71.882419 \r\nL 134.061 71.882419 \r\nL 134.061 69.708019 \r\n\" style=\"fill:#faebdd;\"/>\r\n    <path clip-path=\"url(#pa09991b1fb)\" d=\"M 187.629 69.708019 \r\nL 241.197 69.708019 \r\nL 241.197 71.882419 \r\nL 187.629 71.882419 \r\nL 187.629 69.708019 \r\n\" style=\"fill:#faebdd;\"/>\r\n    <path clip-path=\"url(#pa09991b1fb)\" d=\"M 241.197 69.708019 \r\nL 294.765 69.708019 \r\nL 294.765 71.882419 \r\nL 241.197 71.882419 \r\nL 241.197 69.708019 \r\n\" style=\"fill:#faebdd;\"/>\r\n    <path clip-path=\"url(#pa09991b1fb)\" d=\"M 26.925 71.882419 \r\nL 80.493 71.882419 \r\nL 80.493 74.056819 \r\nL 26.925 74.056819 \r\nL 26.925 71.882419 \r\n\" style=\"fill:#faebdd;\"/>\r\n    <path clip-path=\"url(#pa09991b1fb)\" d=\"M 80.493 71.882419 \r\nL 134.061 71.882419 \r\nL 134.061 74.056819 \r\nL 80.493 74.056819 \r\nL 80.493 71.882419 \r\n\" style=\"fill:#faebdd;\"/>\r\n    <path clip-path=\"url(#pa09991b1fb)\" d=\"M 134.061 71.882419 \r\nL 187.629 71.882419 \r\nL 187.629 74.056819 \r\nL 134.061 74.056819 \r\nL 134.061 71.882419 \r\n\" style=\"fill:#faebdd;\"/>\r\n    <path clip-path=\"url(#pa09991b1fb)\" d=\"M 187.629 71.882419 \r\nL 241.197 71.882419 \r\nL 241.197 74.056819 \r\nL 187.629 74.056819 \r\nL 187.629 71.882419 \r\n\" style=\"fill:#03051a;\"/>\r\n    <path clip-path=\"url(#pa09991b1fb)\" d=\"M 241.197 71.882419 \r\nL 294.765 71.882419 \r\nL 294.765 74.056819 \r\nL 241.197 74.056819 \r\nL 241.197 71.882419 \r\n\" style=\"fill:#faebdd;\"/>\r\n    <path clip-path=\"url(#pa09991b1fb)\" d=\"M 26.925 74.056819 \r\nL 80.493 74.056819 \r\nL 80.493 76.231219 \r\nL 26.925 76.231219 \r\nL 26.925 74.056819 \r\n\" style=\"fill:#faebdd;\"/>\r\n    <path clip-path=\"url(#pa09991b1fb)\" d=\"M 80.493 74.056819 \r\nL 134.061 74.056819 \r\nL 134.061 76.231219 \r\nL 80.493 76.231219 \r\nL 80.493 74.056819 \r\n\" style=\"fill:#faebdd;\"/>\r\n    <path clip-path=\"url(#pa09991b1fb)\" d=\"M 134.061 74.056819 \r\nL 187.629 74.056819 \r\nL 187.629 76.231219 \r\nL 134.061 76.231219 \r\nL 134.061 74.056819 \r\n\" style=\"fill:#faebdd;\"/>\r\n    <path clip-path=\"url(#pa09991b1fb)\" d=\"M 187.629 74.056819 \r\nL 241.197 74.056819 \r\nL 241.197 76.231219 \r\nL 187.629 76.231219 \r\nL 187.629 74.056819 \r\n\" style=\"fill:#faebdd;\"/>\r\n    <path clip-path=\"url(#pa09991b1fb)\" d=\"M 241.197 74.056819 \r\nL 294.765 74.056819 \r\nL 294.765 76.231219 \r\nL 241.197 76.231219 \r\nL 241.197 74.056819 \r\n\" style=\"fill:#faebdd;\"/>\r\n    <path clip-path=\"url(#pa09991b1fb)\" d=\"M 26.925 76.231219 \r\nL 80.493 76.231219 \r\nL 80.493 78.405619 \r\nL 26.925 78.405619 \r\nL 26.925 76.231219 \r\n\" style=\"fill:#03051a;\"/>\r\n    <path clip-path=\"url(#pa09991b1fb)\" d=\"M 80.493 76.231219 \r\nL 134.061 76.231219 \r\nL 134.061 78.405619 \r\nL 80.493 78.405619 \r\nL 80.493 76.231219 \r\n\" style=\"fill:#faebdd;\"/>\r\n    <path clip-path=\"url(#pa09991b1fb)\" d=\"M 134.061 76.231219 \r\nL 187.629 76.231219 \r\nL 187.629 78.405619 \r\nL 134.061 78.405619 \r\nL 134.061 76.231219 \r\n\" style=\"fill:#faebdd;\"/>\r\n    <path clip-path=\"url(#pa09991b1fb)\" d=\"M 187.629 76.231219 \r\nL 241.197 76.231219 \r\nL 241.197 78.405619 \r\nL 187.629 78.405619 \r\nL 187.629 76.231219 \r\n\" style=\"fill:#faebdd;\"/>\r\n    <path clip-path=\"url(#pa09991b1fb)\" d=\"M 241.197 76.231219 \r\nL 294.765 76.231219 \r\nL 294.765 78.405619 \r\nL 241.197 78.405619 \r\nL 241.197 76.231219 \r\n\" style=\"fill:#faebdd;\"/>\r\n    <path clip-path=\"url(#pa09991b1fb)\" d=\"M 26.925 78.405619 \r\nL 80.493 78.405619 \r\nL 80.493 80.580019 \r\nL 26.925 80.580019 \r\nL 26.925 78.405619 \r\n\" style=\"fill:#03051a;\"/>\r\n    <path clip-path=\"url(#pa09991b1fb)\" d=\"M 80.493 78.405619 \r\nL 134.061 78.405619 \r\nL 134.061 80.580019 \r\nL 80.493 80.580019 \r\nL 80.493 78.405619 \r\n\" style=\"fill:#faebdd;\"/>\r\n    <path clip-path=\"url(#pa09991b1fb)\" d=\"M 134.061 78.405619 \r\nL 187.629 78.405619 \r\nL 187.629 80.580019 \r\nL 134.061 80.580019 \r\nL 134.061 78.405619 \r\n\" style=\"fill:#faebdd;\"/>\r\n    <path clip-path=\"url(#pa09991b1fb)\" d=\"M 187.629 78.405619 \r\nL 241.197 78.405619 \r\nL 241.197 80.580019 \r\nL 187.629 80.580019 \r\nL 187.629 78.405619 \r\n\" style=\"fill:#03051a;\"/>\r\n    <path clip-path=\"url(#pa09991b1fb)\" d=\"M 241.197 78.405619 \r\nL 294.765 78.405619 \r\nL 294.765 80.580019 \r\nL 241.197 80.580019 \r\nL 241.197 78.405619 \r\n\" style=\"fill:#faebdd;\"/>\r\n    <path clip-path=\"url(#pa09991b1fb)\" d=\"M 26.925 80.580019 \r\nL 80.493 80.580019 \r\nL 80.493 82.754419 \r\nL 26.925 82.754419 \r\nL 26.925 80.580019 \r\n\" style=\"fill:#03051a;\"/>\r\n    <path clip-path=\"url(#pa09991b1fb)\" d=\"M 80.493 80.580019 \r\nL 134.061 80.580019 \r\nL 134.061 82.754419 \r\nL 80.493 82.754419 \r\nL 80.493 80.580019 \r\n\" style=\"fill:#faebdd;\"/>\r\n    <path clip-path=\"url(#pa09991b1fb)\" d=\"M 134.061 80.580019 \r\nL 187.629 80.580019 \r\nL 187.629 82.754419 \r\nL 134.061 82.754419 \r\nL 134.061 80.580019 \r\n\" style=\"fill:#faebdd;\"/>\r\n    <path clip-path=\"url(#pa09991b1fb)\" d=\"M 187.629 80.580019 \r\nL 241.197 80.580019 \r\nL 241.197 82.754419 \r\nL 187.629 82.754419 \r\nL 187.629 80.580019 \r\n\" style=\"fill:#faebdd;\"/>\r\n    <path clip-path=\"url(#pa09991b1fb)\" d=\"M 241.197 80.580019 \r\nL 294.765 80.580019 \r\nL 294.765 82.754419 \r\nL 241.197 82.754419 \r\nL 241.197 80.580019 \r\n\" style=\"fill:#faebdd;\"/>\r\n    <path clip-path=\"url(#pa09991b1fb)\" d=\"M 26.925 82.754419 \r\nL 80.493 82.754419 \r\nL 80.493 84.928819 \r\nL 26.925 84.928819 \r\nL 26.925 82.754419 \r\n\" style=\"fill:#faebdd;\"/>\r\n    <path clip-path=\"url(#pa09991b1fb)\" d=\"M 80.493 82.754419 \r\nL 134.061 82.754419 \r\nL 134.061 84.928819 \r\nL 80.493 84.928819 \r\nL 80.493 82.754419 \r\n\" style=\"fill:#faebdd;\"/>\r\n    <path clip-path=\"url(#pa09991b1fb)\" d=\"M 134.061 82.754419 \r\nL 187.629 82.754419 \r\nL 187.629 84.928819 \r\nL 134.061 84.928819 \r\nL 134.061 82.754419 \r\n\" style=\"fill:#faebdd;\"/>\r\n    <path clip-path=\"url(#pa09991b1fb)\" d=\"M 187.629 82.754419 \r\nL 241.197 82.754419 \r\nL 241.197 84.928819 \r\nL 187.629 84.928819 \r\nL 187.629 82.754419 \r\n\" style=\"fill:#faebdd;\"/>\r\n    <path clip-path=\"url(#pa09991b1fb)\" d=\"M 241.197 82.754419 \r\nL 294.765 82.754419 \r\nL 294.765 84.928819 \r\nL 241.197 84.928819 \r\nL 241.197 82.754419 \r\n\" style=\"fill:#faebdd;\"/>\r\n    <path clip-path=\"url(#pa09991b1fb)\" d=\"M 26.925 84.928819 \r\nL 80.493 84.928819 \r\nL 80.493 87.103219 \r\nL 26.925 87.103219 \r\nL 26.925 84.928819 \r\n\" style=\"fill:#faebdd;\"/>\r\n    <path clip-path=\"url(#pa09991b1fb)\" d=\"M 80.493 84.928819 \r\nL 134.061 84.928819 \r\nL 134.061 87.103219 \r\nL 80.493 87.103219 \r\nL 80.493 84.928819 \r\n\" style=\"fill:#faebdd;\"/>\r\n    <path clip-path=\"url(#pa09991b1fb)\" d=\"M 134.061 84.928819 \r\nL 187.629 84.928819 \r\nL 187.629 87.103219 \r\nL 134.061 87.103219 \r\nL 134.061 84.928819 \r\n\" style=\"fill:#faebdd;\"/>\r\n    <path clip-path=\"url(#pa09991b1fb)\" d=\"M 187.629 84.928819 \r\nL 241.197 84.928819 \r\nL 241.197 87.103219 \r\nL 187.629 87.103219 \r\nL 187.629 84.928819 \r\n\" style=\"fill:#03051a;\"/>\r\n    <path clip-path=\"url(#pa09991b1fb)\" d=\"M 241.197 84.928819 \r\nL 294.765 84.928819 \r\nL 294.765 87.103219 \r\nL 241.197 87.103219 \r\nL 241.197 84.928819 \r\n\" style=\"fill:#faebdd;\"/>\r\n    <path clip-path=\"url(#pa09991b1fb)\" d=\"M 26.925 87.103219 \r\nL 80.493 87.103219 \r\nL 80.493 89.277619 \r\nL 26.925 89.277619 \r\nL 26.925 87.103219 \r\n\" style=\"fill:#faebdd;\"/>\r\n    <path clip-path=\"url(#pa09991b1fb)\" d=\"M 80.493 87.103219 \r\nL 134.061 87.103219 \r\nL 134.061 89.277619 \r\nL 80.493 89.277619 \r\nL 80.493 87.103219 \r\n\" style=\"fill:#faebdd;\"/>\r\n    <path clip-path=\"url(#pa09991b1fb)\" d=\"M 134.061 87.103219 \r\nL 187.629 87.103219 \r\nL 187.629 89.277619 \r\nL 134.061 89.277619 \r\nL 134.061 87.103219 \r\n\" style=\"fill:#faebdd;\"/>\r\n    <path clip-path=\"url(#pa09991b1fb)\" d=\"M 187.629 87.103219 \r\nL 241.197 87.103219 \r\nL 241.197 89.277619 \r\nL 187.629 89.277619 \r\nL 187.629 87.103219 \r\n\" style=\"fill:#faebdd;\"/>\r\n    <path clip-path=\"url(#pa09991b1fb)\" d=\"M 241.197 87.103219 \r\nL 294.765 87.103219 \r\nL 294.765 89.277619 \r\nL 241.197 89.277619 \r\nL 241.197 87.103219 \r\n\" style=\"fill:#faebdd;\"/>\r\n    <path clip-path=\"url(#pa09991b1fb)\" d=\"M 26.925 89.277619 \r\nL 80.493 89.277619 \r\nL 80.493 91.452019 \r\nL 26.925 91.452019 \r\nL 26.925 89.277619 \r\n\" style=\"fill:#faebdd;\"/>\r\n    <path clip-path=\"url(#pa09991b1fb)\" d=\"M 80.493 89.277619 \r\nL 134.061 89.277619 \r\nL 134.061 91.452019 \r\nL 80.493 91.452019 \r\nL 80.493 89.277619 \r\n\" style=\"fill:#faebdd;\"/>\r\n    <path clip-path=\"url(#pa09991b1fb)\" d=\"M 134.061 89.277619 \r\nL 187.629 89.277619 \r\nL 187.629 91.452019 \r\nL 134.061 91.452019 \r\nL 134.061 89.277619 \r\n\" style=\"fill:#faebdd;\"/>\r\n    <path clip-path=\"url(#pa09991b1fb)\" d=\"M 187.629 89.277619 \r\nL 241.197 89.277619 \r\nL 241.197 91.452019 \r\nL 187.629 91.452019 \r\nL 187.629 89.277619 \r\n\" style=\"fill:#faebdd;\"/>\r\n    <path clip-path=\"url(#pa09991b1fb)\" d=\"M 241.197 89.277619 \r\nL 294.765 89.277619 \r\nL 294.765 91.452019 \r\nL 241.197 91.452019 \r\nL 241.197 89.277619 \r\n\" style=\"fill:#faebdd;\"/>\r\n    <path clip-path=\"url(#pa09991b1fb)\" d=\"M 26.925 91.452019 \r\nL 80.493 91.452019 \r\nL 80.493 93.626419 \r\nL 26.925 93.626419 \r\nL 26.925 91.452019 \r\n\" style=\"fill:#faebdd;\"/>\r\n    <path clip-path=\"url(#pa09991b1fb)\" d=\"M 80.493 91.452019 \r\nL 134.061 91.452019 \r\nL 134.061 93.626419 \r\nL 80.493 93.626419 \r\nL 80.493 91.452019 \r\n\" style=\"fill:#faebdd;\"/>\r\n    <path clip-path=\"url(#pa09991b1fb)\" d=\"M 134.061 91.452019 \r\nL 187.629 91.452019 \r\nL 187.629 93.626419 \r\nL 134.061 93.626419 \r\nL 134.061 91.452019 \r\n\" style=\"fill:#faebdd;\"/>\r\n    <path clip-path=\"url(#pa09991b1fb)\" d=\"M 187.629 91.452019 \r\nL 241.197 91.452019 \r\nL 241.197 93.626419 \r\nL 187.629 93.626419 \r\nL 187.629 91.452019 \r\n\" style=\"fill:#faebdd;\"/>\r\n    <path clip-path=\"url(#pa09991b1fb)\" d=\"M 241.197 91.452019 \r\nL 294.765 91.452019 \r\nL 294.765 93.626419 \r\nL 241.197 93.626419 \r\nL 241.197 91.452019 \r\n\" style=\"fill:#faebdd;\"/>\r\n    <path clip-path=\"url(#pa09991b1fb)\" d=\"M 26.925 93.626419 \r\nL 80.493 93.626419 \r\nL 80.493 95.800819 \r\nL 26.925 95.800819 \r\nL 26.925 93.626419 \r\n\" style=\"fill:#faebdd;\"/>\r\n    <path clip-path=\"url(#pa09991b1fb)\" d=\"M 80.493 93.626419 \r\nL 134.061 93.626419 \r\nL 134.061 95.800819 \r\nL 80.493 95.800819 \r\nL 80.493 93.626419 \r\n\" style=\"fill:#faebdd;\"/>\r\n    <path clip-path=\"url(#pa09991b1fb)\" d=\"M 134.061 93.626419 \r\nL 187.629 93.626419 \r\nL 187.629 95.800819 \r\nL 134.061 95.800819 \r\nL 134.061 93.626419 \r\n\" style=\"fill:#faebdd;\"/>\r\n    <path clip-path=\"url(#pa09991b1fb)\" d=\"M 187.629 93.626419 \r\nL 241.197 93.626419 \r\nL 241.197 95.800819 \r\nL 187.629 95.800819 \r\nL 187.629 93.626419 \r\n\" style=\"fill:#faebdd;\"/>\r\n    <path clip-path=\"url(#pa09991b1fb)\" d=\"M 241.197 93.626419 \r\nL 294.765 93.626419 \r\nL 294.765 95.800819 \r\nL 241.197 95.800819 \r\nL 241.197 93.626419 \r\n\" style=\"fill:#faebdd;\"/>\r\n    <path clip-path=\"url(#pa09991b1fb)\" d=\"M 26.925 95.800819 \r\nL 80.493 95.800819 \r\nL 80.493 97.975219 \r\nL 26.925 97.975219 \r\nL 26.925 95.800819 \r\n\" style=\"fill:#03051a;\"/>\r\n    <path clip-path=\"url(#pa09991b1fb)\" d=\"M 80.493 95.800819 \r\nL 134.061 95.800819 \r\nL 134.061 97.975219 \r\nL 80.493 97.975219 \r\nL 80.493 95.800819 \r\n\" style=\"fill:#faebdd;\"/>\r\n    <path clip-path=\"url(#pa09991b1fb)\" d=\"M 134.061 95.800819 \r\nL 187.629 95.800819 \r\nL 187.629 97.975219 \r\nL 134.061 97.975219 \r\nL 134.061 95.800819 \r\n\" style=\"fill:#faebdd;\"/>\r\n    <path clip-path=\"url(#pa09991b1fb)\" d=\"M 187.629 95.800819 \r\nL 241.197 95.800819 \r\nL 241.197 97.975219 \r\nL 187.629 97.975219 \r\nL 187.629 95.800819 \r\n\" style=\"fill:#faebdd;\"/>\r\n    <path clip-path=\"url(#pa09991b1fb)\" d=\"M 241.197 95.800819 \r\nL 294.765 95.800819 \r\nL 294.765 97.975219 \r\nL 241.197 97.975219 \r\nL 241.197 95.800819 \r\n\" style=\"fill:#faebdd;\"/>\r\n    <path clip-path=\"url(#pa09991b1fb)\" d=\"M 26.925 97.975219 \r\nL 80.493 97.975219 \r\nL 80.493 100.149619 \r\nL 26.925 100.149619 \r\nL 26.925 97.975219 \r\n\" style=\"fill:#faebdd;\"/>\r\n    <path clip-path=\"url(#pa09991b1fb)\" d=\"M 80.493 97.975219 \r\nL 134.061 97.975219 \r\nL 134.061 100.149619 \r\nL 80.493 100.149619 \r\nL 80.493 97.975219 \r\n\" style=\"fill:#faebdd;\"/>\r\n    <path clip-path=\"url(#pa09991b1fb)\" d=\"M 134.061 97.975219 \r\nL 187.629 97.975219 \r\nL 187.629 100.149619 \r\nL 134.061 100.149619 \r\nL 134.061 97.975219 \r\n\" style=\"fill:#faebdd;\"/>\r\n    <path clip-path=\"url(#pa09991b1fb)\" d=\"M 187.629 97.975219 \r\nL 241.197 97.975219 \r\nL 241.197 100.149619 \r\nL 187.629 100.149619 \r\nL 187.629 97.975219 \r\n\" style=\"fill:#faebdd;\"/>\r\n    <path clip-path=\"url(#pa09991b1fb)\" d=\"M 241.197 97.975219 \r\nL 294.765 97.975219 \r\nL 294.765 100.149619 \r\nL 241.197 100.149619 \r\nL 241.197 97.975219 \r\n\" style=\"fill:#faebdd;\"/>\r\n    <path clip-path=\"url(#pa09991b1fb)\" d=\"M 26.925 100.149619 \r\nL 80.493 100.149619 \r\nL 80.493 102.324019 \r\nL 26.925 102.324019 \r\nL 26.925 100.149619 \r\n\" style=\"fill:#03051a;\"/>\r\n    <path clip-path=\"url(#pa09991b1fb)\" d=\"M 80.493 100.149619 \r\nL 134.061 100.149619 \r\nL 134.061 102.324019 \r\nL 80.493 102.324019 \r\nL 80.493 100.149619 \r\n\" style=\"fill:#faebdd;\"/>\r\n    <path clip-path=\"url(#pa09991b1fb)\" d=\"M 134.061 100.149619 \r\nL 187.629 100.149619 \r\nL 187.629 102.324019 \r\nL 134.061 102.324019 \r\nL 134.061 100.149619 \r\n\" style=\"fill:#faebdd;\"/>\r\n    <path clip-path=\"url(#pa09991b1fb)\" d=\"M 187.629 100.149619 \r\nL 241.197 100.149619 \r\nL 241.197 102.324019 \r\nL 187.629 102.324019 \r\nL 187.629 100.149619 \r\n\" style=\"fill:#03051a;\"/>\r\n    <path clip-path=\"url(#pa09991b1fb)\" d=\"M 241.197 100.149619 \r\nL 294.765 100.149619 \r\nL 294.765 102.324019 \r\nL 241.197 102.324019 \r\nL 241.197 100.149619 \r\n\" style=\"fill:#faebdd;\"/>\r\n    <path clip-path=\"url(#pa09991b1fb)\" d=\"M 26.925 102.324019 \r\nL 80.493 102.324019 \r\nL 80.493 104.498419 \r\nL 26.925 104.498419 \r\nL 26.925 102.324019 \r\n\" style=\"fill:#faebdd;\"/>\r\n    <path clip-path=\"url(#pa09991b1fb)\" d=\"M 80.493 102.324019 \r\nL 134.061 102.324019 \r\nL 134.061 104.498419 \r\nL 80.493 104.498419 \r\nL 80.493 102.324019 \r\n\" style=\"fill:#03051a;\"/>\r\n    <path clip-path=\"url(#pa09991b1fb)\" d=\"M 134.061 102.324019 \r\nL 187.629 102.324019 \r\nL 187.629 104.498419 \r\nL 134.061 104.498419 \r\nL 134.061 102.324019 \r\n\" style=\"fill:#faebdd;\"/>\r\n    <path clip-path=\"url(#pa09991b1fb)\" d=\"M 187.629 102.324019 \r\nL 241.197 102.324019 \r\nL 241.197 104.498419 \r\nL 187.629 104.498419 \r\nL 187.629 102.324019 \r\n\" style=\"fill:#faebdd;\"/>\r\n    <path clip-path=\"url(#pa09991b1fb)\" d=\"M 241.197 102.324019 \r\nL 294.765 102.324019 \r\nL 294.765 104.498419 \r\nL 241.197 104.498419 \r\nL 241.197 102.324019 \r\n\" style=\"fill:#faebdd;\"/>\r\n    <path clip-path=\"url(#pa09991b1fb)\" d=\"M 26.925 104.498419 \r\nL 80.493 104.498419 \r\nL 80.493 106.672819 \r\nL 26.925 106.672819 \r\nL 26.925 104.498419 \r\n\" style=\"fill:#faebdd;\"/>\r\n    <path clip-path=\"url(#pa09991b1fb)\" d=\"M 80.493 104.498419 \r\nL 134.061 104.498419 \r\nL 134.061 106.672819 \r\nL 80.493 106.672819 \r\nL 80.493 104.498419 \r\n\" style=\"fill:#faebdd;\"/>\r\n    <path clip-path=\"url(#pa09991b1fb)\" d=\"M 134.061 104.498419 \r\nL 187.629 104.498419 \r\nL 187.629 106.672819 \r\nL 134.061 106.672819 \r\nL 134.061 104.498419 \r\n\" style=\"fill:#faebdd;\"/>\r\n    <path clip-path=\"url(#pa09991b1fb)\" d=\"M 187.629 104.498419 \r\nL 241.197 104.498419 \r\nL 241.197 106.672819 \r\nL 187.629 106.672819 \r\nL 187.629 104.498419 \r\n\" style=\"fill:#faebdd;\"/>\r\n    <path clip-path=\"url(#pa09991b1fb)\" d=\"M 241.197 104.498419 \r\nL 294.765 104.498419 \r\nL 294.765 106.672819 \r\nL 241.197 106.672819 \r\nL 241.197 104.498419 \r\n\" style=\"fill:#faebdd;\"/>\r\n    <path clip-path=\"url(#pa09991b1fb)\" d=\"M 26.925 106.672819 \r\nL 80.493 106.672819 \r\nL 80.493 108.847219 \r\nL 26.925 108.847219 \r\nL 26.925 106.672819 \r\n\" style=\"fill:#03051a;\"/>\r\n    <path clip-path=\"url(#pa09991b1fb)\" d=\"M 80.493 106.672819 \r\nL 134.061 106.672819 \r\nL 134.061 108.847219 \r\nL 80.493 108.847219 \r\nL 80.493 106.672819 \r\n\" style=\"fill:#faebdd;\"/>\r\n    <path clip-path=\"url(#pa09991b1fb)\" d=\"M 134.061 106.672819 \r\nL 187.629 106.672819 \r\nL 187.629 108.847219 \r\nL 134.061 108.847219 \r\nL 134.061 106.672819 \r\n\" style=\"fill:#faebdd;\"/>\r\n    <path clip-path=\"url(#pa09991b1fb)\" d=\"M 187.629 106.672819 \r\nL 241.197 106.672819 \r\nL 241.197 108.847219 \r\nL 187.629 108.847219 \r\nL 187.629 106.672819 \r\n\" style=\"fill:#faebdd;\"/>\r\n    <path clip-path=\"url(#pa09991b1fb)\" d=\"M 241.197 106.672819 \r\nL 294.765 106.672819 \r\nL 294.765 108.847219 \r\nL 241.197 108.847219 \r\nL 241.197 106.672819 \r\n\" style=\"fill:#faebdd;\"/>\r\n    <path clip-path=\"url(#pa09991b1fb)\" d=\"M 26.925 108.847219 \r\nL 80.493 108.847219 \r\nL 80.493 111.021619 \r\nL 26.925 111.021619 \r\nL 26.925 108.847219 \r\n\" style=\"fill:#faebdd;\"/>\r\n    <path clip-path=\"url(#pa09991b1fb)\" d=\"M 80.493 108.847219 \r\nL 134.061 108.847219 \r\nL 134.061 111.021619 \r\nL 80.493 111.021619 \r\nL 80.493 108.847219 \r\n\" style=\"fill:#faebdd;\"/>\r\n    <path clip-path=\"url(#pa09991b1fb)\" d=\"M 134.061 108.847219 \r\nL 187.629 108.847219 \r\nL 187.629 111.021619 \r\nL 134.061 111.021619 \r\nL 134.061 108.847219 \r\n\" style=\"fill:#faebdd;\"/>\r\n    <path clip-path=\"url(#pa09991b1fb)\" d=\"M 187.629 108.847219 \r\nL 241.197 108.847219 \r\nL 241.197 111.021619 \r\nL 187.629 111.021619 \r\nL 187.629 108.847219 \r\n\" style=\"fill:#faebdd;\"/>\r\n    <path clip-path=\"url(#pa09991b1fb)\" d=\"M 241.197 108.847219 \r\nL 294.765 108.847219 \r\nL 294.765 111.021619 \r\nL 241.197 111.021619 \r\nL 241.197 108.847219 \r\n\" style=\"fill:#faebdd;\"/>\r\n    <path clip-path=\"url(#pa09991b1fb)\" d=\"M 26.925 111.021619 \r\nL 80.493 111.021619 \r\nL 80.493 113.196019 \r\nL 26.925 113.196019 \r\nL 26.925 111.021619 \r\n\" style=\"fill:#faebdd;\"/>\r\n    <path clip-path=\"url(#pa09991b1fb)\" d=\"M 80.493 111.021619 \r\nL 134.061 111.021619 \r\nL 134.061 113.196019 \r\nL 80.493 113.196019 \r\nL 80.493 111.021619 \r\n\" style=\"fill:#faebdd;\"/>\r\n    <path clip-path=\"url(#pa09991b1fb)\" d=\"M 134.061 111.021619 \r\nL 187.629 111.021619 \r\nL 187.629 113.196019 \r\nL 134.061 113.196019 \r\nL 134.061 111.021619 \r\n\" style=\"fill:#faebdd;\"/>\r\n    <path clip-path=\"url(#pa09991b1fb)\" d=\"M 187.629 111.021619 \r\nL 241.197 111.021619 \r\nL 241.197 113.196019 \r\nL 187.629 113.196019 \r\nL 187.629 111.021619 \r\n\" style=\"fill:#faebdd;\"/>\r\n    <path clip-path=\"url(#pa09991b1fb)\" d=\"M 241.197 111.021619 \r\nL 294.765 111.021619 \r\nL 294.765 113.196019 \r\nL 241.197 113.196019 \r\nL 241.197 111.021619 \r\n\" style=\"fill:#faebdd;\"/>\r\n    <path clip-path=\"url(#pa09991b1fb)\" d=\"M 26.925 113.196019 \r\nL 80.493 113.196019 \r\nL 80.493 115.370419 \r\nL 26.925 115.370419 \r\nL 26.925 113.196019 \r\n\" style=\"fill:#faebdd;\"/>\r\n    <path clip-path=\"url(#pa09991b1fb)\" d=\"M 80.493 113.196019 \r\nL 134.061 113.196019 \r\nL 134.061 115.370419 \r\nL 80.493 115.370419 \r\nL 80.493 113.196019 \r\n\" style=\"fill:#faebdd;\"/>\r\n    <path clip-path=\"url(#pa09991b1fb)\" d=\"M 134.061 113.196019 \r\nL 187.629 113.196019 \r\nL 187.629 115.370419 \r\nL 134.061 115.370419 \r\nL 134.061 113.196019 \r\n\" style=\"fill:#faebdd;\"/>\r\n    <path clip-path=\"url(#pa09991b1fb)\" d=\"M 187.629 113.196019 \r\nL 241.197 113.196019 \r\nL 241.197 115.370419 \r\nL 187.629 115.370419 \r\nL 187.629 113.196019 \r\n\" style=\"fill:#03051a;\"/>\r\n    <path clip-path=\"url(#pa09991b1fb)\" d=\"M 241.197 113.196019 \r\nL 294.765 113.196019 \r\nL 294.765 115.370419 \r\nL 241.197 115.370419 \r\nL 241.197 113.196019 \r\n\" style=\"fill:#faebdd;\"/>\r\n    <path clip-path=\"url(#pa09991b1fb)\" d=\"M 26.925 115.370419 \r\nL 80.493 115.370419 \r\nL 80.493 117.544819 \r\nL 26.925 117.544819 \r\nL 26.925 115.370419 \r\n\" style=\"fill:#faebdd;\"/>\r\n    <path clip-path=\"url(#pa09991b1fb)\" d=\"M 80.493 115.370419 \r\nL 134.061 115.370419 \r\nL 134.061 117.544819 \r\nL 80.493 117.544819 \r\nL 80.493 115.370419 \r\n\" style=\"fill:#faebdd;\"/>\r\n    <path clip-path=\"url(#pa09991b1fb)\" d=\"M 134.061 115.370419 \r\nL 187.629 115.370419 \r\nL 187.629 117.544819 \r\nL 134.061 117.544819 \r\nL 134.061 115.370419 \r\n\" style=\"fill:#faebdd;\"/>\r\n    <path clip-path=\"url(#pa09991b1fb)\" d=\"M 187.629 115.370419 \r\nL 241.197 115.370419 \r\nL 241.197 117.544819 \r\nL 187.629 117.544819 \r\nL 187.629 115.370419 \r\n\" style=\"fill:#03051a;\"/>\r\n    <path clip-path=\"url(#pa09991b1fb)\" d=\"M 241.197 115.370419 \r\nL 294.765 115.370419 \r\nL 294.765 117.544819 \r\nL 241.197 117.544819 \r\nL 241.197 115.370419 \r\n\" style=\"fill:#faebdd;\"/>\r\n    <path clip-path=\"url(#pa09991b1fb)\" d=\"M 26.925 117.544819 \r\nL 80.493 117.544819 \r\nL 80.493 119.719219 \r\nL 26.925 119.719219 \r\nL 26.925 117.544819 \r\n\" style=\"fill:#03051a;\"/>\r\n    <path clip-path=\"url(#pa09991b1fb)\" d=\"M 80.493 117.544819 \r\nL 134.061 117.544819 \r\nL 134.061 119.719219 \r\nL 80.493 119.719219 \r\nL 80.493 117.544819 \r\n\" style=\"fill:#faebdd;\"/>\r\n    <path clip-path=\"url(#pa09991b1fb)\" d=\"M 134.061 117.544819 \r\nL 187.629 117.544819 \r\nL 187.629 119.719219 \r\nL 134.061 119.719219 \r\nL 134.061 117.544819 \r\n\" style=\"fill:#faebdd;\"/>\r\n    <path clip-path=\"url(#pa09991b1fb)\" d=\"M 187.629 117.544819 \r\nL 241.197 117.544819 \r\nL 241.197 119.719219 \r\nL 187.629 119.719219 \r\nL 187.629 117.544819 \r\n\" style=\"fill:#03051a;\"/>\r\n    <path clip-path=\"url(#pa09991b1fb)\" d=\"M 241.197 117.544819 \r\nL 294.765 117.544819 \r\nL 294.765 119.719219 \r\nL 241.197 119.719219 \r\nL 241.197 117.544819 \r\n\" style=\"fill:#faebdd;\"/>\r\n    <path clip-path=\"url(#pa09991b1fb)\" d=\"M 26.925 119.719219 \r\nL 80.493 119.719219 \r\nL 80.493 121.893619 \r\nL 26.925 121.893619 \r\nL 26.925 119.719219 \r\n\" style=\"fill:#faebdd;\"/>\r\n    <path clip-path=\"url(#pa09991b1fb)\" d=\"M 80.493 119.719219 \r\nL 134.061 119.719219 \r\nL 134.061 121.893619 \r\nL 80.493 121.893619 \r\nL 80.493 119.719219 \r\n\" style=\"fill:#faebdd;\"/>\r\n    <path clip-path=\"url(#pa09991b1fb)\" d=\"M 134.061 119.719219 \r\nL 187.629 119.719219 \r\nL 187.629 121.893619 \r\nL 134.061 121.893619 \r\nL 134.061 119.719219 \r\n\" style=\"fill:#faebdd;\"/>\r\n    <path clip-path=\"url(#pa09991b1fb)\" d=\"M 187.629 119.719219 \r\nL 241.197 119.719219 \r\nL 241.197 121.893619 \r\nL 187.629 121.893619 \r\nL 187.629 119.719219 \r\n\" style=\"fill:#faebdd;\"/>\r\n    <path clip-path=\"url(#pa09991b1fb)\" d=\"M 241.197 119.719219 \r\nL 294.765 119.719219 \r\nL 294.765 121.893619 \r\nL 241.197 121.893619 \r\nL 241.197 119.719219 \r\n\" style=\"fill:#faebdd;\"/>\r\n    <path clip-path=\"url(#pa09991b1fb)\" d=\"M 26.925 121.893619 \r\nL 80.493 121.893619 \r\nL 80.493 124.068019 \r\nL 26.925 124.068019 \r\nL 26.925 121.893619 \r\n\" style=\"fill:#faebdd;\"/>\r\n    <path clip-path=\"url(#pa09991b1fb)\" d=\"M 80.493 121.893619 \r\nL 134.061 121.893619 \r\nL 134.061 124.068019 \r\nL 80.493 124.068019 \r\nL 80.493 121.893619 \r\n\" style=\"fill:#faebdd;\"/>\r\n    <path clip-path=\"url(#pa09991b1fb)\" d=\"M 134.061 121.893619 \r\nL 187.629 121.893619 \r\nL 187.629 124.068019 \r\nL 134.061 124.068019 \r\nL 134.061 121.893619 \r\n\" style=\"fill:#faebdd;\"/>\r\n    <path clip-path=\"url(#pa09991b1fb)\" d=\"M 187.629 121.893619 \r\nL 241.197 121.893619 \r\nL 241.197 124.068019 \r\nL 187.629 124.068019 \r\nL 187.629 121.893619 \r\n\" style=\"fill:#faebdd;\"/>\r\n    <path clip-path=\"url(#pa09991b1fb)\" d=\"M 241.197 121.893619 \r\nL 294.765 121.893619 \r\nL 294.765 124.068019 \r\nL 241.197 124.068019 \r\nL 241.197 121.893619 \r\n\" style=\"fill:#faebdd;\"/>\r\n    <path clip-path=\"url(#pa09991b1fb)\" d=\"M 26.925 124.068019 \r\nL 80.493 124.068019 \r\nL 80.493 126.242419 \r\nL 26.925 126.242419 \r\nL 26.925 124.068019 \r\n\" style=\"fill:#faebdd;\"/>\r\n    <path clip-path=\"url(#pa09991b1fb)\" d=\"M 80.493 124.068019 \r\nL 134.061 124.068019 \r\nL 134.061 126.242419 \r\nL 80.493 126.242419 \r\nL 80.493 124.068019 \r\n\" style=\"fill:#faebdd;\"/>\r\n    <path clip-path=\"url(#pa09991b1fb)\" d=\"M 134.061 124.068019 \r\nL 187.629 124.068019 \r\nL 187.629 126.242419 \r\nL 134.061 126.242419 \r\nL 134.061 124.068019 \r\n\" style=\"fill:#faebdd;\"/>\r\n    <path clip-path=\"url(#pa09991b1fb)\" d=\"M 187.629 124.068019 \r\nL 241.197 124.068019 \r\nL 241.197 126.242419 \r\nL 187.629 126.242419 \r\nL 187.629 124.068019 \r\n\" style=\"fill:#faebdd;\"/>\r\n    <path clip-path=\"url(#pa09991b1fb)\" d=\"M 241.197 124.068019 \r\nL 294.765 124.068019 \r\nL 294.765 126.242419 \r\nL 241.197 126.242419 \r\nL 241.197 124.068019 \r\n\" style=\"fill:#faebdd;\"/>\r\n    <path clip-path=\"url(#pa09991b1fb)\" d=\"M 26.925 126.242419 \r\nL 80.493 126.242419 \r\nL 80.493 128.416819 \r\nL 26.925 128.416819 \r\nL 26.925 126.242419 \r\n\" style=\"fill:#faebdd;\"/>\r\n    <path clip-path=\"url(#pa09991b1fb)\" d=\"M 80.493 126.242419 \r\nL 134.061 126.242419 \r\nL 134.061 128.416819 \r\nL 80.493 128.416819 \r\nL 80.493 126.242419 \r\n\" style=\"fill:#faebdd;\"/>\r\n    <path clip-path=\"url(#pa09991b1fb)\" d=\"M 134.061 126.242419 \r\nL 187.629 126.242419 \r\nL 187.629 128.416819 \r\nL 134.061 128.416819 \r\nL 134.061 126.242419 \r\n\" style=\"fill:#faebdd;\"/>\r\n    <path clip-path=\"url(#pa09991b1fb)\" d=\"M 187.629 126.242419 \r\nL 241.197 126.242419 \r\nL 241.197 128.416819 \r\nL 187.629 128.416819 \r\nL 187.629 126.242419 \r\n\" style=\"fill:#faebdd;\"/>\r\n    <path clip-path=\"url(#pa09991b1fb)\" d=\"M 241.197 126.242419 \r\nL 294.765 126.242419 \r\nL 294.765 128.416819 \r\nL 241.197 128.416819 \r\nL 241.197 126.242419 \r\n\" style=\"fill:#03051a;\"/>\r\n    <path clip-path=\"url(#pa09991b1fb)\" d=\"M 26.925 128.416819 \r\nL 80.493 128.416819 \r\nL 80.493 130.591219 \r\nL 26.925 130.591219 \r\nL 26.925 128.416819 \r\n\" style=\"fill:#03051a;\"/>\r\n    <path clip-path=\"url(#pa09991b1fb)\" d=\"M 80.493 128.416819 \r\nL 134.061 128.416819 \r\nL 134.061 130.591219 \r\nL 80.493 130.591219 \r\nL 80.493 128.416819 \r\n\" style=\"fill:#faebdd;\"/>\r\n    <path clip-path=\"url(#pa09991b1fb)\" d=\"M 134.061 128.416819 \r\nL 187.629 128.416819 \r\nL 187.629 130.591219 \r\nL 134.061 130.591219 \r\nL 134.061 128.416819 \r\n\" style=\"fill:#faebdd;\"/>\r\n    <path clip-path=\"url(#pa09991b1fb)\" d=\"M 187.629 128.416819 \r\nL 241.197 128.416819 \r\nL 241.197 130.591219 \r\nL 187.629 130.591219 \r\nL 187.629 128.416819 \r\n\" style=\"fill:#faebdd;\"/>\r\n    <path clip-path=\"url(#pa09991b1fb)\" d=\"M 241.197 128.416819 \r\nL 294.765 128.416819 \r\nL 294.765 130.591219 \r\nL 241.197 130.591219 \r\nL 241.197 128.416819 \r\n\" style=\"fill:#faebdd;\"/>\r\n    <path clip-path=\"url(#pa09991b1fb)\" d=\"M 26.925 130.591219 \r\nL 80.493 130.591219 \r\nL 80.493 132.765619 \r\nL 26.925 132.765619 \r\nL 26.925 130.591219 \r\n\" style=\"fill:#03051a;\"/>\r\n    <path clip-path=\"url(#pa09991b1fb)\" d=\"M 80.493 130.591219 \r\nL 134.061 130.591219 \r\nL 134.061 132.765619 \r\nL 80.493 132.765619 \r\nL 80.493 130.591219 \r\n\" style=\"fill:#faebdd;\"/>\r\n    <path clip-path=\"url(#pa09991b1fb)\" d=\"M 134.061 130.591219 \r\nL 187.629 130.591219 \r\nL 187.629 132.765619 \r\nL 134.061 132.765619 \r\nL 134.061 130.591219 \r\n\" style=\"fill:#faebdd;\"/>\r\n    <path clip-path=\"url(#pa09991b1fb)\" d=\"M 187.629 130.591219 \r\nL 241.197 130.591219 \r\nL 241.197 132.765619 \r\nL 187.629 132.765619 \r\nL 187.629 130.591219 \r\n\" style=\"fill:#03051a;\"/>\r\n    <path clip-path=\"url(#pa09991b1fb)\" d=\"M 241.197 130.591219 \r\nL 294.765 130.591219 \r\nL 294.765 132.765619 \r\nL 241.197 132.765619 \r\nL 241.197 130.591219 \r\n\" style=\"fill:#faebdd;\"/>\r\n    <path clip-path=\"url(#pa09991b1fb)\" d=\"M 26.925 132.765619 \r\nL 80.493 132.765619 \r\nL 80.493 134.940019 \r\nL 26.925 134.940019 \r\nL 26.925 132.765619 \r\n\" style=\"fill:#03051a;\"/>\r\n    <path clip-path=\"url(#pa09991b1fb)\" d=\"M 80.493 132.765619 \r\nL 134.061 132.765619 \r\nL 134.061 134.940019 \r\nL 80.493 134.940019 \r\nL 80.493 132.765619 \r\n\" style=\"fill:#faebdd;\"/>\r\n    <path clip-path=\"url(#pa09991b1fb)\" d=\"M 134.061 132.765619 \r\nL 187.629 132.765619 \r\nL 187.629 134.940019 \r\nL 134.061 134.940019 \r\nL 134.061 132.765619 \r\n\" style=\"fill:#faebdd;\"/>\r\n    <path clip-path=\"url(#pa09991b1fb)\" d=\"M 187.629 132.765619 \r\nL 241.197 132.765619 \r\nL 241.197 134.940019 \r\nL 187.629 134.940019 \r\nL 187.629 132.765619 \r\n\" style=\"fill:#03051a;\"/>\r\n    <path clip-path=\"url(#pa09991b1fb)\" d=\"M 241.197 132.765619 \r\nL 294.765 132.765619 \r\nL 294.765 134.940019 \r\nL 241.197 134.940019 \r\nL 241.197 132.765619 \r\n\" style=\"fill:#faebdd;\"/>\r\n    <path clip-path=\"url(#pa09991b1fb)\" d=\"M 26.925 134.940019 \r\nL 80.493 134.940019 \r\nL 80.493 137.114419 \r\nL 26.925 137.114419 \r\nL 26.925 134.940019 \r\n\" style=\"fill:#faebdd;\"/>\r\n    <path clip-path=\"url(#pa09991b1fb)\" d=\"M 80.493 134.940019 \r\nL 134.061 134.940019 \r\nL 134.061 137.114419 \r\nL 80.493 137.114419 \r\nL 80.493 134.940019 \r\n\" style=\"fill:#faebdd;\"/>\r\n    <path clip-path=\"url(#pa09991b1fb)\" d=\"M 134.061 134.940019 \r\nL 187.629 134.940019 \r\nL 187.629 137.114419 \r\nL 134.061 137.114419 \r\nL 134.061 134.940019 \r\n\" style=\"fill:#faebdd;\"/>\r\n    <path clip-path=\"url(#pa09991b1fb)\" d=\"M 187.629 134.940019 \r\nL 241.197 134.940019 \r\nL 241.197 137.114419 \r\nL 187.629 137.114419 \r\nL 187.629 134.940019 \r\n\" style=\"fill:#faebdd;\"/>\r\n    <path clip-path=\"url(#pa09991b1fb)\" d=\"M 241.197 134.940019 \r\nL 294.765 134.940019 \r\nL 294.765 137.114419 \r\nL 241.197 137.114419 \r\nL 241.197 134.940019 \r\n\" style=\"fill:#faebdd;\"/>\r\n    <path clip-path=\"url(#pa09991b1fb)\" d=\"M 26.925 137.114419 \r\nL 80.493 137.114419 \r\nL 80.493 139.288819 \r\nL 26.925 139.288819 \r\nL 26.925 137.114419 \r\n\" style=\"fill:#faebdd;\"/>\r\n    <path clip-path=\"url(#pa09991b1fb)\" d=\"M 80.493 137.114419 \r\nL 134.061 137.114419 \r\nL 134.061 139.288819 \r\nL 80.493 139.288819 \r\nL 80.493 137.114419 \r\n\" style=\"fill:#faebdd;\"/>\r\n    <path clip-path=\"url(#pa09991b1fb)\" d=\"M 134.061 137.114419 \r\nL 187.629 137.114419 \r\nL 187.629 139.288819 \r\nL 134.061 139.288819 \r\nL 134.061 137.114419 \r\n\" style=\"fill:#faebdd;\"/>\r\n    <path clip-path=\"url(#pa09991b1fb)\" d=\"M 187.629 137.114419 \r\nL 241.197 137.114419 \r\nL 241.197 139.288819 \r\nL 187.629 139.288819 \r\nL 187.629 137.114419 \r\n\" style=\"fill:#faebdd;\"/>\r\n    <path clip-path=\"url(#pa09991b1fb)\" d=\"M 241.197 137.114419 \r\nL 294.765 137.114419 \r\nL 294.765 139.288819 \r\nL 241.197 139.288819 \r\nL 241.197 137.114419 \r\n\" style=\"fill:#faebdd;\"/>\r\n    <path clip-path=\"url(#pa09991b1fb)\" d=\"M 26.925 139.288819 \r\nL 80.493 139.288819 \r\nL 80.493 141.463219 \r\nL 26.925 141.463219 \r\nL 26.925 139.288819 \r\n\" style=\"fill:#03051a;\"/>\r\n    <path clip-path=\"url(#pa09991b1fb)\" d=\"M 80.493 139.288819 \r\nL 134.061 139.288819 \r\nL 134.061 141.463219 \r\nL 80.493 141.463219 \r\nL 80.493 139.288819 \r\n\" style=\"fill:#faebdd;\"/>\r\n    <path clip-path=\"url(#pa09991b1fb)\" d=\"M 134.061 139.288819 \r\nL 187.629 139.288819 \r\nL 187.629 141.463219 \r\nL 134.061 141.463219 \r\nL 134.061 139.288819 \r\n\" style=\"fill:#faebdd;\"/>\r\n    <path clip-path=\"url(#pa09991b1fb)\" d=\"M 187.629 139.288819 \r\nL 241.197 139.288819 \r\nL 241.197 141.463219 \r\nL 187.629 141.463219 \r\nL 187.629 139.288819 \r\n\" style=\"fill:#03051a;\"/>\r\n    <path clip-path=\"url(#pa09991b1fb)\" d=\"M 241.197 139.288819 \r\nL 294.765 139.288819 \r\nL 294.765 141.463219 \r\nL 241.197 141.463219 \r\nL 241.197 139.288819 \r\n\" style=\"fill:#faebdd;\"/>\r\n    <path clip-path=\"url(#pa09991b1fb)\" d=\"M 26.925 141.463219 \r\nL 80.493 141.463219 \r\nL 80.493 143.637619 \r\nL 26.925 143.637619 \r\nL 26.925 141.463219 \r\n\" style=\"fill:#faebdd;\"/>\r\n    <path clip-path=\"url(#pa09991b1fb)\" d=\"M 80.493 141.463219 \r\nL 134.061 141.463219 \r\nL 134.061 143.637619 \r\nL 80.493 143.637619 \r\nL 80.493 141.463219 \r\n\" style=\"fill:#faebdd;\"/>\r\n    <path clip-path=\"url(#pa09991b1fb)\" d=\"M 134.061 141.463219 \r\nL 187.629 141.463219 \r\nL 187.629 143.637619 \r\nL 134.061 143.637619 \r\nL 134.061 141.463219 \r\n\" style=\"fill:#faebdd;\"/>\r\n    <path clip-path=\"url(#pa09991b1fb)\" d=\"M 187.629 141.463219 \r\nL 241.197 141.463219 \r\nL 241.197 143.637619 \r\nL 187.629 143.637619 \r\nL 187.629 141.463219 \r\n\" style=\"fill:#faebdd;\"/>\r\n    <path clip-path=\"url(#pa09991b1fb)\" d=\"M 241.197 141.463219 \r\nL 294.765 141.463219 \r\nL 294.765 143.637619 \r\nL 241.197 143.637619 \r\nL 241.197 141.463219 \r\n\" style=\"fill:#faebdd;\"/>\r\n    <path clip-path=\"url(#pa09991b1fb)\" d=\"M 26.925 143.637619 \r\nL 80.493 143.637619 \r\nL 80.493 145.812019 \r\nL 26.925 145.812019 \r\nL 26.925 143.637619 \r\n\" style=\"fill:#03051a;\"/>\r\n    <path clip-path=\"url(#pa09991b1fb)\" d=\"M 80.493 143.637619 \r\nL 134.061 143.637619 \r\nL 134.061 145.812019 \r\nL 80.493 145.812019 \r\nL 80.493 143.637619 \r\n\" style=\"fill:#faebdd;\"/>\r\n    <path clip-path=\"url(#pa09991b1fb)\" d=\"M 134.061 143.637619 \r\nL 187.629 143.637619 \r\nL 187.629 145.812019 \r\nL 134.061 145.812019 \r\nL 134.061 143.637619 \r\n\" style=\"fill:#faebdd;\"/>\r\n    <path clip-path=\"url(#pa09991b1fb)\" d=\"M 187.629 143.637619 \r\nL 241.197 143.637619 \r\nL 241.197 145.812019 \r\nL 187.629 145.812019 \r\nL 187.629 143.637619 \r\n\" style=\"fill:#faebdd;\"/>\r\n    <path clip-path=\"url(#pa09991b1fb)\" d=\"M 241.197 143.637619 \r\nL 294.765 143.637619 \r\nL 294.765 145.812019 \r\nL 241.197 145.812019 \r\nL 241.197 143.637619 \r\n\" style=\"fill:#faebdd;\"/>\r\n    <path clip-path=\"url(#pa09991b1fb)\" d=\"M 26.925 145.812019 \r\nL 80.493 145.812019 \r\nL 80.493 147.986419 \r\nL 26.925 147.986419 \r\nL 26.925 145.812019 \r\n\" style=\"fill:#faebdd;\"/>\r\n    <path clip-path=\"url(#pa09991b1fb)\" d=\"M 80.493 145.812019 \r\nL 134.061 145.812019 \r\nL 134.061 147.986419 \r\nL 80.493 147.986419 \r\nL 80.493 145.812019 \r\n\" style=\"fill:#faebdd;\"/>\r\n    <path clip-path=\"url(#pa09991b1fb)\" d=\"M 134.061 145.812019 \r\nL 187.629 145.812019 \r\nL 187.629 147.986419 \r\nL 134.061 147.986419 \r\nL 134.061 145.812019 \r\n\" style=\"fill:#faebdd;\"/>\r\n    <path clip-path=\"url(#pa09991b1fb)\" d=\"M 187.629 145.812019 \r\nL 241.197 145.812019 \r\nL 241.197 147.986419 \r\nL 187.629 147.986419 \r\nL 187.629 145.812019 \r\n\" style=\"fill:#faebdd;\"/>\r\n    <path clip-path=\"url(#pa09991b1fb)\" d=\"M 241.197 145.812019 \r\nL 294.765 145.812019 \r\nL 294.765 147.986419 \r\nL 241.197 147.986419 \r\nL 241.197 145.812019 \r\n\" style=\"fill:#faebdd;\"/>\r\n    <path clip-path=\"url(#pa09991b1fb)\" d=\"M 26.925 147.986419 \r\nL 80.493 147.986419 \r\nL 80.493 150.160819 \r\nL 26.925 150.160819 \r\nL 26.925 147.986419 \r\n\" style=\"fill:#faebdd;\"/>\r\n    <path clip-path=\"url(#pa09991b1fb)\" d=\"M 80.493 147.986419 \r\nL 134.061 147.986419 \r\nL 134.061 150.160819 \r\nL 80.493 150.160819 \r\nL 80.493 147.986419 \r\n\" style=\"fill:#faebdd;\"/>\r\n    <path clip-path=\"url(#pa09991b1fb)\" d=\"M 134.061 147.986419 \r\nL 187.629 147.986419 \r\nL 187.629 150.160819 \r\nL 134.061 150.160819 \r\nL 134.061 147.986419 \r\n\" style=\"fill:#faebdd;\"/>\r\n    <path clip-path=\"url(#pa09991b1fb)\" d=\"M 187.629 147.986419 \r\nL 241.197 147.986419 \r\nL 241.197 150.160819 \r\nL 187.629 150.160819 \r\nL 187.629 147.986419 \r\n\" style=\"fill:#faebdd;\"/>\r\n    <path clip-path=\"url(#pa09991b1fb)\" d=\"M 241.197 147.986419 \r\nL 294.765 147.986419 \r\nL 294.765 150.160819 \r\nL 241.197 150.160819 \r\nL 241.197 147.986419 \r\n\" style=\"fill:#faebdd;\"/>\r\n    <path clip-path=\"url(#pa09991b1fb)\" d=\"M 26.925 150.160819 \r\nL 80.493 150.160819 \r\nL 80.493 152.335219 \r\nL 26.925 152.335219 \r\nL 26.925 150.160819 \r\n\" style=\"fill:#faebdd;\"/>\r\n    <path clip-path=\"url(#pa09991b1fb)\" d=\"M 80.493 150.160819 \r\nL 134.061 150.160819 \r\nL 134.061 152.335219 \r\nL 80.493 152.335219 \r\nL 80.493 150.160819 \r\n\" style=\"fill:#faebdd;\"/>\r\n    <path clip-path=\"url(#pa09991b1fb)\" d=\"M 134.061 150.160819 \r\nL 187.629 150.160819 \r\nL 187.629 152.335219 \r\nL 134.061 152.335219 \r\nL 134.061 150.160819 \r\n\" style=\"fill:#faebdd;\"/>\r\n    <path clip-path=\"url(#pa09991b1fb)\" d=\"M 187.629 150.160819 \r\nL 241.197 150.160819 \r\nL 241.197 152.335219 \r\nL 187.629 152.335219 \r\nL 187.629 150.160819 \r\n\" style=\"fill:#faebdd;\"/>\r\n    <path clip-path=\"url(#pa09991b1fb)\" d=\"M 241.197 150.160819 \r\nL 294.765 150.160819 \r\nL 294.765 152.335219 \r\nL 241.197 152.335219 \r\nL 241.197 150.160819 \r\n\" style=\"fill:#faebdd;\"/>\r\n    <path clip-path=\"url(#pa09991b1fb)\" d=\"M 26.925 152.335219 \r\nL 80.493 152.335219 \r\nL 80.493 154.509619 \r\nL 26.925 154.509619 \r\nL 26.925 152.335219 \r\n\" style=\"fill:#faebdd;\"/>\r\n    <path clip-path=\"url(#pa09991b1fb)\" d=\"M 80.493 152.335219 \r\nL 134.061 152.335219 \r\nL 134.061 154.509619 \r\nL 80.493 154.509619 \r\nL 80.493 152.335219 \r\n\" style=\"fill:#faebdd;\"/>\r\n    <path clip-path=\"url(#pa09991b1fb)\" d=\"M 134.061 152.335219 \r\nL 187.629 152.335219 \r\nL 187.629 154.509619 \r\nL 134.061 154.509619 \r\nL 134.061 152.335219 \r\n\" style=\"fill:#faebdd;\"/>\r\n    <path clip-path=\"url(#pa09991b1fb)\" d=\"M 187.629 152.335219 \r\nL 241.197 152.335219 \r\nL 241.197 154.509619 \r\nL 187.629 154.509619 \r\nL 187.629 152.335219 \r\n\" style=\"fill:#faebdd;\"/>\r\n    <path clip-path=\"url(#pa09991b1fb)\" d=\"M 241.197 152.335219 \r\nL 294.765 152.335219 \r\nL 294.765 154.509619 \r\nL 241.197 154.509619 \r\nL 241.197 152.335219 \r\n\" style=\"fill:#faebdd;\"/>\r\n    <path clip-path=\"url(#pa09991b1fb)\" d=\"M 26.925 154.509619 \r\nL 80.493 154.509619 \r\nL 80.493 156.684019 \r\nL 26.925 156.684019 \r\nL 26.925 154.509619 \r\n\" style=\"fill:#faebdd;\"/>\r\n    <path clip-path=\"url(#pa09991b1fb)\" d=\"M 80.493 154.509619 \r\nL 134.061 154.509619 \r\nL 134.061 156.684019 \r\nL 80.493 156.684019 \r\nL 80.493 154.509619 \r\n\" style=\"fill:#faebdd;\"/>\r\n    <path clip-path=\"url(#pa09991b1fb)\" d=\"M 134.061 154.509619 \r\nL 187.629 154.509619 \r\nL 187.629 156.684019 \r\nL 134.061 156.684019 \r\nL 134.061 154.509619 \r\n\" style=\"fill:#faebdd;\"/>\r\n    <path clip-path=\"url(#pa09991b1fb)\" d=\"M 187.629 154.509619 \r\nL 241.197 154.509619 \r\nL 241.197 156.684019 \r\nL 187.629 156.684019 \r\nL 187.629 154.509619 \r\n\" style=\"fill:#faebdd;\"/>\r\n    <path clip-path=\"url(#pa09991b1fb)\" d=\"M 241.197 154.509619 \r\nL 294.765 154.509619 \r\nL 294.765 156.684019 \r\nL 241.197 156.684019 \r\nL 241.197 154.509619 \r\n\" style=\"fill:#faebdd;\"/>\r\n    <path clip-path=\"url(#pa09991b1fb)\" d=\"M 26.925 156.684019 \r\nL 80.493 156.684019 \r\nL 80.493 158.858419 \r\nL 26.925 158.858419 \r\nL 26.925 156.684019 \r\n\" style=\"fill:#faebdd;\"/>\r\n    <path clip-path=\"url(#pa09991b1fb)\" d=\"M 80.493 156.684019 \r\nL 134.061 156.684019 \r\nL 134.061 158.858419 \r\nL 80.493 158.858419 \r\nL 80.493 156.684019 \r\n\" style=\"fill:#faebdd;\"/>\r\n    <path clip-path=\"url(#pa09991b1fb)\" d=\"M 134.061 156.684019 \r\nL 187.629 156.684019 \r\nL 187.629 158.858419 \r\nL 134.061 158.858419 \r\nL 134.061 156.684019 \r\n\" style=\"fill:#faebdd;\"/>\r\n    <path clip-path=\"url(#pa09991b1fb)\" d=\"M 187.629 156.684019 \r\nL 241.197 156.684019 \r\nL 241.197 158.858419 \r\nL 187.629 158.858419 \r\nL 187.629 156.684019 \r\n\" style=\"fill:#faebdd;\"/>\r\n    <path clip-path=\"url(#pa09991b1fb)\" d=\"M 241.197 156.684019 \r\nL 294.765 156.684019 \r\nL 294.765 158.858419 \r\nL 241.197 158.858419 \r\nL 241.197 156.684019 \r\n\" style=\"fill:#faebdd;\"/>\r\n    <path clip-path=\"url(#pa09991b1fb)\" d=\"M 26.925 158.858419 \r\nL 80.493 158.858419 \r\nL 80.493 161.032819 \r\nL 26.925 161.032819 \r\nL 26.925 158.858419 \r\n\" style=\"fill:#faebdd;\"/>\r\n    <path clip-path=\"url(#pa09991b1fb)\" d=\"M 80.493 158.858419 \r\nL 134.061 158.858419 \r\nL 134.061 161.032819 \r\nL 80.493 161.032819 \r\nL 80.493 158.858419 \r\n\" style=\"fill:#faebdd;\"/>\r\n    <path clip-path=\"url(#pa09991b1fb)\" d=\"M 134.061 158.858419 \r\nL 187.629 158.858419 \r\nL 187.629 161.032819 \r\nL 134.061 161.032819 \r\nL 134.061 158.858419 \r\n\" style=\"fill:#faebdd;\"/>\r\n    <path clip-path=\"url(#pa09991b1fb)\" d=\"M 187.629 158.858419 \r\nL 241.197 158.858419 \r\nL 241.197 161.032819 \r\nL 187.629 161.032819 \r\nL 187.629 158.858419 \r\n\" style=\"fill:#faebdd;\"/>\r\n    <path clip-path=\"url(#pa09991b1fb)\" d=\"M 241.197 158.858419 \r\nL 294.765 158.858419 \r\nL 294.765 161.032819 \r\nL 241.197 161.032819 \r\nL 241.197 158.858419 \r\n\" style=\"fill:#faebdd;\"/>\r\n    <path clip-path=\"url(#pa09991b1fb)\" d=\"M 26.925 161.032819 \r\nL 80.493 161.032819 \r\nL 80.493 163.207219 \r\nL 26.925 163.207219 \r\nL 26.925 161.032819 \r\n\" style=\"fill:#03051a;\"/>\r\n    <path clip-path=\"url(#pa09991b1fb)\" d=\"M 80.493 161.032819 \r\nL 134.061 161.032819 \r\nL 134.061 163.207219 \r\nL 80.493 163.207219 \r\nL 80.493 161.032819 \r\n\" style=\"fill:#faebdd;\"/>\r\n    <path clip-path=\"url(#pa09991b1fb)\" d=\"M 134.061 161.032819 \r\nL 187.629 161.032819 \r\nL 187.629 163.207219 \r\nL 134.061 163.207219 \r\nL 134.061 161.032819 \r\n\" style=\"fill:#faebdd;\"/>\r\n    <path clip-path=\"url(#pa09991b1fb)\" d=\"M 187.629 161.032819 \r\nL 241.197 161.032819 \r\nL 241.197 163.207219 \r\nL 187.629 163.207219 \r\nL 187.629 161.032819 \r\n\" style=\"fill:#faebdd;\"/>\r\n    <path clip-path=\"url(#pa09991b1fb)\" d=\"M 241.197 161.032819 \r\nL 294.765 161.032819 \r\nL 294.765 163.207219 \r\nL 241.197 163.207219 \r\nL 241.197 161.032819 \r\n\" style=\"fill:#faebdd;\"/>\r\n    <path clip-path=\"url(#pa09991b1fb)\" d=\"M 26.925 163.207219 \r\nL 80.493 163.207219 \r\nL 80.493 165.381619 \r\nL 26.925 165.381619 \r\nL 26.925 163.207219 \r\n\" style=\"fill:#03051a;\"/>\r\n    <path clip-path=\"url(#pa09991b1fb)\" d=\"M 80.493 163.207219 \r\nL 134.061 163.207219 \r\nL 134.061 165.381619 \r\nL 80.493 165.381619 \r\nL 80.493 163.207219 \r\n\" style=\"fill:#faebdd;\"/>\r\n    <path clip-path=\"url(#pa09991b1fb)\" d=\"M 134.061 163.207219 \r\nL 187.629 163.207219 \r\nL 187.629 165.381619 \r\nL 134.061 165.381619 \r\nL 134.061 163.207219 \r\n\" style=\"fill:#faebdd;\"/>\r\n    <path clip-path=\"url(#pa09991b1fb)\" d=\"M 187.629 163.207219 \r\nL 241.197 163.207219 \r\nL 241.197 165.381619 \r\nL 187.629 165.381619 \r\nL 187.629 163.207219 \r\n\" style=\"fill:#faebdd;\"/>\r\n    <path clip-path=\"url(#pa09991b1fb)\" d=\"M 241.197 163.207219 \r\nL 294.765 163.207219 \r\nL 294.765 165.381619 \r\nL 241.197 165.381619 \r\nL 241.197 163.207219 \r\n\" style=\"fill:#faebdd;\"/>\r\n    <path clip-path=\"url(#pa09991b1fb)\" d=\"M 26.925 165.381619 \r\nL 80.493 165.381619 \r\nL 80.493 167.556019 \r\nL 26.925 167.556019 \r\nL 26.925 165.381619 \r\n\" style=\"fill:#faebdd;\"/>\r\n    <path clip-path=\"url(#pa09991b1fb)\" d=\"M 80.493 165.381619 \r\nL 134.061 165.381619 \r\nL 134.061 167.556019 \r\nL 80.493 167.556019 \r\nL 80.493 165.381619 \r\n\" style=\"fill:#03051a;\"/>\r\n    <path clip-path=\"url(#pa09991b1fb)\" d=\"M 134.061 165.381619 \r\nL 187.629 165.381619 \r\nL 187.629 167.556019 \r\nL 134.061 167.556019 \r\nL 134.061 165.381619 \r\n\" style=\"fill:#faebdd;\"/>\r\n    <path clip-path=\"url(#pa09991b1fb)\" d=\"M 187.629 165.381619 \r\nL 241.197 165.381619 \r\nL 241.197 167.556019 \r\nL 187.629 167.556019 \r\nL 187.629 165.381619 \r\n\" style=\"fill:#faebdd;\"/>\r\n    <path clip-path=\"url(#pa09991b1fb)\" d=\"M 241.197 165.381619 \r\nL 294.765 165.381619 \r\nL 294.765 167.556019 \r\nL 241.197 167.556019 \r\nL 241.197 165.381619 \r\n\" style=\"fill:#faebdd;\"/>\r\n    <path clip-path=\"url(#pa09991b1fb)\" d=\"M 26.925 167.556019 \r\nL 80.493 167.556019 \r\nL 80.493 169.730419 \r\nL 26.925 169.730419 \r\nL 26.925 167.556019 \r\n\" style=\"fill:#faebdd;\"/>\r\n    <path clip-path=\"url(#pa09991b1fb)\" d=\"M 80.493 167.556019 \r\nL 134.061 167.556019 \r\nL 134.061 169.730419 \r\nL 80.493 169.730419 \r\nL 80.493 167.556019 \r\n\" style=\"fill:#faebdd;\"/>\r\n    <path clip-path=\"url(#pa09991b1fb)\" d=\"M 134.061 167.556019 \r\nL 187.629 167.556019 \r\nL 187.629 169.730419 \r\nL 134.061 169.730419 \r\nL 134.061 167.556019 \r\n\" style=\"fill:#faebdd;\"/>\r\n    <path clip-path=\"url(#pa09991b1fb)\" d=\"M 187.629 167.556019 \r\nL 241.197 167.556019 \r\nL 241.197 169.730419 \r\nL 187.629 169.730419 \r\nL 187.629 167.556019 \r\n\" style=\"fill:#03051a;\"/>\r\n    <path clip-path=\"url(#pa09991b1fb)\" d=\"M 241.197 167.556019 \r\nL 294.765 167.556019 \r\nL 294.765 169.730419 \r\nL 241.197 169.730419 \r\nL 241.197 167.556019 \r\n\" style=\"fill:#faebdd;\"/>\r\n    <path clip-path=\"url(#pa09991b1fb)\" d=\"M 26.925 169.730419 \r\nL 80.493 169.730419 \r\nL 80.493 171.904819 \r\nL 26.925 171.904819 \r\nL 26.925 169.730419 \r\n\" style=\"fill:#faebdd;\"/>\r\n    <path clip-path=\"url(#pa09991b1fb)\" d=\"M 80.493 169.730419 \r\nL 134.061 169.730419 \r\nL 134.061 171.904819 \r\nL 80.493 171.904819 \r\nL 80.493 169.730419 \r\n\" style=\"fill:#faebdd;\"/>\r\n    <path clip-path=\"url(#pa09991b1fb)\" d=\"M 134.061 169.730419 \r\nL 187.629 169.730419 \r\nL 187.629 171.904819 \r\nL 134.061 171.904819 \r\nL 134.061 169.730419 \r\n\" style=\"fill:#faebdd;\"/>\r\n    <path clip-path=\"url(#pa09991b1fb)\" d=\"M 187.629 169.730419 \r\nL 241.197 169.730419 \r\nL 241.197 171.904819 \r\nL 187.629 171.904819 \r\nL 187.629 169.730419 \r\n\" style=\"fill:#faebdd;\"/>\r\n    <path clip-path=\"url(#pa09991b1fb)\" d=\"M 241.197 169.730419 \r\nL 294.765 169.730419 \r\nL 294.765 171.904819 \r\nL 241.197 171.904819 \r\nL 241.197 169.730419 \r\n\" style=\"fill:#faebdd;\"/>\r\n    <path clip-path=\"url(#pa09991b1fb)\" d=\"M 26.925 171.904819 \r\nL 80.493 171.904819 \r\nL 80.493 174.079219 \r\nL 26.925 174.079219 \r\nL 26.925 171.904819 \r\n\" style=\"fill:#03051a;\"/>\r\n    <path clip-path=\"url(#pa09991b1fb)\" d=\"M 80.493 171.904819 \r\nL 134.061 171.904819 \r\nL 134.061 174.079219 \r\nL 80.493 174.079219 \r\nL 80.493 171.904819 \r\n\" style=\"fill:#faebdd;\"/>\r\n    <path clip-path=\"url(#pa09991b1fb)\" d=\"M 134.061 171.904819 \r\nL 187.629 171.904819 \r\nL 187.629 174.079219 \r\nL 134.061 174.079219 \r\nL 134.061 171.904819 \r\n\" style=\"fill:#faebdd;\"/>\r\n    <path clip-path=\"url(#pa09991b1fb)\" d=\"M 187.629 171.904819 \r\nL 241.197 171.904819 \r\nL 241.197 174.079219 \r\nL 187.629 174.079219 \r\nL 187.629 171.904819 \r\n\" style=\"fill:#03051a;\"/>\r\n    <path clip-path=\"url(#pa09991b1fb)\" d=\"M 241.197 171.904819 \r\nL 294.765 171.904819 \r\nL 294.765 174.079219 \r\nL 241.197 174.079219 \r\nL 241.197 171.904819 \r\n\" style=\"fill:#faebdd;\"/>\r\n    <path clip-path=\"url(#pa09991b1fb)\" d=\"M 26.925 174.079219 \r\nL 80.493 174.079219 \r\nL 80.493 176.253619 \r\nL 26.925 176.253619 \r\nL 26.925 174.079219 \r\n\" style=\"fill:#faebdd;\"/>\r\n    <path clip-path=\"url(#pa09991b1fb)\" d=\"M 80.493 174.079219 \r\nL 134.061 174.079219 \r\nL 134.061 176.253619 \r\nL 80.493 176.253619 \r\nL 80.493 174.079219 \r\n\" style=\"fill:#faebdd;\"/>\r\n    <path clip-path=\"url(#pa09991b1fb)\" d=\"M 134.061 174.079219 \r\nL 187.629 174.079219 \r\nL 187.629 176.253619 \r\nL 134.061 176.253619 \r\nL 134.061 174.079219 \r\n\" style=\"fill:#faebdd;\"/>\r\n    <path clip-path=\"url(#pa09991b1fb)\" d=\"M 187.629 174.079219 \r\nL 241.197 174.079219 \r\nL 241.197 176.253619 \r\nL 187.629 176.253619 \r\nL 187.629 174.079219 \r\n\" style=\"fill:#faebdd;\"/>\r\n    <path clip-path=\"url(#pa09991b1fb)\" d=\"M 241.197 174.079219 \r\nL 294.765 174.079219 \r\nL 294.765 176.253619 \r\nL 241.197 176.253619 \r\nL 241.197 174.079219 \r\n\" style=\"fill:#faebdd;\"/>\r\n    <path clip-path=\"url(#pa09991b1fb)\" d=\"M 26.925 176.253619 \r\nL 80.493 176.253619 \r\nL 80.493 178.428019 \r\nL 26.925 178.428019 \r\nL 26.925 176.253619 \r\n\" style=\"fill:#faebdd;\"/>\r\n    <path clip-path=\"url(#pa09991b1fb)\" d=\"M 80.493 176.253619 \r\nL 134.061 176.253619 \r\nL 134.061 178.428019 \r\nL 80.493 178.428019 \r\nL 80.493 176.253619 \r\n\" style=\"fill:#03051a;\"/>\r\n    <path clip-path=\"url(#pa09991b1fb)\" d=\"M 134.061 176.253619 \r\nL 187.629 176.253619 \r\nL 187.629 178.428019 \r\nL 134.061 178.428019 \r\nL 134.061 176.253619 \r\n\" style=\"fill:#faebdd;\"/>\r\n    <path clip-path=\"url(#pa09991b1fb)\" d=\"M 187.629 176.253619 \r\nL 241.197 176.253619 \r\nL 241.197 178.428019 \r\nL 187.629 178.428019 \r\nL 187.629 176.253619 \r\n\" style=\"fill:#faebdd;\"/>\r\n    <path clip-path=\"url(#pa09991b1fb)\" d=\"M 241.197 176.253619 \r\nL 294.765 176.253619 \r\nL 294.765 178.428019 \r\nL 241.197 178.428019 \r\nL 241.197 176.253619 \r\n\" style=\"fill:#faebdd;\"/>\r\n    <path clip-path=\"url(#pa09991b1fb)\" d=\"M 26.925 178.428019 \r\nL 80.493 178.428019 \r\nL 80.493 180.602419 \r\nL 26.925 180.602419 \r\nL 26.925 178.428019 \r\n\" style=\"fill:#03051a;\"/>\r\n    <path clip-path=\"url(#pa09991b1fb)\" d=\"M 80.493 178.428019 \r\nL 134.061 178.428019 \r\nL 134.061 180.602419 \r\nL 80.493 180.602419 \r\nL 80.493 178.428019 \r\n\" style=\"fill:#faebdd;\"/>\r\n    <path clip-path=\"url(#pa09991b1fb)\" d=\"M 134.061 178.428019 \r\nL 187.629 178.428019 \r\nL 187.629 180.602419 \r\nL 134.061 180.602419 \r\nL 134.061 178.428019 \r\n\" style=\"fill:#faebdd;\"/>\r\n    <path clip-path=\"url(#pa09991b1fb)\" d=\"M 187.629 178.428019 \r\nL 241.197 178.428019 \r\nL 241.197 180.602419 \r\nL 187.629 180.602419 \r\nL 187.629 178.428019 \r\n\" style=\"fill:#faebdd;\"/>\r\n    <path clip-path=\"url(#pa09991b1fb)\" d=\"M 241.197 178.428019 \r\nL 294.765 178.428019 \r\nL 294.765 180.602419 \r\nL 241.197 180.602419 \r\nL 241.197 178.428019 \r\n\" style=\"fill:#faebdd;\"/>\r\n    <path clip-path=\"url(#pa09991b1fb)\" d=\"M 26.925 180.602419 \r\nL 80.493 180.602419 \r\nL 80.493 182.776819 \r\nL 26.925 182.776819 \r\nL 26.925 180.602419 \r\n\" style=\"fill:#faebdd;\"/>\r\n    <path clip-path=\"url(#pa09991b1fb)\" d=\"M 80.493 180.602419 \r\nL 134.061 180.602419 \r\nL 134.061 182.776819 \r\nL 80.493 182.776819 \r\nL 80.493 180.602419 \r\n\" style=\"fill:#faebdd;\"/>\r\n    <path clip-path=\"url(#pa09991b1fb)\" d=\"M 134.061 180.602419 \r\nL 187.629 180.602419 \r\nL 187.629 182.776819 \r\nL 134.061 182.776819 \r\nL 134.061 180.602419 \r\n\" style=\"fill:#faebdd;\"/>\r\n    <path clip-path=\"url(#pa09991b1fb)\" d=\"M 187.629 180.602419 \r\nL 241.197 180.602419 \r\nL 241.197 182.776819 \r\nL 187.629 182.776819 \r\nL 187.629 180.602419 \r\n\" style=\"fill:#faebdd;\"/>\r\n    <path clip-path=\"url(#pa09991b1fb)\" d=\"M 241.197 180.602419 \r\nL 294.765 180.602419 \r\nL 294.765 182.776819 \r\nL 241.197 182.776819 \r\nL 241.197 180.602419 \r\n\" style=\"fill:#faebdd;\"/>\r\n    <path clip-path=\"url(#pa09991b1fb)\" d=\"M 26.925 182.776819 \r\nL 80.493 182.776819 \r\nL 80.493 184.951219 \r\nL 26.925 184.951219 \r\nL 26.925 182.776819 \r\n\" style=\"fill:#faebdd;\"/>\r\n    <path clip-path=\"url(#pa09991b1fb)\" d=\"M 80.493 182.776819 \r\nL 134.061 182.776819 \r\nL 134.061 184.951219 \r\nL 80.493 184.951219 \r\nL 80.493 182.776819 \r\n\" style=\"fill:#faebdd;\"/>\r\n    <path clip-path=\"url(#pa09991b1fb)\" d=\"M 134.061 182.776819 \r\nL 187.629 182.776819 \r\nL 187.629 184.951219 \r\nL 134.061 184.951219 \r\nL 134.061 182.776819 \r\n\" style=\"fill:#faebdd;\"/>\r\n    <path clip-path=\"url(#pa09991b1fb)\" d=\"M 187.629 182.776819 \r\nL 241.197 182.776819 \r\nL 241.197 184.951219 \r\nL 187.629 184.951219 \r\nL 187.629 182.776819 \r\n\" style=\"fill:#faebdd;\"/>\r\n    <path clip-path=\"url(#pa09991b1fb)\" d=\"M 241.197 182.776819 \r\nL 294.765 182.776819 \r\nL 294.765 184.951219 \r\nL 241.197 184.951219 \r\nL 241.197 182.776819 \r\n\" style=\"fill:#faebdd;\"/>\r\n    <path clip-path=\"url(#pa09991b1fb)\" d=\"M 26.925 184.951219 \r\nL 80.493 184.951219 \r\nL 80.493 187.125619 \r\nL 26.925 187.125619 \r\nL 26.925 184.951219 \r\n\" style=\"fill:#03051a;\"/>\r\n    <path clip-path=\"url(#pa09991b1fb)\" d=\"M 80.493 184.951219 \r\nL 134.061 184.951219 \r\nL 134.061 187.125619 \r\nL 80.493 187.125619 \r\nL 80.493 184.951219 \r\n\" style=\"fill:#faebdd;\"/>\r\n    <path clip-path=\"url(#pa09991b1fb)\" d=\"M 134.061 184.951219 \r\nL 187.629 184.951219 \r\nL 187.629 187.125619 \r\nL 134.061 187.125619 \r\nL 134.061 184.951219 \r\n\" style=\"fill:#faebdd;\"/>\r\n    <path clip-path=\"url(#pa09991b1fb)\" d=\"M 187.629 184.951219 \r\nL 241.197 184.951219 \r\nL 241.197 187.125619 \r\nL 187.629 187.125619 \r\nL 187.629 184.951219 \r\n\" style=\"fill:#faebdd;\"/>\r\n    <path clip-path=\"url(#pa09991b1fb)\" d=\"M 241.197 184.951219 \r\nL 294.765 184.951219 \r\nL 294.765 187.125619 \r\nL 241.197 187.125619 \r\nL 241.197 184.951219 \r\n\" style=\"fill:#faebdd;\"/>\r\n    <path clip-path=\"url(#pa09991b1fb)\" d=\"M 26.925 187.125619 \r\nL 80.493 187.125619 \r\nL 80.493 189.300019 \r\nL 26.925 189.300019 \r\nL 26.925 187.125619 \r\n\" style=\"fill:#faebdd;\"/>\r\n    <path clip-path=\"url(#pa09991b1fb)\" d=\"M 80.493 187.125619 \r\nL 134.061 187.125619 \r\nL 134.061 189.300019 \r\nL 80.493 189.300019 \r\nL 80.493 187.125619 \r\n\" style=\"fill:#faebdd;\"/>\r\n    <path clip-path=\"url(#pa09991b1fb)\" d=\"M 134.061 187.125619 \r\nL 187.629 187.125619 \r\nL 187.629 189.300019 \r\nL 134.061 189.300019 \r\nL 134.061 187.125619 \r\n\" style=\"fill:#faebdd;\"/>\r\n    <path clip-path=\"url(#pa09991b1fb)\" d=\"M 187.629 187.125619 \r\nL 241.197 187.125619 \r\nL 241.197 189.300019 \r\nL 187.629 189.300019 \r\nL 187.629 187.125619 \r\n\" style=\"fill:#faebdd;\"/>\r\n    <path clip-path=\"url(#pa09991b1fb)\" d=\"M 241.197 187.125619 \r\nL 294.765 187.125619 \r\nL 294.765 189.300019 \r\nL 241.197 189.300019 \r\nL 241.197 187.125619 \r\n\" style=\"fill:#faebdd;\"/>\r\n    <path clip-path=\"url(#pa09991b1fb)\" d=\"M 26.925 189.300019 \r\nL 80.493 189.300019 \r\nL 80.493 191.474419 \r\nL 26.925 191.474419 \r\nL 26.925 189.300019 \r\n\" style=\"fill:#faebdd;\"/>\r\n    <path clip-path=\"url(#pa09991b1fb)\" d=\"M 80.493 189.300019 \r\nL 134.061 189.300019 \r\nL 134.061 191.474419 \r\nL 80.493 191.474419 \r\nL 80.493 189.300019 \r\n\" style=\"fill:#faebdd;\"/>\r\n    <path clip-path=\"url(#pa09991b1fb)\" d=\"M 134.061 189.300019 \r\nL 187.629 189.300019 \r\nL 187.629 191.474419 \r\nL 134.061 191.474419 \r\nL 134.061 189.300019 \r\n\" style=\"fill:#faebdd;\"/>\r\n    <path clip-path=\"url(#pa09991b1fb)\" d=\"M 187.629 189.300019 \r\nL 241.197 189.300019 \r\nL 241.197 191.474419 \r\nL 187.629 191.474419 \r\nL 187.629 189.300019 \r\n\" style=\"fill:#faebdd;\"/>\r\n    <path clip-path=\"url(#pa09991b1fb)\" d=\"M 241.197 189.300019 \r\nL 294.765 189.300019 \r\nL 294.765 191.474419 \r\nL 241.197 191.474419 \r\nL 241.197 189.300019 \r\n\" style=\"fill:#faebdd;\"/>\r\n    <path clip-path=\"url(#pa09991b1fb)\" d=\"M 26.925 191.474419 \r\nL 80.493 191.474419 \r\nL 80.493 193.648819 \r\nL 26.925 193.648819 \r\nL 26.925 191.474419 \r\n\" style=\"fill:#faebdd;\"/>\r\n    <path clip-path=\"url(#pa09991b1fb)\" d=\"M 80.493 191.474419 \r\nL 134.061 191.474419 \r\nL 134.061 193.648819 \r\nL 80.493 193.648819 \r\nL 80.493 191.474419 \r\n\" style=\"fill:#faebdd;\"/>\r\n    <path clip-path=\"url(#pa09991b1fb)\" d=\"M 134.061 191.474419 \r\nL 187.629 191.474419 \r\nL 187.629 193.648819 \r\nL 134.061 193.648819 \r\nL 134.061 191.474419 \r\n\" style=\"fill:#faebdd;\"/>\r\n    <path clip-path=\"url(#pa09991b1fb)\" d=\"M 187.629 191.474419 \r\nL 241.197 191.474419 \r\nL 241.197 193.648819 \r\nL 187.629 193.648819 \r\nL 187.629 191.474419 \r\n\" style=\"fill:#faebdd;\"/>\r\n    <path clip-path=\"url(#pa09991b1fb)\" d=\"M 241.197 191.474419 \r\nL 294.765 191.474419 \r\nL 294.765 193.648819 \r\nL 241.197 193.648819 \r\nL 241.197 191.474419 \r\n\" style=\"fill:#faebdd;\"/>\r\n    <path clip-path=\"url(#pa09991b1fb)\" d=\"M 26.925 193.648819 \r\nL 80.493 193.648819 \r\nL 80.493 195.823219 \r\nL 26.925 195.823219 \r\nL 26.925 193.648819 \r\n\" style=\"fill:#faebdd;\"/>\r\n    <path clip-path=\"url(#pa09991b1fb)\" d=\"M 80.493 193.648819 \r\nL 134.061 193.648819 \r\nL 134.061 195.823219 \r\nL 80.493 195.823219 \r\nL 80.493 193.648819 \r\n\" style=\"fill:#faebdd;\"/>\r\n    <path clip-path=\"url(#pa09991b1fb)\" d=\"M 134.061 193.648819 \r\nL 187.629 193.648819 \r\nL 187.629 195.823219 \r\nL 134.061 195.823219 \r\nL 134.061 193.648819 \r\n\" style=\"fill:#faebdd;\"/>\r\n    <path clip-path=\"url(#pa09991b1fb)\" d=\"M 187.629 193.648819 \r\nL 241.197 193.648819 \r\nL 241.197 195.823219 \r\nL 187.629 195.823219 \r\nL 187.629 193.648819 \r\n\" style=\"fill:#faebdd;\"/>\r\n    <path clip-path=\"url(#pa09991b1fb)\" d=\"M 241.197 193.648819 \r\nL 294.765 193.648819 \r\nL 294.765 195.823219 \r\nL 241.197 195.823219 \r\nL 241.197 193.648819 \r\n\" style=\"fill:#faebdd;\"/>\r\n    <path clip-path=\"url(#pa09991b1fb)\" d=\"M 26.925 195.823219 \r\nL 80.493 195.823219 \r\nL 80.493 197.997619 \r\nL 26.925 197.997619 \r\nL 26.925 195.823219 \r\n\" style=\"fill:#faebdd;\"/>\r\n    <path clip-path=\"url(#pa09991b1fb)\" d=\"M 80.493 195.823219 \r\nL 134.061 195.823219 \r\nL 134.061 197.997619 \r\nL 80.493 197.997619 \r\nL 80.493 195.823219 \r\n\" style=\"fill:#faebdd;\"/>\r\n    <path clip-path=\"url(#pa09991b1fb)\" d=\"M 134.061 195.823219 \r\nL 187.629 195.823219 \r\nL 187.629 197.997619 \r\nL 134.061 197.997619 \r\nL 134.061 195.823219 \r\n\" style=\"fill:#faebdd;\"/>\r\n    <path clip-path=\"url(#pa09991b1fb)\" d=\"M 187.629 195.823219 \r\nL 241.197 195.823219 \r\nL 241.197 197.997619 \r\nL 187.629 197.997619 \r\nL 187.629 195.823219 \r\n\" style=\"fill:#faebdd;\"/>\r\n    <path clip-path=\"url(#pa09991b1fb)\" d=\"M 241.197 195.823219 \r\nL 294.765 195.823219 \r\nL 294.765 197.997619 \r\nL 241.197 197.997619 \r\nL 241.197 195.823219 \r\n\" style=\"fill:#faebdd;\"/>\r\n    <path clip-path=\"url(#pa09991b1fb)\" d=\"M 26.925 197.997619 \r\nL 80.493 197.997619 \r\nL 80.493 200.172019 \r\nL 26.925 200.172019 \r\nL 26.925 197.997619 \r\n\" style=\"fill:#faebdd;\"/>\r\n    <path clip-path=\"url(#pa09991b1fb)\" d=\"M 80.493 197.997619 \r\nL 134.061 197.997619 \r\nL 134.061 200.172019 \r\nL 80.493 200.172019 \r\nL 80.493 197.997619 \r\n\" style=\"fill:#faebdd;\"/>\r\n    <path clip-path=\"url(#pa09991b1fb)\" d=\"M 134.061 197.997619 \r\nL 187.629 197.997619 \r\nL 187.629 200.172019 \r\nL 134.061 200.172019 \r\nL 134.061 197.997619 \r\n\" style=\"fill:#faebdd;\"/>\r\n    <path clip-path=\"url(#pa09991b1fb)\" d=\"M 187.629 197.997619 \r\nL 241.197 197.997619 \r\nL 241.197 200.172019 \r\nL 187.629 200.172019 \r\nL 187.629 197.997619 \r\n\" style=\"fill:#faebdd;\"/>\r\n    <path clip-path=\"url(#pa09991b1fb)\" d=\"M 241.197 197.997619 \r\nL 294.765 197.997619 \r\nL 294.765 200.172019 \r\nL 241.197 200.172019 \r\nL 241.197 197.997619 \r\n\" style=\"fill:#faebdd;\"/>\r\n    <path clip-path=\"url(#pa09991b1fb)\" d=\"M 26.925 200.172019 \r\nL 80.493 200.172019 \r\nL 80.493 202.346419 \r\nL 26.925 202.346419 \r\nL 26.925 200.172019 \r\n\" style=\"fill:#03051a;\"/>\r\n    <path clip-path=\"url(#pa09991b1fb)\" d=\"M 80.493 200.172019 \r\nL 134.061 200.172019 \r\nL 134.061 202.346419 \r\nL 80.493 202.346419 \r\nL 80.493 200.172019 \r\n\" style=\"fill:#faebdd;\"/>\r\n    <path clip-path=\"url(#pa09991b1fb)\" d=\"M 134.061 200.172019 \r\nL 187.629 200.172019 \r\nL 187.629 202.346419 \r\nL 134.061 202.346419 \r\nL 134.061 200.172019 \r\n\" style=\"fill:#faebdd;\"/>\r\n    <path clip-path=\"url(#pa09991b1fb)\" d=\"M 187.629 200.172019 \r\nL 241.197 200.172019 \r\nL 241.197 202.346419 \r\nL 187.629 202.346419 \r\nL 187.629 200.172019 \r\n\" style=\"fill:#faebdd;\"/>\r\n    <path clip-path=\"url(#pa09991b1fb)\" d=\"M 241.197 200.172019 \r\nL 294.765 200.172019 \r\nL 294.765 202.346419 \r\nL 241.197 202.346419 \r\nL 241.197 200.172019 \r\n\" style=\"fill:#faebdd;\"/>\r\n    <path clip-path=\"url(#pa09991b1fb)\" d=\"M 26.925 202.346419 \r\nL 80.493 202.346419 \r\nL 80.493 204.520819 \r\nL 26.925 204.520819 \r\nL 26.925 202.346419 \r\n\" style=\"fill:#faebdd;\"/>\r\n    <path clip-path=\"url(#pa09991b1fb)\" d=\"M 80.493 202.346419 \r\nL 134.061 202.346419 \r\nL 134.061 204.520819 \r\nL 80.493 204.520819 \r\nL 80.493 202.346419 \r\n\" style=\"fill:#faebdd;\"/>\r\n    <path clip-path=\"url(#pa09991b1fb)\" d=\"M 134.061 202.346419 \r\nL 187.629 202.346419 \r\nL 187.629 204.520819 \r\nL 134.061 204.520819 \r\nL 134.061 202.346419 \r\n\" style=\"fill:#faebdd;\"/>\r\n    <path clip-path=\"url(#pa09991b1fb)\" d=\"M 187.629 202.346419 \r\nL 241.197 202.346419 \r\nL 241.197 204.520819 \r\nL 187.629 204.520819 \r\nL 187.629 202.346419 \r\n\" style=\"fill:#faebdd;\"/>\r\n    <path clip-path=\"url(#pa09991b1fb)\" d=\"M 241.197 202.346419 \r\nL 294.765 202.346419 \r\nL 294.765 204.520819 \r\nL 241.197 204.520819 \r\nL 241.197 202.346419 \r\n\" style=\"fill:#faebdd;\"/>\r\n    <path clip-path=\"url(#pa09991b1fb)\" d=\"M 26.925 204.520819 \r\nL 80.493 204.520819 \r\nL 80.493 206.695219 \r\nL 26.925 206.695219 \r\nL 26.925 204.520819 \r\n\" style=\"fill:#faebdd;\"/>\r\n    <path clip-path=\"url(#pa09991b1fb)\" d=\"M 80.493 204.520819 \r\nL 134.061 204.520819 \r\nL 134.061 206.695219 \r\nL 80.493 206.695219 \r\nL 80.493 204.520819 \r\n\" style=\"fill:#faebdd;\"/>\r\n    <path clip-path=\"url(#pa09991b1fb)\" d=\"M 134.061 204.520819 \r\nL 187.629 204.520819 \r\nL 187.629 206.695219 \r\nL 134.061 206.695219 \r\nL 134.061 204.520819 \r\n\" style=\"fill:#faebdd;\"/>\r\n    <path clip-path=\"url(#pa09991b1fb)\" d=\"M 187.629 204.520819 \r\nL 241.197 204.520819 \r\nL 241.197 206.695219 \r\nL 187.629 206.695219 \r\nL 187.629 204.520819 \r\n\" style=\"fill:#faebdd;\"/>\r\n    <path clip-path=\"url(#pa09991b1fb)\" d=\"M 241.197 204.520819 \r\nL 294.765 204.520819 \r\nL 294.765 206.695219 \r\nL 241.197 206.695219 \r\nL 241.197 204.520819 \r\n\" style=\"fill:#faebdd;\"/>\r\n    <path clip-path=\"url(#pa09991b1fb)\" d=\"M 26.925 206.695219 \r\nL 80.493 206.695219 \r\nL 80.493 208.869619 \r\nL 26.925 208.869619 \r\nL 26.925 206.695219 \r\n\" style=\"fill:#03051a;\"/>\r\n    <path clip-path=\"url(#pa09991b1fb)\" d=\"M 80.493 206.695219 \r\nL 134.061 206.695219 \r\nL 134.061 208.869619 \r\nL 80.493 208.869619 \r\nL 80.493 206.695219 \r\n\" style=\"fill:#faebdd;\"/>\r\n    <path clip-path=\"url(#pa09991b1fb)\" d=\"M 134.061 206.695219 \r\nL 187.629 206.695219 \r\nL 187.629 208.869619 \r\nL 134.061 208.869619 \r\nL 134.061 206.695219 \r\n\" style=\"fill:#faebdd;\"/>\r\n    <path clip-path=\"url(#pa09991b1fb)\" d=\"M 187.629 206.695219 \r\nL 241.197 206.695219 \r\nL 241.197 208.869619 \r\nL 187.629 208.869619 \r\nL 187.629 206.695219 \r\n\" style=\"fill:#faebdd;\"/>\r\n    <path clip-path=\"url(#pa09991b1fb)\" d=\"M 241.197 206.695219 \r\nL 294.765 206.695219 \r\nL 294.765 208.869619 \r\nL 241.197 208.869619 \r\nL 241.197 206.695219 \r\n\" style=\"fill:#faebdd;\"/>\r\n    <path clip-path=\"url(#pa09991b1fb)\" d=\"M 26.925 208.869619 \r\nL 80.493 208.869619 \r\nL 80.493 211.044019 \r\nL 26.925 211.044019 \r\nL 26.925 208.869619 \r\n\" style=\"fill:#03051a;\"/>\r\n    <path clip-path=\"url(#pa09991b1fb)\" d=\"M 80.493 208.869619 \r\nL 134.061 208.869619 \r\nL 134.061 211.044019 \r\nL 80.493 211.044019 \r\nL 80.493 208.869619 \r\n\" style=\"fill:#faebdd;\"/>\r\n    <path clip-path=\"url(#pa09991b1fb)\" d=\"M 134.061 208.869619 \r\nL 187.629 208.869619 \r\nL 187.629 211.044019 \r\nL 134.061 211.044019 \r\nL 134.061 208.869619 \r\n\" style=\"fill:#faebdd;\"/>\r\n    <path clip-path=\"url(#pa09991b1fb)\" d=\"M 187.629 208.869619 \r\nL 241.197 208.869619 \r\nL 241.197 211.044019 \r\nL 187.629 211.044019 \r\nL 187.629 208.869619 \r\n\" style=\"fill:#03051a;\"/>\r\n    <path clip-path=\"url(#pa09991b1fb)\" d=\"M 241.197 208.869619 \r\nL 294.765 208.869619 \r\nL 294.765 211.044019 \r\nL 241.197 211.044019 \r\nL 241.197 208.869619 \r\n\" style=\"fill:#faebdd;\"/>\r\n    <path clip-path=\"url(#pa09991b1fb)\" d=\"M 26.925 211.044019 \r\nL 80.493 211.044019 \r\nL 80.493 213.218419 \r\nL 26.925 213.218419 \r\nL 26.925 211.044019 \r\n\" style=\"fill:#faebdd;\"/>\r\n    <path clip-path=\"url(#pa09991b1fb)\" d=\"M 80.493 211.044019 \r\nL 134.061 211.044019 \r\nL 134.061 213.218419 \r\nL 80.493 213.218419 \r\nL 80.493 211.044019 \r\n\" style=\"fill:#faebdd;\"/>\r\n    <path clip-path=\"url(#pa09991b1fb)\" d=\"M 134.061 211.044019 \r\nL 187.629 211.044019 \r\nL 187.629 213.218419 \r\nL 134.061 213.218419 \r\nL 134.061 211.044019 \r\n\" style=\"fill:#faebdd;\"/>\r\n    <path clip-path=\"url(#pa09991b1fb)\" d=\"M 187.629 211.044019 \r\nL 241.197 211.044019 \r\nL 241.197 213.218419 \r\nL 187.629 213.218419 \r\nL 187.629 211.044019 \r\n\" style=\"fill:#faebdd;\"/>\r\n    <path clip-path=\"url(#pa09991b1fb)\" d=\"M 241.197 211.044019 \r\nL 294.765 211.044019 \r\nL 294.765 213.218419 \r\nL 241.197 213.218419 \r\nL 241.197 211.044019 \r\n\" style=\"fill:#faebdd;\"/>\r\n    <path clip-path=\"url(#pa09991b1fb)\" d=\"M 26.925 213.218419 \r\nL 80.493 213.218419 \r\nL 80.493 215.392819 \r\nL 26.925 215.392819 \r\nL 26.925 213.218419 \r\n\" style=\"fill:#faebdd;\"/>\r\n    <path clip-path=\"url(#pa09991b1fb)\" d=\"M 80.493 213.218419 \r\nL 134.061 213.218419 \r\nL 134.061 215.392819 \r\nL 80.493 215.392819 \r\nL 80.493 213.218419 \r\n\" style=\"fill:#faebdd;\"/>\r\n    <path clip-path=\"url(#pa09991b1fb)\" d=\"M 134.061 213.218419 \r\nL 187.629 213.218419 \r\nL 187.629 215.392819 \r\nL 134.061 215.392819 \r\nL 134.061 213.218419 \r\n\" style=\"fill:#faebdd;\"/>\r\n    <path clip-path=\"url(#pa09991b1fb)\" d=\"M 187.629 213.218419 \r\nL 241.197 213.218419 \r\nL 241.197 215.392819 \r\nL 187.629 215.392819 \r\nL 187.629 213.218419 \r\n\" style=\"fill:#03051a;\"/>\r\n    <path clip-path=\"url(#pa09991b1fb)\" d=\"M 241.197 213.218419 \r\nL 294.765 213.218419 \r\nL 294.765 215.392819 \r\nL 241.197 215.392819 \r\nL 241.197 213.218419 \r\n\" style=\"fill:#faebdd;\"/>\r\n    <path clip-path=\"url(#pa09991b1fb)\" d=\"M 26.925 215.392819 \r\nL 80.493 215.392819 \r\nL 80.493 217.567219 \r\nL 26.925 217.567219 \r\nL 26.925 215.392819 \r\n\" style=\"fill:#faebdd;\"/>\r\n    <path clip-path=\"url(#pa09991b1fb)\" d=\"M 80.493 215.392819 \r\nL 134.061 215.392819 \r\nL 134.061 217.567219 \r\nL 80.493 217.567219 \r\nL 80.493 215.392819 \r\n\" style=\"fill:#faebdd;\"/>\r\n    <path clip-path=\"url(#pa09991b1fb)\" d=\"M 134.061 215.392819 \r\nL 187.629 215.392819 \r\nL 187.629 217.567219 \r\nL 134.061 217.567219 \r\nL 134.061 215.392819 \r\n\" style=\"fill:#faebdd;\"/>\r\n    <path clip-path=\"url(#pa09991b1fb)\" d=\"M 187.629 215.392819 \r\nL 241.197 215.392819 \r\nL 241.197 217.567219 \r\nL 187.629 217.567219 \r\nL 187.629 215.392819 \r\n\" style=\"fill:#faebdd;\"/>\r\n    <path clip-path=\"url(#pa09991b1fb)\" d=\"M 241.197 215.392819 \r\nL 294.765 215.392819 \r\nL 294.765 217.567219 \r\nL 241.197 217.567219 \r\nL 241.197 215.392819 \r\n\" style=\"fill:#faebdd;\"/>\r\n    <path clip-path=\"url(#pa09991b1fb)\" d=\"M 26.925 217.567219 \r\nL 80.493 217.567219 \r\nL 80.493 219.741619 \r\nL 26.925 219.741619 \r\nL 26.925 217.567219 \r\n\" style=\"fill:#faebdd;\"/>\r\n    <path clip-path=\"url(#pa09991b1fb)\" d=\"M 80.493 217.567219 \r\nL 134.061 217.567219 \r\nL 134.061 219.741619 \r\nL 80.493 219.741619 \r\nL 80.493 217.567219 \r\n\" style=\"fill:#faebdd;\"/>\r\n    <path clip-path=\"url(#pa09991b1fb)\" d=\"M 134.061 217.567219 \r\nL 187.629 217.567219 \r\nL 187.629 219.741619 \r\nL 134.061 219.741619 \r\nL 134.061 217.567219 \r\n\" style=\"fill:#faebdd;\"/>\r\n    <path clip-path=\"url(#pa09991b1fb)\" d=\"M 187.629 217.567219 \r\nL 241.197 217.567219 \r\nL 241.197 219.741619 \r\nL 187.629 219.741619 \r\nL 187.629 217.567219 \r\n\" style=\"fill:#faebdd;\"/>\r\n    <path clip-path=\"url(#pa09991b1fb)\" d=\"M 241.197 217.567219 \r\nL 294.765 217.567219 \r\nL 294.765 219.741619 \r\nL 241.197 219.741619 \r\nL 241.197 217.567219 \r\n\" style=\"fill:#faebdd;\"/>\r\n    <path clip-path=\"url(#pa09991b1fb)\" d=\"M 26.925 219.741619 \r\nL 80.493 219.741619 \r\nL 80.493 221.916019 \r\nL 26.925 221.916019 \r\nL 26.925 219.741619 \r\n\" style=\"fill:#faebdd;\"/>\r\n    <path clip-path=\"url(#pa09991b1fb)\" d=\"M 80.493 219.741619 \r\nL 134.061 219.741619 \r\nL 134.061 221.916019 \r\nL 80.493 221.916019 \r\nL 80.493 219.741619 \r\n\" style=\"fill:#03051a;\"/>\r\n    <path clip-path=\"url(#pa09991b1fb)\" d=\"M 134.061 219.741619 \r\nL 187.629 219.741619 \r\nL 187.629 221.916019 \r\nL 134.061 221.916019 \r\nL 134.061 219.741619 \r\n\" style=\"fill:#faebdd;\"/>\r\n    <path clip-path=\"url(#pa09991b1fb)\" d=\"M 187.629 219.741619 \r\nL 241.197 219.741619 \r\nL 241.197 221.916019 \r\nL 187.629 221.916019 \r\nL 187.629 219.741619 \r\n\" style=\"fill:#faebdd;\"/>\r\n    <path clip-path=\"url(#pa09991b1fb)\" d=\"M 241.197 219.741619 \r\nL 294.765 219.741619 \r\nL 294.765 221.916019 \r\nL 241.197 221.916019 \r\nL 241.197 219.741619 \r\n\" style=\"fill:#faebdd;\"/>\r\n    <path clip-path=\"url(#pa09991b1fb)\" d=\"M 26.925 221.916019 \r\nL 80.493 221.916019 \r\nL 80.493 224.090419 \r\nL 26.925 224.090419 \r\nL 26.925 221.916019 \r\n\" style=\"fill:#faebdd;\"/>\r\n    <path clip-path=\"url(#pa09991b1fb)\" d=\"M 80.493 221.916019 \r\nL 134.061 221.916019 \r\nL 134.061 224.090419 \r\nL 80.493 224.090419 \r\nL 80.493 221.916019 \r\n\" style=\"fill:#faebdd;\"/>\r\n    <path clip-path=\"url(#pa09991b1fb)\" d=\"M 134.061 221.916019 \r\nL 187.629 221.916019 \r\nL 187.629 224.090419 \r\nL 134.061 224.090419 \r\nL 134.061 221.916019 \r\n\" style=\"fill:#faebdd;\"/>\r\n    <path clip-path=\"url(#pa09991b1fb)\" d=\"M 187.629 221.916019 \r\nL 241.197 221.916019 \r\nL 241.197 224.090419 \r\nL 187.629 224.090419 \r\nL 187.629 221.916019 \r\n\" style=\"fill:#faebdd;\"/>\r\n    <path clip-path=\"url(#pa09991b1fb)\" d=\"M 241.197 221.916019 \r\nL 294.765 221.916019 \r\nL 294.765 224.090419 \r\nL 241.197 224.090419 \r\nL 241.197 221.916019 \r\n\" style=\"fill:#faebdd;\"/>\r\n    <path clip-path=\"url(#pa09991b1fb)\" d=\"M 26.925 224.090419 \r\nL 80.493 224.090419 \r\nL 80.493 226.264819 \r\nL 26.925 226.264819 \r\nL 26.925 224.090419 \r\n\" style=\"fill:#faebdd;\"/>\r\n    <path clip-path=\"url(#pa09991b1fb)\" d=\"M 80.493 224.090419 \r\nL 134.061 224.090419 \r\nL 134.061 226.264819 \r\nL 80.493 226.264819 \r\nL 80.493 224.090419 \r\n\" style=\"fill:#faebdd;\"/>\r\n    <path clip-path=\"url(#pa09991b1fb)\" d=\"M 134.061 224.090419 \r\nL 187.629 224.090419 \r\nL 187.629 226.264819 \r\nL 134.061 226.264819 \r\nL 134.061 224.090419 \r\n\" style=\"fill:#faebdd;\"/>\r\n    <path clip-path=\"url(#pa09991b1fb)\" d=\"M 187.629 224.090419 \r\nL 241.197 224.090419 \r\nL 241.197 226.264819 \r\nL 187.629 226.264819 \r\nL 187.629 224.090419 \r\n\" style=\"fill:#faebdd;\"/>\r\n    <path clip-path=\"url(#pa09991b1fb)\" d=\"M 241.197 224.090419 \r\nL 294.765 224.090419 \r\nL 294.765 226.264819 \r\nL 241.197 226.264819 \r\nL 241.197 224.090419 \r\n\" style=\"fill:#faebdd;\"/>\r\n    <path clip-path=\"url(#pa09991b1fb)\" d=\"M 26.925 226.264819 \r\nL 80.493 226.264819 \r\nL 80.493 228.439219 \r\nL 26.925 228.439219 \r\nL 26.925 226.264819 \r\n\" style=\"fill:#faebdd;\"/>\r\n    <path clip-path=\"url(#pa09991b1fb)\" d=\"M 80.493 226.264819 \r\nL 134.061 226.264819 \r\nL 134.061 228.439219 \r\nL 80.493 228.439219 \r\nL 80.493 226.264819 \r\n\" style=\"fill:#faebdd;\"/>\r\n    <path clip-path=\"url(#pa09991b1fb)\" d=\"M 134.061 226.264819 \r\nL 187.629 226.264819 \r\nL 187.629 228.439219 \r\nL 134.061 228.439219 \r\nL 134.061 226.264819 \r\n\" style=\"fill:#faebdd;\"/>\r\n    <path clip-path=\"url(#pa09991b1fb)\" d=\"M 187.629 226.264819 \r\nL 241.197 226.264819 \r\nL 241.197 228.439219 \r\nL 187.629 228.439219 \r\nL 187.629 226.264819 \r\n\" style=\"fill:#faebdd;\"/>\r\n    <path clip-path=\"url(#pa09991b1fb)\" d=\"M 241.197 226.264819 \r\nL 294.765 226.264819 \r\nL 294.765 228.439219 \r\nL 241.197 228.439219 \r\nL 241.197 226.264819 \r\n\" style=\"fill:#faebdd;\"/>\r\n   </g>\r\n   <g id=\"matplotlib.axis_1\">\r\n    <g id=\"xtick_1\">\r\n     <g id=\"line2d_1\">\r\n      <defs>\r\n       <path d=\"M 0 0 \r\nL 0 3.5 \r\n\" id=\"m834d69c2d7\" style=\"stroke:#000000;stroke-width:0.8;\"/>\r\n      </defs>\r\n      <g>\r\n       <use style=\"stroke:#000000;stroke-width:0.8;\" x=\"53.709\" xlink:href=\"#m834d69c2d7\" y=\"228.439219\"/>\r\n      </g>\r\n     </g>\r\n     <g id=\"text_1\">\r\n      <!-- Energy&gt;=1260.0 -->\r\n      <g transform=\"translate(56.468375 322.201719)rotate(-90)scale(0.1 -0.1)\">\r\n       <defs>\r\n        <path d=\"M 628 4666 \r\nL 3578 4666 \r\nL 3578 4134 \r\nL 1259 4134 \r\nL 1259 2753 \r\nL 3481 2753 \r\nL 3481 2222 \r\nL 1259 2222 \r\nL 1259 531 \r\nL 3634 531 \r\nL 3634 0 \r\nL 628 0 \r\nL 628 4666 \r\nz\r\n\" id=\"DejaVuSans-45\" transform=\"scale(0.015625)\"/>\r\n        <path d=\"M 3513 2113 \r\nL 3513 0 \r\nL 2938 0 \r\nL 2938 2094 \r\nQ 2938 2591 2744 2837 \r\nQ 2550 3084 2163 3084 \r\nQ 1697 3084 1428 2787 \r\nQ 1159 2491 1159 1978 \r\nL 1159 0 \r\nL 581 0 \r\nL 581 3500 \r\nL 1159 3500 \r\nL 1159 2956 \r\nQ 1366 3272 1645 3428 \r\nQ 1925 3584 2291 3584 \r\nQ 2894 3584 3203 3211 \r\nQ 3513 2838 3513 2113 \r\nz\r\n\" id=\"DejaVuSans-6e\" transform=\"scale(0.015625)\"/>\r\n        <path d=\"M 3597 1894 \r\nL 3597 1613 \r\nL 953 1613 \r\nQ 991 1019 1311 708 \r\nQ 1631 397 2203 397 \r\nQ 2534 397 2845 478 \r\nQ 3156 559 3463 722 \r\nL 3463 178 \r\nQ 3153 47 2828 -22 \r\nQ 2503 -91 2169 -91 \r\nQ 1331 -91 842 396 \r\nQ 353 884 353 1716 \r\nQ 353 2575 817 3079 \r\nQ 1281 3584 2069 3584 \r\nQ 2775 3584 3186 3129 \r\nQ 3597 2675 3597 1894 \r\nz\r\nM 3022 2063 \r\nQ 3016 2534 2758 2815 \r\nQ 2500 3097 2075 3097 \r\nQ 1594 3097 1305 2825 \r\nQ 1016 2553 972 2059 \r\nL 3022 2063 \r\nz\r\n\" id=\"DejaVuSans-65\" transform=\"scale(0.015625)\"/>\r\n        <path d=\"M 2631 2963 \r\nQ 2534 3019 2420 3045 \r\nQ 2306 3072 2169 3072 \r\nQ 1681 3072 1420 2755 \r\nQ 1159 2438 1159 1844 \r\nL 1159 0 \r\nL 581 0 \r\nL 581 3500 \r\nL 1159 3500 \r\nL 1159 2956 \r\nQ 1341 3275 1631 3429 \r\nQ 1922 3584 2338 3584 \r\nQ 2397 3584 2469 3576 \r\nQ 2541 3569 2628 3553 \r\nL 2631 2963 \r\nz\r\n\" id=\"DejaVuSans-72\" transform=\"scale(0.015625)\"/>\r\n        <path d=\"M 2906 1791 \r\nQ 2906 2416 2648 2759 \r\nQ 2391 3103 1925 3103 \r\nQ 1463 3103 1205 2759 \r\nQ 947 2416 947 1791 \r\nQ 947 1169 1205 825 \r\nQ 1463 481 1925 481 \r\nQ 2391 481 2648 825 \r\nQ 2906 1169 2906 1791 \r\nz\r\nM 3481 434 \r\nQ 3481 -459 3084 -895 \r\nQ 2688 -1331 1869 -1331 \r\nQ 1566 -1331 1297 -1286 \r\nQ 1028 -1241 775 -1147 \r\nL 775 -588 \r\nQ 1028 -725 1275 -790 \r\nQ 1522 -856 1778 -856 \r\nQ 2344 -856 2625 -561 \r\nQ 2906 -266 2906 331 \r\nL 2906 616 \r\nQ 2728 306 2450 153 \r\nQ 2172 0 1784 0 \r\nQ 1141 0 747 490 \r\nQ 353 981 353 1791 \r\nQ 353 2603 747 3093 \r\nQ 1141 3584 1784 3584 \r\nQ 2172 3584 2450 3431 \r\nQ 2728 3278 2906 2969 \r\nL 2906 3500 \r\nL 3481 3500 \r\nL 3481 434 \r\nz\r\n\" id=\"DejaVuSans-67\" transform=\"scale(0.015625)\"/>\r\n        <path d=\"M 2059 -325 \r\nQ 1816 -950 1584 -1140 \r\nQ 1353 -1331 966 -1331 \r\nL 506 -1331 \r\nL 506 -850 \r\nL 844 -850 \r\nQ 1081 -850 1212 -737 \r\nQ 1344 -625 1503 -206 \r\nL 1606 56 \r\nL 191 3500 \r\nL 800 3500 \r\nL 1894 763 \r\nL 2988 3500 \r\nL 3597 3500 \r\nL 2059 -325 \r\nz\r\n\" id=\"DejaVuSans-79\" transform=\"scale(0.015625)\"/>\r\n        <path d=\"M 678 3150 \r\nL 678 3719 \r\nL 4684 2266 \r\nL 4684 1747 \r\nL 678 294 \r\nL 678 863 \r\nL 3897 2003 \r\nL 678 3150 \r\nz\r\n\" id=\"DejaVuSans-3e\" transform=\"scale(0.015625)\"/>\r\n        <path d=\"M 678 2906 \r\nL 4684 2906 \r\nL 4684 2381 \r\nL 678 2381 \r\nL 678 2906 \r\nz\r\nM 678 1631 \r\nL 4684 1631 \r\nL 4684 1100 \r\nL 678 1100 \r\nL 678 1631 \r\nz\r\n\" id=\"DejaVuSans-3d\" transform=\"scale(0.015625)\"/>\r\n        <path d=\"M 794 531 \r\nL 1825 531 \r\nL 1825 4091 \r\nL 703 3866 \r\nL 703 4441 \r\nL 1819 4666 \r\nL 2450 4666 \r\nL 2450 531 \r\nL 3481 531 \r\nL 3481 0 \r\nL 794 0 \r\nL 794 531 \r\nz\r\n\" id=\"DejaVuSans-31\" transform=\"scale(0.015625)\"/>\r\n        <path d=\"M 1228 531 \r\nL 3431 531 \r\nL 3431 0 \r\nL 469 0 \r\nL 469 531 \r\nQ 828 903 1448 1529 \r\nQ 2069 2156 2228 2338 \r\nQ 2531 2678 2651 2914 \r\nQ 2772 3150 2772 3378 \r\nQ 2772 3750 2511 3984 \r\nQ 2250 4219 1831 4219 \r\nQ 1534 4219 1204 4116 \r\nQ 875 4013 500 3803 \r\nL 500 4441 \r\nQ 881 4594 1212 4672 \r\nQ 1544 4750 1819 4750 \r\nQ 2544 4750 2975 4387 \r\nQ 3406 4025 3406 3419 \r\nQ 3406 3131 3298 2873 \r\nQ 3191 2616 2906 2266 \r\nQ 2828 2175 2409 1742 \r\nQ 1991 1309 1228 531 \r\nz\r\n\" id=\"DejaVuSans-32\" transform=\"scale(0.015625)\"/>\r\n        <path d=\"M 2113 2584 \r\nQ 1688 2584 1439 2293 \r\nQ 1191 2003 1191 1497 \r\nQ 1191 994 1439 701 \r\nQ 1688 409 2113 409 \r\nQ 2538 409 2786 701 \r\nQ 3034 994 3034 1497 \r\nQ 3034 2003 2786 2293 \r\nQ 2538 2584 2113 2584 \r\nz\r\nM 3366 4563 \r\nL 3366 3988 \r\nQ 3128 4100 2886 4159 \r\nQ 2644 4219 2406 4219 \r\nQ 1781 4219 1451 3797 \r\nQ 1122 3375 1075 2522 \r\nQ 1259 2794 1537 2939 \r\nQ 1816 3084 2150 3084 \r\nQ 2853 3084 3261 2657 \r\nQ 3669 2231 3669 1497 \r\nQ 3669 778 3244 343 \r\nQ 2819 -91 2113 -91 \r\nQ 1303 -91 875 529 \r\nQ 447 1150 447 2328 \r\nQ 447 3434 972 4092 \r\nQ 1497 4750 2381 4750 \r\nQ 2619 4750 2861 4703 \r\nQ 3103 4656 3366 4563 \r\nz\r\n\" id=\"DejaVuSans-36\" transform=\"scale(0.015625)\"/>\r\n        <path d=\"M 2034 4250 \r\nQ 1547 4250 1301 3770 \r\nQ 1056 3291 1056 2328 \r\nQ 1056 1369 1301 889 \r\nQ 1547 409 2034 409 \r\nQ 2525 409 2770 889 \r\nQ 3016 1369 3016 2328 \r\nQ 3016 3291 2770 3770 \r\nQ 2525 4250 2034 4250 \r\nz\r\nM 2034 4750 \r\nQ 2819 4750 3233 4129 \r\nQ 3647 3509 3647 2328 \r\nQ 3647 1150 3233 529 \r\nQ 2819 -91 2034 -91 \r\nQ 1250 -91 836 529 \r\nQ 422 1150 422 2328 \r\nQ 422 3509 836 4129 \r\nQ 1250 4750 2034 4750 \r\nz\r\n\" id=\"DejaVuSans-30\" transform=\"scale(0.015625)\"/>\r\n        <path d=\"M 684 794 \r\nL 1344 794 \r\nL 1344 0 \r\nL 684 0 \r\nL 684 794 \r\nz\r\n\" id=\"DejaVuSans-2e\" transform=\"scale(0.015625)\"/>\r\n       </defs>\r\n       <use xlink:href=\"#DejaVuSans-45\"/>\r\n       <use x=\"63.183594\" xlink:href=\"#DejaVuSans-6e\"/>\r\n       <use x=\"126.5625\" xlink:href=\"#DejaVuSans-65\"/>\r\n       <use x=\"188.085938\" xlink:href=\"#DejaVuSans-72\"/>\r\n       <use x=\"227.449219\" xlink:href=\"#DejaVuSans-67\"/>\r\n       <use x=\"290.925781\" xlink:href=\"#DejaVuSans-79\"/>\r\n       <use x=\"350.105469\" xlink:href=\"#DejaVuSans-3e\"/>\r\n       <use x=\"433.894531\" xlink:href=\"#DejaVuSans-3d\"/>\r\n       <use x=\"517.683594\" xlink:href=\"#DejaVuSans-31\"/>\r\n       <use x=\"581.306641\" xlink:href=\"#DejaVuSans-32\"/>\r\n       <use x=\"644.929688\" xlink:href=\"#DejaVuSans-36\"/>\r\n       <use x=\"708.552734\" xlink:href=\"#DejaVuSans-30\"/>\r\n       <use x=\"772.175781\" xlink:href=\"#DejaVuSans-2e\"/>\r\n       <use x=\"803.962891\" xlink:href=\"#DejaVuSans-30\"/>\r\n      </g>\r\n     </g>\r\n    </g>\r\n    <g id=\"xtick_2\">\r\n     <g id=\"line2d_2\">\r\n      <g>\r\n       <use style=\"stroke:#000000;stroke-width:0.8;\" x=\"107.277\" xlink:href=\"#m834d69c2d7\" y=\"228.439219\"/>\r\n      </g>\r\n     </g>\r\n     <g id=\"text_2\">\r\n      <!-- Energy&lt;=1540.0 -->\r\n      <g transform=\"translate(110.036375 322.201719)rotate(-90)scale(0.1 -0.1)\">\r\n       <defs>\r\n        <path d=\"M 4684 3150 \r\nL 1459 2003 \r\nL 4684 863 \r\nL 4684 294 \r\nL 678 1747 \r\nL 678 2266 \r\nL 4684 3719 \r\nL 4684 3150 \r\nz\r\n\" id=\"DejaVuSans-3c\" transform=\"scale(0.015625)\"/>\r\n        <path d=\"M 691 4666 \r\nL 3169 4666 \r\nL 3169 4134 \r\nL 1269 4134 \r\nL 1269 2991 \r\nQ 1406 3038 1543 3061 \r\nQ 1681 3084 1819 3084 \r\nQ 2600 3084 3056 2656 \r\nQ 3513 2228 3513 1497 \r\nQ 3513 744 3044 326 \r\nQ 2575 -91 1722 -91 \r\nQ 1428 -91 1123 -41 \r\nQ 819 9 494 109 \r\nL 494 744 \r\nQ 775 591 1075 516 \r\nQ 1375 441 1709 441 \r\nQ 2250 441 2565 725 \r\nQ 2881 1009 2881 1497 \r\nQ 2881 1984 2565 2268 \r\nQ 2250 2553 1709 2553 \r\nQ 1456 2553 1204 2497 \r\nQ 953 2441 691 2322 \r\nL 691 4666 \r\nz\r\n\" id=\"DejaVuSans-35\" transform=\"scale(0.015625)\"/>\r\n        <path d=\"M 2419 4116 \r\nL 825 1625 \r\nL 2419 1625 \r\nL 2419 4116 \r\nz\r\nM 2253 4666 \r\nL 3047 4666 \r\nL 3047 1625 \r\nL 3713 1625 \r\nL 3713 1100 \r\nL 3047 1100 \r\nL 3047 0 \r\nL 2419 0 \r\nL 2419 1100 \r\nL 313 1100 \r\nL 313 1709 \r\nL 2253 4666 \r\nz\r\n\" id=\"DejaVuSans-34\" transform=\"scale(0.015625)\"/>\r\n       </defs>\r\n       <use xlink:href=\"#DejaVuSans-45\"/>\r\n       <use x=\"63.183594\" xlink:href=\"#DejaVuSans-6e\"/>\r\n       <use x=\"126.5625\" xlink:href=\"#DejaVuSans-65\"/>\r\n       <use x=\"188.085938\" xlink:href=\"#DejaVuSans-72\"/>\r\n       <use x=\"227.449219\" xlink:href=\"#DejaVuSans-67\"/>\r\n       <use x=\"290.925781\" xlink:href=\"#DejaVuSans-79\"/>\r\n       <use x=\"350.105469\" xlink:href=\"#DejaVuSans-3c\"/>\r\n       <use x=\"433.894531\" xlink:href=\"#DejaVuSans-3d\"/>\r\n       <use x=\"517.683594\" xlink:href=\"#DejaVuSans-31\"/>\r\n       <use x=\"581.306641\" xlink:href=\"#DejaVuSans-35\"/>\r\n       <use x=\"644.929688\" xlink:href=\"#DejaVuSans-34\"/>\r\n       <use x=\"708.552734\" xlink:href=\"#DejaVuSans-30\"/>\r\n       <use x=\"772.175781\" xlink:href=\"#DejaVuSans-2e\"/>\r\n       <use x=\"803.962891\" xlink:href=\"#DejaVuSans-30\"/>\r\n      </g>\r\n     </g>\r\n    </g>\r\n    <g id=\"xtick_3\">\r\n     <g id=\"line2d_3\">\r\n      <g>\r\n       <use style=\"stroke:#000000;stroke-width:0.8;\" x=\"160.845\" xlink:href=\"#m834d69c2d7\" y=\"228.439219\"/>\r\n      </g>\r\n     </g>\r\n     <g id=\"text_3\">\r\n      <!-- Protein&gt;=20.0 -->\r\n      <g transform=\"translate(163.604375 309.512656)rotate(-90)scale(0.1 -0.1)\">\r\n       <defs>\r\n        <path d=\"M 1259 4147 \r\nL 1259 2394 \r\nL 2053 2394 \r\nQ 2494 2394 2734 2622 \r\nQ 2975 2850 2975 3272 \r\nQ 2975 3691 2734 3919 \r\nQ 2494 4147 2053 4147 \r\nL 1259 4147 \r\nz\r\nM 628 4666 \r\nL 2053 4666 \r\nQ 2838 4666 3239 4311 \r\nQ 3641 3956 3641 3272 \r\nQ 3641 2581 3239 2228 \r\nQ 2838 1875 2053 1875 \r\nL 1259 1875 \r\nL 1259 0 \r\nL 628 0 \r\nL 628 4666 \r\nz\r\n\" id=\"DejaVuSans-50\" transform=\"scale(0.015625)\"/>\r\n        <path d=\"M 1959 3097 \r\nQ 1497 3097 1228 2736 \r\nQ 959 2375 959 1747 \r\nQ 959 1119 1226 758 \r\nQ 1494 397 1959 397 \r\nQ 2419 397 2687 759 \r\nQ 2956 1122 2956 1747 \r\nQ 2956 2369 2687 2733 \r\nQ 2419 3097 1959 3097 \r\nz\r\nM 1959 3584 \r\nQ 2709 3584 3137 3096 \r\nQ 3566 2609 3566 1747 \r\nQ 3566 888 3137 398 \r\nQ 2709 -91 1959 -91 \r\nQ 1206 -91 779 398 \r\nQ 353 888 353 1747 \r\nQ 353 2609 779 3096 \r\nQ 1206 3584 1959 3584 \r\nz\r\n\" id=\"DejaVuSans-6f\" transform=\"scale(0.015625)\"/>\r\n        <path d=\"M 1172 4494 \r\nL 1172 3500 \r\nL 2356 3500 \r\nL 2356 3053 \r\nL 1172 3053 \r\nL 1172 1153 \r\nQ 1172 725 1289 603 \r\nQ 1406 481 1766 481 \r\nL 2356 481 \r\nL 2356 0 \r\nL 1766 0 \r\nQ 1100 0 847 248 \r\nQ 594 497 594 1153 \r\nL 594 3053 \r\nL 172 3053 \r\nL 172 3500 \r\nL 594 3500 \r\nL 594 4494 \r\nL 1172 4494 \r\nz\r\n\" id=\"DejaVuSans-74\" transform=\"scale(0.015625)\"/>\r\n        <path d=\"M 603 3500 \r\nL 1178 3500 \r\nL 1178 0 \r\nL 603 0 \r\nL 603 3500 \r\nz\r\nM 603 4863 \r\nL 1178 4863 \r\nL 1178 4134 \r\nL 603 4134 \r\nL 603 4863 \r\nz\r\n\" id=\"DejaVuSans-69\" transform=\"scale(0.015625)\"/>\r\n       </defs>\r\n       <use xlink:href=\"#DejaVuSans-50\"/>\r\n       <use x=\"58.552734\" xlink:href=\"#DejaVuSans-72\"/>\r\n       <use x=\"97.416016\" xlink:href=\"#DejaVuSans-6f\"/>\r\n       <use x=\"158.597656\" xlink:href=\"#DejaVuSans-74\"/>\r\n       <use x=\"197.806641\" xlink:href=\"#DejaVuSans-65\"/>\r\n       <use x=\"259.330078\" xlink:href=\"#DejaVuSans-69\"/>\r\n       <use x=\"287.113281\" xlink:href=\"#DejaVuSans-6e\"/>\r\n       <use x=\"350.492188\" xlink:href=\"#DejaVuSans-3e\"/>\r\n       <use x=\"434.28125\" xlink:href=\"#DejaVuSans-3d\"/>\r\n       <use x=\"518.070312\" xlink:href=\"#DejaVuSans-32\"/>\r\n       <use x=\"581.693359\" xlink:href=\"#DejaVuSans-30\"/>\r\n       <use x=\"645.316406\" xlink:href=\"#DejaVuSans-2e\"/>\r\n       <use x=\"677.103516\" xlink:href=\"#DejaVuSans-30\"/>\r\n      </g>\r\n     </g>\r\n    </g>\r\n    <g id=\"xtick_4\">\r\n     <g id=\"line2d_4\">\r\n      <g>\r\n       <use style=\"stroke:#000000;stroke-width:0.8;\" x=\"214.413\" xlink:href=\"#m834d69c2d7\" y=\"228.439219\"/>\r\n      </g>\r\n     </g>\r\n     <g id=\"text_4\">\r\n      <!-- Total Dietary&gt;=11.0 -->\r\n      <g transform=\"translate(217.172375 337.704844)rotate(-90)scale(0.1 -0.1)\">\r\n       <defs>\r\n        <path d=\"M -19 4666 \r\nL 3928 4666 \r\nL 3928 4134 \r\nL 2272 4134 \r\nL 2272 0 \r\nL 1638 0 \r\nL 1638 4134 \r\nL -19 4134 \r\nL -19 4666 \r\nz\r\n\" id=\"DejaVuSans-54\" transform=\"scale(0.015625)\"/>\r\n        <path d=\"M 2194 1759 \r\nQ 1497 1759 1228 1600 \r\nQ 959 1441 959 1056 \r\nQ 959 750 1161 570 \r\nQ 1363 391 1709 391 \r\nQ 2188 391 2477 730 \r\nQ 2766 1069 2766 1631 \r\nL 2766 1759 \r\nL 2194 1759 \r\nz\r\nM 3341 1997 \r\nL 3341 0 \r\nL 2766 0 \r\nL 2766 531 \r\nQ 2569 213 2275 61 \r\nQ 1981 -91 1556 -91 \r\nQ 1019 -91 701 211 \r\nQ 384 513 384 1019 \r\nQ 384 1609 779 1909 \r\nQ 1175 2209 1959 2209 \r\nL 2766 2209 \r\nL 2766 2266 \r\nQ 2766 2663 2505 2880 \r\nQ 2244 3097 1772 3097 \r\nQ 1472 3097 1187 3025 \r\nQ 903 2953 641 2809 \r\nL 641 3341 \r\nQ 956 3463 1253 3523 \r\nQ 1550 3584 1831 3584 \r\nQ 2591 3584 2966 3190 \r\nQ 3341 2797 3341 1997 \r\nz\r\n\" id=\"DejaVuSans-61\" transform=\"scale(0.015625)\"/>\r\n        <path d=\"M 603 4863 \r\nL 1178 4863 \r\nL 1178 0 \r\nL 603 0 \r\nL 603 4863 \r\nz\r\n\" id=\"DejaVuSans-6c\" transform=\"scale(0.015625)\"/>\r\n        <path id=\"DejaVuSans-20\" transform=\"scale(0.015625)\"/>\r\n        <path d=\"M 1259 4147 \r\nL 1259 519 \r\nL 2022 519 \r\nQ 2988 519 3436 956 \r\nQ 3884 1394 3884 2338 \r\nQ 3884 3275 3436 3711 \r\nQ 2988 4147 2022 4147 \r\nL 1259 4147 \r\nz\r\nM 628 4666 \r\nL 1925 4666 \r\nQ 3281 4666 3915 4102 \r\nQ 4550 3538 4550 2338 \r\nQ 4550 1131 3912 565 \r\nQ 3275 0 1925 0 \r\nL 628 0 \r\nL 628 4666 \r\nz\r\n\" id=\"DejaVuSans-44\" transform=\"scale(0.015625)\"/>\r\n       </defs>\r\n       <use xlink:href=\"#DejaVuSans-54\"/>\r\n       <use x=\"44.083984\" xlink:href=\"#DejaVuSans-6f\"/>\r\n       <use x=\"105.265625\" xlink:href=\"#DejaVuSans-74\"/>\r\n       <use x=\"144.474609\" xlink:href=\"#DejaVuSans-61\"/>\r\n       <use x=\"205.753906\" xlink:href=\"#DejaVuSans-6c\"/>\r\n       <use x=\"233.537109\" xlink:href=\"#DejaVuSans-20\"/>\r\n       <use x=\"265.324219\" xlink:href=\"#DejaVuSans-44\"/>\r\n       <use x=\"342.326172\" xlink:href=\"#DejaVuSans-69\"/>\r\n       <use x=\"370.109375\" xlink:href=\"#DejaVuSans-65\"/>\r\n       <use x=\"431.632812\" xlink:href=\"#DejaVuSans-74\"/>\r\n       <use x=\"470.841797\" xlink:href=\"#DejaVuSans-61\"/>\r\n       <use x=\"532.121094\" xlink:href=\"#DejaVuSans-72\"/>\r\n       <use x=\"573.234375\" xlink:href=\"#DejaVuSans-79\"/>\r\n       <use x=\"632.414062\" xlink:href=\"#DejaVuSans-3e\"/>\r\n       <use x=\"716.203125\" xlink:href=\"#DejaVuSans-3d\"/>\r\n       <use x=\"799.992188\" xlink:href=\"#DejaVuSans-31\"/>\r\n       <use x=\"863.615234\" xlink:href=\"#DejaVuSans-31\"/>\r\n       <use x=\"927.238281\" xlink:href=\"#DejaVuSans-2e\"/>\r\n       <use x=\"959.025391\" xlink:href=\"#DejaVuSans-30\"/>\r\n      </g>\r\n     </g>\r\n    </g>\r\n    <g id=\"xtick_5\">\r\n     <g id=\"line2d_5\">\r\n      <g>\r\n       <use style=\"stroke:#000000;stroke-width:0.8;\" x=\"267.981\" xlink:href=\"#m834d69c2d7\" y=\"228.439219\"/>\r\n      </g>\r\n     </g>\r\n     <g id=\"text_5\">\r\n      <!-- Total Dietary&lt;=20.0 -->\r\n      <g transform=\"translate(270.740375 337.704844)rotate(-90)scale(0.1 -0.1)\">\r\n       <use xlink:href=\"#DejaVuSans-54\"/>\r\n       <use x=\"44.083984\" xlink:href=\"#DejaVuSans-6f\"/>\r\n       <use x=\"105.265625\" xlink:href=\"#DejaVuSans-74\"/>\r\n       <use x=\"144.474609\" xlink:href=\"#DejaVuSans-61\"/>\r\n       <use x=\"205.753906\" xlink:href=\"#DejaVuSans-6c\"/>\r\n       <use x=\"233.537109\" xlink:href=\"#DejaVuSans-20\"/>\r\n       <use x=\"265.324219\" xlink:href=\"#DejaVuSans-44\"/>\r\n       <use x=\"342.326172\" xlink:href=\"#DejaVuSans-69\"/>\r\n       <use x=\"370.109375\" xlink:href=\"#DejaVuSans-65\"/>\r\n       <use x=\"431.632812\" xlink:href=\"#DejaVuSans-74\"/>\r\n       <use x=\"470.841797\" xlink:href=\"#DejaVuSans-61\"/>\r\n       <use x=\"532.121094\" xlink:href=\"#DejaVuSans-72\"/>\r\n       <use x=\"573.234375\" xlink:href=\"#DejaVuSans-79\"/>\r\n       <use x=\"632.414062\" xlink:href=\"#DejaVuSans-3c\"/>\r\n       <use x=\"716.203125\" xlink:href=\"#DejaVuSans-3d\"/>\r\n       <use x=\"799.992188\" xlink:href=\"#DejaVuSans-32\"/>\r\n       <use x=\"863.615234\" xlink:href=\"#DejaVuSans-30\"/>\r\n       <use x=\"927.238281\" xlink:href=\"#DejaVuSans-2e\"/>\r\n       <use x=\"959.025391\" xlink:href=\"#DejaVuSans-30\"/>\r\n      </g>\r\n     </g>\r\n    </g>\r\n   </g>\r\n   <g id=\"matplotlib.axis_2\">\r\n    <g id=\"ytick_1\">\r\n     <g id=\"line2d_6\">\r\n      <defs>\r\n       <path d=\"M 0 0 \r\nL -3.5 0 \r\n\" id=\"m8d4a45309f\" style=\"stroke:#000000;stroke-width:0.8;\"/>\r\n      </defs>\r\n      <g>\r\n       <use style=\"stroke:#000000;stroke-width:0.8;\" x=\"26.925\" xlink:href=\"#m8d4a45309f\" y=\"12.086419\"/>\r\n      </g>\r\n     </g>\r\n     <g id=\"text_6\">\r\n      <!-- 0 -->\r\n      <g transform=\"translate(13.5625 14.845794)scale(0.1 -0.1)\">\r\n       <use xlink:href=\"#DejaVuSans-30\"/>\r\n      </g>\r\n     </g>\r\n    </g>\r\n    <g id=\"ytick_2\">\r\n     <g id=\"line2d_7\">\r\n      <g>\r\n       <use style=\"stroke:#000000;stroke-width:0.8;\" x=\"26.925\" xlink:href=\"#m8d4a45309f\" y=\"22.958419\"/>\r\n      </g>\r\n     </g>\r\n     <g id=\"text_7\">\r\n      <!-- 5 -->\r\n      <g transform=\"translate(13.5625 25.717794)scale(0.1 -0.1)\">\r\n       <use xlink:href=\"#DejaVuSans-35\"/>\r\n      </g>\r\n     </g>\r\n    </g>\r\n    <g id=\"ytick_3\">\r\n     <g id=\"line2d_8\">\r\n      <g>\r\n       <use style=\"stroke:#000000;stroke-width:0.8;\" x=\"26.925\" xlink:href=\"#m8d4a45309f\" y=\"33.830419\"/>\r\n      </g>\r\n     </g>\r\n     <g id=\"text_8\">\r\n      <!-- 10 -->\r\n      <g transform=\"translate(7.2 36.589794)scale(0.1 -0.1)\">\r\n       <use xlink:href=\"#DejaVuSans-31\"/>\r\n       <use x=\"63.623047\" xlink:href=\"#DejaVuSans-30\"/>\r\n      </g>\r\n     </g>\r\n    </g>\r\n    <g id=\"ytick_4\">\r\n     <g id=\"line2d_9\">\r\n      <g>\r\n       <use style=\"stroke:#000000;stroke-width:0.8;\" x=\"26.925\" xlink:href=\"#m8d4a45309f\" y=\"44.702419\"/>\r\n      </g>\r\n     </g>\r\n     <g id=\"text_9\">\r\n      <!-- 15 -->\r\n      <g transform=\"translate(7.2 47.461794)scale(0.1 -0.1)\">\r\n       <use xlink:href=\"#DejaVuSans-31\"/>\r\n       <use x=\"63.623047\" xlink:href=\"#DejaVuSans-35\"/>\r\n      </g>\r\n     </g>\r\n    </g>\r\n    <g id=\"ytick_5\">\r\n     <g id=\"line2d_10\">\r\n      <g>\r\n       <use style=\"stroke:#000000;stroke-width:0.8;\" x=\"26.925\" xlink:href=\"#m8d4a45309f\" y=\"55.574419\"/>\r\n      </g>\r\n     </g>\r\n     <g id=\"text_10\">\r\n      <!-- 20 -->\r\n      <g transform=\"translate(7.2 58.333794)scale(0.1 -0.1)\">\r\n       <use xlink:href=\"#DejaVuSans-32\"/>\r\n       <use x=\"63.623047\" xlink:href=\"#DejaVuSans-30\"/>\r\n      </g>\r\n     </g>\r\n    </g>\r\n    <g id=\"ytick_6\">\r\n     <g id=\"line2d_11\">\r\n      <g>\r\n       <use style=\"stroke:#000000;stroke-width:0.8;\" x=\"26.925\" xlink:href=\"#m8d4a45309f\" y=\"66.446419\"/>\r\n      </g>\r\n     </g>\r\n     <g id=\"text_11\">\r\n      <!-- 25 -->\r\n      <g transform=\"translate(7.2 69.205794)scale(0.1 -0.1)\">\r\n       <use xlink:href=\"#DejaVuSans-32\"/>\r\n       <use x=\"63.623047\" xlink:href=\"#DejaVuSans-35\"/>\r\n      </g>\r\n     </g>\r\n    </g>\r\n    <g id=\"ytick_7\">\r\n     <g id=\"line2d_12\">\r\n      <g>\r\n       <use style=\"stroke:#000000;stroke-width:0.8;\" x=\"26.925\" xlink:href=\"#m8d4a45309f\" y=\"77.318419\"/>\r\n      </g>\r\n     </g>\r\n     <g id=\"text_12\">\r\n      <!-- 30 -->\r\n      <g transform=\"translate(7.2 80.077794)scale(0.1 -0.1)\">\r\n       <defs>\r\n        <path d=\"M 2597 2516 \r\nQ 3050 2419 3304 2112 \r\nQ 3559 1806 3559 1356 \r\nQ 3559 666 3084 287 \r\nQ 2609 -91 1734 -91 \r\nQ 1441 -91 1130 -33 \r\nQ 819 25 488 141 \r\nL 488 750 \r\nQ 750 597 1062 519 \r\nQ 1375 441 1716 441 \r\nQ 2309 441 2620 675 \r\nQ 2931 909 2931 1356 \r\nQ 2931 1769 2642 2001 \r\nQ 2353 2234 1838 2234 \r\nL 1294 2234 \r\nL 1294 2753 \r\nL 1863 2753 \r\nQ 2328 2753 2575 2939 \r\nQ 2822 3125 2822 3475 \r\nQ 2822 3834 2567 4026 \r\nQ 2313 4219 1838 4219 \r\nQ 1578 4219 1281 4162 \r\nQ 984 4106 628 3988 \r\nL 628 4550 \r\nQ 988 4650 1302 4700 \r\nQ 1616 4750 1894 4750 \r\nQ 2613 4750 3031 4423 \r\nQ 3450 4097 3450 3541 \r\nQ 3450 3153 3228 2886 \r\nQ 3006 2619 2597 2516 \r\nz\r\n\" id=\"DejaVuSans-33\" transform=\"scale(0.015625)\"/>\r\n       </defs>\r\n       <use xlink:href=\"#DejaVuSans-33\"/>\r\n       <use x=\"63.623047\" xlink:href=\"#DejaVuSans-30\"/>\r\n      </g>\r\n     </g>\r\n    </g>\r\n    <g id=\"ytick_8\">\r\n     <g id=\"line2d_13\">\r\n      <g>\r\n       <use style=\"stroke:#000000;stroke-width:0.8;\" x=\"26.925\" xlink:href=\"#m8d4a45309f\" y=\"88.190419\"/>\r\n      </g>\r\n     </g>\r\n     <g id=\"text_13\">\r\n      <!-- 35 -->\r\n      <g transform=\"translate(7.2 90.949794)scale(0.1 -0.1)\">\r\n       <use xlink:href=\"#DejaVuSans-33\"/>\r\n       <use x=\"63.623047\" xlink:href=\"#DejaVuSans-35\"/>\r\n      </g>\r\n     </g>\r\n    </g>\r\n    <g id=\"ytick_9\">\r\n     <g id=\"line2d_14\">\r\n      <g>\r\n       <use style=\"stroke:#000000;stroke-width:0.8;\" x=\"26.925\" xlink:href=\"#m8d4a45309f\" y=\"99.062419\"/>\r\n      </g>\r\n     </g>\r\n     <g id=\"text_14\">\r\n      <!-- 40 -->\r\n      <g transform=\"translate(7.2 101.821794)scale(0.1 -0.1)\">\r\n       <use xlink:href=\"#DejaVuSans-34\"/>\r\n       <use x=\"63.623047\" xlink:href=\"#DejaVuSans-30\"/>\r\n      </g>\r\n     </g>\r\n    </g>\r\n    <g id=\"ytick_10\">\r\n     <g id=\"line2d_15\">\r\n      <g>\r\n       <use style=\"stroke:#000000;stroke-width:0.8;\" x=\"26.925\" xlink:href=\"#m8d4a45309f\" y=\"109.934419\"/>\r\n      </g>\r\n     </g>\r\n     <g id=\"text_15\">\r\n      <!-- 45 -->\r\n      <g transform=\"translate(7.2 112.693794)scale(0.1 -0.1)\">\r\n       <use xlink:href=\"#DejaVuSans-34\"/>\r\n       <use x=\"63.623047\" xlink:href=\"#DejaVuSans-35\"/>\r\n      </g>\r\n     </g>\r\n    </g>\r\n    <g id=\"ytick_11\">\r\n     <g id=\"line2d_16\">\r\n      <g>\r\n       <use style=\"stroke:#000000;stroke-width:0.8;\" x=\"26.925\" xlink:href=\"#m8d4a45309f\" y=\"120.806419\"/>\r\n      </g>\r\n     </g>\r\n     <g id=\"text_16\">\r\n      <!-- 50 -->\r\n      <g transform=\"translate(7.2 123.565794)scale(0.1 -0.1)\">\r\n       <use xlink:href=\"#DejaVuSans-35\"/>\r\n       <use x=\"63.623047\" xlink:href=\"#DejaVuSans-30\"/>\r\n      </g>\r\n     </g>\r\n    </g>\r\n    <g id=\"ytick_12\">\r\n     <g id=\"line2d_17\">\r\n      <g>\r\n       <use style=\"stroke:#000000;stroke-width:0.8;\" x=\"26.925\" xlink:href=\"#m8d4a45309f\" y=\"131.678419\"/>\r\n      </g>\r\n     </g>\r\n     <g id=\"text_17\">\r\n      <!-- 55 -->\r\n      <g transform=\"translate(7.2 134.437794)scale(0.1 -0.1)\">\r\n       <use xlink:href=\"#DejaVuSans-35\"/>\r\n       <use x=\"63.623047\" xlink:href=\"#DejaVuSans-35\"/>\r\n      </g>\r\n     </g>\r\n    </g>\r\n    <g id=\"ytick_13\">\r\n     <g id=\"line2d_18\">\r\n      <g>\r\n       <use style=\"stroke:#000000;stroke-width:0.8;\" x=\"26.925\" xlink:href=\"#m8d4a45309f\" y=\"142.550419\"/>\r\n      </g>\r\n     </g>\r\n     <g id=\"text_18\">\r\n      <!-- 60 -->\r\n      <g transform=\"translate(7.2 145.309794)scale(0.1 -0.1)\">\r\n       <use xlink:href=\"#DejaVuSans-36\"/>\r\n       <use x=\"63.623047\" xlink:href=\"#DejaVuSans-30\"/>\r\n      </g>\r\n     </g>\r\n    </g>\r\n    <g id=\"ytick_14\">\r\n     <g id=\"line2d_19\">\r\n      <g>\r\n       <use style=\"stroke:#000000;stroke-width:0.8;\" x=\"26.925\" xlink:href=\"#m8d4a45309f\" y=\"153.422419\"/>\r\n      </g>\r\n     </g>\r\n     <g id=\"text_19\">\r\n      <!-- 65 -->\r\n      <g transform=\"translate(7.2 156.181794)scale(0.1 -0.1)\">\r\n       <use xlink:href=\"#DejaVuSans-36\"/>\r\n       <use x=\"63.623047\" xlink:href=\"#DejaVuSans-35\"/>\r\n      </g>\r\n     </g>\r\n    </g>\r\n    <g id=\"ytick_15\">\r\n     <g id=\"line2d_20\">\r\n      <g>\r\n       <use style=\"stroke:#000000;stroke-width:0.8;\" x=\"26.925\" xlink:href=\"#m8d4a45309f\" y=\"164.294419\"/>\r\n      </g>\r\n     </g>\r\n     <g id=\"text_20\">\r\n      <!-- 70 -->\r\n      <g transform=\"translate(7.2 167.053794)scale(0.1 -0.1)\">\r\n       <defs>\r\n        <path d=\"M 525 4666 \r\nL 3525 4666 \r\nL 3525 4397 \r\nL 1831 0 \r\nL 1172 0 \r\nL 2766 4134 \r\nL 525 4134 \r\nL 525 4666 \r\nz\r\n\" id=\"DejaVuSans-37\" transform=\"scale(0.015625)\"/>\r\n       </defs>\r\n       <use xlink:href=\"#DejaVuSans-37\"/>\r\n       <use x=\"63.623047\" xlink:href=\"#DejaVuSans-30\"/>\r\n      </g>\r\n     </g>\r\n    </g>\r\n    <g id=\"ytick_16\">\r\n     <g id=\"line2d_21\">\r\n      <g>\r\n       <use style=\"stroke:#000000;stroke-width:0.8;\" x=\"26.925\" xlink:href=\"#m8d4a45309f\" y=\"175.166419\"/>\r\n      </g>\r\n     </g>\r\n     <g id=\"text_21\">\r\n      <!-- 75 -->\r\n      <g transform=\"translate(7.2 177.925794)scale(0.1 -0.1)\">\r\n       <use xlink:href=\"#DejaVuSans-37\"/>\r\n       <use x=\"63.623047\" xlink:href=\"#DejaVuSans-35\"/>\r\n      </g>\r\n     </g>\r\n    </g>\r\n    <g id=\"ytick_17\">\r\n     <g id=\"line2d_22\">\r\n      <g>\r\n       <use style=\"stroke:#000000;stroke-width:0.8;\" x=\"26.925\" xlink:href=\"#m8d4a45309f\" y=\"186.038419\"/>\r\n      </g>\r\n     </g>\r\n     <g id=\"text_22\">\r\n      <!-- 80 -->\r\n      <g transform=\"translate(7.2 188.797794)scale(0.1 -0.1)\">\r\n       <defs>\r\n        <path d=\"M 2034 2216 \r\nQ 1584 2216 1326 1975 \r\nQ 1069 1734 1069 1313 \r\nQ 1069 891 1326 650 \r\nQ 1584 409 2034 409 \r\nQ 2484 409 2743 651 \r\nQ 3003 894 3003 1313 \r\nQ 3003 1734 2745 1975 \r\nQ 2488 2216 2034 2216 \r\nz\r\nM 1403 2484 \r\nQ 997 2584 770 2862 \r\nQ 544 3141 544 3541 \r\nQ 544 4100 942 4425 \r\nQ 1341 4750 2034 4750 \r\nQ 2731 4750 3128 4425 \r\nQ 3525 4100 3525 3541 \r\nQ 3525 3141 3298 2862 \r\nQ 3072 2584 2669 2484 \r\nQ 3125 2378 3379 2068 \r\nQ 3634 1759 3634 1313 \r\nQ 3634 634 3220 271 \r\nQ 2806 -91 2034 -91 \r\nQ 1263 -91 848 271 \r\nQ 434 634 434 1313 \r\nQ 434 1759 690 2068 \r\nQ 947 2378 1403 2484 \r\nz\r\nM 1172 3481 \r\nQ 1172 3119 1398 2916 \r\nQ 1625 2713 2034 2713 \r\nQ 2441 2713 2670 2916 \r\nQ 2900 3119 2900 3481 \r\nQ 2900 3844 2670 4047 \r\nQ 2441 4250 2034 4250 \r\nQ 1625 4250 1398 4047 \r\nQ 1172 3844 1172 3481 \r\nz\r\n\" id=\"DejaVuSans-38\" transform=\"scale(0.015625)\"/>\r\n       </defs>\r\n       <use xlink:href=\"#DejaVuSans-38\"/>\r\n       <use x=\"63.623047\" xlink:href=\"#DejaVuSans-30\"/>\r\n      </g>\r\n     </g>\r\n    </g>\r\n    <g id=\"ytick_18\">\r\n     <g id=\"line2d_23\">\r\n      <g>\r\n       <use style=\"stroke:#000000;stroke-width:0.8;\" x=\"26.925\" xlink:href=\"#m8d4a45309f\" y=\"196.910419\"/>\r\n      </g>\r\n     </g>\r\n     <g id=\"text_23\">\r\n      <!-- 85 -->\r\n      <g transform=\"translate(7.2 199.669794)scale(0.1 -0.1)\">\r\n       <use xlink:href=\"#DejaVuSans-38\"/>\r\n       <use x=\"63.623047\" xlink:href=\"#DejaVuSans-35\"/>\r\n      </g>\r\n     </g>\r\n    </g>\r\n    <g id=\"ytick_19\">\r\n     <g id=\"line2d_24\">\r\n      <g>\r\n       <use style=\"stroke:#000000;stroke-width:0.8;\" x=\"26.925\" xlink:href=\"#m8d4a45309f\" y=\"207.782419\"/>\r\n      </g>\r\n     </g>\r\n     <g id=\"text_24\">\r\n      <!-- 90 -->\r\n      <g transform=\"translate(7.2 210.541794)scale(0.1 -0.1)\">\r\n       <defs>\r\n        <path d=\"M 703 97 \r\nL 703 672 \r\nQ 941 559 1184 500 \r\nQ 1428 441 1663 441 \r\nQ 2288 441 2617 861 \r\nQ 2947 1281 2994 2138 \r\nQ 2813 1869 2534 1725 \r\nQ 2256 1581 1919 1581 \r\nQ 1219 1581 811 2004 \r\nQ 403 2428 403 3163 \r\nQ 403 3881 828 4315 \r\nQ 1253 4750 1959 4750 \r\nQ 2769 4750 3195 4129 \r\nQ 3622 3509 3622 2328 \r\nQ 3622 1225 3098 567 \r\nQ 2575 -91 1691 -91 \r\nQ 1453 -91 1209 -44 \r\nQ 966 3 703 97 \r\nz\r\nM 1959 2075 \r\nQ 2384 2075 2632 2365 \r\nQ 2881 2656 2881 3163 \r\nQ 2881 3666 2632 3958 \r\nQ 2384 4250 1959 4250 \r\nQ 1534 4250 1286 3958 \r\nQ 1038 3666 1038 3163 \r\nQ 1038 2656 1286 2365 \r\nQ 1534 2075 1959 2075 \r\nz\r\n\" id=\"DejaVuSans-39\" transform=\"scale(0.015625)\"/>\r\n       </defs>\r\n       <use xlink:href=\"#DejaVuSans-39\"/>\r\n       <use x=\"63.623047\" xlink:href=\"#DejaVuSans-30\"/>\r\n      </g>\r\n     </g>\r\n    </g>\r\n    <g id=\"ytick_20\">\r\n     <g id=\"line2d_25\">\r\n      <g>\r\n       <use style=\"stroke:#000000;stroke-width:0.8;\" x=\"26.925\" xlink:href=\"#m8d4a45309f\" y=\"218.654419\"/>\r\n      </g>\r\n     </g>\r\n     <g id=\"text_25\">\r\n      <!-- 95 -->\r\n      <g transform=\"translate(7.2 221.413794)scale(0.1 -0.1)\">\r\n       <use xlink:href=\"#DejaVuSans-39\"/>\r\n       <use x=\"63.623047\" xlink:href=\"#DejaVuSans-35\"/>\r\n      </g>\r\n     </g>\r\n    </g>\r\n   </g>\r\n  </g>\r\n  <g id=\"axes_2\">\r\n   <g id=\"patch_3\">\r\n    <path d=\"M 311.505 228.439219 \r\nL 322.377 228.439219 \r\nL 322.377 10.999219 \r\nL 311.505 10.999219 \r\nz\r\n\" style=\"fill:#ffffff;\"/>\r\n   </g>\r\n   <g id=\"patch_4\">\r\n    <path clip-path=\"url(#p46dc882140)\" d=\"M 311.505 228.439219 \r\nL 311.505 227.589844 \r\nL 311.505 11.848594 \r\nL 311.505 10.999219 \r\nL 322.377 10.999219 \r\nL 322.377 11.848594 \r\nL 322.377 227.589844 \r\nL 322.377 228.439219 \r\nL 322.377 228.439219 \r\nz\r\n\" style=\"fill:#ffffff;stroke:#ffffff;stroke-linejoin:miter;stroke-width:0.01;\"/>\r\n   </g>\r\n   <image height=\"218\" id=\"imageabc7424482\" transform=\"scale(1 -1)translate(0 -218)\" width=\"10\" x=\"312\" xlink:href=\"data:image/png;base64,\r\niVBORw0KGgoAAAANSUhEUgAAAAoAAADaCAYAAACfDNOSAAABXElEQVR4nNWY2w1CQQgFYcEm7L9OtYXZZAhev084DC9ds17vb4BPJ1FFRGcy6YUw7IiVhwmPDnN0GJwjpvY749eRt5AXnJbHp6YRBwb3CTD6znBq3boDjxn7TPTav7iUmslmLi4Vtn/DkWykhdgat9Af3InywIjl7wy1nmjh/+foW5ce8aDfzEPUUHgxuNSaUvswvWfNW6gPxSa1bt1fFnJiZ/asMXWGneMFjG1d8YERYSEHcky4r11UeKgQW19ERLobangBJmC4NdJdRKwDBxc+XS/K41OfpjB6HSfKAyMe+K3ZoVv7Qvjkis7es4ZH/AYGR6TvGT3HAWv43cX/VcA5Xghhjrw8lDrov4U+dWLqYm/NzYL7dUz4wh5pIZ4evIXsko4UnB4A3xpT89vj77Uu5Ou6B4MjFh7cvRwfQJ2pD8UmtX+abZislxxxYnDtOqa/rnswfLkwtQ3zA0elKieDIbBHAAAAAElFTkSuQmCC\" y=\"-10\"/>\r\n   <g id=\"matplotlib.axis_3\"/>\r\n   <g id=\"matplotlib.axis_4\">\r\n    <g id=\"ytick_21\">\r\n     <g id=\"line2d_26\">\r\n      <defs>\r\n       <path d=\"M 0 0 \r\nL 3.5 0 \r\n\" id=\"m58182621f4\" style=\"stroke:#000000;stroke-width:0.8;\"/>\r\n      </defs>\r\n      <g>\r\n       <use style=\"stroke:#000000;stroke-width:0.8;\" x=\"322.377\" xlink:href=\"#m58182621f4\" y=\"228.439219\"/>\r\n      </g>\r\n     </g>\r\n     <g id=\"text_26\">\r\n      <!-- 0.0 -->\r\n      <g transform=\"translate(329.377 232.238437)scale(0.1 -0.1)\">\r\n       <use xlink:href=\"#DejaVuSans-30\"/>\r\n       <use x=\"63.623047\" xlink:href=\"#DejaVuSans-2e\"/>\r\n       <use x=\"95.410156\" xlink:href=\"#DejaVuSans-30\"/>\r\n      </g>\r\n     </g>\r\n    </g>\r\n    <g id=\"ytick_22\">\r\n     <g id=\"line2d_27\">\r\n      <g>\r\n       <use style=\"stroke:#000000;stroke-width:0.8;\" x=\"322.377\" xlink:href=\"#m58182621f4\" y=\"184.951219\"/>\r\n      </g>\r\n     </g>\r\n     <g id=\"text_27\">\r\n      <!-- 0.2 -->\r\n      <g transform=\"translate(329.377 188.750437)scale(0.1 -0.1)\">\r\n       <use xlink:href=\"#DejaVuSans-30\"/>\r\n       <use x=\"63.623047\" xlink:href=\"#DejaVuSans-2e\"/>\r\n       <use x=\"95.410156\" xlink:href=\"#DejaVuSans-32\"/>\r\n      </g>\r\n     </g>\r\n    </g>\r\n    <g id=\"ytick_23\">\r\n     <g id=\"line2d_28\">\r\n      <g>\r\n       <use style=\"stroke:#000000;stroke-width:0.8;\" x=\"322.377\" xlink:href=\"#m58182621f4\" y=\"141.463219\"/>\r\n      </g>\r\n     </g>\r\n     <g id=\"text_28\">\r\n      <!-- 0.4 -->\r\n      <g transform=\"translate(329.377 145.262437)scale(0.1 -0.1)\">\r\n       <use xlink:href=\"#DejaVuSans-30\"/>\r\n       <use x=\"63.623047\" xlink:href=\"#DejaVuSans-2e\"/>\r\n       <use x=\"95.410156\" xlink:href=\"#DejaVuSans-34\"/>\r\n      </g>\r\n     </g>\r\n    </g>\r\n    <g id=\"ytick_24\">\r\n     <g id=\"line2d_29\">\r\n      <g>\r\n       <use style=\"stroke:#000000;stroke-width:0.8;\" x=\"322.377\" xlink:href=\"#m58182621f4\" y=\"97.975219\"/>\r\n      </g>\r\n     </g>\r\n     <g id=\"text_29\">\r\n      <!-- 0.6 -->\r\n      <g transform=\"translate(329.377 101.774438)scale(0.1 -0.1)\">\r\n       <use xlink:href=\"#DejaVuSans-30\"/>\r\n       <use x=\"63.623047\" xlink:href=\"#DejaVuSans-2e\"/>\r\n       <use x=\"95.410156\" xlink:href=\"#DejaVuSans-36\"/>\r\n      </g>\r\n     </g>\r\n    </g>\r\n    <g id=\"ytick_25\">\r\n     <g id=\"line2d_30\">\r\n      <g>\r\n       <use style=\"stroke:#000000;stroke-width:0.8;\" x=\"322.377\" xlink:href=\"#m58182621f4\" y=\"54.487219\"/>\r\n      </g>\r\n     </g>\r\n     <g id=\"text_30\">\r\n      <!-- 0.8 -->\r\n      <g transform=\"translate(329.377 58.286438)scale(0.1 -0.1)\">\r\n       <use xlink:href=\"#DejaVuSans-30\"/>\r\n       <use x=\"63.623047\" xlink:href=\"#DejaVuSans-2e\"/>\r\n       <use x=\"95.410156\" xlink:href=\"#DejaVuSans-38\"/>\r\n      </g>\r\n     </g>\r\n    </g>\r\n    <g id=\"ytick_26\">\r\n     <g id=\"line2d_31\">\r\n      <g>\r\n       <use style=\"stroke:#000000;stroke-width:0.8;\" x=\"322.377\" xlink:href=\"#m58182621f4\" y=\"10.999219\"/>\r\n      </g>\r\n     </g>\r\n     <g id=\"text_31\">\r\n      <!-- 1.0 -->\r\n      <g transform=\"translate(329.377 14.798438)scale(0.1 -0.1)\">\r\n       <use xlink:href=\"#DejaVuSans-31\"/>\r\n       <use x=\"63.623047\" xlink:href=\"#DejaVuSans-2e\"/>\r\n       <use x=\"95.410156\" xlink:href=\"#DejaVuSans-30\"/>\r\n      </g>\r\n     </g>\r\n    </g>\r\n   </g>\r\n   <g id=\"LineCollection_1\"/>\r\n   <g id=\"patch_5\">\r\n    <path d=\"M 311.505 228.439219 \r\nL 311.505 227.589844 \r\nL 311.505 11.848594 \r\nL 311.505 10.999219 \r\nL 322.377 10.999219 \r\nL 322.377 11.848594 \r\nL 322.377 227.589844 \r\nL 322.377 228.439219 \r\nz\r\n\" style=\"fill:none;\"/>\r\n   </g>\r\n  </g>\r\n </g>\r\n <defs>\r\n  <clipPath id=\"pa09991b1fb\">\r\n   <rect height=\"217.44\" width=\"267.84\" x=\"26.925\" y=\"10.999219\"/>\r\n  </clipPath>\r\n  <clipPath id=\"p46dc882140\">\r\n   <rect height=\"217.44\" width=\"10.872\" x=\"311.505\" y=\"10.999219\"/>\r\n  </clipPath>\r\n </defs>\r\n</svg>\r\n",
      "text/plain": [
       "<Figure size 432x288 with 2 Axes>"
      ]
     },
     "metadata": {
      "needs_background": "light"
     }
    }
   ],
   "metadata": {}
  },
  {
   "cell_type": "code",
   "execution_count": 41,
   "source": [
    "diet_ingredient_freq(diet = sample_diets, fig_path = 'diet_ingredient_freq.png', sortby = 'name', plot_ratio = 0.03)"
   ],
   "outputs": [
    {
     "output_type": "display_data",
     "data": {
      "image/png": "[encoded data removed]",
      "image/svg+xml": "<?xml version=\"1.0\" encoding=\"utf-8\" standalone=\"no\"?>\r\n<!DOCTYPE svg PUBLIC \"-//W3C//DTD SVG 1.1//EN\"\r\n  \"http://www.w3.org/Graphics/SVG/1.1/DTD/svg11.dtd\">\r\n<svg height=\"712.390937pt\" version=\"1.1\" viewBox=\"0 0 389.598437 712.390937\" width=\"389.598437pt\" xmlns=\"http://www.w3.org/2000/svg\" xmlns:xlink=\"http://www.w3.org/1999/xlink\">\r\n <metadata>\r\n  <rdf:RDF xmlns:cc=\"http://creativecommons.org/ns#\" xmlns:dc=\"http://purl.org/dc/elements/1.1/\" xmlns:rdf=\"http://www.w3.org/1999/02/22-rdf-syntax-ns#\">\r\n   <cc:Work>\r\n    <dc:type rdf:resource=\"http://purl.org/dc/dcmitype/StillImage\"/>\r\n    <dc:date>2021-09-02T15:23:54.202526</dc:date>\r\n    <dc:format>image/svg+xml</dc:format>\r\n    <dc:creator>\r\n     <cc:Agent>\r\n      <dc:title>Matplotlib v3.4.2, https://matplotlib.org/</dc:title>\r\n     </cc:Agent>\r\n    </dc:creator>\r\n   </cc:Work>\r\n  </rdf:RDF>\r\n </metadata>\r\n <defs>\r\n  <style type=\"text/css\">*{stroke-linecap:butt;stroke-linejoin:round;}</style>\r\n </defs>\r\n <g id=\"figure_1\">\r\n  <g id=\"patch_1\">\r\n   <path d=\"M 0 712.390937 \r\nL 389.598437 712.390937 \r\nL 389.598437 0 \r\nL 0 0 \r\nz\r\n\" style=\"fill:none;\"/>\r\n  </g>\r\n  <g id=\"axes_1\">\r\n   <g id=\"patch_2\">\r\n    <path d=\"M 47.598438 239.758125 \r\nL 382.398438 239.758125 \r\nL 382.398438 22.318125 \r\nL 47.598438 22.318125 \r\nz\r\n\" style=\"fill:#ffffff;\"/>\r\n   </g>\r\n   <g id=\"patch_3\">\r\n    <path clip-path=\"url(#pad19efcd3a)\" d=\"M 55.968437 239.758125 \r\nL 72.708438 239.758125 \r\nL 72.708438 228.253363 \r\nL 55.968437 228.253363 \r\nz\r\n\" style=\"fill:#1f77b4;\"/>\r\n   </g>\r\n   <g id=\"patch_4\">\r\n    <path clip-path=\"url(#pad19efcd3a)\" d=\"M 89.448437 239.758125 \r\nL 106.188437 239.758125 \r\nL 106.188437 205.243839 \r\nL 89.448437 205.243839 \r\nz\r\n\" style=\"fill:#1f77b4;\"/>\r\n   </g>\r\n   <g id=\"patch_5\">\r\n    <path clip-path=\"url(#pad19efcd3a)\" d=\"M 122.928438 239.758125 \r\nL 139.668438 239.758125 \r\nL 139.668438 32.672411 \r\nL 122.928438 32.672411 \r\nz\r\n\" style=\"fill:#1f77b4;\"/>\r\n   </g>\r\n   <g id=\"patch_6\">\r\n    <path clip-path=\"url(#pad19efcd3a)\" d=\"M 156.408437 239.758125 \r\nL 173.148438 239.758125 \r\nL 173.148438 32.672411 \r\nL 156.408437 32.672411 \r\nz\r\n\" style=\"fill:#1f77b4;\"/>\r\n   </g>\r\n   <g id=\"patch_7\">\r\n    <path clip-path=\"url(#pad19efcd3a)\" d=\"M 189.888438 239.758125 \r\nL 206.628438 239.758125 \r\nL 206.628438 228.253363 \r\nL 189.888438 228.253363 \r\nz\r\n\" style=\"fill:#1f77b4;\"/>\r\n   </g>\r\n   <g id=\"patch_8\">\r\n    <path clip-path=\"url(#pad19efcd3a)\" d=\"M 223.368438 239.758125 \r\nL 240.108438 239.758125 \r\nL 240.108438 216.748601 \r\nL 223.368438 216.748601 \r\nz\r\n\" style=\"fill:#1f77b4;\"/>\r\n   </g>\r\n   <g id=\"patch_9\">\r\n    <path clip-path=\"url(#pad19efcd3a)\" d=\"M 256.848438 239.758125 \r\nL 273.588438 239.758125 \r\nL 273.588438 193.739077 \r\nL 256.848438 193.739077 \r\nz\r\n\" style=\"fill:#1f77b4;\"/>\r\n   </g>\r\n   <g id=\"patch_10\">\r\n    <path clip-path=\"url(#pad19efcd3a)\" d=\"M 290.328438 239.758125 \r\nL 307.068438 239.758125 \r\nL 307.068438 216.748601 \r\nL 290.328438 216.748601 \r\nz\r\n\" style=\"fill:#1f77b4;\"/>\r\n   </g>\r\n   <g id=\"patch_11\">\r\n    <path clip-path=\"url(#pad19efcd3a)\" d=\"M 323.808438 239.758125 \r\nL 340.548438 239.758125 \r\nL 340.548438 228.253363 \r\nL 323.808438 228.253363 \r\nz\r\n\" style=\"fill:#1f77b4;\"/>\r\n   </g>\r\n   <g id=\"patch_12\">\r\n    <path clip-path=\"url(#pad19efcd3a)\" d=\"M 357.288438 239.758125 \r\nL 374.028438 239.758125 \r\nL 374.028438 228.253363 \r\nL 357.288438 228.253363 \r\nz\r\n\" style=\"fill:#1f77b4;\"/>\r\n   </g>\r\n   <g id=\"matplotlib.axis_1\">\r\n    <g id=\"xtick_1\">\r\n     <g id=\"line2d_1\">\r\n      <defs>\r\n       <path d=\"M 0 0 \r\nL 0 3.5 \r\n\" id=\"mdfa9ae5ac9\" style=\"stroke:#000000;stroke-width:0.8;\"/>\r\n      </defs>\r\n      <g>\r\n       <use style=\"stroke:#000000;stroke-width:0.8;\" x=\"64.338437\" xlink:href=\"#mdfa9ae5ac9\" y=\"239.758125\"/>\r\n      </g>\r\n     </g>\r\n     <g id=\"text_1\">\r\n      <!-- Abalone(Nordotis discus discus), Raw -->\r\n      <g transform=\"translate(68.4775 527.143281)rotate(-90)scale(0.15 -0.15)\">\r\n       <defs>\r\n        <path d=\"M 2188 4044 \r\nL 1331 1722 \r\nL 3047 1722 \r\nL 2188 4044 \r\nz\r\nM 1831 4666 \r\nL 2547 4666 \r\nL 4325 0 \r\nL 3669 0 \r\nL 3244 1197 \r\nL 1141 1197 \r\nL 716 0 \r\nL 50 0 \r\nL 1831 4666 \r\nz\r\n\" id=\"DejaVuSans-41\" transform=\"scale(0.015625)\"/>\r\n        <path d=\"M 3116 1747 \r\nQ 3116 2381 2855 2742 \r\nQ 2594 3103 2138 3103 \r\nQ 1681 3103 1420 2742 \r\nQ 1159 2381 1159 1747 \r\nQ 1159 1113 1420 752 \r\nQ 1681 391 2138 391 \r\nQ 2594 391 2855 752 \r\nQ 3116 1113 3116 1747 \r\nz\r\nM 1159 2969 \r\nQ 1341 3281 1617 3432 \r\nQ 1894 3584 2278 3584 \r\nQ 2916 3584 3314 3078 \r\nQ 3713 2572 3713 1747 \r\nQ 3713 922 3314 415 \r\nQ 2916 -91 2278 -91 \r\nQ 1894 -91 1617 61 \r\nQ 1341 213 1159 525 \r\nL 1159 0 \r\nL 581 0 \r\nL 581 4863 \r\nL 1159 4863 \r\nL 1159 2969 \r\nz\r\n\" id=\"DejaVuSans-62\" transform=\"scale(0.015625)\"/>\r\n        <path d=\"M 2194 1759 \r\nQ 1497 1759 1228 1600 \r\nQ 959 1441 959 1056 \r\nQ 959 750 1161 570 \r\nQ 1363 391 1709 391 \r\nQ 2188 391 2477 730 \r\nQ 2766 1069 2766 1631 \r\nL 2766 1759 \r\nL 2194 1759 \r\nz\r\nM 3341 1997 \r\nL 3341 0 \r\nL 2766 0 \r\nL 2766 531 \r\nQ 2569 213 2275 61 \r\nQ 1981 -91 1556 -91 \r\nQ 1019 -91 701 211 \r\nQ 384 513 384 1019 \r\nQ 384 1609 779 1909 \r\nQ 1175 2209 1959 2209 \r\nL 2766 2209 \r\nL 2766 2266 \r\nQ 2766 2663 2505 2880 \r\nQ 2244 3097 1772 3097 \r\nQ 1472 3097 1187 3025 \r\nQ 903 2953 641 2809 \r\nL 641 3341 \r\nQ 956 3463 1253 3523 \r\nQ 1550 3584 1831 3584 \r\nQ 2591 3584 2966 3190 \r\nQ 3341 2797 3341 1997 \r\nz\r\n\" id=\"DejaVuSans-61\" transform=\"scale(0.015625)\"/>\r\n        <path d=\"M 603 4863 \r\nL 1178 4863 \r\nL 1178 0 \r\nL 603 0 \r\nL 603 4863 \r\nz\r\n\" id=\"DejaVuSans-6c\" transform=\"scale(0.015625)\"/>\r\n        <path d=\"M 1959 3097 \r\nQ 1497 3097 1228 2736 \r\nQ 959 2375 959 1747 \r\nQ 959 1119 1226 758 \r\nQ 1494 397 1959 397 \r\nQ 2419 397 2687 759 \r\nQ 2956 1122 2956 1747 \r\nQ 2956 2369 2687 2733 \r\nQ 2419 3097 1959 3097 \r\nz\r\nM 1959 3584 \r\nQ 2709 3584 3137 3096 \r\nQ 3566 2609 3566 1747 \r\nQ 3566 888 3137 398 \r\nQ 2709 -91 1959 -91 \r\nQ 1206 -91 779 398 \r\nQ 353 888 353 1747 \r\nQ 353 2609 779 3096 \r\nQ 1206 3584 1959 3584 \r\nz\r\n\" id=\"DejaVuSans-6f\" transform=\"scale(0.015625)\"/>\r\n        <path d=\"M 3513 2113 \r\nL 3513 0 \r\nL 2938 0 \r\nL 2938 2094 \r\nQ 2938 2591 2744 2837 \r\nQ 2550 3084 2163 3084 \r\nQ 1697 3084 1428 2787 \r\nQ 1159 2491 1159 1978 \r\nL 1159 0 \r\nL 581 0 \r\nL 581 3500 \r\nL 1159 3500 \r\nL 1159 2956 \r\nQ 1366 3272 1645 3428 \r\nQ 1925 3584 2291 3584 \r\nQ 2894 3584 3203 3211 \r\nQ 3513 2838 3513 2113 \r\nz\r\n\" id=\"DejaVuSans-6e\" transform=\"scale(0.015625)\"/>\r\n        <path d=\"M 3597 1894 \r\nL 3597 1613 \r\nL 953 1613 \r\nQ 991 1019 1311 708 \r\nQ 1631 397 2203 397 \r\nQ 2534 397 2845 478 \r\nQ 3156 559 3463 722 \r\nL 3463 178 \r\nQ 3153 47 2828 -22 \r\nQ 2503 -91 2169 -91 \r\nQ 1331 -91 842 396 \r\nQ 353 884 353 1716 \r\nQ 353 2575 817 3079 \r\nQ 1281 3584 2069 3584 \r\nQ 2775 3584 3186 3129 \r\nQ 3597 2675 3597 1894 \r\nz\r\nM 3022 2063 \r\nQ 3016 2534 2758 2815 \r\nQ 2500 3097 2075 3097 \r\nQ 1594 3097 1305 2825 \r\nQ 1016 2553 972 2059 \r\nL 3022 2063 \r\nz\r\n\" id=\"DejaVuSans-65\" transform=\"scale(0.015625)\"/>\r\n        <path d=\"M 1984 4856 \r\nQ 1566 4138 1362 3434 \r\nQ 1159 2731 1159 2009 \r\nQ 1159 1288 1364 580 \r\nQ 1569 -128 1984 -844 \r\nL 1484 -844 \r\nQ 1016 -109 783 600 \r\nQ 550 1309 550 2009 \r\nQ 550 2706 781 3412 \r\nQ 1013 4119 1484 4856 \r\nL 1984 4856 \r\nz\r\n\" id=\"DejaVuSans-28\" transform=\"scale(0.015625)\"/>\r\n        <path d=\"M 628 4666 \r\nL 1478 4666 \r\nL 3547 763 \r\nL 3547 4666 \r\nL 4159 4666 \r\nL 4159 0 \r\nL 3309 0 \r\nL 1241 3903 \r\nL 1241 0 \r\nL 628 0 \r\nL 628 4666 \r\nz\r\n\" id=\"DejaVuSans-4e\" transform=\"scale(0.015625)\"/>\r\n        <path d=\"M 2631 2963 \r\nQ 2534 3019 2420 3045 \r\nQ 2306 3072 2169 3072 \r\nQ 1681 3072 1420 2755 \r\nQ 1159 2438 1159 1844 \r\nL 1159 0 \r\nL 581 0 \r\nL 581 3500 \r\nL 1159 3500 \r\nL 1159 2956 \r\nQ 1341 3275 1631 3429 \r\nQ 1922 3584 2338 3584 \r\nQ 2397 3584 2469 3576 \r\nQ 2541 3569 2628 3553 \r\nL 2631 2963 \r\nz\r\n\" id=\"DejaVuSans-72\" transform=\"scale(0.015625)\"/>\r\n        <path d=\"M 2906 2969 \r\nL 2906 4863 \r\nL 3481 4863 \r\nL 3481 0 \r\nL 2906 0 \r\nL 2906 525 \r\nQ 2725 213 2448 61 \r\nQ 2172 -91 1784 -91 \r\nQ 1150 -91 751 415 \r\nQ 353 922 353 1747 \r\nQ 353 2572 751 3078 \r\nQ 1150 3584 1784 3584 \r\nQ 2172 3584 2448 3432 \r\nQ 2725 3281 2906 2969 \r\nz\r\nM 947 1747 \r\nQ 947 1113 1208 752 \r\nQ 1469 391 1925 391 \r\nQ 2381 391 2643 752 \r\nQ 2906 1113 2906 1747 \r\nQ 2906 2381 2643 2742 \r\nQ 2381 3103 1925 3103 \r\nQ 1469 3103 1208 2742 \r\nQ 947 2381 947 1747 \r\nz\r\n\" id=\"DejaVuSans-64\" transform=\"scale(0.015625)\"/>\r\n        <path d=\"M 1172 4494 \r\nL 1172 3500 \r\nL 2356 3500 \r\nL 2356 3053 \r\nL 1172 3053 \r\nL 1172 1153 \r\nQ 1172 725 1289 603 \r\nQ 1406 481 1766 481 \r\nL 2356 481 \r\nL 2356 0 \r\nL 1766 0 \r\nQ 1100 0 847 248 \r\nQ 594 497 594 1153 \r\nL 594 3053 \r\nL 172 3053 \r\nL 172 3500 \r\nL 594 3500 \r\nL 594 4494 \r\nL 1172 4494 \r\nz\r\n\" id=\"DejaVuSans-74\" transform=\"scale(0.015625)\"/>\r\n        <path d=\"M 603 3500 \r\nL 1178 3500 \r\nL 1178 0 \r\nL 603 0 \r\nL 603 3500 \r\nz\r\nM 603 4863 \r\nL 1178 4863 \r\nL 1178 4134 \r\nL 603 4134 \r\nL 603 4863 \r\nz\r\n\" id=\"DejaVuSans-69\" transform=\"scale(0.015625)\"/>\r\n        <path d=\"M 2834 3397 \r\nL 2834 2853 \r\nQ 2591 2978 2328 3040 \r\nQ 2066 3103 1784 3103 \r\nQ 1356 3103 1142 2972 \r\nQ 928 2841 928 2578 \r\nQ 928 2378 1081 2264 \r\nQ 1234 2150 1697 2047 \r\nL 1894 2003 \r\nQ 2506 1872 2764 1633 \r\nQ 3022 1394 3022 966 \r\nQ 3022 478 2636 193 \r\nQ 2250 -91 1575 -91 \r\nQ 1294 -91 989 -36 \r\nQ 684 19 347 128 \r\nL 347 722 \r\nQ 666 556 975 473 \r\nQ 1284 391 1588 391 \r\nQ 1994 391 2212 530 \r\nQ 2431 669 2431 922 \r\nQ 2431 1156 2273 1281 \r\nQ 2116 1406 1581 1522 \r\nL 1381 1569 \r\nQ 847 1681 609 1914 \r\nQ 372 2147 372 2553 \r\nQ 372 3047 722 3315 \r\nQ 1072 3584 1716 3584 \r\nQ 2034 3584 2315 3537 \r\nQ 2597 3491 2834 3397 \r\nz\r\n\" id=\"DejaVuSans-73\" transform=\"scale(0.015625)\"/>\r\n        <path id=\"DejaVuSans-20\" transform=\"scale(0.015625)\"/>\r\n        <path d=\"M 3122 3366 \r\nL 3122 2828 \r\nQ 2878 2963 2633 3030 \r\nQ 2388 3097 2138 3097 \r\nQ 1578 3097 1268 2742 \r\nQ 959 2388 959 1747 \r\nQ 959 1106 1268 751 \r\nQ 1578 397 2138 397 \r\nQ 2388 397 2633 464 \r\nQ 2878 531 3122 666 \r\nL 3122 134 \r\nQ 2881 22 2623 -34 \r\nQ 2366 -91 2075 -91 \r\nQ 1284 -91 818 406 \r\nQ 353 903 353 1747 \r\nQ 353 2603 823 3093 \r\nQ 1294 3584 2113 3584 \r\nQ 2378 3584 2631 3529 \r\nQ 2884 3475 3122 3366 \r\nz\r\n\" id=\"DejaVuSans-63\" transform=\"scale(0.015625)\"/>\r\n        <path d=\"M 544 1381 \r\nL 544 3500 \r\nL 1119 3500 \r\nL 1119 1403 \r\nQ 1119 906 1312 657 \r\nQ 1506 409 1894 409 \r\nQ 2359 409 2629 706 \r\nQ 2900 1003 2900 1516 \r\nL 2900 3500 \r\nL 3475 3500 \r\nL 3475 0 \r\nL 2900 0 \r\nL 2900 538 \r\nQ 2691 219 2414 64 \r\nQ 2138 -91 1772 -91 \r\nQ 1169 -91 856 284 \r\nQ 544 659 544 1381 \r\nz\r\nM 1991 3584 \r\nL 1991 3584 \r\nz\r\n\" id=\"DejaVuSans-75\" transform=\"scale(0.015625)\"/>\r\n        <path d=\"M 513 4856 \r\nL 1013 4856 \r\nQ 1481 4119 1714 3412 \r\nQ 1947 2706 1947 2009 \r\nQ 1947 1309 1714 600 \r\nQ 1481 -109 1013 -844 \r\nL 513 -844 \r\nQ 928 -128 1133 580 \r\nQ 1338 1288 1338 2009 \r\nQ 1338 2731 1133 3434 \r\nQ 928 4138 513 4856 \r\nz\r\n\" id=\"DejaVuSans-29\" transform=\"scale(0.015625)\"/>\r\n        <path d=\"M 750 794 \r\nL 1409 794 \r\nL 1409 256 \r\nL 897 -744 \r\nL 494 -744 \r\nL 750 256 \r\nL 750 794 \r\nz\r\n\" id=\"DejaVuSans-2c\" transform=\"scale(0.015625)\"/>\r\n        <path d=\"M 2841 2188 \r\nQ 3044 2119 3236 1894 \r\nQ 3428 1669 3622 1275 \r\nL 4263 0 \r\nL 3584 0 \r\nL 2988 1197 \r\nQ 2756 1666 2539 1819 \r\nQ 2322 1972 1947 1972 \r\nL 1259 1972 \r\nL 1259 0 \r\nL 628 0 \r\nL 628 4666 \r\nL 2053 4666 \r\nQ 2853 4666 3247 4331 \r\nQ 3641 3997 3641 3322 \r\nQ 3641 2881 3436 2590 \r\nQ 3231 2300 2841 2188 \r\nz\r\nM 1259 4147 \r\nL 1259 2491 \r\nL 2053 2491 \r\nQ 2509 2491 2742 2702 \r\nQ 2975 2913 2975 3322 \r\nQ 2975 3731 2742 3939 \r\nQ 2509 4147 2053 4147 \r\nL 1259 4147 \r\nz\r\n\" id=\"DejaVuSans-52\" transform=\"scale(0.015625)\"/>\r\n        <path d=\"M 269 3500 \r\nL 844 3500 \r\nL 1563 769 \r\nL 2278 3500 \r\nL 2956 3500 \r\nL 3675 769 \r\nL 4391 3500 \r\nL 4966 3500 \r\nL 4050 0 \r\nL 3372 0 \r\nL 2619 2869 \r\nL 1863 0 \r\nL 1184 0 \r\nL 269 3500 \r\nz\r\n\" id=\"DejaVuSans-77\" transform=\"scale(0.015625)\"/>\r\n       </defs>\r\n       <use xlink:href=\"#DejaVuSans-41\"/>\r\n       <use x=\"68.408203\" xlink:href=\"#DejaVuSans-62\"/>\r\n       <use x=\"131.884766\" xlink:href=\"#DejaVuSans-61\"/>\r\n       <use x=\"193.164062\" xlink:href=\"#DejaVuSans-6c\"/>\r\n       <use x=\"220.947266\" xlink:href=\"#DejaVuSans-6f\"/>\r\n       <use x=\"282.128906\" xlink:href=\"#DejaVuSans-6e\"/>\r\n       <use x=\"345.507812\" xlink:href=\"#DejaVuSans-65\"/>\r\n       <use x=\"407.03125\" xlink:href=\"#DejaVuSans-28\"/>\r\n       <use x=\"446.044922\" xlink:href=\"#DejaVuSans-4e\"/>\r\n       <use x=\"520.849609\" xlink:href=\"#DejaVuSans-6f\"/>\r\n       <use x=\"582.03125\" xlink:href=\"#DejaVuSans-72\"/>\r\n       <use x=\"621.394531\" xlink:href=\"#DejaVuSans-64\"/>\r\n       <use x=\"684.871094\" xlink:href=\"#DejaVuSans-6f\"/>\r\n       <use x=\"746.052734\" xlink:href=\"#DejaVuSans-74\"/>\r\n       <use x=\"785.261719\" xlink:href=\"#DejaVuSans-69\"/>\r\n       <use x=\"813.044922\" xlink:href=\"#DejaVuSans-73\"/>\r\n       <use x=\"865.144531\" xlink:href=\"#DejaVuSans-20\"/>\r\n       <use x=\"896.931641\" xlink:href=\"#DejaVuSans-64\"/>\r\n       <use x=\"960.408203\" xlink:href=\"#DejaVuSans-69\"/>\r\n       <use x=\"988.191406\" xlink:href=\"#DejaVuSans-73\"/>\r\n       <use x=\"1040.291016\" xlink:href=\"#DejaVuSans-63\"/>\r\n       <use x=\"1095.271484\" xlink:href=\"#DejaVuSans-75\"/>\r\n       <use x=\"1158.650391\" xlink:href=\"#DejaVuSans-73\"/>\r\n       <use x=\"1210.75\" xlink:href=\"#DejaVuSans-20\"/>\r\n       <use x=\"1242.537109\" xlink:href=\"#DejaVuSans-64\"/>\r\n       <use x=\"1306.013672\" xlink:href=\"#DejaVuSans-69\"/>\r\n       <use x=\"1333.796875\" xlink:href=\"#DejaVuSans-73\"/>\r\n       <use x=\"1385.896484\" xlink:href=\"#DejaVuSans-63\"/>\r\n       <use x=\"1440.876953\" xlink:href=\"#DejaVuSans-75\"/>\r\n       <use x=\"1504.255859\" xlink:href=\"#DejaVuSans-73\"/>\r\n       <use x=\"1556.355469\" xlink:href=\"#DejaVuSans-29\"/>\r\n       <use x=\"1595.369141\" xlink:href=\"#DejaVuSans-2c\"/>\r\n       <use x=\"1627.15625\" xlink:href=\"#DejaVuSans-20\"/>\r\n       <use x=\"1658.943359\" xlink:href=\"#DejaVuSans-52\"/>\r\n       <use x=\"1726.175781\" xlink:href=\"#DejaVuSans-61\"/>\r\n       <use x=\"1787.455078\" xlink:href=\"#DejaVuSans-77\"/>\r\n      </g>\r\n     </g>\r\n    </g>\r\n    <g id=\"xtick_2\">\r\n     <g id=\"line2d_2\">\r\n      <g>\r\n       <use style=\"stroke:#000000;stroke-width:0.8;\" x=\"97.818438\" xlink:href=\"#mdfa9ae5ac9\" y=\"239.758125\"/>\r\n      </g>\r\n     </g>\r\n     <g id=\"text_2\">\r\n      <!-- Acorn, Muk(Starch jelly) -->\r\n      <g transform=\"translate(101.9575 425.520625)rotate(-90)scale(0.15 -0.15)\">\r\n       <defs>\r\n        <path d=\"M 628 4666 \r\nL 1569 4666 \r\nL 2759 1491 \r\nL 3956 4666 \r\nL 4897 4666 \r\nL 4897 0 \r\nL 4281 0 \r\nL 4281 4097 \r\nL 3078 897 \r\nL 2444 897 \r\nL 1241 4097 \r\nL 1241 0 \r\nL 628 0 \r\nL 628 4666 \r\nz\r\n\" id=\"DejaVuSans-4d\" transform=\"scale(0.015625)\"/>\r\n        <path d=\"M 581 4863 \r\nL 1159 4863 \r\nL 1159 1991 \r\nL 2875 3500 \r\nL 3609 3500 \r\nL 1753 1863 \r\nL 3688 0 \r\nL 2938 0 \r\nL 1159 1709 \r\nL 1159 0 \r\nL 581 0 \r\nL 581 4863 \r\nz\r\n\" id=\"DejaVuSans-6b\" transform=\"scale(0.015625)\"/>\r\n        <path d=\"M 3425 4513 \r\nL 3425 3897 \r\nQ 3066 4069 2747 4153 \r\nQ 2428 4238 2131 4238 \r\nQ 1616 4238 1336 4038 \r\nQ 1056 3838 1056 3469 \r\nQ 1056 3159 1242 3001 \r\nQ 1428 2844 1947 2747 \r\nL 2328 2669 \r\nQ 3034 2534 3370 2195 \r\nQ 3706 1856 3706 1288 \r\nQ 3706 609 3251 259 \r\nQ 2797 -91 1919 -91 \r\nQ 1588 -91 1214 -16 \r\nQ 841 59 441 206 \r\nL 441 856 \r\nQ 825 641 1194 531 \r\nQ 1563 422 1919 422 \r\nQ 2459 422 2753 634 \r\nQ 3047 847 3047 1241 \r\nQ 3047 1584 2836 1778 \r\nQ 2625 1972 2144 2069 \r\nL 1759 2144 \r\nQ 1053 2284 737 2584 \r\nQ 422 2884 422 3419 \r\nQ 422 4038 858 4394 \r\nQ 1294 4750 2059 4750 \r\nQ 2388 4750 2728 4690 \r\nQ 3069 4631 3425 4513 \r\nz\r\n\" id=\"DejaVuSans-53\" transform=\"scale(0.015625)\"/>\r\n        <path d=\"M 3513 2113 \r\nL 3513 0 \r\nL 2938 0 \r\nL 2938 2094 \r\nQ 2938 2591 2744 2837 \r\nQ 2550 3084 2163 3084 \r\nQ 1697 3084 1428 2787 \r\nQ 1159 2491 1159 1978 \r\nL 1159 0 \r\nL 581 0 \r\nL 581 4863 \r\nL 1159 4863 \r\nL 1159 2956 \r\nQ 1366 3272 1645 3428 \r\nQ 1925 3584 2291 3584 \r\nQ 2894 3584 3203 3211 \r\nQ 3513 2838 3513 2113 \r\nz\r\n\" id=\"DejaVuSans-68\" transform=\"scale(0.015625)\"/>\r\n        <path d=\"M 603 3500 \r\nL 1178 3500 \r\nL 1178 -63 \r\nQ 1178 -731 923 -1031 \r\nQ 669 -1331 103 -1331 \r\nL -116 -1331 \r\nL -116 -844 \r\nL 38 -844 \r\nQ 366 -844 484 -692 \r\nQ 603 -541 603 -63 \r\nL 603 3500 \r\nz\r\nM 603 4863 \r\nL 1178 4863 \r\nL 1178 4134 \r\nL 603 4134 \r\nL 603 4863 \r\nz\r\n\" id=\"DejaVuSans-6a\" transform=\"scale(0.015625)\"/>\r\n        <path d=\"M 2059 -325 \r\nQ 1816 -950 1584 -1140 \r\nQ 1353 -1331 966 -1331 \r\nL 506 -1331 \r\nL 506 -850 \r\nL 844 -850 \r\nQ 1081 -850 1212 -737 \r\nQ 1344 -625 1503 -206 \r\nL 1606 56 \r\nL 191 3500 \r\nL 800 3500 \r\nL 1894 763 \r\nL 2988 3500 \r\nL 3597 3500 \r\nL 2059 -325 \r\nz\r\n\" id=\"DejaVuSans-79\" transform=\"scale(0.015625)\"/>\r\n       </defs>\r\n       <use xlink:href=\"#DejaVuSans-41\"/>\r\n       <use x=\"66.658203\" xlink:href=\"#DejaVuSans-63\"/>\r\n       <use x=\"121.638672\" xlink:href=\"#DejaVuSans-6f\"/>\r\n       <use x=\"182.820312\" xlink:href=\"#DejaVuSans-72\"/>\r\n       <use x=\"222.183594\" xlink:href=\"#DejaVuSans-6e\"/>\r\n       <use x=\"285.5625\" xlink:href=\"#DejaVuSans-2c\"/>\r\n       <use x=\"317.349609\" xlink:href=\"#DejaVuSans-20\"/>\r\n       <use x=\"349.136719\" xlink:href=\"#DejaVuSans-4d\"/>\r\n       <use x=\"435.416016\" xlink:href=\"#DejaVuSans-75\"/>\r\n       <use x=\"498.794922\" xlink:href=\"#DejaVuSans-6b\"/>\r\n       <use x=\"556.705078\" xlink:href=\"#DejaVuSans-28\"/>\r\n       <use x=\"595.71875\" xlink:href=\"#DejaVuSans-53\"/>\r\n       <use x=\"659.195312\" xlink:href=\"#DejaVuSans-74\"/>\r\n       <use x=\"698.404297\" xlink:href=\"#DejaVuSans-61\"/>\r\n       <use x=\"759.683594\" xlink:href=\"#DejaVuSans-72\"/>\r\n       <use x=\"798.546875\" xlink:href=\"#DejaVuSans-63\"/>\r\n       <use x=\"853.527344\" xlink:href=\"#DejaVuSans-68\"/>\r\n       <use x=\"916.90625\" xlink:href=\"#DejaVuSans-20\"/>\r\n       <use x=\"948.693359\" xlink:href=\"#DejaVuSans-6a\"/>\r\n       <use x=\"976.476562\" xlink:href=\"#DejaVuSans-65\"/>\r\n       <use x=\"1038\" xlink:href=\"#DejaVuSans-6c\"/>\r\n       <use x=\"1065.783203\" xlink:href=\"#DejaVuSans-6c\"/>\r\n       <use x=\"1093.566406\" xlink:href=\"#DejaVuSans-79\"/>\r\n       <use x=\"1152.746094\" xlink:href=\"#DejaVuSans-29\"/>\r\n      </g>\r\n     </g>\r\n    </g>\r\n    <g id=\"xtick_3\">\r\n     <g id=\"line2d_3\">\r\n      <g>\r\n       <use style=\"stroke:#000000;stroke-width:0.8;\" x=\"131.298438\" xlink:href=\"#mdfa9ae5ac9\" y=\"239.758125\"/>\r\n      </g>\r\n     </g>\r\n     <g id=\"text_3\">\r\n      <!-- Adzuki bean(Vigna angularis), Black, Dried -->\r\n      <g transform=\"translate(135.4375 567.03625)rotate(-90)scale(0.15 -0.15)\">\r\n       <defs>\r\n        <path d=\"M 353 3500 \r\nL 3084 3500 \r\nL 3084 2975 \r\nL 922 459 \r\nL 3084 459 \r\nL 3084 0 \r\nL 275 0 \r\nL 275 525 \r\nL 2438 3041 \r\nL 353 3041 \r\nL 353 3500 \r\nz\r\n\" id=\"DejaVuSans-7a\" transform=\"scale(0.015625)\"/>\r\n        <path d=\"M 1831 0 \r\nL 50 4666 \r\nL 709 4666 \r\nL 2188 738 \r\nL 3669 4666 \r\nL 4325 4666 \r\nL 2547 0 \r\nL 1831 0 \r\nz\r\n\" id=\"DejaVuSans-56\" transform=\"scale(0.015625)\"/>\r\n        <path d=\"M 2906 1791 \r\nQ 2906 2416 2648 2759 \r\nQ 2391 3103 1925 3103 \r\nQ 1463 3103 1205 2759 \r\nQ 947 2416 947 1791 \r\nQ 947 1169 1205 825 \r\nQ 1463 481 1925 481 \r\nQ 2391 481 2648 825 \r\nQ 2906 1169 2906 1791 \r\nz\r\nM 3481 434 \r\nQ 3481 -459 3084 -895 \r\nQ 2688 -1331 1869 -1331 \r\nQ 1566 -1331 1297 -1286 \r\nQ 1028 -1241 775 -1147 \r\nL 775 -588 \r\nQ 1028 -725 1275 -790 \r\nQ 1522 -856 1778 -856 \r\nQ 2344 -856 2625 -561 \r\nQ 2906 -266 2906 331 \r\nL 2906 616 \r\nQ 2728 306 2450 153 \r\nQ 2172 0 1784 0 \r\nQ 1141 0 747 490 \r\nQ 353 981 353 1791 \r\nQ 353 2603 747 3093 \r\nQ 1141 3584 1784 3584 \r\nQ 2172 3584 2450 3431 \r\nQ 2728 3278 2906 2969 \r\nL 2906 3500 \r\nL 3481 3500 \r\nL 3481 434 \r\nz\r\n\" id=\"DejaVuSans-67\" transform=\"scale(0.015625)\"/>\r\n        <path d=\"M 1259 2228 \r\nL 1259 519 \r\nL 2272 519 \r\nQ 2781 519 3026 730 \r\nQ 3272 941 3272 1375 \r\nQ 3272 1813 3026 2020 \r\nQ 2781 2228 2272 2228 \r\nL 1259 2228 \r\nz\r\nM 1259 4147 \r\nL 1259 2741 \r\nL 2194 2741 \r\nQ 2656 2741 2882 2914 \r\nQ 3109 3088 3109 3444 \r\nQ 3109 3797 2882 3972 \r\nQ 2656 4147 2194 4147 \r\nL 1259 4147 \r\nz\r\nM 628 4666 \r\nL 2241 4666 \r\nQ 2963 4666 3353 4366 \r\nQ 3744 4066 3744 3513 \r\nQ 3744 3084 3544 2831 \r\nQ 3344 2578 2956 2516 \r\nQ 3422 2416 3680 2098 \r\nQ 3938 1781 3938 1306 \r\nQ 3938 681 3513 340 \r\nQ 3088 0 2303 0 \r\nL 628 0 \r\nL 628 4666 \r\nz\r\n\" id=\"DejaVuSans-42\" transform=\"scale(0.015625)\"/>\r\n        <path d=\"M 1259 4147 \r\nL 1259 519 \r\nL 2022 519 \r\nQ 2988 519 3436 956 \r\nQ 3884 1394 3884 2338 \r\nQ 3884 3275 3436 3711 \r\nQ 2988 4147 2022 4147 \r\nL 1259 4147 \r\nz\r\nM 628 4666 \r\nL 1925 4666 \r\nQ 3281 4666 3915 4102 \r\nQ 4550 3538 4550 2338 \r\nQ 4550 1131 3912 565 \r\nQ 3275 0 1925 0 \r\nL 628 0 \r\nL 628 4666 \r\nz\r\n\" id=\"DejaVuSans-44\" transform=\"scale(0.015625)\"/>\r\n       </defs>\r\n       <use xlink:href=\"#DejaVuSans-41\"/>\r\n       <use x=\"66.658203\" xlink:href=\"#DejaVuSans-64\"/>\r\n       <use x=\"130.134766\" xlink:href=\"#DejaVuSans-7a\"/>\r\n       <use x=\"182.625\" xlink:href=\"#DejaVuSans-75\"/>\r\n       <use x=\"246.003906\" xlink:href=\"#DejaVuSans-6b\"/>\r\n       <use x=\"303.914062\" xlink:href=\"#DejaVuSans-69\"/>\r\n       <use x=\"331.697266\" xlink:href=\"#DejaVuSans-20\"/>\r\n       <use x=\"363.484375\" xlink:href=\"#DejaVuSans-62\"/>\r\n       <use x=\"426.960938\" xlink:href=\"#DejaVuSans-65\"/>\r\n       <use x=\"488.484375\" xlink:href=\"#DejaVuSans-61\"/>\r\n       <use x=\"549.763672\" xlink:href=\"#DejaVuSans-6e\"/>\r\n       <use x=\"613.142578\" xlink:href=\"#DejaVuSans-28\"/>\r\n       <use x=\"652.15625\" xlink:href=\"#DejaVuSans-56\"/>\r\n       <use x=\"718.314453\" xlink:href=\"#DejaVuSans-69\"/>\r\n       <use x=\"746.097656\" xlink:href=\"#DejaVuSans-67\"/>\r\n       <use x=\"809.574219\" xlink:href=\"#DejaVuSans-6e\"/>\r\n       <use x=\"872.953125\" xlink:href=\"#DejaVuSans-61\"/>\r\n       <use x=\"934.232422\" xlink:href=\"#DejaVuSans-20\"/>\r\n       <use x=\"966.019531\" xlink:href=\"#DejaVuSans-61\"/>\r\n       <use x=\"1027.298828\" xlink:href=\"#DejaVuSans-6e\"/>\r\n       <use x=\"1090.677734\" xlink:href=\"#DejaVuSans-67\"/>\r\n       <use x=\"1154.154297\" xlink:href=\"#DejaVuSans-75\"/>\r\n       <use x=\"1217.533203\" xlink:href=\"#DejaVuSans-6c\"/>\r\n       <use x=\"1245.316406\" xlink:href=\"#DejaVuSans-61\"/>\r\n       <use x=\"1306.595703\" xlink:href=\"#DejaVuSans-72\"/>\r\n       <use x=\"1347.708984\" xlink:href=\"#DejaVuSans-69\"/>\r\n       <use x=\"1375.492188\" xlink:href=\"#DejaVuSans-73\"/>\r\n       <use x=\"1427.591797\" xlink:href=\"#DejaVuSans-29\"/>\r\n       <use x=\"1466.605469\" xlink:href=\"#DejaVuSans-2c\"/>\r\n       <use x=\"1498.392578\" xlink:href=\"#DejaVuSans-20\"/>\r\n       <use x=\"1530.179688\" xlink:href=\"#DejaVuSans-42\"/>\r\n       <use x=\"1598.783203\" xlink:href=\"#DejaVuSans-6c\"/>\r\n       <use x=\"1626.566406\" xlink:href=\"#DejaVuSans-61\"/>\r\n       <use x=\"1687.845703\" xlink:href=\"#DejaVuSans-63\"/>\r\n       <use x=\"1742.826172\" xlink:href=\"#DejaVuSans-6b\"/>\r\n       <use x=\"1800.736328\" xlink:href=\"#DejaVuSans-2c\"/>\r\n       <use x=\"1832.523438\" xlink:href=\"#DejaVuSans-20\"/>\r\n       <use x=\"1864.310547\" xlink:href=\"#DejaVuSans-44\"/>\r\n       <use x=\"1941.3125\" xlink:href=\"#DejaVuSans-72\"/>\r\n       <use x=\"1982.425781\" xlink:href=\"#DejaVuSans-69\"/>\r\n       <use x=\"2010.208984\" xlink:href=\"#DejaVuSans-65\"/>\r\n       <use x=\"2071.732422\" xlink:href=\"#DejaVuSans-64\"/>\r\n      </g>\r\n     </g>\r\n    </g>\r\n    <g id=\"xtick_4\">\r\n     <g id=\"line2d_4\">\r\n      <g>\r\n       <use style=\"stroke:#000000;stroke-width:0.8;\" x=\"164.778437\" xlink:href=\"#mdfa9ae5ac9\" y=\"239.758125\"/>\r\n      </g>\r\n     </g>\r\n     <g id=\"text_4\">\r\n      <!-- Adzuki bean(Vigna angularis), Red, Dried -->\r\n      <g transform=\"translate(168.9175 554.951875)rotate(-90)scale(0.15 -0.15)\">\r\n       <use xlink:href=\"#DejaVuSans-41\"/>\r\n       <use x=\"66.658203\" xlink:href=\"#DejaVuSans-64\"/>\r\n       <use x=\"130.134766\" xlink:href=\"#DejaVuSans-7a\"/>\r\n       <use x=\"182.625\" xlink:href=\"#DejaVuSans-75\"/>\r\n       <use x=\"246.003906\" xlink:href=\"#DejaVuSans-6b\"/>\r\n       <use x=\"303.914062\" xlink:href=\"#DejaVuSans-69\"/>\r\n       <use x=\"331.697266\" xlink:href=\"#DejaVuSans-20\"/>\r\n       <use x=\"363.484375\" xlink:href=\"#DejaVuSans-62\"/>\r\n       <use x=\"426.960938\" xlink:href=\"#DejaVuSans-65\"/>\r\n       <use x=\"488.484375\" xlink:href=\"#DejaVuSans-61\"/>\r\n       <use x=\"549.763672\" xlink:href=\"#DejaVuSans-6e\"/>\r\n       <use x=\"613.142578\" xlink:href=\"#DejaVuSans-28\"/>\r\n       <use x=\"652.15625\" xlink:href=\"#DejaVuSans-56\"/>\r\n       <use x=\"718.314453\" xlink:href=\"#DejaVuSans-69\"/>\r\n       <use x=\"746.097656\" xlink:href=\"#DejaVuSans-67\"/>\r\n       <use x=\"809.574219\" xlink:href=\"#DejaVuSans-6e\"/>\r\n       <use x=\"872.953125\" xlink:href=\"#DejaVuSans-61\"/>\r\n       <use x=\"934.232422\" xlink:href=\"#DejaVuSans-20\"/>\r\n       <use x=\"966.019531\" xlink:href=\"#DejaVuSans-61\"/>\r\n       <use x=\"1027.298828\" xlink:href=\"#DejaVuSans-6e\"/>\r\n       <use x=\"1090.677734\" xlink:href=\"#DejaVuSans-67\"/>\r\n       <use x=\"1154.154297\" xlink:href=\"#DejaVuSans-75\"/>\r\n       <use x=\"1217.533203\" xlink:href=\"#DejaVuSans-6c\"/>\r\n       <use x=\"1245.316406\" xlink:href=\"#DejaVuSans-61\"/>\r\n       <use x=\"1306.595703\" xlink:href=\"#DejaVuSans-72\"/>\r\n       <use x=\"1347.708984\" xlink:href=\"#DejaVuSans-69\"/>\r\n       <use x=\"1375.492188\" xlink:href=\"#DejaVuSans-73\"/>\r\n       <use x=\"1427.591797\" xlink:href=\"#DejaVuSans-29\"/>\r\n       <use x=\"1466.605469\" xlink:href=\"#DejaVuSans-2c\"/>\r\n       <use x=\"1498.392578\" xlink:href=\"#DejaVuSans-20\"/>\r\n       <use x=\"1530.179688\" xlink:href=\"#DejaVuSans-52\"/>\r\n       <use x=\"1595.162109\" xlink:href=\"#DejaVuSans-65\"/>\r\n       <use x=\"1656.685547\" xlink:href=\"#DejaVuSans-64\"/>\r\n       <use x=\"1720.162109\" xlink:href=\"#DejaVuSans-2c\"/>\r\n       <use x=\"1751.949219\" xlink:href=\"#DejaVuSans-20\"/>\r\n       <use x=\"1783.736328\" xlink:href=\"#DejaVuSans-44\"/>\r\n       <use x=\"1860.738281\" xlink:href=\"#DejaVuSans-72\"/>\r\n       <use x=\"1901.851562\" xlink:href=\"#DejaVuSans-69\"/>\r\n       <use x=\"1929.634766\" xlink:href=\"#DejaVuSans-65\"/>\r\n       <use x=\"1991.158203\" xlink:href=\"#DejaVuSans-64\"/>\r\n      </g>\r\n     </g>\r\n    </g>\r\n    <g id=\"xtick_5\">\r\n     <g id=\"line2d_5\">\r\n      <g>\r\n       <use style=\"stroke:#000000;stroke-width:0.8;\" x=\"198.258438\" xlink:href=\"#mdfa9ae5ac9\" y=\"239.758125\"/>\r\n      </g>\r\n     </g>\r\n     <g id=\"text_5\">\r\n      <!-- Alaska pollock(Theragra chalcogramma) Roe, Salt-fermented -->\r\n      <g transform=\"translate(202.3975 705.190938)rotate(-90)scale(0.15 -0.15)\">\r\n       <defs>\r\n        <path d=\"M 1159 525 \r\nL 1159 -1331 \r\nL 581 -1331 \r\nL 581 3500 \r\nL 1159 3500 \r\nL 1159 2969 \r\nQ 1341 3281 1617 3432 \r\nQ 1894 3584 2278 3584 \r\nQ 2916 3584 3314 3078 \r\nQ 3713 2572 3713 1747 \r\nQ 3713 922 3314 415 \r\nQ 2916 -91 2278 -91 \r\nQ 1894 -91 1617 61 \r\nQ 1341 213 1159 525 \r\nz\r\nM 3116 1747 \r\nQ 3116 2381 2855 2742 \r\nQ 2594 3103 2138 3103 \r\nQ 1681 3103 1420 2742 \r\nQ 1159 2381 1159 1747 \r\nQ 1159 1113 1420 752 \r\nQ 1681 391 2138 391 \r\nQ 2594 391 2855 752 \r\nQ 3116 1113 3116 1747 \r\nz\r\n\" id=\"DejaVuSans-70\" transform=\"scale(0.015625)\"/>\r\n        <path d=\"M -19 4666 \r\nL 3928 4666 \r\nL 3928 4134 \r\nL 2272 4134 \r\nL 2272 0 \r\nL 1638 0 \r\nL 1638 4134 \r\nL -19 4134 \r\nL -19 4666 \r\nz\r\n\" id=\"DejaVuSans-54\" transform=\"scale(0.015625)\"/>\r\n        <path d=\"M 3328 2828 \r\nQ 3544 3216 3844 3400 \r\nQ 4144 3584 4550 3584 \r\nQ 5097 3584 5394 3201 \r\nQ 5691 2819 5691 2113 \r\nL 5691 0 \r\nL 5113 0 \r\nL 5113 2094 \r\nQ 5113 2597 4934 2840 \r\nQ 4756 3084 4391 3084 \r\nQ 3944 3084 3684 2787 \r\nQ 3425 2491 3425 1978 \r\nL 3425 0 \r\nL 2847 0 \r\nL 2847 2094 \r\nQ 2847 2600 2669 2842 \r\nQ 2491 3084 2119 3084 \r\nQ 1678 3084 1418 2786 \r\nQ 1159 2488 1159 1978 \r\nL 1159 0 \r\nL 581 0 \r\nL 581 3500 \r\nL 1159 3500 \r\nL 1159 2956 \r\nQ 1356 3278 1631 3431 \r\nQ 1906 3584 2284 3584 \r\nQ 2666 3584 2933 3390 \r\nQ 3200 3197 3328 2828 \r\nz\r\n\" id=\"DejaVuSans-6d\" transform=\"scale(0.015625)\"/>\r\n        <path d=\"M 313 2009 \r\nL 1997 2009 \r\nL 1997 1497 \r\nL 313 1497 \r\nL 313 2009 \r\nz\r\n\" id=\"DejaVuSans-2d\" transform=\"scale(0.015625)\"/>\r\n        <path d=\"M 2375 4863 \r\nL 2375 4384 \r\nL 1825 4384 \r\nQ 1516 4384 1395 4259 \r\nQ 1275 4134 1275 3809 \r\nL 1275 3500 \r\nL 2222 3500 \r\nL 2222 3053 \r\nL 1275 3053 \r\nL 1275 0 \r\nL 697 0 \r\nL 697 3053 \r\nL 147 3053 \r\nL 147 3500 \r\nL 697 3500 \r\nL 697 3744 \r\nQ 697 4328 969 4595 \r\nQ 1241 4863 1831 4863 \r\nL 2375 4863 \r\nz\r\n\" id=\"DejaVuSans-66\" transform=\"scale(0.015625)\"/>\r\n       </defs>\r\n       <use xlink:href=\"#DejaVuSans-41\"/>\r\n       <use x=\"68.408203\" xlink:href=\"#DejaVuSans-6c\"/>\r\n       <use x=\"96.191406\" xlink:href=\"#DejaVuSans-61\"/>\r\n       <use x=\"157.470703\" xlink:href=\"#DejaVuSans-73\"/>\r\n       <use x=\"209.570312\" xlink:href=\"#DejaVuSans-6b\"/>\r\n       <use x=\"265.730469\" xlink:href=\"#DejaVuSans-61\"/>\r\n       <use x=\"327.009766\" xlink:href=\"#DejaVuSans-20\"/>\r\n       <use x=\"358.796875\" xlink:href=\"#DejaVuSans-70\"/>\r\n       <use x=\"422.273438\" xlink:href=\"#DejaVuSans-6f\"/>\r\n       <use x=\"483.455078\" xlink:href=\"#DejaVuSans-6c\"/>\r\n       <use x=\"511.238281\" xlink:href=\"#DejaVuSans-6c\"/>\r\n       <use x=\"539.021484\" xlink:href=\"#DejaVuSans-6f\"/>\r\n       <use x=\"600.203125\" xlink:href=\"#DejaVuSans-63\"/>\r\n       <use x=\"655.183594\" xlink:href=\"#DejaVuSans-6b\"/>\r\n       <use x=\"713.09375\" xlink:href=\"#DejaVuSans-28\"/>\r\n       <use x=\"752.107422\" xlink:href=\"#DejaVuSans-54\"/>\r\n       <use x=\"813.191406\" xlink:href=\"#DejaVuSans-68\"/>\r\n       <use x=\"876.570312\" xlink:href=\"#DejaVuSans-65\"/>\r\n       <use x=\"938.09375\" xlink:href=\"#DejaVuSans-72\"/>\r\n       <use x=\"979.207031\" xlink:href=\"#DejaVuSans-61\"/>\r\n       <use x=\"1040.486328\" xlink:href=\"#DejaVuSans-67\"/>\r\n       <use x=\"1103.962891\" xlink:href=\"#DejaVuSans-72\"/>\r\n       <use x=\"1145.076172\" xlink:href=\"#DejaVuSans-61\"/>\r\n       <use x=\"1206.355469\" xlink:href=\"#DejaVuSans-20\"/>\r\n       <use x=\"1238.142578\" xlink:href=\"#DejaVuSans-63\"/>\r\n       <use x=\"1293.123047\" xlink:href=\"#DejaVuSans-68\"/>\r\n       <use x=\"1356.501953\" xlink:href=\"#DejaVuSans-61\"/>\r\n       <use x=\"1417.78125\" xlink:href=\"#DejaVuSans-6c\"/>\r\n       <use x=\"1445.564453\" xlink:href=\"#DejaVuSans-63\"/>\r\n       <use x=\"1500.544922\" xlink:href=\"#DejaVuSans-6f\"/>\r\n       <use x=\"1561.726562\" xlink:href=\"#DejaVuSans-67\"/>\r\n       <use x=\"1625.203125\" xlink:href=\"#DejaVuSans-72\"/>\r\n       <use x=\"1666.316406\" xlink:href=\"#DejaVuSans-61\"/>\r\n       <use x=\"1727.595703\" xlink:href=\"#DejaVuSans-6d\"/>\r\n       <use x=\"1825.007812\" xlink:href=\"#DejaVuSans-6d\"/>\r\n       <use x=\"1922.419922\" xlink:href=\"#DejaVuSans-61\"/>\r\n       <use x=\"1983.699219\" xlink:href=\"#DejaVuSans-29\"/>\r\n       <use x=\"2022.712891\" xlink:href=\"#DejaVuSans-20\"/>\r\n       <use x=\"2054.5\" xlink:href=\"#DejaVuSans-52\"/>\r\n       <use x=\"2119.482422\" xlink:href=\"#DejaVuSans-6f\"/>\r\n       <use x=\"2180.664062\" xlink:href=\"#DejaVuSans-65\"/>\r\n       <use x=\"2242.1875\" xlink:href=\"#DejaVuSans-2c\"/>\r\n       <use x=\"2273.974609\" xlink:href=\"#DejaVuSans-20\"/>\r\n       <use x=\"2305.761719\" xlink:href=\"#DejaVuSans-53\"/>\r\n       <use x=\"2369.238281\" xlink:href=\"#DejaVuSans-61\"/>\r\n       <use x=\"2430.517578\" xlink:href=\"#DejaVuSans-6c\"/>\r\n       <use x=\"2458.300781\" xlink:href=\"#DejaVuSans-74\"/>\r\n       <use x=\"2497.509766\" xlink:href=\"#DejaVuSans-2d\"/>\r\n       <use x=\"2533.59375\" xlink:href=\"#DejaVuSans-66\"/>\r\n       <use x=\"2568.798828\" xlink:href=\"#DejaVuSans-65\"/>\r\n       <use x=\"2630.322266\" xlink:href=\"#DejaVuSans-72\"/>\r\n       <use x=\"2669.685547\" xlink:href=\"#DejaVuSans-6d\"/>\r\n       <use x=\"2767.097656\" xlink:href=\"#DejaVuSans-65\"/>\r\n       <use x=\"2828.621094\" xlink:href=\"#DejaVuSans-6e\"/>\r\n       <use x=\"2892\" xlink:href=\"#DejaVuSans-74\"/>\r\n       <use x=\"2931.208984\" xlink:href=\"#DejaVuSans-65\"/>\r\n       <use x=\"2992.732422\" xlink:href=\"#DejaVuSans-64\"/>\r\n      </g>\r\n     </g>\r\n    </g>\r\n    <g id=\"xtick_6\">\r\n     <g id=\"line2d_6\">\r\n      <g>\r\n       <use style=\"stroke:#000000;stroke-width:0.8;\" x=\"231.738438\" xlink:href=\"#mdfa9ae5ac9\" y=\"239.758125\"/>\r\n      </g>\r\n     </g>\r\n     <g id=\"text_6\">\r\n      <!-- Alaska pollock(Theragra chalcogramma), Dried -->\r\n      <g transform=\"translate(235.8775 600.33625)rotate(-90)scale(0.15 -0.15)\">\r\n       <use xlink:href=\"#DejaVuSans-41\"/>\r\n       <use x=\"68.408203\" xlink:href=\"#DejaVuSans-6c\"/>\r\n       <use x=\"96.191406\" xlink:href=\"#DejaVuSans-61\"/>\r\n       <use x=\"157.470703\" xlink:href=\"#DejaVuSans-73\"/>\r\n       <use x=\"209.570312\" xlink:href=\"#DejaVuSans-6b\"/>\r\n       <use x=\"265.730469\" xlink:href=\"#DejaVuSans-61\"/>\r\n       <use x=\"327.009766\" xlink:href=\"#DejaVuSans-20\"/>\r\n       <use x=\"358.796875\" xlink:href=\"#DejaVuSans-70\"/>\r\n       <use x=\"422.273438\" xlink:href=\"#DejaVuSans-6f\"/>\r\n       <use x=\"483.455078\" xlink:href=\"#DejaVuSans-6c\"/>\r\n       <use x=\"511.238281\" xlink:href=\"#DejaVuSans-6c\"/>\r\n       <use x=\"539.021484\" xlink:href=\"#DejaVuSans-6f\"/>\r\n       <use x=\"600.203125\" xlink:href=\"#DejaVuSans-63\"/>\r\n       <use x=\"655.183594\" xlink:href=\"#DejaVuSans-6b\"/>\r\n       <use x=\"713.09375\" xlink:href=\"#DejaVuSans-28\"/>\r\n       <use x=\"752.107422\" xlink:href=\"#DejaVuSans-54\"/>\r\n       <use x=\"813.191406\" xlink:href=\"#DejaVuSans-68\"/>\r\n       <use x=\"876.570312\" xlink:href=\"#DejaVuSans-65\"/>\r\n       <use x=\"938.09375\" xlink:href=\"#DejaVuSans-72\"/>\r\n       <use x=\"979.207031\" xlink:href=\"#DejaVuSans-61\"/>\r\n       <use x=\"1040.486328\" xlink:href=\"#DejaVuSans-67\"/>\r\n       <use x=\"1103.962891\" xlink:href=\"#DejaVuSans-72\"/>\r\n       <use x=\"1145.076172\" xlink:href=\"#DejaVuSans-61\"/>\r\n       <use x=\"1206.355469\" xlink:href=\"#DejaVuSans-20\"/>\r\n       <use x=\"1238.142578\" xlink:href=\"#DejaVuSans-63\"/>\r\n       <use x=\"1293.123047\" xlink:href=\"#DejaVuSans-68\"/>\r\n       <use x=\"1356.501953\" xlink:href=\"#DejaVuSans-61\"/>\r\n       <use x=\"1417.78125\" xlink:href=\"#DejaVuSans-6c\"/>\r\n       <use x=\"1445.564453\" xlink:href=\"#DejaVuSans-63\"/>\r\n       <use x=\"1500.544922\" xlink:href=\"#DejaVuSans-6f\"/>\r\n       <use x=\"1561.726562\" xlink:href=\"#DejaVuSans-67\"/>\r\n       <use x=\"1625.203125\" xlink:href=\"#DejaVuSans-72\"/>\r\n       <use x=\"1666.316406\" xlink:href=\"#DejaVuSans-61\"/>\r\n       <use x=\"1727.595703\" xlink:href=\"#DejaVuSans-6d\"/>\r\n       <use x=\"1825.007812\" xlink:href=\"#DejaVuSans-6d\"/>\r\n       <use x=\"1922.419922\" xlink:href=\"#DejaVuSans-61\"/>\r\n       <use x=\"1983.699219\" xlink:href=\"#DejaVuSans-29\"/>\r\n       <use x=\"2022.712891\" xlink:href=\"#DejaVuSans-2c\"/>\r\n       <use x=\"2054.5\" xlink:href=\"#DejaVuSans-20\"/>\r\n       <use x=\"2086.287109\" xlink:href=\"#DejaVuSans-44\"/>\r\n       <use x=\"2163.289062\" xlink:href=\"#DejaVuSans-72\"/>\r\n       <use x=\"2204.402344\" xlink:href=\"#DejaVuSans-69\"/>\r\n       <use x=\"2232.185547\" xlink:href=\"#DejaVuSans-65\"/>\r\n       <use x=\"2293.708984\" xlink:href=\"#DejaVuSans-64\"/>\r\n      </g>\r\n     </g>\r\n    </g>\r\n    <g id=\"xtick_7\">\r\n     <g id=\"line2d_7\">\r\n      <g>\r\n       <use style=\"stroke:#000000;stroke-width:0.8;\" x=\"265.218438\" xlink:href=\"#mdfa9ae5ac9\" y=\"239.758125\"/>\r\n      </g>\r\n     </g>\r\n     <g id=\"text_7\">\r\n      <!-- Alaska pollock(Theragra chalcogramma), Frozen -->\r\n      <g transform=\"translate(269.3575 608.855781)rotate(-90)scale(0.15 -0.15)\">\r\n       <defs>\r\n        <path d=\"M 628 4666 \r\nL 3309 4666 \r\nL 3309 4134 \r\nL 1259 4134 \r\nL 1259 2759 \r\nL 3109 2759 \r\nL 3109 2228 \r\nL 1259 2228 \r\nL 1259 0 \r\nL 628 0 \r\nL 628 4666 \r\nz\r\n\" id=\"DejaVuSans-46\" transform=\"scale(0.015625)\"/>\r\n       </defs>\r\n       <use xlink:href=\"#DejaVuSans-41\"/>\r\n       <use x=\"68.408203\" xlink:href=\"#DejaVuSans-6c\"/>\r\n       <use x=\"96.191406\" xlink:href=\"#DejaVuSans-61\"/>\r\n       <use x=\"157.470703\" xlink:href=\"#DejaVuSans-73\"/>\r\n       <use x=\"209.570312\" xlink:href=\"#DejaVuSans-6b\"/>\r\n       <use x=\"265.730469\" xlink:href=\"#DejaVuSans-61\"/>\r\n       <use x=\"327.009766\" xlink:href=\"#DejaVuSans-20\"/>\r\n       <use x=\"358.796875\" xlink:href=\"#DejaVuSans-70\"/>\r\n       <use x=\"422.273438\" xlink:href=\"#DejaVuSans-6f\"/>\r\n       <use x=\"483.455078\" xlink:href=\"#DejaVuSans-6c\"/>\r\n       <use x=\"511.238281\" xlink:href=\"#DejaVuSans-6c\"/>\r\n       <use x=\"539.021484\" xlink:href=\"#DejaVuSans-6f\"/>\r\n       <use x=\"600.203125\" xlink:href=\"#DejaVuSans-63\"/>\r\n       <use x=\"655.183594\" xlink:href=\"#DejaVuSans-6b\"/>\r\n       <use x=\"713.09375\" xlink:href=\"#DejaVuSans-28\"/>\r\n       <use x=\"752.107422\" xlink:href=\"#DejaVuSans-54\"/>\r\n       <use x=\"813.191406\" xlink:href=\"#DejaVuSans-68\"/>\r\n       <use x=\"876.570312\" xlink:href=\"#DejaVuSans-65\"/>\r\n       <use x=\"938.09375\" xlink:href=\"#DejaVuSans-72\"/>\r\n       <use x=\"979.207031\" xlink:href=\"#DejaVuSans-61\"/>\r\n       <use x=\"1040.486328\" xlink:href=\"#DejaVuSans-67\"/>\r\n       <use x=\"1103.962891\" xlink:href=\"#DejaVuSans-72\"/>\r\n       <use x=\"1145.076172\" xlink:href=\"#DejaVuSans-61\"/>\r\n       <use x=\"1206.355469\" xlink:href=\"#DejaVuSans-20\"/>\r\n       <use x=\"1238.142578\" xlink:href=\"#DejaVuSans-63\"/>\r\n       <use x=\"1293.123047\" xlink:href=\"#DejaVuSans-68\"/>\r\n       <use x=\"1356.501953\" xlink:href=\"#DejaVuSans-61\"/>\r\n       <use x=\"1417.78125\" xlink:href=\"#DejaVuSans-6c\"/>\r\n       <use x=\"1445.564453\" xlink:href=\"#DejaVuSans-63\"/>\r\n       <use x=\"1500.544922\" xlink:href=\"#DejaVuSans-6f\"/>\r\n       <use x=\"1561.726562\" xlink:href=\"#DejaVuSans-67\"/>\r\n       <use x=\"1625.203125\" xlink:href=\"#DejaVuSans-72\"/>\r\n       <use x=\"1666.316406\" xlink:href=\"#DejaVuSans-61\"/>\r\n       <use x=\"1727.595703\" xlink:href=\"#DejaVuSans-6d\"/>\r\n       <use x=\"1825.007812\" xlink:href=\"#DejaVuSans-6d\"/>\r\n       <use x=\"1922.419922\" xlink:href=\"#DejaVuSans-61\"/>\r\n       <use x=\"1983.699219\" xlink:href=\"#DejaVuSans-29\"/>\r\n       <use x=\"2022.712891\" xlink:href=\"#DejaVuSans-2c\"/>\r\n       <use x=\"2054.5\" xlink:href=\"#DejaVuSans-20\"/>\r\n       <use x=\"2086.287109\" xlink:href=\"#DejaVuSans-46\"/>\r\n       <use x=\"2136.556641\" xlink:href=\"#DejaVuSans-72\"/>\r\n       <use x=\"2175.419922\" xlink:href=\"#DejaVuSans-6f\"/>\r\n       <use x=\"2236.601562\" xlink:href=\"#DejaVuSans-7a\"/>\r\n       <use x=\"2289.091797\" xlink:href=\"#DejaVuSans-65\"/>\r\n       <use x=\"2350.615234\" xlink:href=\"#DejaVuSans-6e\"/>\r\n      </g>\r\n     </g>\r\n    </g>\r\n    <g id=\"xtick_8\">\r\n     <g id=\"line2d_8\">\r\n      <g>\r\n       <use style=\"stroke:#000000;stroke-width:0.8;\" x=\"298.698438\" xlink:href=\"#mdfa9ae5ac9\" y=\"239.758125\"/>\r\n      </g>\r\n     </g>\r\n     <g id=\"text_8\">\r\n      <!-- Alaska pollock(Theragra chalcogramma), Frozen and dried -->\r\n      <g transform=\"translate(302.8375 685.219844)rotate(-90)scale(0.15 -0.15)\">\r\n       <use xlink:href=\"#DejaVuSans-41\"/>\r\n       <use x=\"68.408203\" xlink:href=\"#DejaVuSans-6c\"/>\r\n       <use x=\"96.191406\" xlink:href=\"#DejaVuSans-61\"/>\r\n       <use x=\"157.470703\" xlink:href=\"#DejaVuSans-73\"/>\r\n       <use x=\"209.570312\" xlink:href=\"#DejaVuSans-6b\"/>\r\n       <use x=\"265.730469\" xlink:href=\"#DejaVuSans-61\"/>\r\n       <use x=\"327.009766\" xlink:href=\"#DejaVuSans-20\"/>\r\n       <use x=\"358.796875\" xlink:href=\"#DejaVuSans-70\"/>\r\n       <use x=\"422.273438\" xlink:href=\"#DejaVuSans-6f\"/>\r\n       <use x=\"483.455078\" xlink:href=\"#DejaVuSans-6c\"/>\r\n       <use x=\"511.238281\" xlink:href=\"#DejaVuSans-6c\"/>\r\n       <use x=\"539.021484\" xlink:href=\"#DejaVuSans-6f\"/>\r\n       <use x=\"600.203125\" xlink:href=\"#DejaVuSans-63\"/>\r\n       <use x=\"655.183594\" xlink:href=\"#DejaVuSans-6b\"/>\r\n       <use x=\"713.09375\" xlink:href=\"#DejaVuSans-28\"/>\r\n       <use x=\"752.107422\" xlink:href=\"#DejaVuSans-54\"/>\r\n       <use x=\"813.191406\" xlink:href=\"#DejaVuSans-68\"/>\r\n       <use x=\"876.570312\" xlink:href=\"#DejaVuSans-65\"/>\r\n       <use x=\"938.09375\" xlink:href=\"#DejaVuSans-72\"/>\r\n       <use x=\"979.207031\" xlink:href=\"#DejaVuSans-61\"/>\r\n       <use x=\"1040.486328\" xlink:href=\"#DejaVuSans-67\"/>\r\n       <use x=\"1103.962891\" xlink:href=\"#DejaVuSans-72\"/>\r\n       <use x=\"1145.076172\" xlink:href=\"#DejaVuSans-61\"/>\r\n       <use x=\"1206.355469\" xlink:href=\"#DejaVuSans-20\"/>\r\n       <use x=\"1238.142578\" xlink:href=\"#DejaVuSans-63\"/>\r\n       <use x=\"1293.123047\" xlink:href=\"#DejaVuSans-68\"/>\r\n       <use x=\"1356.501953\" xlink:href=\"#DejaVuSans-61\"/>\r\n       <use x=\"1417.78125\" xlink:href=\"#DejaVuSans-6c\"/>\r\n       <use x=\"1445.564453\" xlink:href=\"#DejaVuSans-63\"/>\r\n       <use x=\"1500.544922\" xlink:href=\"#DejaVuSans-6f\"/>\r\n       <use x=\"1561.726562\" xlink:href=\"#DejaVuSans-67\"/>\r\n       <use x=\"1625.203125\" xlink:href=\"#DejaVuSans-72\"/>\r\n       <use x=\"1666.316406\" xlink:href=\"#DejaVuSans-61\"/>\r\n       <use x=\"1727.595703\" xlink:href=\"#DejaVuSans-6d\"/>\r\n       <use x=\"1825.007812\" xlink:href=\"#DejaVuSans-6d\"/>\r\n       <use x=\"1922.419922\" xlink:href=\"#DejaVuSans-61\"/>\r\n       <use x=\"1983.699219\" xlink:href=\"#DejaVuSans-29\"/>\r\n       <use x=\"2022.712891\" xlink:href=\"#DejaVuSans-2c\"/>\r\n       <use x=\"2054.5\" xlink:href=\"#DejaVuSans-20\"/>\r\n       <use x=\"2086.287109\" xlink:href=\"#DejaVuSans-46\"/>\r\n       <use x=\"2136.556641\" xlink:href=\"#DejaVuSans-72\"/>\r\n       <use x=\"2175.419922\" xlink:href=\"#DejaVuSans-6f\"/>\r\n       <use x=\"2236.601562\" xlink:href=\"#DejaVuSans-7a\"/>\r\n       <use x=\"2289.091797\" xlink:href=\"#DejaVuSans-65\"/>\r\n       <use x=\"2350.615234\" xlink:href=\"#DejaVuSans-6e\"/>\r\n       <use x=\"2413.994141\" xlink:href=\"#DejaVuSans-20\"/>\r\n       <use x=\"2445.78125\" xlink:href=\"#DejaVuSans-61\"/>\r\n       <use x=\"2507.060547\" xlink:href=\"#DejaVuSans-6e\"/>\r\n       <use x=\"2570.439453\" xlink:href=\"#DejaVuSans-64\"/>\r\n       <use x=\"2633.916016\" xlink:href=\"#DejaVuSans-20\"/>\r\n       <use x=\"2665.703125\" xlink:href=\"#DejaVuSans-64\"/>\r\n       <use x=\"2729.179688\" xlink:href=\"#DejaVuSans-72\"/>\r\n       <use x=\"2770.292969\" xlink:href=\"#DejaVuSans-69\"/>\r\n       <use x=\"2798.076172\" xlink:href=\"#DejaVuSans-65\"/>\r\n       <use x=\"2859.599609\" xlink:href=\"#DejaVuSans-64\"/>\r\n      </g>\r\n     </g>\r\n    </g>\r\n    <g id=\"xtick_9\">\r\n     <g id=\"line2d_9\">\r\n      <g>\r\n       <use style=\"stroke:#000000;stroke-width:0.8;\" x=\"332.178438\" xlink:href=\"#mdfa9ae5ac9\" y=\"239.758125\"/>\r\n      </g>\r\n     </g>\r\n     <g id=\"text_9\">\r\n      <!-- Alaska pollock(Theragra chalcogramma), Raw -->\r\n      <g transform=\"translate(336.3175 591.244844)rotate(-90)scale(0.15 -0.15)\">\r\n       <use xlink:href=\"#DejaVuSans-41\"/>\r\n       <use x=\"68.408203\" xlink:href=\"#DejaVuSans-6c\"/>\r\n       <use x=\"96.191406\" xlink:href=\"#DejaVuSans-61\"/>\r\n       <use x=\"157.470703\" xlink:href=\"#DejaVuSans-73\"/>\r\n       <use x=\"209.570312\" xlink:href=\"#DejaVuSans-6b\"/>\r\n       <use x=\"265.730469\" xlink:href=\"#DejaVuSans-61\"/>\r\n       <use x=\"327.009766\" xlink:href=\"#DejaVuSans-20\"/>\r\n       <use x=\"358.796875\" xlink:href=\"#DejaVuSans-70\"/>\r\n       <use x=\"422.273438\" xlink:href=\"#DejaVuSans-6f\"/>\r\n       <use x=\"483.455078\" xlink:href=\"#DejaVuSans-6c\"/>\r\n       <use x=\"511.238281\" xlink:href=\"#DejaVuSans-6c\"/>\r\n       <use x=\"539.021484\" xlink:href=\"#DejaVuSans-6f\"/>\r\n       <use x=\"600.203125\" xlink:href=\"#DejaVuSans-63\"/>\r\n       <use x=\"655.183594\" xlink:href=\"#DejaVuSans-6b\"/>\r\n       <use x=\"713.09375\" xlink:href=\"#DejaVuSans-28\"/>\r\n       <use x=\"752.107422\" xlink:href=\"#DejaVuSans-54\"/>\r\n       <use x=\"813.191406\" xlink:href=\"#DejaVuSans-68\"/>\r\n       <use x=\"876.570312\" xlink:href=\"#DejaVuSans-65\"/>\r\n       <use x=\"938.09375\" xlink:href=\"#DejaVuSans-72\"/>\r\n       <use x=\"979.207031\" xlink:href=\"#DejaVuSans-61\"/>\r\n       <use x=\"1040.486328\" xlink:href=\"#DejaVuSans-67\"/>\r\n       <use x=\"1103.962891\" xlink:href=\"#DejaVuSans-72\"/>\r\n       <use x=\"1145.076172\" xlink:href=\"#DejaVuSans-61\"/>\r\n       <use x=\"1206.355469\" xlink:href=\"#DejaVuSans-20\"/>\r\n       <use x=\"1238.142578\" xlink:href=\"#DejaVuSans-63\"/>\r\n       <use x=\"1293.123047\" xlink:href=\"#DejaVuSans-68\"/>\r\n       <use x=\"1356.501953\" xlink:href=\"#DejaVuSans-61\"/>\r\n       <use x=\"1417.78125\" xlink:href=\"#DejaVuSans-6c\"/>\r\n       <use x=\"1445.564453\" xlink:href=\"#DejaVuSans-63\"/>\r\n       <use x=\"1500.544922\" xlink:href=\"#DejaVuSans-6f\"/>\r\n       <use x=\"1561.726562\" xlink:href=\"#DejaVuSans-67\"/>\r\n       <use x=\"1625.203125\" xlink:href=\"#DejaVuSans-72\"/>\r\n       <use x=\"1666.316406\" xlink:href=\"#DejaVuSans-61\"/>\r\n       <use x=\"1727.595703\" xlink:href=\"#DejaVuSans-6d\"/>\r\n       <use x=\"1825.007812\" xlink:href=\"#DejaVuSans-6d\"/>\r\n       <use x=\"1922.419922\" xlink:href=\"#DejaVuSans-61\"/>\r\n       <use x=\"1983.699219\" xlink:href=\"#DejaVuSans-29\"/>\r\n       <use x=\"2022.712891\" xlink:href=\"#DejaVuSans-2c\"/>\r\n       <use x=\"2054.5\" xlink:href=\"#DejaVuSans-20\"/>\r\n       <use x=\"2086.287109\" xlink:href=\"#DejaVuSans-52\"/>\r\n       <use x=\"2153.519531\" xlink:href=\"#DejaVuSans-61\"/>\r\n       <use x=\"2214.798828\" xlink:href=\"#DejaVuSans-77\"/>\r\n      </g>\r\n     </g>\r\n    </g>\r\n    <g id=\"xtick_10\">\r\n     <g id=\"line2d_10\">\r\n      <g>\r\n       <use style=\"stroke:#000000;stroke-width:0.8;\" x=\"365.658438\" xlink:href=\"#mdfa9ae5ac9\" y=\"239.758125\"/>\r\n      </g>\r\n     </g>\r\n     <g id=\"text_10\">\r\n      <!-- Alfalfa(Medicago sativa L.), Sprouts, Raw -->\r\n      <g transform=\"translate(369.7975 553.655781)rotate(-90)scale(0.15 -0.15)\">\r\n       <defs>\r\n        <path d=\"M 191 3500 \r\nL 800 3500 \r\nL 1894 563 \r\nL 2988 3500 \r\nL 3597 3500 \r\nL 2284 0 \r\nL 1503 0 \r\nL 191 3500 \r\nz\r\n\" id=\"DejaVuSans-76\" transform=\"scale(0.015625)\"/>\r\n        <path d=\"M 628 4666 \r\nL 1259 4666 \r\nL 1259 531 \r\nL 3531 531 \r\nL 3531 0 \r\nL 628 0 \r\nL 628 4666 \r\nz\r\n\" id=\"DejaVuSans-4c\" transform=\"scale(0.015625)\"/>\r\n        <path d=\"M 684 794 \r\nL 1344 794 \r\nL 1344 0 \r\nL 684 0 \r\nL 684 794 \r\nz\r\n\" id=\"DejaVuSans-2e\" transform=\"scale(0.015625)\"/>\r\n       </defs>\r\n       <use xlink:href=\"#DejaVuSans-41\"/>\r\n       <use x=\"68.408203\" xlink:href=\"#DejaVuSans-6c\"/>\r\n       <use x=\"96.191406\" xlink:href=\"#DejaVuSans-66\"/>\r\n       <use x=\"131.396484\" xlink:href=\"#DejaVuSans-61\"/>\r\n       <use x=\"192.675781\" xlink:href=\"#DejaVuSans-6c\"/>\r\n       <use x=\"220.458984\" xlink:href=\"#DejaVuSans-66\"/>\r\n       <use x=\"255.664062\" xlink:href=\"#DejaVuSans-61\"/>\r\n       <use x=\"316.943359\" xlink:href=\"#DejaVuSans-28\"/>\r\n       <use x=\"355.957031\" xlink:href=\"#DejaVuSans-4d\"/>\r\n       <use x=\"442.236328\" xlink:href=\"#DejaVuSans-65\"/>\r\n       <use x=\"503.759766\" xlink:href=\"#DejaVuSans-64\"/>\r\n       <use x=\"567.236328\" xlink:href=\"#DejaVuSans-69\"/>\r\n       <use x=\"595.019531\" xlink:href=\"#DejaVuSans-63\"/>\r\n       <use x=\"650\" xlink:href=\"#DejaVuSans-61\"/>\r\n       <use x=\"711.279297\" xlink:href=\"#DejaVuSans-67\"/>\r\n       <use x=\"774.755859\" xlink:href=\"#DejaVuSans-6f\"/>\r\n       <use x=\"835.9375\" xlink:href=\"#DejaVuSans-20\"/>\r\n       <use x=\"867.724609\" xlink:href=\"#DejaVuSans-73\"/>\r\n       <use x=\"919.824219\" xlink:href=\"#DejaVuSans-61\"/>\r\n       <use x=\"981.103516\" xlink:href=\"#DejaVuSans-74\"/>\r\n       <use x=\"1020.3125\" xlink:href=\"#DejaVuSans-69\"/>\r\n       <use x=\"1048.095703\" xlink:href=\"#DejaVuSans-76\"/>\r\n       <use x=\"1107.275391\" xlink:href=\"#DejaVuSans-61\"/>\r\n       <use x=\"1168.554688\" xlink:href=\"#DejaVuSans-20\"/>\r\n       <use x=\"1200.341797\" xlink:href=\"#DejaVuSans-4c\"/>\r\n       <use x=\"1256.054688\" xlink:href=\"#DejaVuSans-2e\"/>\r\n       <use x=\"1287.841797\" xlink:href=\"#DejaVuSans-29\"/>\r\n       <use x=\"1326.855469\" xlink:href=\"#DejaVuSans-2c\"/>\r\n       <use x=\"1358.642578\" xlink:href=\"#DejaVuSans-20\"/>\r\n       <use x=\"1390.429688\" xlink:href=\"#DejaVuSans-53\"/>\r\n       <use x=\"1453.90625\" xlink:href=\"#DejaVuSans-70\"/>\r\n       <use x=\"1517.382812\" xlink:href=\"#DejaVuSans-72\"/>\r\n       <use x=\"1556.246094\" xlink:href=\"#DejaVuSans-6f\"/>\r\n       <use x=\"1617.427734\" xlink:href=\"#DejaVuSans-75\"/>\r\n       <use x=\"1680.806641\" xlink:href=\"#DejaVuSans-74\"/>\r\n       <use x=\"1720.015625\" xlink:href=\"#DejaVuSans-73\"/>\r\n       <use x=\"1772.115234\" xlink:href=\"#DejaVuSans-2c\"/>\r\n       <use x=\"1803.902344\" xlink:href=\"#DejaVuSans-20\"/>\r\n       <use x=\"1835.689453\" xlink:href=\"#DejaVuSans-52\"/>\r\n       <use x=\"1902.921875\" xlink:href=\"#DejaVuSans-61\"/>\r\n       <use x=\"1964.201172\" xlink:href=\"#DejaVuSans-77\"/>\r\n      </g>\r\n     </g>\r\n    </g>\r\n   </g>\r\n   <g id=\"matplotlib.axis_2\">\r\n    <g id=\"ytick_1\">\r\n     <g id=\"line2d_11\">\r\n      <defs>\r\n       <path d=\"M 0 0 \r\nL -3.5 0 \r\n\" id=\"m82612076be\" style=\"stroke:#000000;stroke-width:0.8;\"/>\r\n      </defs>\r\n      <g>\r\n       <use style=\"stroke:#000000;stroke-width:0.8;\" x=\"47.598438\" xlink:href=\"#m82612076be\" y=\"239.758125\"/>\r\n      </g>\r\n     </g>\r\n     <g id=\"text_11\">\r\n      <!-- 0.0 -->\r\n      <g transform=\"translate(16.74375 245.456953)scale(0.15 -0.15)\">\r\n       <defs>\r\n        <path d=\"M 2034 4250 \r\nQ 1547 4250 1301 3770 \r\nQ 1056 3291 1056 2328 \r\nQ 1056 1369 1301 889 \r\nQ 1547 409 2034 409 \r\nQ 2525 409 2770 889 \r\nQ 3016 1369 3016 2328 \r\nQ 3016 3291 2770 3770 \r\nQ 2525 4250 2034 4250 \r\nz\r\nM 2034 4750 \r\nQ 2819 4750 3233 4129 \r\nQ 3647 3509 3647 2328 \r\nQ 3647 1150 3233 529 \r\nQ 2819 -91 2034 -91 \r\nQ 1250 -91 836 529 \r\nQ 422 1150 422 2328 \r\nQ 422 3509 836 4129 \r\nQ 1250 4750 2034 4750 \r\nz\r\n\" id=\"DejaVuSans-30\" transform=\"scale(0.015625)\"/>\r\n       </defs>\r\n       <use xlink:href=\"#DejaVuSans-30\"/>\r\n       <use x=\"63.623047\" xlink:href=\"#DejaVuSans-2e\"/>\r\n       <use x=\"95.410156\" xlink:href=\"#DejaVuSans-30\"/>\r\n      </g>\r\n     </g>\r\n    </g>\r\n    <g id=\"ytick_2\">\r\n     <g id=\"line2d_12\">\r\n      <g>\r\n       <use style=\"stroke:#000000;stroke-width:0.8;\" x=\"47.598438\" xlink:href=\"#m82612076be\" y=\"210.99622\"/>\r\n      </g>\r\n     </g>\r\n     <g id=\"text_12\">\r\n      <!-- 2.5 -->\r\n      <g transform=\"translate(16.74375 216.695048)scale(0.15 -0.15)\">\r\n       <defs>\r\n        <path d=\"M 1228 531 \r\nL 3431 531 \r\nL 3431 0 \r\nL 469 0 \r\nL 469 531 \r\nQ 828 903 1448 1529 \r\nQ 2069 2156 2228 2338 \r\nQ 2531 2678 2651 2914 \r\nQ 2772 3150 2772 3378 \r\nQ 2772 3750 2511 3984 \r\nQ 2250 4219 1831 4219 \r\nQ 1534 4219 1204 4116 \r\nQ 875 4013 500 3803 \r\nL 500 4441 \r\nQ 881 4594 1212 4672 \r\nQ 1544 4750 1819 4750 \r\nQ 2544 4750 2975 4387 \r\nQ 3406 4025 3406 3419 \r\nQ 3406 3131 3298 2873 \r\nQ 3191 2616 2906 2266 \r\nQ 2828 2175 2409 1742 \r\nQ 1991 1309 1228 531 \r\nz\r\n\" id=\"DejaVuSans-32\" transform=\"scale(0.015625)\"/>\r\n        <path d=\"M 691 4666 \r\nL 3169 4666 \r\nL 3169 4134 \r\nL 1269 4134 \r\nL 1269 2991 \r\nQ 1406 3038 1543 3061 \r\nQ 1681 3084 1819 3084 \r\nQ 2600 3084 3056 2656 \r\nQ 3513 2228 3513 1497 \r\nQ 3513 744 3044 326 \r\nQ 2575 -91 1722 -91 \r\nQ 1428 -91 1123 -41 \r\nQ 819 9 494 109 \r\nL 494 744 \r\nQ 775 591 1075 516 \r\nQ 1375 441 1709 441 \r\nQ 2250 441 2565 725 \r\nQ 2881 1009 2881 1497 \r\nQ 2881 1984 2565 2268 \r\nQ 2250 2553 1709 2553 \r\nQ 1456 2553 1204 2497 \r\nQ 953 2441 691 2322 \r\nL 691 4666 \r\nz\r\n\" id=\"DejaVuSans-35\" transform=\"scale(0.015625)\"/>\r\n       </defs>\r\n       <use xlink:href=\"#DejaVuSans-32\"/>\r\n       <use x=\"63.623047\" xlink:href=\"#DejaVuSans-2e\"/>\r\n       <use x=\"95.410156\" xlink:href=\"#DejaVuSans-35\"/>\r\n      </g>\r\n     </g>\r\n    </g>\r\n    <g id=\"ytick_3\">\r\n     <g id=\"line2d_13\">\r\n      <g>\r\n       <use style=\"stroke:#000000;stroke-width:0.8;\" x=\"47.598438\" xlink:href=\"#m82612076be\" y=\"182.234315\"/>\r\n      </g>\r\n     </g>\r\n     <g id=\"text_13\">\r\n      <!-- 5.0 -->\r\n      <g transform=\"translate(16.74375 187.933144)scale(0.15 -0.15)\">\r\n       <use xlink:href=\"#DejaVuSans-35\"/>\r\n       <use x=\"63.623047\" xlink:href=\"#DejaVuSans-2e\"/>\r\n       <use x=\"95.410156\" xlink:href=\"#DejaVuSans-30\"/>\r\n      </g>\r\n     </g>\r\n    </g>\r\n    <g id=\"ytick_4\">\r\n     <g id=\"line2d_14\">\r\n      <g>\r\n       <use style=\"stroke:#000000;stroke-width:0.8;\" x=\"47.598438\" xlink:href=\"#m82612076be\" y=\"153.472411\"/>\r\n      </g>\r\n     </g>\r\n     <g id=\"text_14\">\r\n      <!-- 7.5 -->\r\n      <g transform=\"translate(16.74375 159.171239)scale(0.15 -0.15)\">\r\n       <defs>\r\n        <path d=\"M 525 4666 \r\nL 3525 4666 \r\nL 3525 4397 \r\nL 1831 0 \r\nL 1172 0 \r\nL 2766 4134 \r\nL 525 4134 \r\nL 525 4666 \r\nz\r\n\" id=\"DejaVuSans-37\" transform=\"scale(0.015625)\"/>\r\n       </defs>\r\n       <use xlink:href=\"#DejaVuSans-37\"/>\r\n       <use x=\"63.623047\" xlink:href=\"#DejaVuSans-2e\"/>\r\n       <use x=\"95.410156\" xlink:href=\"#DejaVuSans-35\"/>\r\n      </g>\r\n     </g>\r\n    </g>\r\n    <g id=\"ytick_5\">\r\n     <g id=\"line2d_15\">\r\n      <g>\r\n       <use style=\"stroke:#000000;stroke-width:0.8;\" x=\"47.598438\" xlink:href=\"#m82612076be\" y=\"124.710506\"/>\r\n      </g>\r\n     </g>\r\n     <g id=\"text_15\">\r\n      <!-- 10.0 -->\r\n      <g transform=\"translate(7.2 130.409334)scale(0.15 -0.15)\">\r\n       <defs>\r\n        <path d=\"M 794 531 \r\nL 1825 531 \r\nL 1825 4091 \r\nL 703 3866 \r\nL 703 4441 \r\nL 1819 4666 \r\nL 2450 4666 \r\nL 2450 531 \r\nL 3481 531 \r\nL 3481 0 \r\nL 794 0 \r\nL 794 531 \r\nz\r\n\" id=\"DejaVuSans-31\" transform=\"scale(0.015625)\"/>\r\n       </defs>\r\n       <use xlink:href=\"#DejaVuSans-31\"/>\r\n       <use x=\"63.623047\" xlink:href=\"#DejaVuSans-30\"/>\r\n       <use x=\"127.246094\" xlink:href=\"#DejaVuSans-2e\"/>\r\n       <use x=\"159.033203\" xlink:href=\"#DejaVuSans-30\"/>\r\n      </g>\r\n     </g>\r\n    </g>\r\n    <g id=\"ytick_6\">\r\n     <g id=\"line2d_16\">\r\n      <g>\r\n       <use style=\"stroke:#000000;stroke-width:0.8;\" x=\"47.598438\" xlink:href=\"#m82612076be\" y=\"95.948601\"/>\r\n      </g>\r\n     </g>\r\n     <g id=\"text_16\">\r\n      <!-- 12.5 -->\r\n      <g transform=\"translate(7.2 101.647429)scale(0.15 -0.15)\">\r\n       <use xlink:href=\"#DejaVuSans-31\"/>\r\n       <use x=\"63.623047\" xlink:href=\"#DejaVuSans-32\"/>\r\n       <use x=\"127.246094\" xlink:href=\"#DejaVuSans-2e\"/>\r\n       <use x=\"159.033203\" xlink:href=\"#DejaVuSans-35\"/>\r\n      </g>\r\n     </g>\r\n    </g>\r\n    <g id=\"ytick_7\">\r\n     <g id=\"line2d_17\">\r\n      <g>\r\n       <use style=\"stroke:#000000;stroke-width:0.8;\" x=\"47.598438\" xlink:href=\"#m82612076be\" y=\"67.186696\"/>\r\n      </g>\r\n     </g>\r\n     <g id=\"text_17\">\r\n      <!-- 15.0 -->\r\n      <g transform=\"translate(7.2 72.885525)scale(0.15 -0.15)\">\r\n       <use xlink:href=\"#DejaVuSans-31\"/>\r\n       <use x=\"63.623047\" xlink:href=\"#DejaVuSans-35\"/>\r\n       <use x=\"127.246094\" xlink:href=\"#DejaVuSans-2e\"/>\r\n       <use x=\"159.033203\" xlink:href=\"#DejaVuSans-30\"/>\r\n      </g>\r\n     </g>\r\n    </g>\r\n    <g id=\"ytick_8\">\r\n     <g id=\"line2d_18\">\r\n      <g>\r\n       <use style=\"stroke:#000000;stroke-width:0.8;\" x=\"47.598438\" xlink:href=\"#m82612076be\" y=\"38.424792\"/>\r\n      </g>\r\n     </g>\r\n     <g id=\"text_18\">\r\n      <!-- 17.5 -->\r\n      <g transform=\"translate(7.2 44.12362)scale(0.15 -0.15)\">\r\n       <use xlink:href=\"#DejaVuSans-31\"/>\r\n       <use x=\"63.623047\" xlink:href=\"#DejaVuSans-37\"/>\r\n       <use x=\"127.246094\" xlink:href=\"#DejaVuSans-2e\"/>\r\n       <use x=\"159.033203\" xlink:href=\"#DejaVuSans-35\"/>\r\n      </g>\r\n     </g>\r\n    </g>\r\n   </g>\r\n   <g id=\"patch_13\">\r\n    <path d=\"M 47.598438 239.758125 \r\nL 47.598438 22.318125 \r\n\" style=\"fill:none;stroke:#000000;stroke-linecap:square;stroke-linejoin:miter;stroke-width:0.8;\"/>\r\n   </g>\r\n   <g id=\"patch_14\">\r\n    <path d=\"M 382.398438 239.758125 \r\nL 382.398438 22.318125 \r\n\" style=\"fill:none;stroke:#000000;stroke-linecap:square;stroke-linejoin:miter;stroke-width:0.8;\"/>\r\n   </g>\r\n   <g id=\"patch_15\">\r\n    <path d=\"M 47.598437 239.758125 \r\nL 382.398438 239.758125 \r\n\" style=\"fill:none;stroke:#000000;stroke-linecap:square;stroke-linejoin:miter;stroke-width:0.8;\"/>\r\n   </g>\r\n   <g id=\"patch_16\">\r\n    <path d=\"M 47.598437 22.318125 \r\nL 382.398438 22.318125 \r\n\" style=\"fill:none;stroke:#000000;stroke-linecap:square;stroke-linejoin:miter;stroke-width:0.8;\"/>\r\n   </g>\r\n   <g id=\"text_19\">\r\n    <!-- Frequency of ingredients usage -->\r\n    <g transform=\"translate(120.642813 16.318125)scale(0.12 -0.12)\">\r\n     <defs>\r\n      <path d=\"M 947 1747 \r\nQ 947 1113 1208 752 \r\nQ 1469 391 1925 391 \r\nQ 2381 391 2643 752 \r\nQ 2906 1113 2906 1747 \r\nQ 2906 2381 2643 2742 \r\nQ 2381 3103 1925 3103 \r\nQ 1469 3103 1208 2742 \r\nQ 947 2381 947 1747 \r\nz\r\nM 2906 525 \r\nQ 2725 213 2448 61 \r\nQ 2172 -91 1784 -91 \r\nQ 1150 -91 751 415 \r\nQ 353 922 353 1747 \r\nQ 353 2572 751 3078 \r\nQ 1150 3584 1784 3584 \r\nQ 2172 3584 2448 3432 \r\nQ 2725 3281 2906 2969 \r\nL 2906 3500 \r\nL 3481 3500 \r\nL 3481 -1331 \r\nL 2906 -1331 \r\nL 2906 525 \r\nz\r\n\" id=\"DejaVuSans-71\" transform=\"scale(0.015625)\"/>\r\n     </defs>\r\n     <use xlink:href=\"#DejaVuSans-46\"/>\r\n     <use x=\"50.269531\" xlink:href=\"#DejaVuSans-72\"/>\r\n     <use x=\"89.132812\" xlink:href=\"#DejaVuSans-65\"/>\r\n     <use x=\"150.65625\" xlink:href=\"#DejaVuSans-71\"/>\r\n     <use x=\"214.132812\" xlink:href=\"#DejaVuSans-75\"/>\r\n     <use x=\"277.511719\" xlink:href=\"#DejaVuSans-65\"/>\r\n     <use x=\"339.035156\" xlink:href=\"#DejaVuSans-6e\"/>\r\n     <use x=\"402.414062\" xlink:href=\"#DejaVuSans-63\"/>\r\n     <use x=\"457.394531\" xlink:href=\"#DejaVuSans-79\"/>\r\n     <use x=\"516.574219\" xlink:href=\"#DejaVuSans-20\"/>\r\n     <use x=\"548.361328\" xlink:href=\"#DejaVuSans-6f\"/>\r\n     <use x=\"609.542969\" xlink:href=\"#DejaVuSans-66\"/>\r\n     <use x=\"644.748047\" xlink:href=\"#DejaVuSans-20\"/>\r\n     <use x=\"676.535156\" xlink:href=\"#DejaVuSans-69\"/>\r\n     <use x=\"704.318359\" xlink:href=\"#DejaVuSans-6e\"/>\r\n     <use x=\"767.697266\" xlink:href=\"#DejaVuSans-67\"/>\r\n     <use x=\"831.173828\" xlink:href=\"#DejaVuSans-72\"/>\r\n     <use x=\"870.037109\" xlink:href=\"#DejaVuSans-65\"/>\r\n     <use x=\"931.560547\" xlink:href=\"#DejaVuSans-64\"/>\r\n     <use x=\"995.037109\" xlink:href=\"#DejaVuSans-69\"/>\r\n     <use x=\"1022.820312\" xlink:href=\"#DejaVuSans-65\"/>\r\n     <use x=\"1084.34375\" xlink:href=\"#DejaVuSans-6e\"/>\r\n     <use x=\"1147.722656\" xlink:href=\"#DejaVuSans-74\"/>\r\n     <use x=\"1186.931641\" xlink:href=\"#DejaVuSans-73\"/>\r\n     <use x=\"1239.03125\" xlink:href=\"#DejaVuSans-20\"/>\r\n     <use x=\"1270.818359\" xlink:href=\"#DejaVuSans-75\"/>\r\n     <use x=\"1334.197266\" xlink:href=\"#DejaVuSans-73\"/>\r\n     <use x=\"1386.296875\" xlink:href=\"#DejaVuSans-61\"/>\r\n     <use x=\"1447.576172\" xlink:href=\"#DejaVuSans-67\"/>\r\n     <use x=\"1511.052734\" xlink:href=\"#DejaVuSans-65\"/>\r\n    </g>\r\n   </g>\r\n  </g>\r\n </g>\r\n <defs>\r\n  <clipPath id=\"pad19efcd3a\">\r\n   <rect height=\"217.44\" width=\"334.8\" x=\"47.598438\" y=\"22.318125\"/>\r\n  </clipPath>\r\n </defs>\r\n</svg>\r\n",
      "text/plain": [
       "<Figure size 432x288 with 1 Axes>"
      ]
     },
     "metadata": {
      "needs_background": "light"
     }
    }
   ],
   "metadata": {}
  },
  {
   "cell_type": "markdown",
   "source": [
    "## **Advance**\r\n",
    "In this part, we introduce techniques for managing diet data and frequently occurring issues."
   ],
   "metadata": {}
  },
  {
   "cell_type": "markdown",
   "source": [
    "### How to convert data to dataframe?\r\n",
    "Class attributes in dietkit that have a dictionary form can be easily converted into Dataframes or Series of pandas."
   ],
   "metadata": {}
  },
  {
   "cell_type": "code",
   "execution_count": 42,
   "source": [
    "import pandas as pd"
   ],
   "outputs": [],
   "metadata": {}
  },
  {
   "cell_type": "code",
   "execution_count": 43,
   "source": [
    "ingredient_df = pd.Series(sample_ingredients['Oat, Oatmeal'].nutrition)\r\n",
    "ingredient_df"
   ],
   "outputs": [
    {
     "output_type": "execute_result",
     "data": {
      "text/plain": [
       "Energy                     382.00\n",
       "Protein                     13.20\n",
       "Fat                          8.20\n",
       "Carbohydrate                64.90\n",
       "Total Dietary               18.80\n",
       "Calcium                     60.00\n",
       "Iron                         5.80\n",
       "Sodium                       4.00\n",
       "Vitamin A                    0.25\n",
       "Vitamin B1 (Thiamine)        0.00\n",
       "Vitamin B2 (Rivoflavin)      0.07\n",
       "Vitamin C                    0.00\n",
       "Linoleic Acid                0.00\n",
       "Alpha-Linolenic Acid         0.00\n",
       "dtype: float64"
      ]
     },
     "metadata": {},
     "execution_count": 43
    }
   ],
   "metadata": {}
  },
  {
   "cell_type": "code",
   "execution_count": 44,
   "source": [
    "menu_df = pd.Series(sample_menus['S fruit punch'].ingredients)\r\n",
    "menu_df"
   ],
   "outputs": [
    {
     "output_type": "execute_result",
     "data": {
      "text/plain": [
       "Ingredient object: Cow's milk                   100.0\n",
       "Ingredient object: Apple, Fuji, Raw              15.0\n",
       "Ingredient object: Banana, Raw                   15.0\n",
       "Ingredient object: Watermelon, Red pulp, Raw     50.0\n",
       "dtype: float64"
      ]
     },
     "metadata": {},
     "execution_count": 44
    }
   ],
   "metadata": {}
  },
  {
   "cell_type": "code",
   "execution_count": 45,
   "source": [
    "diet_df = pd.DataFrame(sample_diets.plan)\r\n",
    "diet_df.T.iloc[:5]"
   ],
   "outputs": [
    {
     "output_type": "execute_result",
     "data": {
      "text/html": [
       "<div>\n",
       "<style scoped>\n",
       "    .dataframe tbody tr th:only-of-type {\n",
       "        vertical-align: middle;\n",
       "    }\n",
       "\n",
       "    .dataframe tbody tr th {\n",
       "        vertical-align: top;\n",
       "    }\n",
       "\n",
       "    .dataframe thead th {\n",
       "        text-align: right;\n",
       "    }\n",
       "</style>\n",
       "<table border=\"1\" class=\"dataframe\">\n",
       "  <thead>\n",
       "    <tr style=\"text-align: right;\">\n",
       "      <th></th>\n",
       "      <th>0</th>\n",
       "      <th>1</th>\n",
       "      <th>2</th>\n",
       "      <th>3</th>\n",
       "      <th>4</th>\n",
       "      <th>5</th>\n",
       "      <th>6</th>\n",
       "      <th>7</th>\n",
       "      <th>8</th>\n",
       "      <th>9</th>\n",
       "      <th>10</th>\n",
       "      <th>11</th>\n",
       "      <th>12</th>\n",
       "      <th>13</th>\n",
       "      <th>14</th>\n",
       "      <th>15</th>\n",
       "      <th>16</th>\n",
       "      <th>17</th>\n",
       "      <th>18</th>\n",
       "    </tr>\n",
       "  </thead>\n",
       "  <tbody>\n",
       "    <tr>\n",
       "      <th>0</th>\n",
       "      <td>Menu object: Steamed sweet rice (30)</td>\n",
       "      <td>Menu object: Chive shellfish soup</td>\n",
       "      <td>Menu object: Braised anchovy and sweet napa ca...</td>\n",
       "      <td>Menu object: Seasoned winter mushroom and chive</td>\n",
       "      <td>Menu object: Water kimchi</td>\n",
       "      <td>Menu object: S homestyle strawberry milk</td>\n",
       "      <td>Menu object: empty</td>\n",
       "      <td>Menu object: Petite gimbap (rice roll)</td>\n",
       "      <td>Menu object: Sujebi with sweet pumpkin</td>\n",
       "      <td>Menu object: Seasoned mandu (dumpling)</td>\n",
       "      <td>Menu object: empty</td>\n",
       "      <td>Menu object: Young radish water kimchi</td>\n",
       "      <td>Menu object: S moca bread</td>\n",
       "      <td>Menu object: S green plum tea</td>\n",
       "      <td>Menu object: Steamed sweet rice and red bean</td>\n",
       "      <td>Menu object: Carrot soup</td>\n",
       "      <td>Menu object: Mini pork cutlet</td>\n",
       "      <td>Menu object: Macaroni and vegetable salad (may...</td>\n",
       "      <td>Menu object: Radish kimchi cubes</td>\n",
       "    </tr>\n",
       "    <tr>\n",
       "      <th>1</th>\n",
       "      <td>Menu object: Steamed chestnut bean rice (30)</td>\n",
       "      <td>Menu object: Curled mallow soup(clear)</td>\n",
       "      <td>Menu object: Soft tofu + marinade sauce</td>\n",
       "      <td>Menu object: Seasoned salad with soft crab and...</td>\n",
       "      <td>Menu object: Sweet radish kimchi</td>\n",
       "      <td>Menu object: S kiwi (50g)</td>\n",
       "      <td>Menu object: empty</td>\n",
       "      <td>Menu object: Steamed chestnut bean rice</td>\n",
       "      <td>Menu object: Zucchini salted shrimp stew</td>\n",
       "      <td>Menu object: Stir-fried chicken with cheese</td>\n",
       "      <td>Menu object: Fresh kimchi with apple and lettuce</td>\n",
       "      <td>Menu object: Water kimchi</td>\n",
       "      <td>Menu object: S steamed bread</td>\n",
       "      <td>Menu object: S banana shake</td>\n",
       "      <td>Menu object: Baby anchovy rice ball</td>\n",
       "      <td>Menu object: Mini udon with fried tofu</td>\n",
       "      <td>Menu object: Deep-fried vegetables(potato) wit...</td>\n",
       "      <td>Menu object: Lettuce salad (balsamic vinegar d...</td>\n",
       "      <td>Menu object: Pickled beet</td>\n",
       "    </tr>\n",
       "    <tr>\n",
       "      <th>2</th>\n",
       "      <td>Menu object: Steamed chestnut rice</td>\n",
       "      <td>Menu object: Sliced potato soup</td>\n",
       "      <td>Menu object: Braised konjac and quail eggs</td>\n",
       "      <td>Menu object: Stir-fried cucumber</td>\n",
       "      <td>Menu object: Young radish kimchi</td>\n",
       "      <td>Menu object: empty</td>\n",
       "      <td>Menu object: S homestyle blueberry milk</td>\n",
       "      <td>Menu object: Steamed chestnut bean rice</td>\n",
       "      <td>Menu object: Bean sprout soup</td>\n",
       "      <td>Menu object: Stir-fried jukkumi and vegetables...</td>\n",
       "      <td>Menu object: Braised nuts</td>\n",
       "      <td>Menu object: White kimchi</td>\n",
       "      <td>Menu object: S banana (50g)</td>\n",
       "      <td>Menu object: S rice-based beverage</td>\n",
       "      <td>Menu object: Steamed pearl barley rice</td>\n",
       "      <td>Menu object: Bean sprout soup</td>\n",
       "      <td>Menu object: Stir-fried chicken tenderloin and...</td>\n",
       "      <td>Menu object: Fresh kimchi winter cabbage</td>\n",
       "      <td>Menu object: Water kimchi</td>\n",
       "    </tr>\n",
       "    <tr>\n",
       "      <th>3</th>\n",
       "      <td>Menu object: Steamed mixed-grain rice (30)</td>\n",
       "      <td>Menu object: Perilla leaf soup</td>\n",
       "      <td>Menu object: Braised spanish mackerel and swee...</td>\n",
       "      <td>Menu object: Seasoned salad with oyster mushroom</td>\n",
       "      <td>Menu object: Water kimchi</td>\n",
       "      <td>Menu object: S sweet potato mattang (sugar-gla...</td>\n",
       "      <td>Menu object: empty</td>\n",
       "      <td>Menu object: Steamed mixed-grain rice</td>\n",
       "      <td>Menu object: Potato egg soup</td>\n",
       "      <td>Menu object: Lettuce salad (kiwi dressing)</td>\n",
       "      <td>Menu object: empty</td>\n",
       "      <td>Menu object: Pickled beet</td>\n",
       "      <td>Menu object: S cheese stick</td>\n",
       "      <td>Menu object: S green plum juice</td>\n",
       "      <td>Menu object: Steamed brown rice</td>\n",
       "      <td>Menu object: Young pumpkin soup(clear)</td>\n",
       "      <td>Menu object: Stir-fried jukkumi and vegetables...</td>\n",
       "      <td>Menu object: Fresh kimchi with spring parsley</td>\n",
       "      <td>Menu object: White kimchi</td>\n",
       "    </tr>\n",
       "    <tr>\n",
       "      <th>4</th>\n",
       "      <td>Menu object: Steamed rice</td>\n",
       "      <td>Menu object: Oyster mushroom soup(clear)</td>\n",
       "      <td>Menu object: Stir-fried broccoli and shrimp</td>\n",
       "      <td>Menu object: Steamed aubergine in sauce</td>\n",
       "      <td>Menu object: Napa cabbage kimchi</td>\n",
       "      <td>Menu object: S plum (50g)</td>\n",
       "      <td>Menu object: S yoghurt (100ml)</td>\n",
       "      <td>Menu object: Steamed sweet rice</td>\n",
       "      <td>Menu object: Oyster mushroom soup</td>\n",
       "      <td>Menu object: Pan-fried soft crab skewers</td>\n",
       "      <td>Menu object: Seasoned salad with lettuce and a...</td>\n",
       "      <td>Menu object: Radish kimchi cubes</td>\n",
       "      <td>Menu object: S potato salad</td>\n",
       "      <td>Menu object: S milk (100ml)</td>\n",
       "      <td>Menu object: Steamed corn rice (30)</td>\n",
       "      <td>Menu object: Clam curled mallow soup</td>\n",
       "      <td>Menu object: Braised pork roll with rice cake ...</td>\n",
       "      <td>Menu object: Seasoned spinach</td>\n",
       "      <td>Menu object: White kimchi</td>\n",
       "    </tr>\n",
       "  </tbody>\n",
       "</table>\n",
       "</div>"
      ],
      "text/plain": [
       "                                             0   \\\n",
       "0          Menu object: Steamed sweet rice (30)   \n",
       "1  Menu object: Steamed chestnut bean rice (30)   \n",
       "2            Menu object: Steamed chestnut rice   \n",
       "3    Menu object: Steamed mixed-grain rice (30)   \n",
       "4                     Menu object: Steamed rice   \n",
       "\n",
       "                                         1   \\\n",
       "0         Menu object: Chive shellfish soup   \n",
       "1    Menu object: Curled mallow soup(clear)   \n",
       "2           Menu object: Sliced potato soup   \n",
       "3            Menu object: Perilla leaf soup   \n",
       "4  Menu object: Oyster mushroom soup(clear)   \n",
       "...\n",
       "                                                  2   \\\n",
       "0  Menu object: Braised anchovy and sweet napa ca...   \n",
       "1            Menu object: Soft tofu + marinade sauce   \n",
       "2         Menu object: Braised konjac and quail eggs   \n",
       "3  Menu object: Braised spanish mackerel and swee...   \n",
       "4        Menu object: Stir-fried broccoli and shrimp   \n",
       "\n",
       "                                                  3   \\\n",
       "0    Menu object: Seasoned winter mushroom and chive   \n",
       "1  Menu object: Seasoned salad with soft crab and...   \n",
       "2                   Menu object: Stir-fried cucumber   \n",
       "3   Menu object: Seasoned salad with oyster mushroom   \n",
       "4            Menu object: Steamed aubergine in sauce   \n",
       "\n",
       "                                 4   \\\n",
       "0         Menu object: Water kimchi   \n",
       "1  Menu object: Sweet radish kimchi   \n",
       "2  Menu object: Young radish kimchi   \n",
       "3         Menu object: Water kimchi   \n",
       "4  Menu object: Napa cabbage kimchi   \n",
       "\n",
       "                                                  5   \\\n",
       "0           Menu object: S homestyle strawberry milk   \n",
       "1                          Menu object: S kiwi (50g)   \n",
       "2                                 Menu object: empty   \n",
       "3  Menu object: S sweet potato mattang (sugar-gla...   \n",
       "4                          Menu object: S plum (50g)   \n",
       "\n",
       "                                        6   \\\n",
       "0                       Menu object: empty   \n",
       "1                       Menu object: empty   \n",
       "2  Menu object: S homestyle blueberry milk   \n",
       "3                       Menu object: empty   \n",
       "4           Menu object: S yoghurt (100ml)   \n",
       "\n",
       "                                        7   \\\n",
       "0   Menu object: Petite gimbap (rice roll)   \n",
       "1  Menu object: Steamed chestnut bean rice   \n",
       "2  Menu object: Steamed chestnut bean rice   \n",
       "3    Menu object: Steamed mixed-grain rice   \n",
       "4          Menu object: Steamed sweet rice   \n",
       "\n",
       "                                         8   \\\n",
       "0    Menu object: Sujebi with sweet pumpkin   \n",
       "1  Menu object: Zucchini salted shrimp stew   \n",
       "2             Menu object: Bean sprout soup   \n",
       "3              Menu object: Potato egg soup   \n",
       "4         Menu object: Oyster mushroom soup   \n",
       "\n",
       "                                                  9   \\\n",
       "0             Menu object: Seasoned mandu (dumpling)   \n",
       "1        Menu object: Stir-fried chicken with cheese   \n",
       "2  Menu object: Stir-fried jukkumi and vegetables...   \n",
       "3         Menu object: Lettuce salad (kiwi dressing)   \n",
       "4           Menu object: Pan-fried soft crab skewers   \n",
       "\n",
       "                                                  10  \\\n",
       "0                                 Menu object: empty   \n",
       "1   Menu object: Fresh kimchi with apple and lettuce   \n",
       "2                          Menu object: Braised nuts   \n",
       "3                                 Menu object: empty   \n",
       "4  Menu object: Seasoned salad with lettuce and a...   \n",
       "\n",
       "                                       11                            12  \\\n",
       "0  Menu object: Young radish water kimchi     Menu object: S moca bread   \n",
       "1               Menu object: Water kimchi  Menu object: S steamed bread   \n",
       "2               Menu object: White kimchi   Menu object: S banana (50g)   \n",
       "3               Menu object: Pickled beet   Menu object: S cheese stick   \n",
       "4        Menu object: Radish kimchi cubes   Menu object: S potato salad   \n",
       "\n",
       "                                   13  \\\n",
       "0       Menu object: S green plum tea   \n",
       "1         Menu object: S banana shake   \n",
       "2  Menu object: S rice-based beverage   \n",
       "3     Menu object: S green plum juice   \n",
       "4         Menu object: S milk (100ml)   \n",
       "\n",
       "                                             14  \\\n",
       "0  Menu object: Steamed sweet rice and red bean   \n",
       "1           Menu object: Baby anchovy rice ball   \n",
       "2        Menu object: Steamed pearl barley rice   \n",
       "3               Menu object: Steamed brown rice   \n",
       "4           Menu object: Steamed corn rice (30)   \n",
       "\n",
       "                                       15  \\\n",
       "0                Menu object: Carrot soup   \n",
       "1  Menu object: Mini udon with fried tofu   \n",
       "2           Menu object: Bean sprout soup   \n",
       "3  Menu object: Young pumpkin soup(clear)   \n",
       "4    Menu object: Clam curled mallow soup   \n",
       "\n",
       "                                                  16  \\\n",
       "0                      Menu object: Mini pork cutlet   \n",
       "1  Menu object: Deep-fried vegetables(potato) wit...   \n",
       "2  Menu object: Stir-fried chicken tenderloin and...   \n",
       "3  Menu object: Stir-fried jukkumi and vegetables...   \n",
       "4  Menu object: Braised pork roll with rice cake ...   \n",
       "\n",
       "                                                  17  \\\n",
       "0  Menu object: Macaroni and vegetable salad (may...   \n",
       "1  Menu object: Lettuce salad (balsamic vinegar d...   \n",
       "2           Menu object: Fresh kimchi winter cabbage   \n",
       "3      Menu object: Fresh kimchi with spring parsley   \n",
       "4                      Menu object: Seasoned spinach   \n",
       "\n",
       "                                 18  \n",
       "0  Menu object: Radish kimchi cubes  \n",
       "1         Menu object: Pickled beet  \n",
       "2         Menu object: Water kimchi  \n",
       "3         Menu object: White kimchi  \n",
       "4         Menu object: White kimchi  "
      ]
     },
     "metadata": {},
     "execution_count": 45
    }
   ],
   "metadata": {}
  },
  {
   "cell_type": "markdown",
   "source": [
    "**You can curious about how to access index or columns made up of objects like this situation:**"
   ],
   "metadata": {}
  },
  {
   "cell_type": "code",
   "execution_count": 46,
   "source": [
    "soups = pd.DataFrame([sample_menus['Oyster egg soup'].ingredients, sample_menus['Oyster tofu soup'].ingredients], index = ['Oyster egg soup', 'Oyster tofu soup']).T\r\n",
    "soups"
   ],
   "outputs": [
    {
     "output_type": "execute_result",
     "data": {
      "text/html": [
       "<div>\n",
       "<style scoped>\n",
       "    .dataframe tbody tr th:only-of-type {\n",
       "        vertical-align: middle;\n",
       "    }\n",
       "\n",
       "    .dataframe tbody tr th {\n",
       "        vertical-align: top;\n",
       "    }\n",
       "\n",
       "    .dataframe thead th {\n",
       "        text-align: right;\n",
       "    }\n",
       "</style>\n",
       "<table border=\"1\" class=\"dataframe\">\n",
       "  <thead>\n",
       "    <tr style=\"text-align: right;\">\n",
       "      <th></th>\n",
       "      <th>Oyster egg soup</th>\n",
       "      <th>Oyster tofu soup</th>\n",
       "    </tr>\n",
       "  </thead>\n",
       "  <tbody>\n",
       "    <tr>\n",
       "      <th>Ingredient object: Oyster(Crassostrea nippona), Grown on underwater rocks, Raw</th>\n",
       "      <td>20.0</td>\n",
       "      <td>20.0</td>\n",
       "    </tr>\n",
       "    <tr>\n",
       "      <th>Ingredient object: Egg, Whole, Raw</th>\n",
       "      <td>20.0</td>\n",
       "      <td>NaN</td>\n",
       "    </tr>\n",
       "    <tr>\n",
       "      <th>Ingredient object: Welsh onion, Spring onion(Allium fistulosum L.), Raw</th>\n",
       "      <td>2.0</td>\n",
       "      <td>NaN</td>\n",
       "    </tr>\n",
       "    <tr>\n",
       "      <th>Ingredient object: Salt, Table salt</th>\n",
       "      <td>0.2</td>\n",
       "      <td>0.2</td>\n",
       "    </tr>\n",
       "    <tr>\n",
       "      <th>Ingredient object: Anchovy(Engraulis japonicus), Large, Boiled and dried</th>\n",
       "      <td>1.5</td>\n",
       "      <td>NaN</td>\n",
       "    </tr>\n",
       "    <tr>\n",
       "      <th>Ingredient object: Garlic, Bulb, Raw</th>\n",
       "      <td>0.3</td>\n",
       "      <td>0.3</td>\n",
       "    </tr>\n",
       "    <tr>\n",
       "      <th>Ingredient object: Radish(Raphanus sativus), Korean radish, Roots, Raw</th>\n",
       "      <td>NaN</td>\n",
       "      <td>10.0</td>\n",
       "    </tr>\n",
       "    <tr>\n",
       "      <th>Ingredient object: Tofu, Firm</th>\n",
       "      <td>NaN</td>\n",
       "      <td>20.0</td>\n",
       "    </tr>\n",
       "    <tr>\n",
       "      <th>Ingredient object: Sesame oil</th>\n",
       "      <td>NaN</td>\n",
       "      <td>1.5</td>\n",
       "    </tr>\n",
       "  </tbody>\n",
       "</table>\n",
       "</div>"
      ],
      "text/plain": [
       "                                                    Oyster egg soup  \\\n",
       "Ingredient object: Oyster(Crassostrea nippona),...             20.0   \n",
       "Ingredient object: Egg, Whole, Raw                             20.0   \n",
       "Ingredient object: Welsh onion, Spring onion(Al...              2.0   \n",
       "Ingredient object: Salt, Table salt                             0.2   \n",
       "Ingredient object: Anchovy(Engraulis japonicus)...              1.5   \n",
       "Ingredient object: Garlic, Bulb, Raw                            0.3   \n",
       "Ingredient object: Radish(Raphanus sativus), Ko...              NaN   \n",
       "Ingredient object: Tofu, Firm                                   NaN   \n",
       "Ingredient object: Sesame oil                                   NaN   \n",
       "\n",
       "                                                    Oyster tofu soup  \n",
       "Ingredient object: Oyster(Crassostrea nippona),...              20.0  \n",
       "Ingredient object: Egg, Whole, Raw                               NaN  \n",
       "Ingredient object: Welsh onion, Spring onion(Al...               NaN  \n",
       "Ingredient object: Salt, Table salt                              0.2  \n",
       "Ingredient object: Anchovy(Engraulis japonicus)...               NaN  \n",
       "Ingredient object: Garlic, Bulb, Raw                             0.3  \n",
       "Ingredient object: Radish(Raphanus sativus), Ko...              10.0  \n",
       "Ingredient object: Tofu, Firm                                   20.0  \n",
       "Ingredient object: Sesame oil                                    1.5  "
      ]
     },
     "metadata": {},
     "execution_count": 46
    }
   ],
   "metadata": {}
  },
  {
   "cell_type": "markdown",
   "source": [
    "Ingredient and Menu's class method, export_catalog() maybe helpful. It returns a dictionary with all generated objects as values and the objects' name as keys."
   ],
   "metadata": {}
  },
  {
   "cell_type": "code",
   "execution_count": 47,
   "source": [
    "ing_catalog = Ingredient.export_catalog()\r\n",
    "ing_catalog"
   ],
   "outputs": [
    {
     "output_type": "execute_result",
     "data": {
      "text/plain": [
       "{'Oat(Covered oat), Polished, Raw': Ingredient object: Oat(Covered oat), Polished, Raw,\n",
       " 'Oat(Naked oat), Polished, Raw': Ingredient object: Oat(Naked oat), Polished, Raw,\n",
       " 'Oat, Oatmeal': Ingredient object: Oat, Oatmeal,\n",
       " 'Prosomillet, Polished, Raw': Ingredient object: Prosomillet, Polished, Raw,\n",
       " 'Prosomillet, Glutinous, Polished, Raw': Ingredient object: Prosomillet, Glutinous, Polished, Raw,\n",
       " 'Buckwheat, Polished, Raw': Ingredient object: Buckwheat, Polished, Raw,\n",
       " 'Buckwheat, Polished, Powder': Ingredient object: Buckwheat, Polished, Powder,\n",
       " 'Buckwheat noodle, Wet noodle': Ingredient object: Buckwheat noodle, Wet noodle,\n",
       " 'Buckwheat noodle, Wet noodle, Boiled': Ingredient object: Buckwheat noodle, Wet noodle, Boiled,\n",
       " 'Buckwheat noodle, Dry noodle': Ingredient object: Buckwheat noodle, Dry noodle,\n",
       " ...}"
      ]
     },
     "metadata": {},
     "execution_count": 47
    }
   ],
   "metadata": {}
  },
  {
   "cell_type": "markdown",
   "source": [
    "Than, user can access to object through catalog."
   ],
   "metadata": {}
  },
  {
   "cell_type": "code",
   "execution_count": 48,
   "source": [
    "soups.loc[ing_catalog['Egg, Whole, Raw']]"
   ],
   "outputs": [
    {
     "output_type": "execute_result",
     "data": {
      "text/plain": [
       "Oyster egg soup     20.0\n",
       "Oyster tofu soup     NaN\n",
       "Name: Ingredient object: Egg, Whole, Raw, dtype: float64"
      ]
     },
     "metadata": {},
     "execution_count": 48
    }
   ],
   "metadata": {}
  },
  {
   "cell_type": "markdown",
   "source": [
    "### How to calculate ingredient $\\chi ^ 2$ value?"
   ],
   "metadata": {}
  },
  {
   "cell_type": "code",
   "execution_count": 49,
   "source": [
    "from scipy.stats import chisquare"
   ],
   "outputs": [],
   "metadata": {}
  },
  {
   "cell_type": "code",
   "execution_count": 50,
   "source": [
    "# 'ansan_diet.csv' is diet table of Ansan Center for children's foodservice management for July and August 2020. It was preprocessed to match the format of dietkit. However, we do not have permission to redistribute it, so please understand that this file is not included in the repository.\r\n",
    "or_diet = load_diet(sample_menus, num_loads = 500, sample_name='or', sample_language='eng')\r\n",
    "ml_diet = load_diet(sample_menus, num_loads = 500, sample_name='ml', sample_language='eng')\r\n",
    "expert_diet = load_diet(sample_menus, num_loads = 500, sample_name='expert', sample_language='eng')\r\n",
    "ansan_diet = load_diet(sample_menus, num_loads = 62, file_path = 'ansan_diet.csv')"
   ],
   "outputs": [],
   "metadata": {}
  },
  {
   "cell_type": "code",
   "execution_count": 51,
   "source": [
    "or_table = pd.DataFrame(or_diet.plan).T\r\n",
    "ml_table = pd.DataFrame(ml_diet.plan).T\r\n",
    "expert_table = pd.DataFrame(expert_diet.plan).T\r\n",
    "ansan_table = pd.DataFrame(ansan_diet.plan).T\r\n",
    "\r\n",
    "expert_table.iloc[:3]"
   ],
   "outputs": [
    {
     "output_type": "execute_result",
     "data": {
      "text/html": [
       "<div>\n",
       "<style scoped>\n",
       "    .dataframe tbody tr th:only-of-type {\n",
       "        vertical-align: middle;\n",
       "    }\n",
       "\n",
       "    .dataframe tbody tr th {\n",
       "        vertical-align: top;\n",
       "    }\n",
       "\n",
       "    .dataframe thead th {\n",
       "        text-align: right;\n",
       "    }\n",
       "</style>\n",
       "<table border=\"1\" class=\"dataframe\">\n",
       "  <thead>\n",
       "    <tr style=\"text-align: right;\">\n",
       "      <th></th>\n",
       "      <th>0</th>\n",
       "      <th>1</th>\n",
       "      <th>2</th>\n",
       "      <th>3</th>\n",
       "      <th>4</th>\n",
       "      <th>5</th>\n",
       "      <th>6</th>\n",
       "      <th>7</th>\n",
       "      <th>8</th>\n",
       "      <th>9</th>\n",
       "      <th>10</th>\n",
       "      <th>11</th>\n",
       "      <th>12</th>\n",
       "      <th>13</th>\n",
       "      <th>14</th>\n",
       "      <th>15</th>\n",
       "      <th>16</th>\n",
       "      <th>17</th>\n",
       "      <th>18</th>\n",
       "    </tr>\n",
       "  </thead>\n",
       "  <tbody>\n",
       "    <tr>\n",
       "      <th>0</th>\n",
       "      <td>Steamed sweet rice</td>\n",
       "      <td>Mandu (dumpling) soup</td>\n",
       "      <td>Stir-fried potato(shredded)</td>\n",
       "      <td>Seasoned salad with bellflower root</td>\n",
       "      <td>Napa cabbage kimchi</td>\n",
       "      <td>S soft tofu salad (oriental dressing)</td>\n",
       "      <td>empty</td>\n",
       "      <td>Beef and aubergine over rice</td>\n",
       "      <td>Oyster mushroom soup</td>\n",
       "      <td>Deep-fried crispy lotus root</td>\n",
       "      <td>Pineapple corn salad</td>\n",
       "      <td>Napa cabbage kimchi</td>\n",
       "      <td>S peach (80g)</td>\n",
       "      <td>S homestyle banana milk</td>\n",
       "      <td>Steamed red bean rice</td>\n",
       "      <td>Tofu shabu-shabu</td>\n",
       "      <td>Stir-fried jukkumi and vegetables in soy sauce</td>\n",
       "      <td>Seasoned salad with sea lettuce</td>\n",
       "      <td>Radish kimchi cubes</td>\n",
       "    </tr>\n",
       "    <tr>\n",
       "      <th>1</th>\n",
       "      <td>Rice (extra)</td>\n",
       "      <td>Red bean porridge</td>\n",
       "      <td>Soft tofu + black sesame sauce</td>\n",
       "      <td>Braised sweet potato and quail eggs</td>\n",
       "      <td>Water kimchi</td>\n",
       "      <td>S raisin potato bowl</td>\n",
       "      <td>S milk (200ml)</td>\n",
       "      <td>Steamed chestnut red bean sweet rice</td>\n",
       "      <td>Little neck clam soy paste soup</td>\n",
       "      <td>Braised spicy chicken without bones</td>\n",
       "      <td>Seasoned water dropwort and green bean sprout</td>\n",
       "      <td>Cucumber kimchi</td>\n",
       "      <td>S soboro bun (streusel-like crusted bread)</td>\n",
       "      <td>S orange juice</td>\n",
       "      <td>Steamed sorghum rice</td>\n",
       "      <td>Pork back-bone stew</td>\n",
       "      <td>Braised semi dried pollack in sweet soy sauce</td>\n",
       "      <td>Stir-fried spring parsley</td>\n",
       "      <td>White kimchi</td>\n",
       "    </tr>\n",
       "    <tr>\n",
       "      <th>2</th>\n",
       "      <td>Steamed brown rice</td>\n",
       "      <td>Dried pollack soup</td>\n",
       "      <td>Stir-fried soft crab and paprika</td>\n",
       "      <td>Seasoned cabbage in soy paste</td>\n",
       "      <td>Young radish water kimchi</td>\n",
       "      <td>S bread with chestnut</td>\n",
       "      <td>S sweet pumpkin rice punch</td>\n",
       "      <td>Stir-fried rice with seafood</td>\n",
       "      <td>Spring onion soy paste soup</td>\n",
       "      <td>Braised konjac and quail eggs</td>\n",
       "      <td>Seasoned salad with lettuce in yuzu marinade</td>\n",
       "      <td>Pickled beet</td>\n",
       "      <td>S melon (50g)</td>\n",
       "      <td>S milk with misugaru (mixed grain powder)</td>\n",
       "      <td>Steamed pearl barley rice</td>\n",
       "      <td>Short-necked clam soup</td>\n",
       "      <td>Grilled beef and sweet rice</td>\n",
       "      <td>Stir-fried dried shrimp</td>\n",
       "      <td>Winter cabbage kimchi</td>\n",
       "    </tr>\n",
       "  </tbody>\n",
       "</table>\n",
       "</div>"
      ],
      "text/plain": [
       "            morning_1              morning_2  \\\n",
       "0  Steamed sweet rice  Mandu (dumpling) soup   \n",
       "1        Rice (extra)      Red bean porridge   \n",
       "2  Steamed brown rice     Dried pollack soup   \n",
       "\n",
       "                          morning_3                            morning_4  \\\n",
       "0       Stir-fried potato(shredded)  Seasoned salad with bellflower root   \n",
       "1    Soft tofu + black sesame sauce  Braised sweet potato and quail eggs   \n",
       "2  Stir-fried soft crab and paprika        Seasoned cabbage in soy paste   \n",
       "\n",
       "                   morning_5                              amsnack_1  \\\n",
       "0        Napa cabbage kimchi  S soft tofu salad (oriental dressing)   \n",
       "1               Water kimchi                   S raisin potato bowl   \n",
       "2  Young radish water kimchi                  S bread with chestnut   \n",
       "\n",
       "                    amsnack_2                               lunch_1  \\\n",
       "0                       empty          Beef and aubergine over rice   \n",
       "1              S milk (200ml)  Steamed chestnut red bean sweet rice   \n",
       "2  S sweet pumpkin rice punch          Stir-fried rice with seafood   \n",
       "\n",
       "                           lunch_2                              lunch_3  \\\n",
       "0             Oyster mushroom soup         Deep-fried crispy lotus root   \n",
       "1  Little neck clam soy paste soup  Braised spicy chicken without bones   \n",
       "2      Spring onion soy paste soup        Braised konjac and quail eggs   \n",
       "\n",
       "                                         lunch_4              lunch_5  \\\n",
       "0                           Pineapple corn salad  Napa cabbage kimchi   \n",
       "1  Seasoned water dropwort and green bean sprout      Cucumber kimchi   \n",
       "2   Seasoned salad with lettuce in yuzu marinade         Pickled beet   \n",
       "\n",
       "                                    pmsnack_1  \\\n",
       "0                               S peach (80g)   \n",
       "1  S soboro bun (streusel-like crusted bread)   \n",
       "2                               S melon (50g)   \n",
       "\n",
       "                                   pmsnack_2                   dinner_1  \\\n",
       "0                    S homestyle banana milk      Steamed red bean rice   \n",
       "1                             S orange juice       Steamed sorghum rice   \n",
       "2  S milk with misugaru (mixed grain powder)  Steamed pearl barley rice   \n",
       "\n",
       "                 dinner_2                                        dinner_3  \\\n",
       "0        Tofu shabu-shabu  Stir-fried jukkumi and vegetables in soy sauce   \n",
       "1     Pork back-bone stew   Braised semi dried pollack in sweet soy sauce   \n",
       "2  Short-necked clam soup                     Grilled beef and sweet rice   \n",
       "\n",
       "                          dinner_4               dinner_5  \n",
       "0  Seasoned salad with sea lettuce    Radish kimchi cubes  \n",
       "1        Stir-fried spring parsley           White kimchi  \n",
       "2          Stir-fried dried shrimp  Winter cabbage kimchi  "
      ]
     },
     "metadata": {},
     "execution_count": 51
    }
   ],
   "metadata": {}
  },
  {
   "cell_type": "markdown",
   "source": [
    "Note that columns 0 to 4 are morning, columns 7 to 11 are lunch, and columns 14 to 18 are dinner.  \r\n",
    "Below function calculated the number of times each ingredient is used for each type of meal (morning, lunch, dinner)"
   ],
   "metadata": {}
  },
  {
   "cell_type": "code",
   "execution_count": 52,
   "source": [
    "def ing_observe(diet_table):\r\n",
    "    ing_count_list = []\r\n",
    "    for col in diet_table:\r\n",
    "        col_ing = []\r\n",
    "        for idx in diet_table:\r\n",
    "            col_ing.extend(list(diet_table.loc[idx, col].ingredients.keys()))\r\n",
    "        ing_count_list.append(pd.Series(col_ing).value_counts())\r\n",
    "    temp = pd.concat(ing_count_list, axis = 1).fillna(0)\r\n",
    "    ing_df = pd.DataFrame(index = temp.index)\r\n",
    "    ing_df['morning'] = temp.iloc[:, 0:5].sum(axis = 1)\r\n",
    "    ing_df['lunch'] = temp.iloc[:, 7:12].sum(axis = 1)\r\n",
    "    ing_df['dinner'] = temp.iloc[:, 14:19].sum(axis = 1)\r\n",
    "    \r\n",
    "    ing_df.index = ing_df.index.map(lambda x: x.name)\r\n",
    "    return ing_df"
   ],
   "outputs": [],
   "metadata": {}
  },
  {
   "cell_type": "code",
   "execution_count": 53,
   "source": [
    "or_observe = ing_observe(or_table)\r\n",
    "ml_observe = ing_observe(ml_table)\r\n",
    "expert_observe = ing_observe(expert_table)\r\n",
    "ansan_observe = ing_observe(ansan_table)\r\n",
    "\r\n",
    "expert_observe"
   ],
   "outputs": [
    {
     "output_type": "execute_result",
     "data": {
      "text/html": [
       "<div>\n",
       "<style scoped>\n",
       "    .dataframe tbody tr th:only-of-type {\n",
       "        vertical-align: middle;\n",
       "    }\n",
       "\n",
       "    .dataframe tbody tr th {\n",
       "        vertical-align: top;\n",
       "    }\n",
       "\n",
       "    .dataframe thead th {\n",
       "        text-align: right;\n",
       "    }\n",
       "</style>\n",
       "<table border=\"1\" class=\"dataframe\">\n",
       "  <thead>\n",
       "    <tr style=\"text-align: right;\">\n",
       "      <th></th>\n",
       "      <th>morning</th>\n",
       "      <th>lunch</th>\n",
       "      <th>dinner</th>\n",
       "    </tr>\n",
       "  </thead>\n",
       "  <tbody>\n",
       "    <tr>\n",
       "      <th>Rice, White, Raw</th>\n",
       "      <td>21.0</td>\n",
       "      <td>19.0</td>\n",
       "      <td>18.0</td>\n",
       "    </tr>\n",
       "    <tr>\n",
       "      <th>Glutinous rice, Raw</th>\n",
       "      <td>8.0</td>\n",
       "      <td>4.0</td>\n",
       "      <td>4.0</td>\n",
       "    </tr>\n",
       "    <tr>\n",
       "      <th>Rice, Brown, Germinated, Raw</th>\n",
       "      <td>3.0</td>\n",
       "      <td>1.0</td>\n",
       "      <td>0.0</td>\n",
       "    </tr>\n",
       "    <tr>\n",
       "      <th>Soybean(Glycine max (L.) Merr.), Brown soybean, Dried</th>\n",
       "      <td>2.0</td>\n",
       "      <td>1.0</td>\n",
       "      <td>2.0</td>\n",
       "    </tr>\n",
       "    <tr>\n",
       "      <th>Glutinous sorghum, Polished, Raw</th>\n",
       "      <td>1.0</td>\n",
       "      <td>0.0</td>\n",
       "      <td>1.0</td>\n",
       "    </tr>\n",
       "    <tr>\n",
       "      <th>...</th>\n",
       "      <td>...</td>\n",
       "      <td>...</td>\n",
       "      <td>...</td>\n",
       "    </tr>\n",
       "    <tr>\n",
       "      <th>Sea lettuce(Enteromorpha prolifera), Raw </th>\n",
       "      <td>0.0</td>\n",
       "      <td>0.0</td>\n",
       "      <td>1.0</td>\n",
       "    </tr>\n",
       "    <tr>\n",
       "      <th>Chamnamul(Pimpinella brachycarpa (kom.) Nakai), Cultivated, Raw</th>\n",
       "      <td>0.0</td>\n",
       "      <td>0.0</td>\n",
       "      <td>1.0</td>\n",
       "    </tr>\n",
       "    <tr>\n",
       "      <th>Shrimp, Dried, Stir-fried</th>\n",
       "      <td>0.0</td>\n",
       "      <td>0.0</td>\n",
       "      <td>1.0</td>\n",
       "    </tr>\n",
       "    <tr>\n",
       "      <th>Rough aster(Aster scaber Hunberg), Raw</th>\n",
       "      <td>0.0</td>\n",
       "      <td>0.0</td>\n",
       "      <td>1.0</td>\n",
       "    </tr>\n",
       "    <tr>\n",
       "      <th>Kimchi, Eolgaribaechukimch prepared with summer cabbage</th>\n",
       "      <td>0.0</td>\n",
       "      <td>0.0</td>\n",
       "      <td>1.0</td>\n",
       "    </tr>\n",
       "  </tbody>\n",
       "</table>\n",
       "<p>223 rows × 3 columns</p>\n",
       "</div>"
      ],
      "text/plain": [
       "                     morning  lunch  dinner\n",
       "Rice, White, Raw              21.0   19.0    18.0\n",
       "Glutinous rice, Raw               8.0    4.0     4.0\n",
       "Rice, Brown, Germinated, Raw         3.0    1.0     0.0\n",
       "Soybean(Glycine max (L.) Merr.), Brown soybean, Dried      2.0    1.0     2.0\n",
       "Glutinous sorghum, Polished, Raw          1.0    0.0     1.0\n",
       "...                      ...    ...     ...\n",
       "Sea lettuce(Enteromorpha prolifera), Raw                    0.0    0.0     1.0\n",
       "Chamnamul(Pimpinella brachycarpa (kom.) Nakai), Cultivated, Raw              0.0    0.0     1.0\n",
       "Shrimp, Dried, Stir-fried          0.0    0.0     1.0\n",
       "Rough aster(Aster scaber Hunberg), Raw              0.0    0.0     1.0\n",
       "Kimchi, Eolgaribaechukimch prepared with summer cabbage             0.0    0.0     1.0\n",
       "\n",
       "[223 rows x 3 columns]"
      ]
     },
     "metadata": {},
     "execution_count": 53
    }
   ],
   "metadata": {}
  },
  {
   "cell_type": "markdown",
   "source": [
    "We use only ingredients used more than 10 times in all kinds of diet data in our calculations.  \r\n",
    "Below code filter the ingredients used at least 10 times."
   ],
   "metadata": {}
  },
  {
   "cell_type": "code",
   "execution_count": 54,
   "source": [
    "or_observe_filtered = or_observe.loc[(or_observe.sum(axis=1) >= 10) , :]\r\n",
    "ml_observe_filtered = ml_observe.loc[(ml_observe.sum(axis=1) >= 10) , :]\r\n",
    "expert_observe_filtered = expert_observe.loc[(expert_observe.sum(axis=1) >= 10) , :]\r\n",
    "ansan_observe_filtered = ansan_observe.loc[(ansan_observe.sum(axis=1) >= 10) , :]\r\n",
    "\r\n",
    "expert_observe_filtered"
   ],
   "outputs": [
    {
     "output_type": "execute_result",
     "data": {
      "text/html": [
       "<div>\n",
       "<style scoped>\n",
       "    .dataframe tbody tr th:only-of-type {\n",
       "        vertical-align: middle;\n",
       "    }\n",
       "\n",
       "    .dataframe tbody tr th {\n",
       "        vertical-align: top;\n",
       "    }\n",
       "\n",
       "    .dataframe thead th {\n",
       "        text-align: right;\n",
       "    }\n",
       "</style>\n",
       "<table border=\"1\" class=\"dataframe\">\n",
       "  <thead>\n",
       "    <tr style=\"text-align: right;\">\n",
       "      <th></th>\n",
       "      <th>morning</th>\n",
       "      <th>lunch</th>\n",
       "      <th>dinner</th>\n",
       "    </tr>\n",
       "  </thead>\n",
       "  <tbody>\n",
       "    <tr>\n",
       "      <th>Rice, White, Raw</th>\n",
       "      <td>21.0</td>\n",
       "      <td>19.0</td>\n",
       "      <td>18.0</td>\n",
       "    </tr>\n",
       "    <tr>\n",
       "      <th>Glutinous rice, Raw</th>\n",
       "      <td>8.0</td>\n",
       "      <td>4.0</td>\n",
       "      <td>4.0</td>\n",
       "    </tr>\n",
       "    <tr>\n",
       "      <th>Sesame oil </th>\n",
       "      <td>23.0</td>\n",
       "      <td>18.0</td>\n",
       "      <td>26.0</td>\n",
       "    </tr>\n",
       "    <tr>\n",
       "      <th>Pumpkin(Cucurbita moschata), Young pumpkin, Raw</th>\n",
       "      <td>5.0</td>\n",
       "      <td>10.0</td>\n",
       "      <td>9.0</td>\n",
       "    </tr>\n",
       "    <tr>\n",
       "      <th>Onion, Raw</th>\n",
       "      <td>23.0</td>\n",
       "      <td>35.0</td>\n",
       "      <td>25.0</td>\n",
       "    </tr>\n",
       "    <tr>\n",
       "      <th>...</th>\n",
       "      <td>...</td>\n",
       "      <td>...</td>\n",
       "      <td>...</td>\n",
       "    </tr>\n",
       "    <tr>\n",
       "      <th>Mustard(Brassica juncea (L.) Czern.), Raw</th>\n",
       "      <td>5.0</td>\n",
       "      <td>6.0</td>\n",
       "      <td>3.0</td>\n",
       "    </tr>\n",
       "    <tr>\n",
       "      <th>Salt, Thick salt </th>\n",
       "      <td>5.0</td>\n",
       "      <td>6.0</td>\n",
       "      <td>3.0</td>\n",
       "    </tr>\n",
       "    <tr>\n",
       "      <th>Chicken, Meat only, Raw</th>\n",
       "      <td>0.0</td>\n",
       "      <td>5.0</td>\n",
       "      <td>6.0</td>\n",
       "    </tr>\n",
       "  </tbody>\n",
       "</table>\n",
       "</div>"
      ],
      "text/plain": [
       "                   morning  lunch  dinner\n",
       "Rice, White, Raw            21.0   19.0    18.0\n",
       "Glutinous rice, Raw             8.0    4.0     4.0\n",
       "Sesame oil                    23.0   18.0    26.0\n",
       "Pumpkin(Cucurbita moschata), Young pumpkin, Raw            5.0   10.0     9.0\n",
       "Onion, Raw                23.0   35.0    25.0\n",
       "...\n",
       "Mustard(Brassica juncea (L.) Czern.), Raw                  5.0    6.0     3.0\n",
       "Salt, Thick salt                5.0    6.0     3.0\n",
       "Chicken, Meat only, Raw           0.0    5.0     6.0"
      ]
     },
     "metadata": {},
     "execution_count": 54
    }
   ],
   "metadata": {}
  },
  {
   "cell_type": "markdown",
   "source": [
    "Below code generate list of ingredients used more than 10 times in all diets."
   ],
   "metadata": {}
  },
  {
   "cell_type": "code",
   "execution_count": 55,
   "source": [
    "test_list = or_observe_filtered.index.intersection(ml_observe_filtered.index.intersection(expert_observe_filtered.index.intersection(ansan_observe_filtered.index)))\r\n",
    "\r\n",
    "test_list"
   ],
   "outputs": [
    {
     "output_type": "execute_result",
     "data": {
      "text/plain": [
       "Index(['Rice, White, Raw', 'Onion, Raw', 'Sesame oil ', 'Welsh onion, Spring onion(Allium fistulosum L.), Raw', 'Soybean oil ', 'Carrot, Roots, Raw',\n",
       "       'Soy sauce, Fermented type', 'Egg, Whole, Raw', 'Sugars, White sugar', 'Garlic, Bulb, Raw', 'Salt', 'Pepper(Piper nigrum L.), Black, Powder',\n",
       "       'Anchovy(Engraulis japonicus), Large, Boiled and dried', 'Soy Sacuce, Korean traditional type', 'Tofu', 'Pumpkin(Cucurbita moschata), Young pumpkin, Raw', 'Radish(Raphanus sativus), Korean radish, Roots, Raw',\n",
       "       'Red pepper powder', 'Sesame seeds, White sesame, Roasted', 'Welsh onion, Raw'],\n",
       "      dtype='object')"
      ]
     },
     "metadata": {},
     "execution_count": 55
    }
   ],
   "metadata": {}
  },
  {
   "cell_type": "markdown",
   "source": [
    "Now, perform a chi-square test of the food ingredients with the standard die (ansan_diet)."
   ],
   "metadata": {}
  },
  {
   "cell_type": "code",
   "execution_count": 56,
   "source": [
    "oran_result = chisquare(f_obs = or_observe_filtered.loc[test_list].T, f_exp = ansan_observe_filtered.loc[test_list].T)\r\n",
    "mlan_result = chisquare(f_obs = ml_observe_filtered.loc[test_list].T, f_exp = ansan_observe_filtered.loc[test_list].T)\r\n",
    "exan_result = chisquare(f_obs = expert_observe_filtered.loc[test_list].T, f_exp = ansan_observe_filtered.loc[test_list].T)"
   ],
   "outputs": [],
   "metadata": {}
  },
  {
   "cell_type": "markdown",
   "source": [
    "This is result of test. `statistic` is chi-square value for each ingredient."
   ],
   "metadata": {}
  },
  {
   "cell_type": "code",
   "execution_count": 57,
   "source": [
    "mlan_result"
   ],
   "outputs": [
    {
     "output_type": "execute_result",
     "data": {
      "text/plain": [
       "Power_divergenceResult(statistic=array([ 0.57685881,  2.43130435,  4.75678187,  1.04814815,  2.1923445 ,\n",
       "        1.94607843,  6.865     ,  3.68863636,  2.75798872,  3.01532258,\n",
       "        1.22692308,  2.54685315,  1.30238095,  0.73799534,  3.90277778,\n",
       "        1.91111111,  2.13015873, 13.63736264, 12.51461039,  3.03535354]), pvalue=array([0.74943971, 0.29651657, 0.09269962, 0.59210335, 0.33414767,\n",
       "       0.37793267, 0.03230607, 0.1581331 , 0.25183168, 0.22142723,\n",
       "       0.54147329, 0.27987098, 0.52142466, 0.69142702, 0.14207661,\n",
       "       0.38459842, 0.3447005 , 0.00109316, 0.0019164 , 0.2192206 ]))"
      ]
     },
     "metadata": {},
     "execution_count": 57
    }
   ],
   "metadata": {}
  },
  {
   "cell_type": "markdown",
   "source": [
    "Than, our final outcome is mean of $\\chi ^ 2$ value for all tartet ingredients."
   ],
   "metadata": {}
  },
  {
   "cell_type": "code",
   "execution_count": 58,
   "source": [
    "oran_result[0].mean()"
   ],
   "outputs": [
    {
     "output_type": "execute_result",
     "data": {
      "text/plain": [
       "6.3180692712297249"
      ]
     },
     "metadata": {},
     "execution_count": 58
    }
   ],
   "metadata": {}
  },
  {
   "cell_type": "code",
   "execution_count": 59,
   "source": [
    "mlan_result[0].mean()"
   ],
   "outputs": [
    {
     "output_type": "execute_result",
     "data": {
      "text/plain": [
       "3.6111995232872807"
      ]
     },
     "metadata": {},
     "execution_count": 59
    }
   ],
   "metadata": {}
  },
  {
   "cell_type": "code",
   "execution_count": 60,
   "source": [
    "exan_result[0].mean()"
   ],
   "outputs": [
    {
     "output_type": "execute_result",
     "data": {
      "text/plain": [
       "5.695580880479918"
      ]
     },
     "metadata": {},
     "execution_count": 60
    }
   ],
   "metadata": {}
  }
 ],
 "metadata": {
  "orig_nbformat": 4,
  "language_info": {
   "name": "python",
   "version": "3.8.11",
   "mimetype": "text/x-python",
   "codemirror_mode": {
    "name": "ipython",
    "version": 3
   },
   "pygments_lexer": "ipython3",
   "nbconvert_exporter": "python",
   "file_extension": ".py"
  },
  "kernelspec": {
   "name": "python3",
   "display_name": "Python 3.8.11 64-bit ('sooo_env': conda)"
  },
  "interpreter": {
   "hash": "25b2269945a3dbc4d617ada874b0ea81269ea8cd4db9ea1e4acc84905218c25e"
  }
 },
 "nbformat": 4,
 "nbformat_minor": 2
}